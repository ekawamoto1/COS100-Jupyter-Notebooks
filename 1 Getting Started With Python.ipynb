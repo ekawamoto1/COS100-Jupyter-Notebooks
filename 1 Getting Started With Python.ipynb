{
 "cells": [
  {
   "cell_type": "markdown",
   "id": "4a5e308f",
   "metadata": {
    "deletable": false,
    "editable": false
   },
   "source": [
    "## **1 Getting Started With Python**"
   ]
  },
  {
   "cell_type": "markdown",
   "id": "acafd6e4",
   "metadata": {
    "deletable": false,
    "editable": false
   },
   "source": [
    "### 0. Introduction\n",
    "\n",
    "Welcome to Python! This is a Jupyter notebook - this will serve as our interactive environment for learning how to code in Python. Jupyter is a mashup of Julia, Python, and R, three coding languages that are commonly used in data science. Python and Jupyter notebooks are now widely used to develop and test applications for machine learning, especially because snippets of code in code cells can be run and tested before being folded into a larger application that may be built in an IDE (integrated development environment) like PyCharm."
   ]
  },
  {
   "cell_type": "code",
   "execution_count": null,
   "id": "3a598cac",
   "metadata": {
    "deletable": false
   },
   "outputs": [],
   "source": [
    "# code cell 1\n",
    "\n",
    "# my first Python program - run this code cell!\n",
    "print(\"Hello, world!\")"
   ]
  },
  {
   "cell_type": "markdown",
   "id": "0d5df5b8",
   "metadata": {
    "deletable": false,
    "editable": false
   },
   "source": [
    "<div class=\"alert alert-block alert-info\">\n",
    "Now, you try: <br>\n",
    "    \n",
    "1. Copy and paste the code above into the next cell, but change the string that is being printed. <br>\n",
    "2. Copy the line you just wrote, then change the double quotes to single quotes. (Be sure to change both of them!) <br>\n",
    "3. Copy the line once again, but now use empty parentheses (no string input at all) in your <code>print()</code> function.\n",
    "    \n",
    "Run the cell after doing each part.\n",
    "</div>"
   ]
  },
  {
   "cell_type": "code",
   "execution_count": null,
   "id": "f1ce4f27",
   "metadata": {
    "deletable": false
   },
   "outputs": [],
   "source": []
  },
  {
   "cell_type": "markdown",
   "id": "c09bb58d",
   "metadata": {
    "deletable": false,
    "editable": false
   },
   "source": [
    "Now, run the code in the next cell:"
   ]
  },
  {
   "cell_type": "code",
   "execution_count": null,
   "id": "6d2536be",
   "metadata": {
    "deletable": false,
    "editable": false
   },
   "outputs": [],
   "source": [
    "# code cell 2\n",
    "\n",
    "msg = \"Hello, world!\"\n",
    "print(msg)              # print() takes an argument that may either be a string or a variable representing a string"
   ]
  },
  {
   "cell_type": "markdown",
   "id": "68c8ce4b",
   "metadata": {
    "deletable": false,
    "editable": false
   },
   "source": [
    "In the previous code cell, note that ```msg``` is a <b>variable</b>. The value being assigned to it (using the ```=```, or <b>assignment</b> operator) is a <b>literal</b>, which happens to be the string (of characters) ```Hello, world!```. ```print()``` is a <b>function</b> that takes an <b>argument</b> ```msg```, an input to the function. Functions operate upon their inputs and produce outputs, which may be an action (such as displaying the value of the input, like ```print()``` does here), or which may be a variable holding a different value. <br>\n",
    "\n",
    "If you are unsure about how to use a function (that is, its syntax), use the ```help()``` function. For example, run the following cell."
   ]
  },
  {
   "cell_type": "code",
   "execution_count": null,
   "id": "cee1f59f",
   "metadata": {
    "deletable": false,
    "editable": false
   },
   "outputs": [],
   "source": [
    "# code cell 3\n",
    "\n",
    "help(print)"
   ]
  },
  {
   "cell_type": "markdown",
   "id": "559c9cdc",
   "metadata": {
    "deletable": false,
    "editable": false
   },
   "source": [
    "Run the following code cell, and note that <code>s</code> is also a variable. This time, the value being assigned to <code>s</code> is the output of the function <code>input()</code>, which takes a string literal as its input. This function also performs an action - it pops up a text box and waits for the user to enter something at the keyboard before proceeding. <br>\n",
    "\n",
    "<code>\"Enter a name: \"</code> is a <b>prompt</b> - this tells the user what to do when keyboard input is expected. "
   ]
  },
  {
   "cell_type": "code",
   "execution_count": null,
   "id": "bd868746",
   "metadata": {
    "deletable": false,
    "editable": false
   },
   "outputs": [],
   "source": [
    "# code cell 4\n",
    "\n",
    "s = input(\"Enter a name: \")\n",
    "print(s)"
   ]
  },
  {
   "cell_type": "markdown",
   "id": "8561d803",
   "metadata": {
    "deletable": false,
    "editable": false
   },
   "source": [
    "<div class=\"alert alert-block alert-info\">\n",
    "Your turn! <br>\n",
    "Copy the code from the previous cell into the code cell below. Then, <br>\n",
    "    \n",
    "1. Wherever it appears, change the name of the variable <code>s</code> to something else <br>\n",
    "2. Change the string for the prompt <br>\n",
    "3. Run the code cell <br>\n",
    "    \n",
    "Also, see what happens if you add extra spaces in the <code>input()</code> or <code>print()</code> statements.\n",
    "</div>"
   ]
  },
  {
   "cell_type": "code",
   "execution_count": null,
   "id": "f35e1fba",
   "metadata": {
    "deletable": false
   },
   "outputs": [],
   "source": []
  },
  {
   "cell_type": "markdown",
   "id": "e1324b44",
   "metadata": {
    "deletable": false,
    "editable": false
   },
   "source": [
    "Now, let's say hello to a specific person, not the entire world. Run the next code cell, and guess what the <code>+</code> signs do."
   ]
  },
  {
   "cell_type": "code",
   "execution_count": null,
   "id": "eb471bac",
   "metadata": {
    "deletable": false,
    "editable": false
   },
   "outputs": [],
   "source": [
    "# code cell 5\n",
    "\n",
    "name = input(\"Enter a name: \")\n",
    "print(\"Hello,\" + name + \"!\")"
   ]
  },
  {
   "cell_type": "markdown",
   "id": "5a3f2404",
   "metadata": {
    "deletable": false,
    "editable": false
   },
   "source": [
    "We can do this another way, too."
   ]
  },
  {
   "cell_type": "code",
   "execution_count": null,
   "id": "c10e8833",
   "metadata": {
    "deletable": false,
    "editable": false
   },
   "outputs": [],
   "source": [
    "# code cell 6\n",
    "\n",
    "prompt = \"Enter a name: \"\n",
    "name = input(prompt)\n",
    "greeting = \"Hello, \" + name + \"!\"\n",
    "print(greeting)"
   ]
  },
  {
   "cell_type": "markdown",
   "id": "0c55fb68",
   "metadata": {
    "deletable": false,
    "editable": false
   },
   "source": [
    "You can also get output to appear in its own window, as if you were running a Windows (or Mac) app. To see this, run the next code cell. (You may need to minimize this browser window in order to see the popup message box.)"
   ]
  },
  {
   "cell_type": "code",
   "execution_count": null,
   "id": "6d0e1248",
   "metadata": {
    "deletable": false,
    "editable": false
   },
   "outputs": [],
   "source": [
    "# code cell 7a\n",
    "# will not work on Mac OS!\n",
    "\n",
    "# see https://stackoverflow.com/questions/34840838/how-to-specify-what-actually-happens-when-yes-no-is-clicked-with-ctypes-messageb\n",
    "import ctypes  # An included library with Python install.\n",
    "msg = \"Hello, world!\"\n",
    "title = \"HelloWorldApp\"\n",
    "ctypes.windll.user32.MessageBoxW(0, msg, title, 1)  # hwnd, text, caption, utype (0: OK, 1: OK/Cancel, 3: Yes/No/Cancel, 4: Yes/No)"
   ]
  },
  {
   "cell_type": "code",
   "execution_count": null,
   "id": "c34b8db5",
   "metadata": {
    "deletable": false,
    "editable": false
   },
   "outputs": [],
   "source": [
    "# code cell 7b\n",
    "# will not work on Mac OS!\n",
    "\n",
    "import ctypes\n",
    "prompt = \"Enter a name: \"\n",
    "name = input(prompt)\n",
    "greeting = \"Hello, \" + name + \"!\"\n",
    "title = \"HelloApp\"\n",
    "ctypes.windll.user32.MessageBoxW(0, greeting, title, 0)"
   ]
  },
  {
   "cell_type": "markdown",
   "id": "50c97739",
   "metadata": {
    "deletable": false,
    "editable": false
   },
   "source": [
    "To do this in Mac OS, here is an equivalent (but clunky) way of making a Dialog Box:"
   ]
  },
  {
   "cell_type": "code",
   "execution_count": null,
   "id": "a72c4324",
   "metadata": {
    "deletable": false,
    "editable": false
   },
   "outputs": [],
   "source": [
    "# code cell 7c\n",
    "# will not work in Windows!\n",
    "\n",
    "import os\n",
    "\n",
    "body_Str = \"Hello, world!\"\n",
    "title_Str = \"HelloWorldApp\"\n",
    "\n",
    "os_Str = \"'Tell application \"\n",
    "os_Str += '\"System Events\"'\n",
    "os_Str += ' to display dialog '\n",
    "os_Str += '\"' + body_Str + '\"'\n",
    "os_Str += ' with title '\n",
    "os_Str += '\"' + title_Str + '\"' + \"'\"\n",
    "\n",
    "s = os.system('osascript -e' + os_Str)\n",
    "print('os.system() returned ' + str(s))"
   ]
  },
  {
   "cell_type": "markdown",
   "id": "e2c29d30",
   "metadata": {
    "deletable": false,
    "editable": false
   },
   "source": [
    "### 1. Basic Data Types\n",
    "You just used a ```print()``` command to display a string in the cell's output window. The ```print()``` command can only print strings - but what is a string? <br> <br>\n",
    "Python has a number of basic data types:\n",
    "- numbers\n",
    "    - integers\n",
    "    - floats\n",
    "    - complex\n",
    "- strings\n",
    "- Booleans\n",
    "\n",
    "<br>Examples of <b>integers</b>: <br>\n",
    "<code> -2 &nbsp; &nbsp; -1 &nbsp; &nbsp; 0 &nbsp; &nbsp; 1 &nbsp; &nbsp; 2 &nbsp; &nbsp; 314 &nbsp; &nbsp; 12345 </code>\n",
    "\n",
    "These are representations of integers that are <b>NOT ALLOWED</b> in Python: <br>\n",
    "<code> 12,345 &nbsp; &nbsp; 12.345 &nbsp; &nbsp; 123 456 789 &nbsp; &nbsp; 0123 </code>(spaces, periods, commas, and leading zeros are no-nos)\n",
    "\n",
    "<br>Examples of <b>floats</b> (floating-point numbers): <br>\n",
    "<code> -12.345 &nbsp; &nbsp; 12.34E-02 &nbsp; &nbsp; -12.345E+03 &nbsp; &nbsp; 001.234 </code> (leading zeros are OK for floats)\n",
    "\n",
    "These are representations of floats that are <b>NOT ALLOWED</b> in Python: <br>\n",
    "<code> 12,345.67 &nbsp; &nbsp; 12.345,67 &nbsp; &nbsp;  1.1.1 </code> (commas or more than one period are also no-nos)\n",
    "\n",
    "<br>Examples of <b>complex</b> numbers (numbers with a real and imaginary part, either integers or floating-point numbers): <br>\n",
    "<code> 3 + 4j &nbsp; &nbsp; 4.3E+01j-1.34E-02 &nbsp; &nbsp; 001.234j &nbsp; &nbsp; 1.0 - 003j </code> (leading zeros are OK for the imaginary part, even if it's an integer)\n",
    "\n",
    "These are representations of complex numbers that are <b>NOT ALLOWED</b> in Python: <br>\n",
    "<code> 12,345.67 - 8.9j &nbsp; &nbsp; 003 + 007j </code> (leading zeros are not allowed for the real part if it's an integer)\n",
    "\n",
    "<br>Examples of <b>strings</b> (arrays of characters): <br>\n",
    "<code> \"Hello, world!\" &nbsp; &nbsp; '¿Quién es 123?' &nbsp; &nbsp; \"here is a string with 'single quotes' enclosed by double quotes\" </code>\n",
    "\n",
    "These characters have special meaning in Python strings:\n",
    "<code> \\ &nbsp; &nbsp;   ' &nbsp; &nbsp;   \" </code>\n",
    "\n",
    "| Escape Sequence | Result | Example | Output |\n",
    "| :--: | :--: | :- | :- |\n",
    "| ``` \\' ``` | single quote | ```print(\"blah \\'blah\\' blah\")```| ``` blah 'blah' blah ```|\n",
    "| ``` \\\" ``` | double quote | ```print('blah \\\"blah\\\" blah')``` | ``` blah \"blah\" blah ```|\n",
    "| ``` \\\\ ``` | backslash | ```print(\"backslashes (\\\\) must be escaped\")``` |  ``` backslashes (\\) must be escaped ```|\n",
    "| ``` \\n ``` | newline | ```print(\"line one \\nline two\")``` | ``` line one ```<br>``` line two ```|\n",
    "| ``` \\r ``` | carriage return | ```print(\"line first \\rline two\")``` | ``` line twost ``` |\n",
    "| ``` \\t ``` | tab | ```print(\"phrase one \\tphrase two\")``` | ```phrase one      phrase two``` |\n",
    "| ``` \\b ``` | backspace | ```print(\"char one\\bchar two\")``` | ```char onchar two``` |\n",
    "\n",
    "\n",
    "<br>Examples of <b>Booleans</b> (logical values True and False): <br>\n",
    "<code> True  &nbsp; &nbsp;  False </code>\n",
    "\n",
    "These are representations of Booleans that are <b>NOT ALLOWED</b> in Python: <br>\n",
    "<code> true  &nbsp; &nbsp;  false </code> (the T and the F must be capitalized)\n",
    "\n",
    "<br> All the examples above are of <b>literals</b>, specific (and unchangeable) values for each of these data types.\n",
    "\n",
    "<br> To obtain the type of a variable or literal, use the <code>type()</code> function: <br>"
   ]
  },
  {
   "cell_type": "code",
   "execution_count": null,
   "id": "d0a0cf8e",
   "metadata": {
    "deletable": false,
    "editable": false
   },
   "outputs": [],
   "source": [
    "# code cell 8\n",
    "\n",
    "print(\"-17.5 is of type\", end=\" \")   # notice the slightly different usage of print()\n",
    "typeStr = type(-17.5)\n",
    "print(typeStr)\n",
    "print()\n",
    "\n",
    "num = 34\n",
    "print(\"num =\", num, \"; num is of type\", end=\" \")\n",
    "print(type(num))\n",
    "print()\n",
    "\n",
    "numstr = \"3.4\"\n",
    "print(\"numstr =\", numstr, \"; numstr is of type\", end=\" \")\n",
    "typeStr = type(numstr)\n",
    "print(typeStr)\n",
    "print()\n",
    "\n",
    "print(\"False is of type\", end=\" \")\n",
    "print(type(False))"
   ]
  },
  {
   "cell_type": "markdown",
   "id": "226029b8",
   "metadata": {
    "deletable": false,
    "editable": false
   },
   "source": [
    "<div class=\"alert alert-block alert-info\">\n",
    "Now, your turn! Let's experiment with different data types. <br>\n",
    "    \n",
    "In the cell below, write lines of code that assign literals of these types to a variable named <code>s</code>: <br>\n",
    "    \n",
    "1. a string <br>\n",
    "2. an integer <br>\n",
    "3. a floating-point number <br>\n",
    "4. a Boolean <br>\n",
    "    \n",
    "After each, print the value of <code>s</code> and its data type.\n",
    "</div>"
   ]
  },
  {
   "cell_type": "code",
   "execution_count": null,
   "id": "3f301df9",
   "metadata": {
    "deletable": false
   },
   "outputs": [],
   "source": []
  },
  {
   "cell_type": "markdown",
   "id": "9caa32df",
   "metadata": {
    "deletable": false,
    "editable": false
   },
   "source": [
    "However, if we try to do this with user input from the keyboard, something unexpected occurs. Run this code below, and input a string, an integer, a float, and a Boolean. What is the data type of each? What do you think is happening here?"
   ]
  },
  {
   "cell_type": "code",
   "execution_count": null,
   "id": "6f031b24",
   "metadata": {
    "deletable": false
   },
   "outputs": [],
   "source": [
    "# code cell 9\n",
    "\n",
    "s = input(\"Type a string, integer, float, or Boolean: \")\n",
    "print(s, \"is of type\", type(s))"
   ]
  },
  {
   "cell_type": "markdown",
   "id": "c552fb2d",
   "metadata": {
    "deletable": false,
    "editable": false
   },
   "source": [
    "### 2. ```turtle```\n",
    "\n",
    "<code>turtle</code> is a pre-installed library for Python that is used to teach children the basics of coding. Here the subset of ```turtle``` functions (methods) that are available with the module ```mobilechelonian```, a port of ```turtle``` that works well with Jupyter Notebook: <br>\n",
    "\n",
    "| function | action |\n",
    "| --: | :-- |\n",
    "| ```speed(num)``` | sets speed of turtle from slow (1) to fast (10) |\n",
    "| ```home()``` | sets position of turtle at (200, 200), bearing East |\n",
    "| ```pencolor(color)``` | sets color of pen (\"red\", \"blue\", \"yellow\", \"brown\", \"black\", \"purple\", \"green\") |\n",
    "| ```pendown()``` | puts the pen down - turtle draws while moving with its pen down |\n",
    "| ```penup()``` | lifts up the pen - turtle does not draw while moving with its pen up |\n",
    "| ```setposition(xPos, yPos, [angle])``` | sets position of turtle: upper left corner is (0, 0), center is (200, 200) |\n",
    "| ```setbearing(angle)``` | sets angle that turtle is facing: North is 0 degrees |\n",
    "| ```right(angle)``` | turtle changes bearing by rotating clockwise by the specified angle |\n",
    "| ```left(angle)``` | turtle changes bearing by rotating counterclockwise by the specified angle |\n",
    "| ```forward(dist)``` | from its current location, turtle travels forward (in the direction of its bearing) by the specified distance |\n",
    "| ```backward(dist)``` | from its current location, turtle travels backward (opposite the direction of its bearing) by the specified distance |\n",
    "| ```circle(diam)``` | from its current location, turtle travels in a circle of specified diameter |\n",
    "\n",
    "If you have not installed the module <code>mobilechelonian</code> yet, run the next cell before invoking cells that use <code>turtle</code>."
   ]
  },
  {
   "cell_type": "code",
   "execution_count": null,
   "id": "6142e9c5",
   "metadata": {
    "deletable": false,
    "editable": false
   },
   "outputs": [],
   "source": [
    "# code cell 10\n",
    "\n",
    "! pip install mobilechelonian"
   ]
  },
  {
   "cell_type": "markdown",
   "id": "a0edda30",
   "metadata": {
    "deletable": false,
    "editable": false
   },
   "source": [
    "Run the code cell below to see a simple example of what ```turtle``` can do:"
   ]
  },
  {
   "cell_type": "code",
   "execution_count": null,
   "id": "5aec79dc",
   "metadata": {
    "deletable": false,
    "editable": false
   },
   "outputs": [],
   "source": [
    "# code cell 11\n",
    "\n",
    "from mobilechelonian import Turtle\n",
    "t = Turtle()\n",
    "t.speed(2)\n",
    "t.home()\n",
    "t.penup()\n",
    "\n",
    "t.pencolor(\"blue\")\n",
    "t.setposition(200, 200)\n",
    "t.pendown()\n",
    "t.forward(100)\n",
    "t.penup()\n",
    "\n",
    "t.pencolor(\"green\")\n",
    "t.setposition(200, 200)\n",
    "t.right(90)\n",
    "t.pendown()\n",
    "t.forward(100)\n",
    "t.penup()\n",
    "\n",
    "t.pencolor(\"red\")\n",
    "t.setposition(200, 200)\n",
    "t.right(90)\n",
    "t.pendown()\n",
    "t.forward(100)\n",
    "t.penup()\n",
    "\n",
    "t.pencolor(\"yellow\")\n",
    "t.setposition(200, 200)\n",
    "t.right(90)\n",
    "t.pendown()\n",
    "t.forward(100)\n",
    "t.penup()\n",
    "\n",
    "t.setposition(200, 200)"
   ]
  },
  {
   "cell_type": "markdown",
   "id": "0ca9ad5e",
   "metadata": {
    "deletable": false,
    "editable": false
   },
   "source": [
    "<div class=\"alert alert-block alert-info\">\n",
    "Your turn now. <br>\n",
    "Copy the code from the cell above into the cell below. Then, <br>\n",
    "\n",
    "1. Make it go more quickly by increasing the turtle's speed in line 3 (10 is the max setting)<br>\n",
    "2. Try making changes to the code to draw six lines instead of just four <br>\n",
    "3. Replace all instances of <code>t.forward(100)</code> with <code>t.circle(20)</code> <br>\n",
    "    \n",
    "Run the cell after doing each task.\n",
    "</div>"
   ]
  },
  {
   "cell_type": "code",
   "execution_count": null,
   "id": "6804abc0",
   "metadata": {
    "deletable": false
   },
   "outputs": [],
   "source": [
    "# see https://www.webucator.com/article/python-color-constants-module/ for a list of named colors in Python\n"
   ]
  },
  {
   "cell_type": "markdown",
   "id": "8fbffa7d",
   "metadata": {
    "deletable": false,
    "editable": false
   },
   "source": [
    "#### Thinking like a programmer\n",
    "\n",
    "Now that you've had some experience with <code>turtle</code>, let's do something that gets you out of your seats. Suppose that one of your tablemates plays the role of the turtle! (You can take turns, too.) Choose a location, and choose a direction to face, which will be your \"home\" position. In groups, have a person be the \"turtle\", while the rest of you are its \"programmers\". First, write a series of instructions that tell your turtle to take two paces forward, turn 90° right, take another two paces forward, turn 90° right, then repeat this sequence twice more. Where does your turtle end up? <br>\n",
    "\n",
    "<div class=\"alert alert-block alert-info\">\n",
    "Write only these movement and turning instructions below, but use the coding language you saw above.\n",
    "</div>"
   ]
  },
  {
   "cell_type": "code",
   "execution_count": null,
   "id": "dcc39d97",
   "metadata": {
    "deletable": false
   },
   "outputs": [],
   "source": []
  },
  {
   "cell_type": "markdown",
   "id": "ca98fefe",
   "metadata": {
    "deletable": false,
    "editable": false
   },
   "source": [
    "<div class=\"alert alert-block alert-info\">\n",
    "Now, insert <code>pendown()</code>, <code>penup()</code>, <code>pencolor()</code>, <code>setposition()</code>, and other statements to make Python draw the figure in this notebook. Also, turn your paces into pixels - let 1 pace = 50 pixels.\n",
    "</div>"
   ]
  },
  {
   "cell_type": "code",
   "execution_count": null,
   "id": "d4ef9369",
   "metadata": {
    "deletable": false
   },
   "outputs": [],
   "source": []
  },
  {
   "cell_type": "markdown",
   "id": "a7e0ac65",
   "metadata": {
    "deletable": false,
    "editable": false
   },
   "source": [
    "<div class=\"alert alert-block alert-info\">\n",
    "Next, see if you can figure out how to get your turtle to make a regular octagon (the shape of a STOP sign) - what directions would you have to issue? Write those instructions below, also using the coding language. Then, insert <code>pendown()</code>, <code>penup()</code>, <code>pencolor()</code>, <code>setposition()</code>, and other statements to make Python draw the figure in this notebook.\n",
    "</div>"
   ]
  },
  {
   "cell_type": "code",
   "execution_count": null,
   "id": "0d222f83",
   "metadata": {
    "deletable": false
   },
   "outputs": [],
   "source": []
  },
  {
   "cell_type": "markdown",
   "id": "b6b067d0",
   "metadata": {
    "deletable": false,
    "editable": false
   },
   "source": [
    "<div class=\"alert alert-block alert-info\">\n",
    "Then, see if you can \"program\" your turtle to make a regular hexagon - write the program in the code cell below.\n",
    "</div>"
   ]
  },
  {
   "cell_type": "code",
   "execution_count": null,
   "id": "1a7e4d76",
   "metadata": {
    "deletable": false
   },
   "outputs": [],
   "source": []
  },
  {
   "cell_type": "markdown",
   "id": "4febb75f",
   "metadata": {
    "deletable": false,
    "editable": false
   },
   "source": [
    "<div class=\"alert alert-block alert-info\">\n",
    "Going back to the square you made a few cells ago, now \"program\" your \"turtle\" to make three paces instead of two for each move, so that it still ends up at home upon completing the program. How would your instructions (code) have to change? What if you wanted to specify beforehand how many paces your \"turtle\" should make?\n",
    "</div>"
   ]
  },
  {
   "cell_type": "code",
   "execution_count": null,
   "id": "13387dfe",
   "metadata": {
    "deletable": false
   },
   "outputs": [],
   "source": []
  },
  {
   "cell_type": "markdown",
   "id": "d6a3f4eb",
   "metadata": {
    "deletable": false,
    "editable": false
   },
   "source": [
    "<div class=\"alert alert-block alert-info\">\n",
    "What if you wanted to make a figure that had N sides (N > 2), where N is a number you could specify beforehand? You have already made figures with N = 4 (square), N = 8 (octagon), and N = 6 (hexagon). What if you didn't know what N you might choose? How do you think you might do this?\n",
    "</div>"
   ]
  },
  {
   "cell_type": "code",
   "execution_count": null,
   "id": "ff7bc468",
   "metadata": {
    "deletable": false
   },
   "outputs": [],
   "source": []
  },
  {
   "cell_type": "markdown",
   "id": "fe5e2619",
   "metadata": {
    "deletable": false,
    "editable": false
   },
   "source": [
    "In the next three cells are examples of figures you can draw using <code>turtle</code>"
   ]
  },
  {
   "cell_type": "code",
   "execution_count": null,
   "id": "fb3c76d1",
   "metadata": {
    "deletable": false,
    "editable": false
   },
   "outputs": [],
   "source": [
    "# code cell 12\n",
    "\n",
    "# regular icosagon (20-sided polygon)\n",
    "from mobilechelonian import Turtle\n",
    "\n",
    "t = Turtle()\n",
    "t.speed(5)\n",
    "colours = [\"red\", \"blue\", \"yellow\", \"brown\", \"black\", \"purple\", \"green\"]\n",
    "\n",
    "t.home()\n",
    "t.penup()\n",
    "t.left(90)\n",
    "t.forward(200)\n",
    "t.right(90)\n",
    "t.pendown()\n",
    "\n",
    "for i in range (0,20):\n",
    "    t.pencolor(colours[i%7])\n",
    "    t.right(18)\n",
    "    t.forward(50)\n",
    "\n",
    "t.right(180)\n",
    "t.penup()\n",
    "t.home()"
   ]
  },
  {
   "cell_type": "code",
   "execution_count": null,
   "id": "76713e58",
   "metadata": {
    "deletable": false,
    "editable": false
   },
   "outputs": [],
   "source": [
    "# code cell 13\n",
    "\n",
    "# colored spiral\n",
    "from mobilechelonian import Turtle\n",
    "\n",
    "colors = ['red', 'purple', 'blue', 'green', 'orange', 'yellow']\n",
    "t = Turtle()\n",
    "t.speed(5)\n",
    "\n",
    "for x in range(360):\n",
    "    t.pencolor(colors[x%6])\n",
    "    t.forward(x)\n",
    "    t.left(59)"
   ]
  },
  {
   "cell_type": "code",
   "execution_count": null,
   "id": "0cf23267",
   "metadata": {
    "deletable": false,
    "editable": false
   },
   "outputs": [],
   "source": [
    "# code cell 14\n",
    "\n",
    "# Koch curve (snowflake fractal: finite area, infinite perimeter)\n",
    "from mobilechelonian import Turtle\n",
    "\n",
    "t = Turtle()\n",
    "t.pencolor(\"black\")\n",
    "t.speed(7)\n",
    "\n",
    "def koch(cursor, iterations, length, shortening_factor, angle):\n",
    "    if iterations == 0:\n",
    "        cursor.forward(length)\n",
    "    else:\n",
    "        iterations = iterations - 1\n",
    "        length = length / shortening_factor\n",
    "    \n",
    "        koch(cursor, iterations, length, shortening_factor, angle)\n",
    "        cursor.left(angle)\n",
    "        koch(cursor, iterations, length, shortening_factor, angle)\n",
    "        cursor.right(angle * 2)\n",
    "        koch(cursor, iterations, length, shortening_factor, angle)\n",
    "        cursor.left(angle)\n",
    "        koch(cursor, iterations, length, shortening_factor, angle)\n",
    "        \n",
    "for i in range(3):\n",
    "    koch(t, 4, 200, 3, 60)\n",
    "    t.right(120)"
   ]
  },
  {
   "cell_type": "markdown",
   "id": "2015141c",
   "metadata": {
    "deletable": false,
    "editable": false
   },
   "source": [
    "<div class=\"alert alert-block alert-info\">\n",
    "Working with your tablemates, experiment with <code>turtle</code> - come up with your own patterns using the functions (methods) you've learned about so far.\n",
    "</div>"
   ]
  },
  {
   "cell_type": "code",
   "execution_count": null,
   "id": "863c7228",
   "metadata": {
    "deletable": false
   },
   "outputs": [],
   "source": []
  },
  {
   "cell_type": "code",
   "execution_count": null,
   "id": "b8665383",
   "metadata": {
    "deletable": false
   },
   "outputs": [],
   "source": []
  },
  {
   "cell_type": "code",
   "execution_count": null,
   "id": "7b046650",
   "metadata": {
    "deletable": false
   },
   "outputs": [],
   "source": []
  }
 ],
 "metadata": {
  "kernelspec": {
   "display_name": "Python 3 (ipykernel)",
   "language": "python",
   "name": "python3"
  },
  "language_info": {
   "codemirror_mode": {
    "name": "ipython",
    "version": 3
   },
   "file_extension": ".py",
   "mimetype": "text/x-python",
   "name": "python",
   "nbconvert_exporter": "python",
   "pygments_lexer": "ipython3",
   "version": "3.9.13"
  }
 },
 "nbformat": 4,
 "nbformat_minor": 5
}
