{
 "cells": [
  {
   "cell_type": "markdown",
   "id": "301396c3",
   "metadata": {
    "deletable": false
   },
   "source": [
    "## **Strings, Lists, and Dictionaries - Collections in Python**\n",
    "\n",
    "Python strings: \n",
    "* https://www.w3schools.com/python/python_strings.asp\n",
    "* https://www.programiz.com/python-programming/string\n",
    "* https://www.tutorialspoint.com/python/python_strings.htm\n",
    "* https://realpython.com/python-strings/"
   ]
  },
  {
   "cell_type": "markdown",
   "id": "25b0ef73",
   "metadata": {
    "deletable": false
   },
   "source": [
    "### 1. A String is a Collection of Characters\n",
    "\n",
    "We have already met and worked with strings, which are a <b>collection</b>, or array, of characters. Unlike other languages like C, C++, Java, etc., Python does not have a <code>character</code> data type. A single character (like <code>'c'</code>) is simply a string of length 1. <br>\n",
    "\n",
    "TODO: provide links to references\n",
    "\n",
    "Earlier, we learned that string literals can be written with either single or double quotes:"
   ]
  },
  {
   "cell_type": "code",
   "execution_count": 6,
   "id": "4fbbd0b3",
   "metadata": {
    "deletable": false,
    "editable": false
   },
   "outputs": [
    {
     "name": "stdout",
     "output_type": "stream",
     "text": [
      "This is a string.\n",
      "This is also a string.\n",
      "This is how to create a 'string within a string' in Python.\n",
      "You can also create a \"string within a string\" this way.\n"
     ]
    }
   ],
   "source": [
    "# code cell 1\n",
    "\n",
    "print('This is a string.')\n",
    "print(\"This is also a string.\")\n",
    "print(\"This is how to create a 'string within a string' in Python.\")\n",
    "print('You can also create a \"string within a string\" this way.')"
   ]
  },
  {
   "cell_type": "markdown",
   "id": "9dc0626d",
   "metadata": {
    "deletable": false
   },
   "source": [
    "However, if we want to write a literal single or double quote in a string, it must be escaped (preceded by a backslash character <code> \\ </code>, with no space, as shown below):"
   ]
  },
  {
   "cell_type": "code",
   "execution_count": 5,
   "id": "8147bf82",
   "metadata": {
    "deletable": false,
    "editable": false
   },
   "outputs": [
    {
     "name": "stdout",
     "output_type": "stream",
     "text": [
      "This is how to print a double quote \" inside a string.\n",
      "This is how to print a single quote ' inside a string.\n"
     ]
    }
   ],
   "source": [
    "# code cell 2\n",
    "\n",
    "print(\"This is how to print a double quote \\\" inside a string.\")\n",
    "print(\"This is how to print a single quote \\' inside a string.\")"
   ]
  },
  {
   "cell_type": "markdown",
   "id": "3aff6adc",
   "metadata": {
    "deletable": false
   },
   "source": [
    "We have also learned about operators that work with strings: <code>+</code> concatenates (joins) strings, while <code>*</code> creates multiple copies of a string (but ONLY IF the other operand is an integer):"
   ]
  },
  {
   "cell_type": "code",
   "execution_count": 24,
   "id": "6fe8084f",
   "metadata": {
    "deletable": false
   },
   "outputs": [
    {
     "name": "stdout",
     "output_type": "stream",
     "text": [
      "a = this is \n",
      "b = a string \n",
      "\n",
      "c = a + b: this is a string \n",
      "d = 3 * a: this is this is this is \n",
      "e = b * 2: a string a string \n"
     ]
    }
   ],
   "source": [
    "# code cell 3\n",
    "\n",
    "a = \"this is \"\n",
    "b = \"a string \"\n",
    "print(\"a = \" + a)\n",
    "print(\"b = \" + b)\n",
    "print()\n",
    "\n",
    "c = a + b\n",
    "d = 3 * a\n",
    "e = b * 2\n",
    "\n",
    "print(\"c = a + b:\", c)\n",
    "print(\"d = 3 * a:\", d)\n",
    "print(\"e = b * 2:\", e)"
   ]
  },
  {
   "cell_type": "markdown",
   "id": "3d4c30bd",
   "metadata": {
    "deletable": false
   },
   "source": [
    "Here's something new we can do with a string: we can reference individual characters in it using brackets (<code>[]</code>), as in the code cell below. Note that Python uses <b>zero-based indexing</b>, meaning that the first item in a collection has the index 0. In other words, the position of a character in a string is one greater than its index.\n",
    "<div class=\"alert alert-block alert-info\">\n",
    "Run the following cell several times with numbers between 0 and the length of the string <code>s</code> minus one. Then, see what happens if you enter a number that is less than zero or greater than or equal to the length of the string <code>s</code>. <br>\n",
    "\n",
    "Something interesting happens if you enter <code>-1</code>. Try changing the string <code>s</code> (make it longer, for instance), and see if you can figure out what's going on!\n",
    "</div>"
   ]
  },
  {
   "cell_type": "code",
   "execution_count": 3,
   "id": "e390af59",
   "metadata": {
    "deletable": false
   },
   "outputs": [
    {
     "name": "stdout",
     "output_type": "stream",
     "text": [
      "Enter a number between 0 and 4: 3\n",
      "Character d is at index 3 (position 4) in the string 'abcde'\n"
     ]
    }
   ],
   "source": [
    "# code cell 4\n",
    "\n",
    "s = \"abcde\"\n",
    "n = len(s)\n",
    "i = int(input(\"Enter a number between 0 and \" + str(n-1) + \": \"))\n",
    "\n",
    "outStr = \"Character \" + s[i]\n",
    "outStr += \" is at index \" + str(i)\n",
    "if i >= 0:\n",
    "    outStr += \" (position \" + str(i+1) + \")\"\n",
    "outStr += \" in the string \"\n",
    "outStr += \"\\'\" + s + \"\\'\"\n",
    "\n",
    "print(outStr)"
   ]
  },
  {
   "cell_type": "markdown",
   "id": "b7359f12",
   "metadata": {
    "deletable": false
   },
   "source": [
    "We can also loop through each character in a string using a <code>for</code>-loop and the <code>in</code> operator (yes, <code>in</code> is an operator!), as shown below."
   ]
  },
  {
   "cell_type": "code",
   "execution_count": 2,
   "id": "8179c77c",
   "metadata": {
    "deletable": false
   },
   "outputs": [
    {
     "name": "stdout",
     "output_type": "stream",
     "text": [
      "The character at index 0 in string 'abcde' is a\n",
      "The character at index 1 in string 'abcde' is b\n",
      "The character at index 2 in string 'abcde' is c\n",
      "The character at index 3 in string 'abcde' is d\n",
      "The character at index 4 in string 'abcde' is e\n"
     ]
    }
   ],
   "source": [
    "# code cell 5\n",
    "\n",
    "s = \"abcde\"\n",
    "i = 0\n",
    "for x in s:\n",
    "    outStr = \"The character at index \" + str(i) \n",
    "    outStr += \" in string \\'\"\n",
    "    outStr += s + \"\\'\"\n",
    "    outStr += \" is \" + x\n",
    "    print(outStr)\n",
    "    i += 1"
   ]
  },
  {
   "cell_type": "markdown",
   "id": "6ef4ceb6",
   "metadata": {
    "deletable": false
   },
   "source": [
    "#### Strings are immutable!\n",
    "\n",
    "However, just because characters in a string can be referenced does not mean that they can be changed. In Python, strings are <b>immutable</b>; that is, characters in a string cannot be modified, appended to, or deleted from *in place*. "
   ]
  },
  {
   "cell_type": "code",
   "execution_count": 4,
   "id": "85085fb1",
   "metadata": {
    "deletable": false
   },
   "outputs": [
    {
     "ename": "TypeError",
     "evalue": "'str' object does not support item assignment",
     "output_type": "error",
     "traceback": [
      "\u001b[1;31m---------------------------------------------------------------------------\u001b[0m",
      "\u001b[1;31mTypeError\u001b[0m                                 Traceback (most recent call last)",
      "\u001b[1;32mC:\\Users\\ERICKA~1\\AppData\\Local\\Temp/ipykernel_9816/1265207576.py\u001b[0m in \u001b[0;36m<module>\u001b[1;34m\u001b[0m\n\u001b[0;32m      2\u001b[0m \u001b[1;33m\u001b[0m\u001b[0m\n\u001b[0;32m      3\u001b[0m \u001b[0ms\u001b[0m \u001b[1;33m=\u001b[0m \u001b[1;34m\"abcde\"\u001b[0m\u001b[1;33m\u001b[0m\u001b[1;33m\u001b[0m\u001b[0m\n\u001b[1;32m----> 4\u001b[1;33m \u001b[0ms\u001b[0m\u001b[1;33m[\u001b[0m\u001b[1;36m2\u001b[0m\u001b[1;33m]\u001b[0m \u001b[1;33m=\u001b[0m \u001b[1;34m\"q\"\u001b[0m  \u001b[1;31m# this will cause an error: 'str' object does not support item assignment\u001b[0m\u001b[1;33m\u001b[0m\u001b[1;33m\u001b[0m\u001b[0m\n\u001b[0m\u001b[0;32m      5\u001b[0m \u001b[0mprint\u001b[0m\u001b[1;33m(\u001b[0m\u001b[0ms\u001b[0m\u001b[1;33m)\u001b[0m\u001b[1;33m\u001b[0m\u001b[1;33m\u001b[0m\u001b[0m\n",
      "\u001b[1;31mTypeError\u001b[0m: 'str' object does not support item assignment"
     ]
    }
   ],
   "source": [
    "# code cell 6\n",
    "\n",
    "s = \"abcde\"\n",
    "s[2] = \"q\"  # this will cause an error: 'str' object does not support item assignment\n",
    "print(s)"
   ]
  },
  {
   "cell_type": "markdown",
   "id": "7313d551",
   "metadata": {
    "deletable": false
   },
   "source": [
    "But wait! We can append to a string using the augmented assignment operator. Doesn't that make strings mutable (changeable) after all? <br>\n",
    "\n",
    "As it turns out, the answer is no. Like any other object in Python (everything in Python is an object in memory), a string resides at an address or location in memory. We can query the address of an object (variable, string, number, Boolean, etc.) by using the built-in <code>id()</code> function. If we truly changed an object like a string *in place*, then it should have the same memory address (location) before and after the change. In the case of a string <code>s</code> to which we append another string, this is NOT the case, as seen in the following code cell. Thus, instead of changing (mutating) the string <code>s</code> in place by appending to it, we have instead created a new object at a different memory address (location), but with the same name <code>s</code> as before."
   ]
  },
  {
   "cell_type": "code",
   "execution_count": 1,
   "id": "15aa1f00",
   "metadata": {
    "deletable": false,
    "editable": false
   },
   "outputs": [
    {
     "name": "stdout",
     "output_type": "stream",
     "text": [
      "String s = 'abcde' has address id(s) = 2583339180656\n",
      "String s += 'fgh', which becomes s = 'abcdefgh', now has address id(s) = 2583339180336\n"
     ]
    }
   ],
   "source": [
    "# code cell 7\n",
    "\n",
    "s = \"abcde\"\n",
    "outStr = \"String s = \\'\" + s + \"\\' has address id(s) = \" + str(id(s))\n",
    "print(outStr)\n",
    "\n",
    "s += \"fgh\"\n",
    "outStr = \"String s += \\'fgh\\', which becomes s = \\'\" + s + \"\\', now has address id(s) = \" + str(id(s))\n",
    "print(outStr)"
   ]
  },
  {
   "cell_type": "markdown",
   "id": "8282715a",
   "metadata": {
    "deletable": false
   },
   "source": [
    "### 2. String Functions and Methods\n",
    "\n",
    "* https://towardsdatascience.com/15-must-know-python-string-methods-64a4f554941b\n",
    "* https://www.w3schools.com/python/python_ref_string.asp\n",
    "\n",
    "Formatting output in strings:\n",
    "* https://www.geeksforgeeks.org/string-formatting-in-python/\n",
    "* https://realpython.com/python-formatted-output/"
   ]
  },
  {
   "cell_type": "markdown",
   "id": "c5bcb263",
   "metadata": {},
   "source": [
    "Here, we will make a distinction between built-in functions that operate on strings and string methods (functionality that belongs to string objects). Functions that operate on strings take a string as an input, and do something (print it, return information about the string, etc.), while string methods are functions (services) that string objects provide.\n",
    "\n",
    "Commonly used built-in <b>string functions</b> (functions that operate on strings):\n",
    "\n",
    "| function | description |\n",
    "| --: | :-- |\n",
    "| <code>len(s)</code> |  returns the length of string <code>s</code> can be determined by using built-in <code>len()</code> function. |\n",
    "| <code>float(s)</code> | returns a floating point number represented by the string <code>s</code> |\n",
    "| <code>int(s)</code> | returns a base-10 integer represented by the string <code>s</code> |\n",
    "| <code>bool(s)</code> | returns a Boolean value (either <code>True</code> or <code>False</code>) represented by the string <code>s</code> |\n",
    "| <code>print(s)</code> | prints the string <code>s</code> to the console |\n",
    "| <code>type(s)</code> | This function returns the type of an object (in this case, the string <code>s</code>) |\n",
    "| <code>id(s)</code> | returns the “identity” (memory address) of the string <code>s</code> |\n",
    "\n",
    "The memory address of an object is an integer, which is guaranteed to be unique and constant for this object during its lifetime.\n",
    "\n",
    "We have used almost all of these functions earlier:"
   ]
  },
  {
   "cell_type": "code",
   "execution_count": 24,
   "id": "153ea74e",
   "metadata": {
    "deletable": false
   },
   "outputs": [
    {
     "name": "stdout",
     "output_type": "stream",
     "text": [
      "the string s = \"the quick brown fox jumped over the lazy dog\"\n",
      "the length of s is 44\n",
      "the type of s is <class 'str'>\n",
      "the memory location of s is 2583338307472\n",
      "\n",
      "the string t = \"1.2E-01\"\n",
      "the length of t is 7\n",
      "the numerical value represented by t is 0.12\n",
      "the type of t is <class 'str'>\n",
      "the type of the numerical value represented by t is <class 'float'>\n",
      "\n",
      "the string u = \"-451\"\n",
      "the length of u is 4\n",
      "the numerical value represented by u is -451\n",
      "the type of u is <class 'str'>\n",
      "the type of the numerical value represented by u is <class 'int'>\n",
      "\n",
      "the string v = \"False\"\n",
      "the length of v is 5\n",
      "the Boolean value represented by v is True  <-- why is this?\n",
      "the type of v is <class 'str'>\n",
      "the type of the numerical value represented by v is <class 'bool'>\n",
      "\n"
     ]
    }
   ],
   "source": [
    "# code cell 8\n",
    "\n",
    "s = \"the quick brown fox jumped over the lazy dog\"\n",
    "\n",
    "print('the string s = \\\"' + s + '\\\"')\n",
    "print('the length of s is' , len(s))\n",
    "print('the type of s is', type(s))\n",
    "print('the memory location of s is', id(s))\n",
    "print()\n",
    "\n",
    "\n",
    "t = \"1.2E-01\"\n",
    "\n",
    "print('the string t = \\\"' + t + '\\\"')\n",
    "print('the length of t is', len(t))\n",
    "print('the numerical value represented by t is', float(t))\n",
    "print('the type of t is', type(t))\n",
    "print('the type of the numerical value represented by t is', type(float(t)))\n",
    "print()\n",
    "\n",
    "\n",
    "u = \"-451\"\n",
    "\n",
    "print('the string u = \\\"' + u + '\\\"')\n",
    "print('the length of u is', len(u))\n",
    "print('the numerical value represented by u is', int(u))\n",
    "print('the type of u is', type(u))\n",
    "print('the type of the numerical value represented by u is', type(int(u)))\n",
    "print()\n",
    "\n",
    "\n",
    "v = \"False\"\n",
    "\n",
    "print('the string v = \\\"' + v + '\\\"')\n",
    "print('the length of v is', len(v))\n",
    "print('the Boolean value represented by v is', bool(v), ' <-- why is this?')\n",
    "print('the type of v is', type(v))\n",
    "print('the type of the numerical value represented by v is', type(bool(v)))\n",
    "print()"
   ]
  },
  {
   "cell_type": "markdown",
   "id": "8e174c74",
   "metadata": {
    "deletable": false
   },
   "source": [
    "There is a larger set of functions (more properly, _methods_) that string objects themselves provide. \n",
    "\n",
    "Commonly used <b>string methods</b> (functions provided by string objects):\n",
    "\n",
    "| function | description |\n",
    "| --: | :-- |\n",
    "| <code>s.count()</code> | returns the number of times a specified substring occurs in a string <code>s</code> |\n",
    "| <code>s.index()</code> | searches the string <code>s</code> for a specified value and returns the position of where it was found |\n",
    "| <code>s.lower()</code> | converts string <code>s</code> into lower case |\n",
    "| <code>s.upper()</code> | converts string <code>s</code> into upper case |\n",
    "| <code>s.isalnum()</code> | returns ```True``` if all characters in the string <code>s</code> are alphanumeric | \n",
    "| <code>s.isalpha()</code> | returns ```True``` if all characters in the string <code>s</code> are in the alphabet |\n",
    "| <code>s.isascii()</code> | returns ```True``` if all characters in the string <code>s</code> are ASCII characters |\n",
    "| <code>s.isdecimal()</code> | returns ```True``` if all characters in the string <code>s</code> are decimals |\n",
    "| <code>s.isdigit()</code> | returns ```True``` if all characters in the string <code>s</code> are digits |\n",
    "| <code>s.isnumeric()</code> | returns ```True``` if all characters in the string <code>s</code> are numeric |\n",
    "| <code>s.find()</code> | searches the string <code>s</code> for a specified substring and returns the position of where it was found |\n",
    "| <code>s.replace()</code> | returns a string where a specified value is replaced with a specified value |\n",
    "| <code>s.format()</code> | formats specified values in a string <code>s</code> |\n",
    "| <code>s.lstrip()</code> | returns a left trim version of the string <code>s</code> |\n",
    "| <code>s.rstrip()</code> | returns a right trim version of the string <code>s</code> |\n",
    "| <code>s.strip()</code> | returns a trimmed version of the string <code>s</code> |\n",
    "| <code>s.join()</code> | converts the elements of an iterable into a string <code>s</code> |\n",
    "| <code>s.split()</code> | splits the string <code>s</code> at the specified separator, and returns a list |\n",
    "\n",
    "Note the difference in syntax between using string <b>functions</b> and string <b>methods</b>: <br>\n",
    "\n",
    "* string <b>functions</b> operate <b>on</b> a string <code>s</code>: <code>len(s)</code>, <code>type(s)</code>, <code>print(s)</code>, etc. <br>\n",
    "* string <b>methods</b> are called <b>by</b> a string <code>s</code> using the <b>dot operator</b>: <code>s.count()</code>, <code>s.index()</code>, <code>s.isnumeric()</code>, etc.\n",
    "\n",
    "\n",
    "What are __[ASCII characters](https://www.w3schools.com/charsets/ref_html_ascii.asp#:~:text=The%20ASCII%20Character%20Set&text=ASCII%20is%20a%207%2Dbit,are%20all%20based%20on%20ASCII\")__?"
   ]
  },
  {
   "cell_type": "code",
   "execution_count": 65,
   "id": "3a118cb2",
   "metadata": {
    "deletable": false
   },
   "outputs": [
    {
     "name": "stdout",
     "output_type": "stream",
     "text": [
      "the string s = \"    The quick brown fox jumped over THE lazy dog  \"\n",
      "the length of s is 50\n",
      "the letter \"o\" occurs 4 times in the string s\n",
      "a pair of space characters \"  \" occurs 3 times in the string s\n",
      "\n",
      "the substring \"THE\" occurs at index 36 in string s, using find()\n",
      "the substring \"the\" occurs at index -1 in string s (-1 means 'not found')\n",
      "the substring \"The\" occurs at index 4 in string s, using index()\n",
      "replace substring \"THE\" with substring \"a\" in string s:     The quick brown fox jumped over a lazy dog  \n",
      "\n",
      "convert string s to uppercase:     THE QUICK BROWN FOX JUMPED OVER THE LAZY DOG  \n",
      "convert string s to lowercase:     the quick brown fox jumped over the lazy dog  \n",
      "\n",
      "trim spaces from left side of string s: \"The quick brown fox jumped over THE lazy dog  \"\n",
      "trim spaces from right side of string s: \"    The quick brown fox jumped over THE lazy dog\"\n",
      "trim spaces from both sides of string s: \"The quick brown fox jumped over THE lazy dog\"\n",
      "\n",
      "all characters in string s are alphanumeric: False\n",
      "all characters in string s are alphabetic: False\n",
      "all characters in string s are ASCII: True\n",
      "\n",
      "the string t = \"12345\"\n",
      "the length of t is 5\n",
      "all characters in string t are alphanumeric: True\n",
      "all characters in string t are decimal: True\n",
      "all characters in string t are digits: True\n",
      "all characters in string t are numeric: True\n",
      "\n"
     ]
    }
   ],
   "source": [
    "# code cell 9\n",
    "\n",
    "#    01234567890123456789012345678901234567890123456789\n",
    "s = \"    The quick brown fox jumped over THE lazy dog  \"\n",
    "\n",
    "print('the string s = \\\"' + s + '\\\"')\n",
    "print('the length of s is', len(s))\n",
    "print('the letter \\\"o\\\" occurs', s.count('o'), 'times in the string s')\n",
    "print('a pair of space characters \\\"  \\\" occurs', s.count('  '), 'times in the string s')\n",
    "print()\n",
    "\n",
    "print('the substring \\\"THE\\\" occurs at index', s.find('THE'), 'in string s, using find()')\n",
    "print('the substring \\\"the\\\" occurs at index', s.find('the'), 'in string s (-1 means \\'not found\\')')\n",
    "print('the substring \\\"The\\\" occurs at index', s.index('The'), 'in string s, using index()')\n",
    "# the following line will cause an error because 'the' is not found in string s\n",
    "# print('the substring \\\"the\\\" occurs at position', s.index('the'), 'in string s')\n",
    "print('replace substring \\\"THE\\\" with substring \\\"a\\\" in string s: ' + s.replace('THE', 'a'))\n",
    "print()\n",
    "\n",
    "print('convert string s to uppercase:', s.upper())\n",
    "print('convert string s to lowercase:', s.lower())\n",
    "print()\n",
    "\n",
    "print('trim spaces from left side of string s: \\\"' + s.lstrip() + '\\\"')\n",
    "print('trim spaces from right side of string s: \\\"' + s.rstrip() + '\\\"')\n",
    "print('trim spaces from both sides of string s: \\\"' + s.strip() + '\\\"')\n",
    "print()\n",
    "\n",
    "print('all characters in string s are alphanumeric:', s.isalnum())\n",
    "print('all characters in string s are alphabetic:', s.isalpha())\n",
    "print('all characters in string s are ASCII:', s.isascii())\n",
    "print()\n",
    "\n",
    "t = \"12345\"\n",
    "\n",
    "print('the string t = \\\"' + t + '\\\"')\n",
    "print('the length of t is', len(t))\n",
    "print('all characters in string t are alphanumeric:', t.isalnum())\n",
    "print('all characters in string t are decimal:', t.isdecimal())\n",
    "print('all characters in string t are digits:', t.isdigit())\n",
    "print('all characters in string t are numeric:', t.isnumeric())\n",
    "print()"
   ]
  },
  {
   "cell_type": "markdown",
   "id": "fefde26c",
   "metadata": {
    "deletable": false,
    "editable": false
   },
   "source": [
    "<div class=\"alert alert-block alert-info\">\n",
    "    \n",
    "Now, it's your turn! <br>\n",
    "    \n",
    "1. Assign the string <code>\"Supercalifragilisticexpialidocious\"</code> to a variable, and print it out <br>\n",
    "2. Use string function <code>len()</code> to find the length of the string, and print out that number <br>\n",
    "3. Use string method <code>count()</code> to find the number of times the letter <code>i</code> appears in the string, and print out that number <br>\n",
    "4. Use string method <code>index()</code> to find the index of the first occurrence of the letter <code>i</code> in the string, and print out that index <br>\n",
    "5. Use Google to look up how to use string method <code>index()</code> to find the index of the next occurrence of the letter <code>i</code> in the string, and print out that index <br>\n",
    "6. Create a loop (use either <code>for</code> or <code>while</code>) to find the indices of <b>all</b> occurrences of the letter <code>i</code> in the string, and print out those indices <br>\n",
    "7. Use Google to look up a string method that will determine whether all letters in a string are lowercase, apply it to this string, and print out what that function returns <br>\n",
    "8. From the string methods above, find one that will convert all letters in a string to lowercase, apply it to this string, assign what it returns to a variable, and print out that variable <br>\n",
    "9. Repeat 6, but with the variable you used in 7. <br>\n",
    "\n",
    "</div>"
   ]
  },
  {
   "cell_type": "markdown",
   "id": "91eaf00d",
   "metadata": {
    "deletable": false
   },
   "source": []
  },
  {
   "cell_type": "markdown",
   "id": "d2398c16",
   "metadata": {
    "deletable": false
   },
   "source": [
    "### 2. A List is a Collection of Objects\n",
    "Coding languages like C, C++, C#, and Java all have an entity that holds an <b>array</b>, or collection, of objects of the same data type. In Python, this entity is called a <b>list</b>, but it may hold a collection of objects of any type at all. (That is, it can holds objects of different data types.) At this time, we will only consider lists containing objects of the same data type.<br>\n",
    "\n",
    "The Python list is enclosed by brackets, and elements are delimited (set off from each other) with commas. An empty list has nothing between the opening and closing brackets.<br>\n",
    "<pre>\n",
    "list0 = []\n",
    "list1 = [-1, 2, -3, 4, 5]\n",
    "list2 = [0.707, -2.0E+06, 3.14]\n",
    "list3 = [\"apple\", \"banana\", \"cherry\"]\n",
    "list4 = [True, False, False, True]\n",
    "</pre>\n",
    "\n",
    "A list can be initialized as a specified number of values (and can have duplicate elements, too):\n",
    "<pre>\n",
    "list5 = [0]*5   # this assigns [0, 0, 0, 0, 0] to list5\n",
    "</pre>\n",
    "\n",
    "A list can be printed:\n",
    "<pre>\n",
    "list1 = [-1, 2, -3, 4, 5]\n",
    "print(list1)    # this prints [-1, 2, -3, 4, 5]\n",
    "</pre>\n",
    "\n",
    "The number of elements of a list can be determined using <code>len()</code>:\n",
    "<pre>\n",
    "list1 = [-1, 2, -3, 4, 5]\n",
    "N = len(list1)  # this assigns 5 to N\n",
    "</pre>\n",
    "\n",
    "The elements of a list can be referred to using an <b>index</b> - the first element of <code>list1</code> is <code>list1</code>, while the second element is <code>list1[1]</code>, and the last element can be referred to as either <code>list1[4]</code> or <code>list1[-1]</code>. <b>NOTE</b>: for a list of <code>N</code> elements, the first element is always <code>list1[0]</code>, while the last element is either <code>list1[N-1]</code> or <code>list1[-1]</code>.\n",
    "<pre>\n",
    "list1 = [-1, 2, -3, 4, 5]\n",
    "first_elem = list1[0]    # this assigns -1 to first_elem\n",
    "second_elem = list1[1]   # this assigns 2 to second_elem\n",
    "last_elem = list1[4]     # this assigns 5 to last_elem\n",
    "last_elem = list1[-1]    # this also assigns 5 to last_elem\n",
    "</pre>\n",
    "\n",
    "Elements of a list can be changed (that is, unlike strings, lists are <b>mutable</b>):\n",
    "<pre>\n",
    "list1 = [-1, 2, -3, 4, 5]\n",
    "list1[2] = -42    # list1 is now [-1, 2, -42, 4, 5]\n",
    "</pre>\n",
    "\n",
    "Elements can be inserted or deleted from lists:\n",
    "<pre>\n",
    "list1 = [-1, 2, -3, 4, 5]\n",
    "list1.insert(1, 0)    # list1 is now [-1, 0, 2, -3, 4, 5]\n",
    "list1.pop(3)       # list1 is now [-1, 0, 2, 4, 5]\n",
    "</pre>\n",
    "\n",
    "The order of elements in a list can be reversed:\n",
    "<pre>\n",
    "list1 = [-1, 2, -3, 4, 5]\n",
    "list1.reverse()    # list1 is now [5, 4, -3, 2, -1]\n",
    "</pre>\n",
    "\n",
    "The order of elements in a list can be sorted in ascending or descending order:\n",
    "<pre>\n",
    "list1 = [-1, 2, -3, 4, 5]\n",
    "list1.sort()    # list1 is now [-3, -1, 2, 4, 5]\n",
    "list1.sort(reverse=True)    # list1 is now [5, 4, 2, -1, -3]\n",
    "</pre>\n",
    "\n",
    "Elements can be cleared from a list:\n",
    "<pre>\n",
    "list1 = [-1, 2, -3, 4, 5]\n",
    "list1.clear()    # list1 is now []\n",
    "</pre>\n",
    "\n",
    "Elements can be tacked on to the end of a list:\n",
    "<pre>\n",
    "list1 = [-1, 2, -3, 4, 5]\n",
    "list1.append(-6)    # list1 is now [-1, 2, -3, 4, 5, -6]\n",
    "</pre>\n",
    "\n",
    "Two lists can be concatenated (like strings):\n",
    "<pre>\n",
    "list1 = [-1, 2, -3, 4, 5]\n",
    "list2 = [-6, 7, -8]\n",
    "list1.extend(list2)    # list1 is now [-1, 2, -3, 4, 5, -6, 7, -8]\n",
    "</pre>"
   ]
  },
  {
   "cell_type": "markdown",
   "id": "8c6e3898",
   "metadata": {},
   "source": [
    "<div class=\"alert alert-block alert-info\">\n",
    "In the cell below, write code that does the following: <br>\n",
    "    \n",
    "1. Assign an empty list to <code>list1</code> <br>\n",
    "2. Append the strings <code>\"Europa\"</code>, <code>\"Ganymede\"</code>, <code>\"Io\"</code>, and <code>\"Callisto\"</code> to the list <b>one at a time</b>, and print out the list after each addition <br>\n",
    "3. Reverse the order of <code>list1</code>, and print it out <br>\n",
    "4. Sort <code>list1</code>, and print it out <br>\n",
    "5. Print out <code>list1[0]</code>, <code>list1[1]</code>, and <code>list1[-1]</code> <br>\n",
    "6. Extend <code>list1</code> with <code>list2 = [\"Himalia\", \"Amalthea\", \"Thebe\"]</code> <br>\n",
    "7. Print out the length of <code>list1</code> <br>\n",
    "8. Remove the last element of <code>list1</code>, and print out <code>list1</code> <br>\n",
    "9. Insert the element you removed at the beginning of <code>list1</code> <br>\n",
    "\n",
    "Each time you run the cell, make sure the output is what you expect it to be.\n",
    "</div>"
   ]
  },
  {
   "cell_type": "markdown",
   "id": "20011ef9",
   "metadata": {},
   "source": [
    "lists: list functions\n",
    "\n",
    "lists are mutable\n",
    "\n",
    "elements are referred to by zero-based index (position)\n",
    "\n",
    "elements can be inserted, deleted, appended, cleared, determine whether an element is in it, count how many times it occurs, searched, etc."
   ]
  },
  {
   "cell_type": "markdown",
   "id": "d7efb5ba",
   "metadata": {},
   "source": [
    "exercises: roll numDice dice game from prev notebook\n",
    "\n",
    "use list to keep track of rolls\n",
    "\n",
    "instead of using boolean, use list to store rolls and see how many 1's are in list\n",
    "\n",
    "card game"
   ]
  },
  {
   "cell_type": "markdown",
   "id": "1850ba17",
   "metadata": {},
   "source": [
    "introduce dictionaries: instead of referring to elements by their index (position), refer to values by the unique keys associated with each\n",
    "\n",
    "dictionaries are mutable\n",
    "\n",
    "dictionary functions\n",
    "\n",
    "deep vs. shallow copy"
   ]
  },
  {
   "cell_type": "markdown",
   "id": "c20b3f0c",
   "metadata": {},
   "source": [
    "exercises: card game II\n",
    "\n",
    "teachers and students?\n",
    "\n"
   ]
  },
  {
   "cell_type": "code",
   "execution_count": null,
   "id": "6be4969c",
   "metadata": {},
   "outputs": [],
   "source": []
  },
  {
   "cell_type": "code",
   "execution_count": null,
   "id": "1ed5dde9",
   "metadata": {},
   "outputs": [],
   "source": []
  },
  {
   "cell_type": "code",
   "execution_count": null,
   "id": "08bb9893",
   "metadata": {},
   "outputs": [],
   "source": []
  }
 ],
 "metadata": {
  "celltoolbar": "Edit Metadata",
  "kernelspec": {
   "display_name": "Python 3 (ipykernel)",
   "language": "python",
   "name": "python3"
  },
  "language_info": {
   "codemirror_mode": {
    "name": "ipython",
    "version": 3
   },
   "file_extension": ".py",
   "mimetype": "text/x-python",
   "name": "python",
   "nbconvert_exporter": "python",
   "pygments_lexer": "ipython3",
   "version": "3.9.2"
  }
 },
 "nbformat": 4,
 "nbformat_minor": 5
}
