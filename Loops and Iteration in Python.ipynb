{
 "cells": [
  {
   "cell_type": "markdown",
   "id": "4a5e308f",
   "metadata": {
    "deletable": false,
    "editable": false
   },
   "source": [
    "## **Loops and Iteration in Python**"
   ]
  },
  {
   "cell_type": "markdown",
   "id": "880adaf4",
   "metadata": {
    "deletable": false,
    "editable": false
   },
   "source": [
    "### 1. Loops: Repeating a Process\n",
    "There are times when we need to repeat a task (a single line, or a block of code) multiple times. Just how many times may be specified in advance, it may be specified by the user, or it may depend on what's happening inside the task. We will use the same idea of comparison, which we introduced for conditionals (<code>if</code> statements), to tell us how many times to iterate (repeat) the code in a loop. <br>\n",
    "\n",
    "#### Important!\n",
    "Once again, note that <code>=</code> is NOT the same as the equality relation (\"is equal to\") in mathematics. This is because the quantities on the LHS and RHS of <code>=</code> are NOT interchangeable. Instead, by the syntax rules of Python (and many other coding languages), the only thing that can be on the left side of the <code>=</code> operator is a lone variable whose value is being assigned. This variable cannot be part of an expression - it is just the variable itself. On the RHS of the <code>=</code> operator, there can be an expression which evaluates to a value which is being assigned to the variable on the left side of <code>=</code>. <br>\n",
    "\n",
    "The statement\n",
    "<pre>\n",
    "<em>x</em> = <em>x</em> + 1\n",
    "</pre>\n",
    "is NOT a mathematical equation, since there is no value of <em>x</em> that equals 1 plus itself. In coding languages, this is an assignment statement: the value of ```x``` is increased by ```1```, then reassigned to ```x```. We also say, \"```x``` is incremented by ```1```\".\n",
    "\n",
    "By contrast, in Python, this is perfectly legal:\n",
    "<pre>\n",
    "i = 0\n",
    "i = i + 1\n",
    "</pre>\n",
    "\n",
    "In the first line, the variable <code>i</code> is being assigned the integer value of <code>0</code>. In the next line, on the right side of <code>=</code>, the value of <code>i</code> is being increased by <code>1</code> before being assigned back to <code>i</code>. In other words, the value of <code>i</code> is being <b>incremented</b> by 1.\n",
    "\n",
    "Run the next code cell to see this in action:"
   ]
  },
  {
   "cell_type": "code",
   "execution_count": 1,
   "id": "79394e01",
   "metadata": {
    "deletable": false
   },
   "outputs": [
    {
     "name": "stdout",
     "output_type": "stream",
     "text": [
      "i = 0\n",
      "i = 1\n",
      "i = 1.5\n",
      "i = 6.0\n",
      "i = 3.5\n"
     ]
    }
   ],
   "source": [
    "# code cell 1\n",
    "\n",
    "i = 0\n",
    "print(\"i = \" + str(i))\n",
    "i = i + 1\n",
    "print(\"i = \" + str(i))\n",
    "i = i + 0.5\n",
    "print(\"i = \" + str(i))\n",
    "i = i * 4\n",
    "print(\"i = \" + str(i))\n",
    "i = i - 2.5\n",
    "print(\"i = \" + str(i))"
   ]
  },
  {
   "cell_type": "markdown",
   "id": "b3599254",
   "metadata": {
    "deletable": false,
    "editable": false
   },
   "source": [
    "#### The <code>while</code> block\n",
    "\n",
    "As before, remember that the operators ```<```, ```>```, ```≤```, ```≥```, ```==```, and ```!=``` are <b>relational</b> or <b>comparison operators</b>. Relational expressions evaluate the expressions on the operator's LH and RH sides, compare their values, and return the Boolean values ```True``` or ```False``` depending on the relationship between those values.\n",
    "\n",
    "Now, we will use these relational operator expressions in an <code>while</code> statement, which will execute the indented code block immediately following it <b>while</b> the expression evaluates to <code>True</code>, and will exit the loop (continuing execution after the <code>while</code> block) when the expression no longer evaluates to <code>True</code>. Note how this loop construct also has a special format - the keyword <code>while</code>, followed by the relational expression, followed by a colon (<code>:</code>). The code block that executes if the expression is <code>True</code> MUST BE indented: <br>\n",
    "<pre>\n",
    "while (LHS_expr rel_op RHS_expr) == True:\n",
    "    do something\n",
    "    do something\n",
    "</pre>\n",
    "\n",
    "The <code>do something</code> lines are executed ONLY IF <code>LHS_expr rel_op RHS_expr</code> evaluates to <code>True</code>; otherwise, those lines are not run, and the program resumes execution after the last indented line of the <code>while</code>-block. A shortcut for this is to leave out the <code>== True</code> altogether. If the Boolean expression in parentheses evaluates to <code>True</code>, it is superfluous to test whether <code>True == True</code>. Thus, the more common way of writing the <code>while</code> construct is:\n",
    "<pre>\n",
    "while LHS_expr rel_op RHS_expr:\n",
    "    do something\n",
    "    do something\n",
    "</pre>\n",
    "\n",
    "So far, this looks very similar to a conditional, an <code>if</code>-block. However, if the relational expression following the keyword <code>while</code> is always <code>True</code>, the <code>do something</code> lines will execute over and over again, stopping only if the user intervenes to exit the program. This so-called \"infinite loop\" is not very useful. Thus, we must introduce the notion of a <b>loop counter</b>, which is a numerical variable of integer type. We use this to count how many times we have run the <code>do something</code> lines, incrementing this counter by 1 each time. When the counter reaches the number of times we want to run the loop, the program exits the <code>while</code>-block, and resumes execution after the last indented line.\n",
    "\n",
    "To see how this works, in the code cell below, try changing the value of <code>numIter</code> to a different value, to zero, or to a negative number, and run the cell to see what happens."
   ]
  },
  {
   "cell_type": "code",
   "execution_count": 2,
   "id": "2c84ae9e",
   "metadata": {
    "deletable": false
   },
   "outputs": [
    {
     "name": "stdout",
     "output_type": "stream",
     "text": [
      "current value of i is 0\n",
      "current value of i is 1\n",
      "current value of i is 2\n",
      "current value of i is 3\n",
      "current value of i is 4\n",
      "all done for numIter = 5\n"
     ]
    }
   ],
   "source": [
    "# code cell 2\n",
    "\n",
    "numIter = 5  # number of times to iterate loop\n",
    "\n",
    "i = 0  # initialize loop counter \n",
    "while i < numIter:\n",
    "    print(\"current value of i is \" + str(i))\n",
    "    i = i + 1\n",
    "\n",
    "# execution continues here after while loop finishes\n",
    "print(\"all done for numIter = \" + str(numIter))"
   ]
  },
  {
   "cell_type": "markdown",
   "id": "cc9bf150",
   "metadata": {
    "deletable": false,
    "editable": false
   },
   "source": [
    "Of course, what we showed above is a rather trivial use of a loop; let's see a more useful example. From the previous notebook, we created a simple game where the computer selects a random integer between 1 and 10, asks the user to guess what that number is, then tells the user whether they won (by guessing the number), or whether their guess was too high or too low. This time, let's give the user three chances to guess the right number: "
   ]
  },
  {
   "cell_type": "code",
   "execution_count": 2,
   "id": "1121d04b",
   "metadata": {
    "deletable": false
   },
   "outputs": [
    {
     "name": "stdout",
     "output_type": "stream",
     "text": [
      "Enter a number between 1 and 10: 5\n",
      "Oops - too high!\n",
      "Enter a number between 1 and 10: 2\n",
      "Oops - too low!\n",
      "Enter a number between 1 and 10: 4\n",
      "Oops - too high!\n",
      "My number was 3\n"
     ]
    }
   ],
   "source": [
    "# code cell 3\n",
    "\n",
    "import random\n",
    "\n",
    "n = random.randint(1, 10)  # \"computer\" selects a random integer between 1 and 10\n",
    "\n",
    "i = 0  # initialize loop counter\n",
    "\n",
    "while i < 3:    # give the user three chances to guess the number\n",
    "    \n",
    "    s = input(\"Enter a number between 1 and 10: \")  # prompt user to guess the number\n",
    "    m = int(s)  # convert the string to an integer\n",
    "    \n",
    "    if m == n:\n",
    "        print(\"You win!\")\n",
    "        break   # this exits the loop if we guess the number in fewer than three tries\n",
    "    elif m < n:\n",
    "        print(\"Oops - too low!\")\n",
    "    else:\n",
    "        print(\"Oops - too high!\")\n",
    "    i = i + 1   # increment loop counter by 1\n",
    "\n",
    "print(\"My number was \" + str(n))  # after exiting the while loop, execution resumes here"
   ]
  },
  {
   "cell_type": "markdown",
   "id": "cdd0c6e2",
   "metadata": {
    "deletable": false,
    "editable": false
   },
   "source": [
    "In the example above, if we guess the computer's number before exhausting all three chances, there is no point in making more guesses. Thus, we use the keyword <code>break</code> to stop iterating (running repeatedly) the indented block of code. Inside a <code>while</code> block, the <code>break</code> statement causes the program to exit the loop regardless of whether the <code>while</code> condition is <code>True</code> or <code>False</code>.\n",
    "\n",
    "There are times when we want a loop that runs an indefinite number of times until we tell it to stop. To do this, we can use <code>while bIsRunning:</code> as our relational expression, as in line 10 below. This simply means that the condition that <code>while</code> is testing is <code>bIsRunning == True</code>, until something inside the loop assigns <code>False</code> to <code>bIsRunning</code>, as in line 20 below. Another way to do this is to use <code>while True:</code> to create a loop that never stops unless there's a <code>break</code> statement inside it. Pro tip: don't run an infinite loop unless you know how to halt its execution. (In a Jupyter notebook, it usually entails stopping and restarting the kernel; in PyCharm, you can click the red Stop button; if running a Python program from the command line, CTRL-C will kill it.) <br>\n",
    "\n",
    "An example of this is seen in the code cell below. Instead of our simple \"guess a number between 1 and 10 in three tries\" game, we'll give the user an indefinite number of guesses at a number between 1 and 1000. The user is likely to get tired of playing this game, so we'll give them an option to stop by entering 0 for a guess:"
   ]
  },
  {
   "cell_type": "code",
   "execution_count": 160,
   "id": "07eefd54",
   "metadata": {
    "deletable": false
   },
   "outputs": [
    {
     "name": "stdout",
     "output_type": "stream",
     "text": [
      "Enter a number between 1 and 1000, or 0 to stop: 500\n",
      "Oops - too high!\n",
      "Enter a number between 1 and 1000, or 0 to stop: 250\n",
      "Oops - too high!\n",
      "Enter a number between 1 and 1000, or 0 to stop: 125\n",
      "Oops - too low!\n",
      "Enter a number between 1 and 1000, or 0 to stop: 187\n",
      "Oops - too high!\n",
      "Enter a number between 1 and 1000, or 0 to stop: 155\n",
      "Oops - too low!\n",
      "Enter a number between 1 and 1000, or 0 to stop: 171\n",
      "Oops - too low!\n",
      "Enter a number between 1 and 1000, or 0 to stop: 179\n",
      "Oops - too low!\n",
      "Enter a number between 1 and 1000, or 0 to stop: 183\n",
      "Oops - too low!\n",
      "Enter a number between 1 and 1000, or 0 to stop: 185\n",
      "You win!\n",
      "My number was 185\n"
     ]
    }
   ],
   "source": [
    "# code cell 4\n",
    "\n",
    "import random\n",
    "\n",
    "def main():  # see cell below - this is the \"main\" thread of execution, hence the name main()\n",
    "    \n",
    "    n = random.randint(1, 1000)  # \"computer\" selects a random integer between 1 and 1000\n",
    "\n",
    "    bIsRunning = True  # this is like a \"switch\" that turns the loop on or off\n",
    "    while bIsRunning:  # lets the user keep guessing until bIsRunning = False\n",
    "        \n",
    "        s = input(\"Enter a number between 1 and 1000, or 0 to stop: \")  # prompt user to guess the number\n",
    "        m = int(s)  # convert the string to an integer\n",
    "\n",
    "        if m == 0:\n",
    "            print(\"You entered 0 ... goodbye!\")\n",
    "            return  # if the user enters 0, exit the program (return from main())\n",
    "        elif m == n:\n",
    "            print(\"You win!\")\n",
    "            bIsRunning = False   # a correct guess exits the while loop \n",
    "        elif m < n:\n",
    "            print(\"Oops - too low!\")\n",
    "        else:\n",
    "            print(\"Oops - too high!\")\n",
    "\n",
    "    print(\"My number was \" + str(n))  # after exiting the while loop, execution resumes here\n",
    "\n",
    "# the code above WILL NOT RUN unless the next line is present\n",
    "main()  # this is where the main() function, defined above, is actually called"
   ]
  },
  {
   "cell_type": "markdown",
   "id": "b81adeb3",
   "metadata": {
    "deletable": false,
    "editable": false
   },
   "source": [
    "In the cell above, you'll notice that we did something a little different with our code - we included it inside a block called <code>main()</code>. This is the way that Python code is usually written, especially when writing a standalone program (which we can now dignify by using the term \"application\") that can be run from the command line. The application's main thread of execution should appear in the function <code>main()</code>. This becomes more important as our programs (or applications) become more and more complicated. The keyword <code>def</code> indicates that the indented code block that follows belongs only to the function being defined. More complicated code may involve multiple functions that we've defined and are calling from our <code>main()</code> function. However, note that line 29 is where <code>main()</code> is itself invoked (called). A function that is defined will not run unless it is called!\n",
    "\n",
    "\n",
    "<div class=\"alert alert-block alert-info\">\n",
    "Now, your turn! You now know enough Python to program a simple calculator application. For starters, let's make this calculator only do addition and multiplication. <br>\n",
    "1. Create a <code>while</code> loop that will run forever <br>\n",
    "2. In the indented code block, use <code>input()</code> to prompt the user to <code>\"Enter + to add, * to multiply, or q to stop: \"</code>, and assign that value to a variable <br>\n",
    "3. In an <code>if</code>-block, if that variable equals <code>\"q\"</code>, print <code>\"Goodbye!\"</code> and break out of the <code>while</code> loop <br>\n",
    "4. Prompt the user to enter the first number, and assign that value to a second variable <br>\n",
    "5. Prompt the user to enter the second number, and assign that value to a third variable <br>\n",
    "6. Create another <code>if</code>-block <br>\n",
    "7. For <code>if</code>, if the first variable equals <code>\"+\"</code>, add the two numbers and print their sum <br>\n",
    "8. For <code>elif</code>, if the first variable equals <code>\"*\"</code>, multiply the two numbers and print their product <br>\n",
    "9. Test your code by running it with two numbers and both operations, as well as <code>\"q\"</code>. <br>\n",
    "Your dialog should look like this:\n",
    "<pre>\n",
    "Enter + to add, * to multiply, or q to stop: +\n",
    "Enter the first number: 3.5\n",
    "Enter the second number: 2.7\n",
    "The sum of the two numbers is 6.2\n",
    "\n",
    "Enter + to add, * to multiply, or q to stop: *\n",
    "Enter the first number: 3.5\n",
    "Enter the second number: 2.7\n",
    "The product of the two numbers is 9.45\n",
    "\n",
    "Enter + to add, * to multiply, or q to stop: q\n",
    "Goodbye!\n",
    "</pre>\n",
    "\n",
    "<b>Extra challenge</b>: Extend this two-function calculator to perform all four functions. That is, besides adding and multiplying two numbers, allow the user to also subtract or divide two numbers, but be careful not to let the user divide by zero!\n",
    "</div>"
   ]
  },
  {
   "cell_type": "code",
   "execution_count": null,
   "id": "feada3eb",
   "metadata": {
    "deletable": false
   },
   "outputs": [],
   "source": [
    "def main():\n",
    "    # delete 'pass', and replace it with your own code\n",
    "    pass\n",
    "\n",
    "# be sure to invoke main()!\n",
    "main()"
   ]
  },
  {
   "cell_type": "markdown",
   "id": "a7603df3",
   "metadata": {
    "deletable": false,
    "editable": false
   },
   "source": [
    "### 2. Augmented Assignment Operators"
   ]
  },
  {
   "cell_type": "markdown",
   "id": "3249f12b",
   "metadata": {
    "deletable": false,
    "editable": false
   },
   "source": [
    "Recall that, in an assignment statement, the <code>=</code> operator does something: it evaluates the expression on the right-hand side (RHS) of <code>=</code>, then assigns that value to the variable on the left-hand side (LHS) of <code>=</code>. \n",
    "\n",
    "When we use a <code>while</code>-loop, we often need to assign a new value to an existing variable (that is, the variable needs to update itself):\n",
    "<pre>\n",
    "iCount = iCount + 1\n",
    "nShoes = nShoes - 2\n",
    "principal = principal * (1.0 + interest_rate)\n",
    "scale = scale / 2.0\n",
    "</pre>\n",
    "\n",
    "In these examples, the existing variable is one of the operands of the arithmetic operator, as well as the assignee of the new value. As a shorthand, there are <b>augmented</b> forms of the arithmetic operators that are, in fact, equivalent to the kinds of expressions above, but easier to write (involve fewer keystrokes). The general form is\n",
    "<pre>\n",
    "variable arith_op= delta\n",
    "</pre>\n",
    "which is equivalent to\n",
    "<pre>\n",
    "variable = variable arith_op delta\n",
    "</pre>\n",
    "where <code>delta</code> is the amount by which the variable's value is being changed before that value is reassigned to the variable.\n",
    "\n",
    "| Operator |  Description / Example  |  Equivalent to  |\n",
    "| :--: | :--: | :-- |\n",
    "| <code>=</code> | assignment: <code>x = 5</code> | <code>x = 5</code> |\n",
    "| <code>+=</code> | increment: <code>x += 5</code> | <code>x = x + 5</code> |\n",
    "| <code>-=</code> | decrement: <code>x -= 5</code> | <code>x = x - 5</code> |\n",
    "| <code>*=</code> | multiply: <code>x *= 5</code> | <code>x = x * 5</code> |\n",
    "| <code>/=</code> | divide: <code>x /= 5</code> | <code>x = x / 5</code> |\n",
    "| <code>//=</code> | integer divide: <code>x //= 5</code> | <code>x = x // 5</code> |\n",
    "| <code>%=</code> | modulo: <code>x %= 5</code> | <code>x = x % 5</code> |\n",
    "| <code>**=</code> | exponentiate: <code>x **= 5</code> | <code>x = x ** 5</code> |\n",
    "\n",
    "#### Reminder!\n",
    "Once again, note that <code>=</code> is NOT the same as the equality relation in mathematics. The statement\n",
    "<pre>\n",
    "<em>x</em> = <em>x</em> + 1\n",
    "</pre>\n",
    "is NOT a mathematical equation, since there is no value of <em>x</em> that equals 1 plus itself. In coding languages, this is an assignment statement: the value of ```x``` is increased by ```1```, then reassigned to ```x```. We also say, \"```x``` is incremented by ```1```\"."
   ]
  },
  {
   "cell_type": "markdown",
   "id": "cecf7c6c",
   "metadata": {
    "deletable": false,
    "editable": false
   },
   "source": [
    "One use of augmented operators: you may have noticed that ```print()``` statements can get rather complicated: <br>\n",
    "<pre>\n",
    "print(\"Hello, \" <font color='red'>+</font> name <font color='red'>+</font> \"!\")\n",
    "\n",
    "print(\"the sum of the two numbers \" <font color='red'>+</font> str(a) <font color='red'>+</font> \" and \" <font color='red'>+</font> str(b) <font color='red'>+</font> \" is \" <font color='red'>+</font> str(a + b))\n",
    "</pre>\n",
    "One way to make this easier is to use a variable to hold the string to be printed, then build it up piece by piece: <br>\n",
    "<pre>\n",
    "s1 = \"Hello, \"\n",
    "s1 += name\n",
    "s1 += \"!\"\n",
    "print(s1)\n",
    "\n",
    "s2 = \"the sum of the two numbers \"\n",
    "s2 += str(a) + \" and \" + str(b)\n",
    "s2 += \" is \"\n",
    "s2 += str(a + b)\n",
    "print(s2)\n",
    "</pre>\n",
    "\n",
    "<div class=\"alert alert-block alert-info\">\n",
    "Now, try this yourself! Do the following: <br>\n",
    "1. Using <code>input()</code>, prompt the user to enter their name, and assign that string to a variable <br>\n",
    "2. Then, prompt the user to enter the name of their advisor, and assign it to a variable <br>\n",
    "3. Then, prompt the user to enter the (4-digit) year of their birth, and assign that to another variable <br>\n",
    "4. Calculate their approximate age by subtracting the year of their birth from the current year <br>\n",
    "5. Using the <code>+</code> or <code>+=</code> operators, build a string with the user's name, their advisor, and their age. <br>\n",
    "6. Print the string <br>\n",
    "Your dialog should look like this: <br>\n",
    "<pre>\n",
    "Enter your name: Eva\n",
    "Now enter your advisor's name: Jorge\n",
    "Now enter your year of birth: 2006\n",
    "My name is Eva, my advisor is Jorge, and my age is 16.\n",
    "</pre>\n",
    "</div>"
   ]
  },
  {
   "cell_type": "code",
   "execution_count": null,
   "id": "18f0be06",
   "metadata": {
    "deletable": false
   },
   "outputs": [],
   "source": []
  },
  {
   "cell_type": "markdown",
   "id": "3186e2b6",
   "metadata": {
    "deletable": false,
    "editable": false
   },
   "source": [
    "### 3. More About Loops"
   ]
  },
  {
   "cell_type": "markdown",
   "id": "92e8bdea",
   "metadata": {
    "deletable": false,
    "editable": false
   },
   "source": [
    "Before we move on from <code>while</code>-loops, there's one more important keyword besides <code>break</code> that we need to know about. The keyword <code>continue</code> is almost but not quite the opposite of <code>break</code> - it skips the rest of the code inside a loop for the current iteration only. However, the loop does not terminate, but continues with the next iteration. To see how this works, let's run the next code cell:"
   ]
  },
  {
   "cell_type": "code",
   "execution_count": 9,
   "id": "5b55a59a",
   "metadata": {
    "deletable": false
   },
   "outputs": [
    {
     "name": "stdout",
     "output_type": "stream",
     "text": [
      "i = 1\n",
      "i = 3\n",
      "i = 5\n",
      "i = 7\n",
      "i = 9\n"
     ]
    }
   ],
   "source": [
    "# code cell 5\n",
    "\n",
    "def main():\n",
    "    nIter = 10  # number of times to iterate the while loop\n",
    "    i = 0       # initialize loop counter to zero\n",
    "    \n",
    "    while i < nIter:\n",
    "        \n",
    "        i += 1  # note the use of the augmented operator += to increment i by 1\n",
    "        \n",
    "        if i % 2 == 0:  # if i is an even number, skip the rest of the loop\n",
    "            continue\n",
    "            \n",
    "        print(\"i =\", i)\n",
    "\n",
    "main()  # don't forget to invoke main()!"
   ]
  },
  {
   "cell_type": "markdown",
   "id": "194acab8",
   "metadata": {
    "deletable": false,
    "editable": false
   },
   "source": [
    "We can even use both <code>break</code> and <code>continue</code> in a <code>while</code>-loop:"
   ]
  },
  {
   "cell_type": "code",
   "execution_count": 8,
   "id": "1409e1b7",
   "metadata": {
    "deletable": false
   },
   "outputs": [
    {
     "name": "stdout",
     "output_type": "stream",
     "text": [
      "i = 1\n",
      "i = 3\n",
      "i = 5\n",
      "i = 7\n",
      "i = 9\n",
      "i = 11\n",
      "i = 13\n",
      "i = 15\n",
      "i = 17\n",
      "i = 19\n",
      "i = 21\n",
      "i = 23\n",
      "i = 25\n",
      "i = 27\n",
      "i = 29\n"
     ]
    }
   ],
   "source": [
    "# code cell 6\n",
    "\n",
    "def main():\n",
    "    i = 0       # initialize loop counter to zero\n",
    "    \n",
    "    while True: # note that we're choosing not to use the loop counter to determine how many times we iterate\n",
    "        \n",
    "        i += 1\n",
    "        \n",
    "        if i % 2 == 0:  # if i is an even number, skip the rest of the loop\n",
    "            continue\n",
    "            \n",
    "        if i > 30:      # if i > 30, then exit loop - we don't want to run this forever!\n",
    "            break\n",
    "            \n",
    "        print(\"i =\" , i)\n",
    "\n",
    "main()  # don't forget to invoke main()!"
   ]
  },
  {
   "cell_type": "markdown",
   "id": "102e606d",
   "metadata": {
    "deletable": false,
    "editable": false
   },
   "source": [
    "#### The <code>for</code> block\n",
    "\n",
    "In other coding languages like C++ and Java, <code>for</code>-loops are usually introduced first. In those languages, the syntax of the <code>for</code>-loop looks like this:\n",
    "<pre>\n",
    "for (int i = 0; i < N; i += 1)\n",
    "{\n",
    "    do something;\n",
    "    do something;\n",
    "}\n",
    "</pre>\n",
    "This is a more compact way of handling the loop counter variable <code>i</code> - it is defined, initialized, incremented, and compared with the number of times we want to iterate the loop, all in an expression following the keyword <code>for</code>. However, in Python, this construct does not exist as such. Instead, the loop counter is *generated* by a so-called <code>range</code> object. This saves us the trouble of initializing and incrementing a loop counter variable inside the <code>for</code>-block.\n",
    "\n",
    "In Python, <code>range</code> generates a sequence of integers, and can take a number of forms:\n",
    "\n",
    "* <code>range(stop)</code>: generates integers ```0```, ```1```, ... , ```stop-1``` (be careful here - <b>this is not ```stop```</b>!)\n",
    "* <code>range(start, stop)</code>: generates integers ```start```, ```start+1```, ... , ```stop-1``` (careful - <b>this is not ```stop```</b>!)\n",
    "* <code>range(start, stop, step)</code>: generates integers ```start```, ```start+step```, ... , ```start+n*step``` (```n``` is an integer such that ```start + n*step < stop```)\n",
    "\n",
    "In all of these, ```start```, ```stop```, and ```step``` must all be integers. If ```start >= stop``` and ```step > 0```, no integers will be generated by ```range()```. Also, ```step``` must be nonzero, or an error will result.\n",
    "\n",
    "This is used in a <code>for</code>-loop, which looks similar to <code>if</code>- and <code>while</code>-blocks, and takes the general form:\n",
    "<pre>\n",
    "for i in range(start, stop, step):\n",
    "    do something\n",
    "    do something\n",
    "</pre>\n",
    "\n",
    "To see how this works, let's run the following code cell:"
   ]
  },
  {
   "cell_type": "code",
   "execution_count": 8,
   "id": "a1990918",
   "metadata": {
    "deletable": false
   },
   "outputs": [
    {
     "name": "stdout",
     "output_type": "stream",
     "text": [
      "for-loop using i in range(10): \n",
      "i = 0\n",
      "i = 1\n",
      "i = 2\n",
      "i = 3\n",
      "i = 4\n",
      "i = 5\n",
      "i = 6\n",
      "i = 7\n",
      "i = 8\n",
      "i = 9\n",
      "\n",
      "for-loop using i in range(2, 8): \n",
      "i = 2\n",
      "i = 3\n",
      "i = 4\n",
      "i = 5\n",
      "i = 6\n",
      "i = 7\n",
      "\n",
      "for-loop using i in range(1, 10, 3): \n",
      "i = 1\n",
      "i = 4\n",
      "i = 7\n",
      "\n",
      "for-loop using i in range(10, 10): \n",
      "\n",
      "for-loop using i in range(10, 1, -2): \n",
      "i = 10\n",
      "i = 8\n",
      "i = 6\n",
      "i = 4\n",
      "i = 2\n",
      "\n"
     ]
    }
   ],
   "source": [
    "# code cell 7\n",
    "\n",
    "def main():\n",
    "    numIter = 10  # number of times to iterate loop\n",
    "    \n",
    "    print(\"for-loop using i in range(\" + str(numIter) + \"): \")\n",
    "    for i in range(numIter):           # range(stop)\n",
    "        \n",
    "        print(\"i = \" + str(i))\n",
    "    print()\n",
    "    \n",
    "    print(\"for-loop using i in range(\" + str(2) + \", \" + str(numIter-2) + \"): \")\n",
    "    for i in range(2, numIter-2):      # range(start, stop)\n",
    "        \n",
    "        print(\"i = \" + str(i))\n",
    "    print()\n",
    "\n",
    "    print(\"for-loop using i in range(\" + str(1) + \", \" + str(numIter) + \", 3): \")\n",
    "    for i in range(1, numIter, 3):     # range(start, stop, step)\n",
    "        \n",
    "        print(\"i = \" + str(i))\n",
    "    print()\n",
    "    \n",
    "    print(\"for-loop using i in range(\" + str(numIter) + \", \" + str(numIter) + \"): \")\n",
    "    for i in range(numIter, numIter):  # if start >= stop, range() generates no numbers\n",
    "        \n",
    "        print(\"i = \" + str(i))\n",
    "    print()\n",
    "\n",
    "    print(\"for-loop using i in range(\" + str(numIter) + \", \" + str(1) + \", -2\" + \"): \")\n",
    "    for i in range(numIter, 1, -2):  # if start >= stop, range() only generates numbers if step < 0\n",
    "        \n",
    "        print(\"i = \" + str(i))\n",
    "    print()\n",
    "\n",
    "main()  # don't forget to invoke main()!"
   ]
  },
  {
   "cell_type": "markdown",
   "id": "e642408b",
   "metadata": {
    "deletable": false,
    "editable": false
   },
   "source": [
    "Note that we can also use <code>break</code> and <code>continue</code> in <code>for</code>-blocks:"
   ]
  },
  {
   "cell_type": "code",
   "execution_count": 12,
   "id": "54b18b68",
   "metadata": {
    "deletable": false
   },
   "outputs": [
    {
     "name": "stdout",
     "output_type": "stream",
     "text": [
      "i = 1\n",
      "i = 3\n",
      "i = 5\n",
      "i = 7\n",
      "i = 9\n",
      "i = 11\n",
      "i = 13\n",
      "i = 15\n",
      "i = 17\n",
      "i = 19\n",
      "i = 21\n",
      "i = 23\n",
      "i = 25\n",
      "i = 27\n",
      "i = 29\n"
     ]
    }
   ],
   "source": [
    "# code cell 8\n",
    "\n",
    "def main():\n",
    "    for i in range(1000):\n",
    "        if i % 2 == 0:  # if i is an even number, skip the rest of the loop\n",
    "            continue\n",
    "            \n",
    "        if i > 30:      # if i > 30, then exit loop - we don't want to run this 1000 times!\n",
    "            break\n",
    "            \n",
    "        print(\"i =\", i)\n",
    "\n",
    "main()  # don't forget to invoke main()!"
   ]
  },
  {
   "cell_type": "markdown",
   "id": "50f1afa4",
   "metadata": {
    "deletable": false,
    "editable": false
   },
   "source": [
    "<div class=\"alert alert-block alert-info\">\n",
    "Your turn to try a loop! Write a program that asks the user to enter how many times to roll a single six-sided die, then calculate the average of all those rolls. In the code cell below, do the following: <br>\n",
    "1. Import the <code>random</code> module <br>\n",
    "2. Using <code>input()</code>, prompt the user to enter the number of times to roll a 6-sided die, and assign what the user enters to a variable <br>\n",
    "3. Create a variable to hold the sum of the die rolls, and set it equal to zero <br>\n",
    "4. Use <code>range()</code> in a <code>for</code>-loop to: <br>\n",
    "&nbsp; &nbsp; &nbsp;  a. Call <code>randint()</code> to generate a random integer between 1 and 6 <br>\n",
    "&nbsp; &nbsp; &nbsp;  b. Increment the variable you created to hold the sum of the die rolls by the random integer you generated <br>\n",
    "5. Calculate the average of the die rolls <br>\n",
    "6. Print the average. <br>\n",
    "Your dialog should look like this:\n",
    "<pre>\n",
    "Enter the number of times to roll a 6-sided die: 100\n",
    "The average of all 100 die rolls is 3.73\n",
    "</pre>\n",
    "</div>"
   ]
  },
  {
   "cell_type": "code",
   "execution_count": null,
   "id": "05bd09aa",
   "metadata": {
    "deletable": false
   },
   "outputs": [],
   "source": [
    "def main():\n",
    "    # delete 'pass', and replace it with your own code\n",
    "    pass\n",
    "\n",
    "# be sure to invoke main()!\n",
    "main()"
   ]
  },
  {
   "cell_type": "markdown",
   "id": "bbf50bdd",
   "metadata": {
    "deletable": false,
    "editable": false
   },
   "source": [
    "Let's put together a lot of what we have learned so far. You now know enough Python to write a little dice game. I have written part of the code for you, but we will add to it in order to make it more interesting. Run the following code cell a few times, and make sure you understand how it works:"
   ]
  },
  {
   "cell_type": "code",
   "execution_count": 87,
   "id": "10923f49",
   "metadata": {
    "deletable": false
   },
   "outputs": [
    {
     "name": "stdout",
     "output_type": "stream",
     "text": [
      "Enter s for score, r to roll, or q to quit: r\n",
      "You rolled 3 1 4\n",
      "Your current score is 8\n",
      "\n",
      "Enter s for score, r to roll, or q to quit: r\n",
      "You rolled 1 6 3\n",
      "Your current score is 18\n",
      "\n",
      "Enter s for score, r to roll, or q to quit: s\n",
      "Your current score is 18\n",
      "\n",
      "Enter s for score, r to roll, or q to quit: r\n",
      "You rolled 6 5 5\n",
      "Your current score is 34\n",
      "\n",
      "Enter s for score, r to roll, or q to quit: q\n",
      "Goodbye!\n"
     ]
    }
   ],
   "source": [
    "# code cell 9\n",
    "\n",
    "import random\n",
    "\n",
    "def main():   \n",
    "    numDice = 3\n",
    "    curScore = 0\n",
    "    while True:\n",
    "        s = input(\"Enter s for score, r to roll, or q to quit: \")\n",
    "        if s == \"r\":\n",
    "            outStr = \"You rolled\"\n",
    "            for i in range(numDice):\n",
    "                k = random.randint(1, 6)\n",
    "                outStr += \" \" + str(k)\n",
    "                curScore += k\n",
    "            print(outStr)\n",
    "            print(\"Your current score is \" + str(curScore) + \"\\n\")\n",
    "        elif s == \"s\":\n",
    "            print(\"Your current score is \" + str(curScore) + \"\\n\")\n",
    "        else:\n",
    "            print(\"You entered q ... goodbye!\")\n",
    "            return\n",
    "        \n",
    "main()"
   ]
  },
  {
   "cell_type": "markdown",
   "id": "71d6b640",
   "metadata": {
    "deletable": false,
    "editable": false
   },
   "source": [
    "Note that the code above <b>nests</b> one loop inside another - can you spot the outer and inner loops?\n",
    "\n",
    "\n",
    "<div class=\"alert alert-block alert-info\">\n",
    "As a game, that was boring - your score is simply the sum of all the values of rolling three 6-sided dice at a time. Let's make this fun by modding the code above. First, copy and paste the code above into the cell below. <br>\n",
    "\n",
    "Let's change the rules a bit: <br>\n",
    "1. Each time you roll the 3 dice, if any of them happens to be a 1, then your score goes to zero. <br>\n",
    "2. Keep track of your highest score so far. <br>\n",
    "\n",
    "Before working on this, consider these questions: <br>\n",
    "1. How would you determine whether you rolled a 1 during a turn?\n",
    "2. In a turn, does it matter if the 1 occurs for the first die, the second die, or the third die?\n",
    "3. What should happen if you roll a 1 during a turn?\n",
    "4. If you set up another variable and assign your score to it after each turn, how would you update it to keep your highest score?\n",
    "</div>"
   ]
  },
  {
   "cell_type": "code",
   "execution_count": null,
   "id": "03e1704a",
   "metadata": {
    "deletable": false
   },
   "outputs": [],
   "source": []
  },
  {
   "cell_type": "markdown",
   "id": "15551c28",
   "metadata": {
    "deletable": false,
    "editable": false
   },
   "source": [
    "### 5. Mathematical Functions in Python"
   ]
  },
  {
   "cell_type": "markdown",
   "id": "9eacbae0",
   "metadata": {
    "deletable": false,
    "editable": false
   },
   "source": [
    "In a previous notebook, we learned about some built-in functions like <code>int()</code>, <code>float()</code>\\, <code>abs()</code>, <code>min()</code>, <code>max()</code>, and <code>round()</code>. Here are a few more built-in mathematical functions which may soon be useful to you.\n",
    "\n",
    "| Function |  Description  |  Example  |\n",
    "| --: | :-- | :-- |\n",
    "| <code>abs(x)</code> | returns the absolute value of a number ```x``` | <code>abs(-5.9275) = -5.9275</code> |\n",
    "| <code>int(x)</code> | truncates the floating-point value ```x``` to an integer  | <code>int(-5.9275) = -5</code> |\n",
    "| <code>round(x, n)</code> | rounds the floating-point value ```x``` to ```n``` decimal places  | <code>round(-5.9275, 2) = -5.93</code> |\n",
    "| <code>bin(x)</code> | returns the string representation of the value ```x``` in base two (binary)| <code>bin(77) = 0b1001101</code> |\n",
    "| <code>hex(x)</code> | returns the string representation of the value ```x``` in base sixteen (hexadecimal) | <code>hex(77) = 0x4d</code> |\n",
    "| <code>oct(x)</code> | returns the string representation of the value ```x``` in base eight (octal) | <code>oct(77) = 0o115</code> |\n",
    "\n",
    "\n"
   ]
  },
  {
   "cell_type": "code",
   "execution_count": 95,
   "id": "7e344745",
   "metadata": {
    "deletable": false
   },
   "outputs": [
    {
     "name": "stdout",
     "output_type": "stream",
     "text": [
      "-5.9275 is of data type <class 'float'>\n",
      "abs(-5.9275) = 5.9275\n",
      "int(-5.9275) = -5\n",
      "round(-5.9275, 2) = -5.93\n",
      "\n",
      "77 is of data type <class 'int'>\n",
      "bin(77) = 0b1001101\n",
      "hex(77) = 0x4d\n",
      "oct(77) = 0o115\n",
      "\n"
     ]
    }
   ],
   "source": [
    "# code cell 10\n",
    "\n",
    "x = -5.9275\n",
    "print(x, end=\" \")\n",
    "print(\"is of data type \" + str(type(x)))\n",
    "print(\"abs(\" + str(x) + \") = \" + str(abs(x)))\n",
    "print(\"int(\" + str(x) + \") = \" + str(int(x)))\n",
    "print(\"round(\" + str(x) + \", 2) = \" + str(round(x, 2)))\n",
    "print()\n",
    "\n",
    "a = 77\n",
    "print(a, end=\" \")\n",
    "print(\"is of data type \" + str(type(a)))\n",
    "print(\"bin(\" + str(a) + \") = \" + bin(a))\n",
    "print(\"hex(\" + str(a) + \") = \" + hex(a))\n",
    "print(\"oct(\" + str(a) + \") = \" + oct(a))\n",
    "print()\n",
    "\n",
    "# ******************************************* #"
   ]
  },
  {
   "cell_type": "markdown",
   "id": "bb345e69",
   "metadata": {
    "deletable": false,
    "editable": false
   },
   "source": [
    "The <code>math</code> module has functions that you would see on a scientific calculator, such as <code>sqrt()</code>, <code>exp()</code>, <code>log()</code>, <code>sin()</code>, and so on. Here are some of the most-used mathematical functions, which can only be used after invoking <code>import math</code> to make them available to us:\n",
    "\n",
    "| Function |  Description  |  Example  |\n",
    "| --: | :-- | :-- |\n",
    "| <code>math.sqrt(x)</code> | returns the square root of ```x``` | <code>math.sqrt(16.0) = 4.0</code> |\n",
    "| <code>math.ceil(x)</code> | returns the ceiling of ```x``` (the smallest integer >= ```x```) | <code>math.ceil(-5.9275) = -5</code> |\n",
    "| <code>math.floor(x)</code> | returns the floor of ```x``` (the largest integer <= ```x```) | <code>math.floor(-5.9275) = -6</code> |\n",
    "| <code>math.pi</code> | returns the mathematical constant ```π``` | <code>math.pi = 3.1415926...</code> |\n",
    "| <code>math.e</code> | returns the mathematical constant ```e``` | <code>math.e = 2.718281...</code> |\n",
    "| <code>math.degrees(x)</code> | converts ```x``` from radians to degrees | <code>math.degrees(math.pi/4) = 45.0 </code> |\n",
    "| <code>math.radians(x)</code> | converts ```x``` from degrees to radians | <code>math.degrees(180.0) = 3.1415926...</code> |\n",
    "| <code>math.atan(x)</code> | returns the arctangent of ```x``` in radians | <code>math.atan(1.0) = 0.785398... </code> |\n",
    "| <code>math.tan(x)</code> | returns the tangent of ```x``` radians  | <code>math.tan(math.pi/4) = 1.0</code> |\n",
    "| <code>math.sin(x)</code> | returns the sine of ```x``` radians  | <code>math.sin(math.pi/6) = 0.5</code> |\n",
    "| <code>math.cos(x)</code> | returns the cosine of ```x``` radians  | <code>math.cos(math.pi/3) = 0.5</code> |\n",
    "| <code>math.pow(x, n)</code> | returns ```x``` raised to the power ```n```  | <code>math.pow(10, 3) = 1000.0</code> |\n",
    "| <code>math.log(x, b)</code> | returns the logarithm of ```x```, base ```b```  | <code>math.log(1000, 10) = 3.0</code> |\n",
    "| <code>math.exp(x)</code> | returns ```e``` raised to the power ```x```  | <code>math.exp(1.0) = 2.718281...</code> |"
   ]
  },
  {
   "cell_type": "code",
   "execution_count": 148,
   "id": "f201873a",
   "metadata": {
    "deletable": false
   },
   "outputs": [
    {
     "name": "stdout",
     "output_type": "stream",
     "text": [
      "x = 16.0\n",
      "sqrt(16.0) = 4.0\n",
      "\n",
      "y = -5.9275\n",
      "ceil(-5.9275) = -5\n",
      "floor(-5.9275) = -6\n",
      "\n",
      "pi = 3.141592653589793\n",
      "e = 2.718281828459045\n",
      "\n",
      "angle theta = 45.0 degrees\n",
      "angle theta = 0.7853981633974483 radians\n",
      "does theta = pi / 4 ? True\n",
      "tan(pi / 4) = 0.9999999999999999\n",
      "\n",
      "angle alpha = 30.0 degrees\n",
      "angle alpha = 0.5235987755982988 radians\n",
      "does alpha = pi / 6 ? True\n",
      "sin(pi / 6) = 0.49999999999999994\n",
      "\n",
      "angle beta = 60.0 degrees\n",
      "angle beta = 1.0471975511965976 radians\n",
      "does beta = pi / 3 ? True\n",
      "cos(pi / 3) = 0.5000000000000001\n",
      "\n",
      "x = 1000.0\n",
      "log(1000.0, 10) = 2.9999999999999996\n",
      "pow(10, 3) = 1000.0\n",
      "\n",
      "y = 1.0\n",
      "exp(1.0) = 2.718281828459045\n",
      "does exp(1.0) = e? True\n",
      "log(2.718281828459045, math.e) = 1.0\n"
     ]
    }
   ],
   "source": [
    "# code cell 11\n",
    "\n",
    "import math\n",
    "\n",
    "x = 16.0\n",
    "print(\"x = \" + str(x))\n",
    "print(\"sqrt(\" + str(x) + \") = \" + str(math.sqrt(x)))\n",
    "print()\n",
    "\n",
    "y = -5.9275\n",
    "print(\"y = \" + str(y))\n",
    "print(\"ceil(\" + str(y) + \") = \" + str(math.ceil(y)))\n",
    "print(\"floor(\" + str(y) + \") = \" + str(math.floor(y)))\n",
    "print()\n",
    "\n",
    "print(\"pi = \" + str(math.pi))\n",
    "print(\"e = \" + str(math.e))\n",
    "print()\n",
    "\n",
    "# ******************************************* #\n",
    "\n",
    "# these are trigonometric functions\n",
    "theta_deg = 45.0  # in degrees\n",
    "print(\"angle theta = \" + str(theta_deg) + \" degrees\")\n",
    "theta = math.radians(theta_deg)\n",
    "print(\"angle theta = \" + str(theta) + \" radians\")\n",
    "print(\"does theta = pi / 4 ? \" + str(theta == math.pi / 4))\n",
    "print(\"tan(pi / 4) = \" + str(math.tan(theta)))\n",
    "print()\n",
    "\n",
    "alpha_deg = 30.0 # in degrees\n",
    "print(\"angle alpha = \" + str(alpha_deg) + \" degrees\")\n",
    "alpha = math.radians(alpha_deg)\n",
    "print(\"angle alpha = \" + str(alpha) + \" radians\")\n",
    "print(\"does alpha = pi / 6 ? \" + str(alpha == math.pi / 6))\n",
    "print(\"sin(pi / 6) = \" + str(math.sin(alpha)))\n",
    "print()\n",
    "\n",
    "beta_deg = 60.0 # in degrees\n",
    "print(\"angle beta = \" + str(beta_deg) + \" degrees\")\n",
    "beta = math.radians(beta_deg)\n",
    "print(\"angle beta = \" + str(beta) + \" radians\")\n",
    "print(\"does beta = pi / 3 ? \" + str(beta == math.pi / 3))\n",
    "print(\"cos(pi / 3) = \" + str(math.cos(beta)))\n",
    "print()\n",
    "\n",
    "# ******************************************* #\n",
    "\n",
    "# these are lagarithmic and exponential functions\n",
    "x = 1000.0\n",
    "print(\"x = \" + str(x))\n",
    "print(\"log(\" + str(x) + \", 10) = \" + str(math.log(x, 10)))\n",
    "print(\"pow(10, 3) = \" + str(math.pow(10, 3)))\n",
    "print()\n",
    "\n",
    "y = 1.0\n",
    "print(\"y = \" + str(y))\n",
    "print(\"exp(\" + str(y) + \") = \" + str(math.exp(y)))\n",
    "print(\"does exp(1.0) = e? \" + str(math.exp(y) == math.e))\n",
    "print(\"log(\" + str(math.exp(1.0)) + \", math.e) = \" + str(math.log(math.exp(y), math.e)))\n"
   ]
  },
  {
   "cell_type": "markdown",
   "id": "ac699560",
   "metadata": {
    "deletable": false,
    "editable": false
   },
   "source": [
    "Suppose that we have a string whose length is *C*. If we make a circle with that string, *C* is its circumference; let *A<sub>circ* be its area. Using the formulas <br>\n",
    "    \n",
    "$$C = 2\\pi r \\ \\ \\ \\text{and} \\ \\ \\ A_{circ} = \\pi r^{2} \\ \\text{,}$$ we can express *A<sub>circ* as a function of *C*: $$A_{circ} = \\pi r^{2} = \\pi (\\frac{C}{2 \\pi})^{2} = \\frac{C^{2}}{4 \\pi} \\text{.}$$\n",
    "    \n",
    "Now, let's make a rectangle from that same piece of string. If the side lengths of the rectangle are *x* and *y*, then its perimeter <br>\n",
    "\n",
    "$$C = 2(x + y) \\ \\ \\ \\text{so}\\ \\ \\ y = \\frac{C}{2} - x \\ \\ \\ \\text{and its area is} \\ \\ \\ A_{rect} = xy = x(\\frac{C}{2} - x) \\text{.}$$ <br>\n",
    "It can be shown that, amongst two-dimensional shapes which have a fixed perimeter, the circle has the largest area, so it would be impossible to make a rectangle or square out of our string that has the same area as the circle. However, we could make a rectangle that has half the area of the circle:<br>\n",
    "    \n",
    "$$A_{rect} = \\frac{1}{2}A_{circ}$$  \n",
    "Expressing this relationship in terms of *x*, we get $$x(\\frac{C}{2} - x)\\ = \\ \\frac{1}{2}\\frac{C^{2}}{4 \\pi}\\ \\text{.}$$  \n",
    "Rearranging this as an equation in *x*, we get $$x^{2} - \\frac{C}{2}x + \\frac{C^{2}}{8 \\pi} \\ = \\ 0$$   \n",
    "We could find the exact solution using the quadratic formula: $$x = \\frac{C}{4}\\left(1 \\pm \\sqrt{1 - \\frac{2}{\\pi}}\\right)$$ <br>\n",
    "   "
   ]
  },
  {
   "cell_type": "markdown",
   "id": "9567fb94",
   "metadata": {
    "deletable": false,
    "editable": false
   },
   "source": [
    "However, it's much more fun to use a Python program and iteration to find the answer by a technique called <a href=\"https://en.wikipedia.org/wiki/Bisection_method\"><b>bisection</b></a>. Suppose we define a function\n",
    "    \n",
    "$$f(x) = x^{2} - \\frac{C}{2}x + \\frac{C^{2}}{8 \\pi}$$\n",
    "    \n",
    "and we want to estimate where this function has roots or zeros (that is, where f(*x*) = 0) in some interval *x<sub>1* ≤ *x* ≤ *x<sub>2*. If we know that \n",
    "    \n",
    "$$f(x_{1}) > 0 \\ \\ \\ \\text{and}\\ \\ \\ f(x_{2}) < 0$$\n",
    "    \n",
    "then we know that the root *x<sub>0* must lie somewhere between *x<sub>1* and *x<sub>2*. To make this problem more concrete, let's set *C* to 4 meters, so our function becomes \n",
    "    \n",
    "$$f(x) = x^{2} - 2x + \\frac{2}{\\pi}$$\n",
    "    \n",
    "Let's try to find a root between *x<sub>1* = 0.0 and *x<sub>2* = 0.5. First, f(*x<sub>1*) = f(0) = 0.64 and f(*x<sub>2*) = f(0.5) = -0.11. Thus, f(*x<sub>1*) is positive and f(*x<sub>2*) is negative, so the root must lie somewhere between *x<sub>1* = 0.0 (where f is positive) and *x<sub>2* = 0.5 (where f is negative). \n",
    "    \n",
    "Now, let's bisect the interval and set *x<sub>3* = 0.25. Let's see what the sign of f(*x<sub>3*) is: f(*x<sub>3*) = f(0.25) = 0.20, so f(*x<sub>3*) is positive. Since f(*x<sub>2*) is negative, the root must now lie somewhere between *x<sub>3* = 0.25 (where f is positive) and *x<sub>2* = 0.5 (where f is negative). \n",
    "    \n",
    "If we reassign *x<sub>1* to equal *x<sub>3*, then we have the same situation as before: f(*x<sub>1*) is positive and f(*x<sub>2*) is negative. If we keep repeating (iterating) this procedure, we will zero in (as it were) on the exact value of the root!"
   ]
  },
  {
   "cell_type": "markdown",
   "id": "45cd44c8",
   "metadata": {
    "deletable": false,
    "editable": false
   },
   "source": [
    "<div class=\"alert alert-block alert-info\">\n",
    "In the cell below, we have defined our own function <code>f(x)</code>, the quadratic function that we just introduced. Don't worry about the <code>def</code> construct - this is how we set up a user-defined function in Python. Do the following in order to solve this problem using bisection: <br>\n",
    "    \n",
    "1. Initialize <code>x1</code> to <code>0.0</code> and <code>x1</code> to <code>0.5</code> <br>\n",
    "2. Initialize <code>f3</code> to <code>1.0</code> <br>\n",
    "3. Set <code>f1</code> to <code>f(x1)</code> and <code>f2</code> to <code>f(x2)</code> <br>\n",
    "4. Print <code>f1</code> and verify that it is greater than zero <br>\n",
    "5. Print <code>f2</code> and verify that it is less than zero <br>\n",
    "6. Set <code>x3</code> to <code>(x1 + x2)/2</code> (bisect the interval) <br>\n",
    "7. Set <code>f3</code> to <code>f(x3)</code> and print its value <br>\n",
    "8. In an <code>if</code>-block, determine whether <code>f3 > 0</code>; if it is, then set <code>x1 = x3</code>; otherwise, set <code>x2 = x3</code> <br>\n",
    "9. Print the values of <code>x1</code>, <code>x2</code>, <code>x3</code>, and <code>f3</code> <br>\n",
    "10. Take the code you wrote from no. 3 onward, indent all of it, and put it in a <code>while</code>-loop; make the condition for continuing the loop <code>abs(f3) > 1.0E-04</code> <br>\n",
    "11. Run the program a few times, making the loop condition smaller and smaller; see what happens to the output.\n",
    "</div>\n",
    "\n",
    "Your output should resemble this:\n",
    "<pre>\n",
    "f( 0.0 ) =  0.6366197723675814\n",
    "f( 0.5 ) =  -0.11338022763241862\n",
    "x1 = 0.25 , x2 = 0.5 , x3 = 0.25 , f3 = 0.19911977236758138 \n",
    "\n",
    "f( 0.25 ) =  0.19911977236758138\n",
    "f( 0.5 ) =  -0.11338022763241862\n",
    "x1 = 0.375 , x2 = 0.5 , x3 = 0.375 , f3 = 0.027244772367581382 \n",
    "\n",
    "f( 0.375 ) =  0.027244772367581382\n",
    "f( 0.5 ) =  -0.11338022763241862\n",
    "x1 = 0.375 , x2 = 0.4375 , x3 = 0.4375 , f3 = -0.04697397763241862\n",
    "\n",
    ". . .\n",
    "</pre>"
   ]
  },
  {
   "cell_type": "code",
   "execution_count": 2,
   "id": "aa95c531",
   "metadata": {
    "deletable": false
   },
   "outputs": [
    {
     "name": "stdout",
     "output_type": "stream",
     "text": [
      "f(0.5) = -0.11338022763241862 \n",
      "\n"
     ]
    }
   ],
   "source": [
    "import math\n",
    "\n",
    "def f(x):\n",
    "    return x*x - 2.0*x + 2.0/math.pi\n",
    "\n",
    "# this is just to verify that f(x) works\n",
    "print('f(0.5) =', f(0.5), '\\n')\n",
    "\n",
    "def main():\n",
    "    pass\n",
    "\n",
    "\n",
    "main()"
   ]
  },
  {
   "cell_type": "markdown",
   "id": "597c6830",
   "metadata": {
    "deletable": false,
    "editable": false
   },
   "source": [
    "The formula for compound interest is $$A = P\\ (1 + \\frac{r}{n})^{nt}$$ where\n",
    "<pre>\n",
    "A = final amount\n",
    "P = initial principal\n",
    "r = annual interest rate (expressed as a decimal)\n",
    "n = number of times interest is applied per year (n = 12 if interest is compounded monthly)\n",
    "t = number of years elapsed\n",
    "</pre>\n",
    "\n",
    "<div class=\"alert alert-block alert-info\">\n",
    "If you go to a bank to open a savings account with \\$1,000 in it, you can calculate the amount that you would have after a certain amount of time if you earned an annual interest rate of 5% , compounded monthly. Let's write a compound interest calculator application: <br>\n",
    "\n",
    "1. Using <code>input()</code>, prompt the user to <code>\"Enter the starting balance (principal): \"</code>, and assign what the user entered to a variable <br>\n",
    "2. Next, prompt the user to <code>\"Enter the annual interest rate as a decimal: \"</code>, and assign what the user entered to another variable <br>\n",
    "3. Then, prompt the user to <code>\"Enter the number of years elapsed (term): \"</code>, and assign what the user entered to a third variable <br>\n",
    "4. If the user has mistakenly entered the interest rate as a percentage (a value greater than 1), convert it to a decimal by dividing by 100; otherwise, leave the interest rate alone <br>\n",
    "5. Use <code>math.pow()</code> to raise <code>(1.0 + r / 12.0)</code> to the power <code>12.0 * t</code> <br>\n",
    "6. Multiply what you calculated previously by the principal to get the final amount <br>\n",
    "7. Print out the amount, rounded to two decimal places using <code>round()</code> <br>\n",
    "8. Test your calculator by entering a principal of \\\\$1,000, an annual interest rate of 5\\% (compounded monthly), and a term of 10 years - you should get \\\\$1,647.01\n",
    "</div>"
   ]
  },
  {
   "cell_type": "code",
   "execution_count": 3,
   "id": "a209fcec",
   "metadata": {
    "deletable": false
   },
   "outputs": [],
   "source": [
    "def main():\n",
    "    pass\n",
    "\n",
    "\n",
    "main()"
   ]
  },
  {
   "cell_type": "markdown",
   "id": "1c5400b7",
   "metadata": {
    "deletable": false,
    "editable": false
   },
   "source": [
    "### 6. Yet More Fun With <code>turtle</code>"
   ]
  },
  {
   "cell_type": "markdown",
   "id": "6b77e0fa",
   "metadata": {
    "deletable": false,
    "editable": false
   },
   "source": [
    "Now that you know more code constructs involving variables, operators, and expressions, it's time to put them to work! In the previous notebook, you wrote a program to make the turtle trace out a square whose side lengths were 100 pixels (2 paces):"
   ]
  },
  {
   "cell_type": "code",
   "execution_count": 12,
   "id": "88826802",
   "metadata": {
    "deletable": false,
    "editable": false
   },
   "outputs": [
    {
     "data": {
      "application/vnd.jupyter.widget-view+json": {
       "model_id": "dc929201358f408c9d01378619167763",
       "version_major": 2,
       "version_minor": 0
      },
      "text/plain": [
       "Turtle()"
      ]
     },
     "metadata": {},
     "output_type": "display_data"
    }
   ],
   "source": [
    "# code cell 12\n",
    "\n",
    "from mobilechelonian import Turtle\n",
    "\n",
    "t = Turtle()\n",
    "t.speed(9)\n",
    "\n",
    "t.penup()\n",
    "t.home()\n",
    "\n",
    "t.pencolor('black')\n",
    "t.pendown()\n",
    "t.forward(100)\n",
    "t.right(90)\n",
    "t.forward(100)\n",
    "t.right(90)\n",
    "t.forward(100)\n",
    "t.right(90)\n",
    "t.forward(100)\n",
    "t.right(90)\n",
    "\n",
    "t.penup()"
   ]
  },
  {
   "cell_type": "markdown",
   "id": "d49aaef7",
   "metadata": {
    "deletable": false,
    "editable": false
   },
   "source": [
    "But now, suppose we want to make the turtle trace a figure of a side length that is not 100 pixels, and some number of sides that is not 4. We don't want to have to change the value <code>100</code> each time it appears in the code above with the new value. The way to do this is to use a variable to which we assign the side length. Likewise, we can also do the same with the angle that the turtle turns at each corner. Once again, we use a variable to which we assign the angle so that we don't have to change the value <code>90</code> each time it appears in the code above."
   ]
  },
  {
   "cell_type": "code",
   "execution_count": 14,
   "id": "7270c897",
   "metadata": {
    "deletable": false,
    "editable": false
   },
   "outputs": [
    {
     "data": {
      "application/vnd.jupyter.widget-view+json": {
       "model_id": "ff41f75d18a840fca22841329e71353c",
       "version_major": 2,
       "version_minor": 0
      },
      "text/plain": [
       "Turtle()"
      ]
     },
     "metadata": {},
     "output_type": "display_data"
    }
   ],
   "source": [
    "# code cell 13\n",
    "\n",
    "from mobilechelonian import Turtle\n",
    "\n",
    "t = Turtle()\n",
    "t.speed(9)\n",
    "\n",
    "sidelen = 100\n",
    "angle = 90\n",
    "t.penup()\n",
    "t.home()\n",
    "\n",
    "t.pencolor('red')\n",
    "t.pendown()\n",
    "t.forward(sidelen)\n",
    "t.right(angle)\n",
    "t.forward(sidelen)\n",
    "t.right(angle)\n",
    "t.forward(sidelen)\n",
    "t.right(angle)\n",
    "t.forward(sidelen)\n",
    "t.right(angle)\n",
    "\n",
    "t.penup()"
   ]
  },
  {
   "cell_type": "markdown",
   "id": "98f4329b",
   "metadata": {
    "deletable": false,
    "editable": false
   },
   "source": [
    "<div class=\"alert alert-block alert-info\">\n",
    "Now, you try! <br>\n",
    "1. Take the code that you wrote in the previous notebook for a pattern or figure that you had your turtle draw, and paste it in the cell below. <br>\n",
    "2. Have the user enter the number of sides using the prompt <code>\"Enter the number of sides: \"</code>, and assign it to a variable <code>N</code>. <br>\n",
    "3. Have the user enter the length of each side using the prompt <code>\"Enter the length of each side: \"</code>, and assign it to a variable <code>sidelen</code>. <br>\n",
    "4. Then, create a variable for the exterior angles of the figure <code>angle</code> (the angle through which the turtle must turn at each corner or vertex), and assign it the value <code>int(360 / N)</code>. (This is the pattern you should have noticed from your earlier work with <code>turtle</code>.) <br>\n",
    "5. Now, instead of writing <code>t.forward()</code>-<code>t.right()</code> sequences four, six, eight, or some other definite number of times, use a <code>for</code>-loop and the <code>range()</code> object, or else use a <code>while</code>-loop and a loop counter to make as many <code>t.forward()</code>-<code>t.right()</code> sequences as you need in order to draw a figure with <code>N</code> sides. <br>\n",
    "\n",
    "Run this code and enter values of 4, 6, and 8 for <code>N</code>, and enter a value for <code>sidelen</code> that does not cause the figure to go outside of the blue area. Once you have made sure that this works properly, then run it with a value of <code>N</code> that you haven't tried before. <br><br>\n",
    "\n",
    "\n",
    "<b>Extra challenge</b>:\n",
    "1. Set the pen to different colors for odd or even sides. (That is, when drawing the first, third, fifth, etc., sides, use one color, and use a different color when drawing the second, fourth, sixth, etc., sides). If you are using a loop counter or index <code>i</code>, <code>i % 2 = 0</code> when <code>i</code> is even, <code>i % 2 = 1</code> when <code>i</code> is odd <br>\n",
    "2. Put the entire program into a loop that executes <code>N</code> times, each time changing the bearing of the turtle by <code>t.right(angle)</code> before drawing the figure.\n",
    "</div>"
   ]
  },
  {
   "cell_type": "code",
   "execution_count": null,
   "id": "0a725da6",
   "metadata": {
    "deletable": false
   },
   "outputs": [],
   "source": []
  }
 ],
 "metadata": {
  "kernelspec": {
   "display_name": "Python 3 (ipykernel)",
   "language": "python",
   "name": "python3"
  },
  "language_info": {
   "codemirror_mode": {
    "name": "ipython",
    "version": 3
   },
   "file_extension": ".py",
   "mimetype": "text/x-python",
   "name": "python",
   "nbconvert_exporter": "python",
   "pygments_lexer": "ipython3",
   "version": "3.9.2"
  }
 },
 "nbformat": 4,
 "nbformat_minor": 5
}
