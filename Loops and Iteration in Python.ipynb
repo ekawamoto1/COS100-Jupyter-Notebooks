{
 "cells": [
  {
   "cell_type": "markdown",
   "id": "4a5e308f",
   "metadata": {
    "deletable": false,
    "editable": false
   },
   "source": [
    "## **Loops and Iteration in Python**"
   ]
  },
  {
   "cell_type": "markdown",
   "id": "880adaf4",
   "metadata": {
    "deletable": false
   },
   "source": [
    "### 1. Loops: Repeating a Process\n",
    "There are times when we need to repeat a task (a single line, or a block of code) multiple times. Just how many times may be specified in advance, it may be specified by the user, or it may depend on what's happening inside the task. We will use the same idea of comparison, which we introduced for conditionals (<code>if</code> statements), to tell us how many times to iterate (repeat) the code in a loop. <br>\n",
    "\n",
    "#### Important!\n",
    "Once again, note that <code>=</code> is NOT the same as the equality relation (\"is equal to\") in mathematics. This is because the quantities on the LHS and RHS of <code>=</code> are NOT interchangeable. Instead, by the syntax rules of Python (and many other coding languages), the only thing that can be on the left side of the <code>=</code> operator is a lone variable whose value is being assigned. This variable cannot be part of an expression - it is just the variable itself. On the RHS of the <code>=</code> operator, there can be an expression which evaluates to a value which is being assigned to the variable on the left side of <code>=</code>. <br>\n",
    "\n",
    "The statement\n",
    "<pre>\n",
    "<em>x</em> = <em>x</em> + 1\n",
    "</pre>\n",
    "is NOT a mathematical equation, since there is no value of <em>x</em> that equals 1 plus itself. In coding languages, this is an assignment statement: the value of ```x``` is increased by ```1```, then reassigned to ```x```. We also say, \"```x``` is incremented by ```1```\".\n",
    "\n",
    "By contrast, in Python, this is perfectly legal:\n",
    "<pre>\n",
    "i = 0\n",
    "i = i + 1\n",
    "</pre>\n",
    "\n",
    "In the first line, the variable <code>i</code> is being assigned the integer value of <code>0</code>. In the next line, on the right side of <code>=</code>, the value of <code>i</code> is being increased by <code>1</code> before being assigned back to <code>i</code>. In other words, the value of <code>i</code> is being <b>incremented</b> by 1.\n",
    "\n",
    "Run the next code cell to see this in action:"
   ]
  },
  {
   "cell_type": "code",
   "execution_count": 1,
   "id": "2af0031b",
   "metadata": {
    "deletable": false
   },
   "outputs": [
    {
     "name": "stdout",
     "output_type": "stream",
     "text": [
      "i = 0\n",
      "i = 1\n",
      "i = 1.5\n",
      "i = 6.0\n",
      "i = 3.5\n"
     ]
    }
   ],
   "source": [
    "# code cell 1\n",
    "\n",
    "i = 0\n",
    "print(\"i = \" + str(i))\n",
    "i = i + 1\n",
    "print(\"i = \" + str(i))\n",
    "i = i + 0.5\n",
    "print(\"i = \" + str(i))\n",
    "i = i * 4\n",
    "print(\"i = \" + str(i))\n",
    "i = i - 2.5\n",
    "print(\"i = \" + str(i))"
   ]
  },
  {
   "cell_type": "markdown",
   "id": "3f9ad850",
   "metadata": {
    "deletable": false
   },
   "source": [
    "#### The <code>while</code> block\n",
    "\n",
    "As before, remember that the operators ```<```, ```>```, ```≤```, ```≥```, ```==```, and ```!=``` are <b>relational</b> or <b>comparison operators</b>. Relational expressions evaluate the expressions on the operator's LH and RH sides, compare their values, and return the Boolean values ```True``` or ```False``` depending on the relationship between those values.\n",
    "\n",
    "Now, we will use these relational operator expressions in an <code>while</code> statement, which will execute the indented code block immediately following it <b>while</b> the expression evaluates to <code>True</code>, and will exit the loop (continuing execution after the <code>while</code> block) when the expression no longer evaluates to <code>True</code>. Note how this loop construct also has a special format - the keyword <code>while</code>, followed by the relational expression, followed by a colon (<code>:</code>). The code block that executes if the expression is <code>True</code> MUST BE indented: <br>\n",
    "<pre>\n",
    "while (LHS_expr rel_op RHS_expr) == True:\n",
    "    do something\n",
    "    do something\n",
    "</pre>\n",
    "\n",
    "The <code>do something</code> lines are executed ONLY IF <code>LHS_expr rel_op RHS_expr</code> evaluates to <code>True</code>; otherwise, those lines are not run, and the program resumes execution after the last indented line of the <code>while</code>-block. A shortcut for this is to leave out the <code>== True</code> altogether. If the Boolean expression in parentheses evaluates to <code>True</code>, it is superfluous to test whether <code>True == True</code>. Thus, the more common way of writing the <code>while</code> construct is:\n",
    "<pre>\n",
    "while LHS_expr rel_op RHS_expr:\n",
    "    do something\n",
    "    do something\n",
    "</pre>\n",
    "\n",
    "So far, this looks very similar to a conditional, an <code>if</code>-block. However, if the relational expression following the keyword <code>while</code> is always <code>True</code>, the <code>do something</code> lines will execute over and over again, stopping only if the user intervenes to exit the program. This so-called \"infinite loop\" is not very useful. Thus, we must introduce the notion of a <b>loop counter</b>, which is a numerical variable of integer type. We use this to count how many times we have run the <code>do something</code> lines, incrementing this counter by 1 each time. When the counter reaches the number of times we want to run the loop, the program exits the <code>while</code>-block, and resumes execution after the last indented line.\n",
    "\n",
    "To see how this works, in the code cell below, try changing the value of <code>numIter</code> to a different value, to zero, or to a negative number, and run the cell to see what happens."
   ]
  },
  {
   "cell_type": "code",
   "execution_count": 2,
   "id": "65fd9823",
   "metadata": {
    "deletable": false
   },
   "outputs": [
    {
     "name": "stdout",
     "output_type": "stream",
     "text": [
      "current value of i is 0\n",
      "current value of i is 1\n",
      "current value of i is 2\n",
      "current value of i is 3\n",
      "current value of i is 4\n",
      "all done for numIter = 5\n"
     ]
    }
   ],
   "source": [
    "# code cell 2\n",
    "\n",
    "numIter = 5  # number of times to iterate loop\n",
    "\n",
    "i = 0  # initialize loop counter \n",
    "while i < numIter:\n",
    "    print(\"current value of i is \" + str(i))\n",
    "    i = i + 1\n",
    "\n",
    "# execution continues here after while loop finishes\n",
    "print(\"all done for numIter = \" + str(numIter))"
   ]
  },
  {
   "cell_type": "markdown",
   "id": "bdb65e80",
   "metadata": {
    "deletable": false
   },
   "source": [
    "Of course, what we showed above is a rather trivial use of a loop; let's see a more useful example. From the previous notebook, we created a simple game where the computer selects a random integer between 1 and 10, asks the user to guess what that number is, then tells the user whether they won (by guessing the number), or whether their guess was too high or too low. This time, let's give the user three chances to guess the right number: "
   ]
  },
  {
   "cell_type": "code",
   "execution_count": 13,
   "id": "6758c1aa",
   "metadata": {
    "deletable": false,
    "editable": false
   },
   "outputs": [
    {
     "name": "stdout",
     "output_type": "stream",
     "text": [
      "Enter a number between 1 and 10: 5\n",
      "Oops - too high!\n",
      "Enter a number between 1 and 10: 1\n",
      "Oops - too low!\n",
      "Enter a number between 1 and 10: 3\n",
      "Oops - too high!\n",
      "My number was 2\n"
     ]
    }
   ],
   "source": [
    "# code cell 3\n",
    "\n",
    "import random\n",
    "\n",
    "n = random.randint(1, 10)  # \"computer\" selects a random integer between 1 and 10\n",
    "\n",
    "i = 0  # initialize loop counter\n",
    "\n",
    "while i < 3:    # give the user three chances to guess the number\n",
    "    \n",
    "    s = input(\"Enter a number between 1 and 10: \")  # prompt user to guess the number\n",
    "    m = int(s)  # convert the string to an integer\n",
    "    \n",
    "    if m == n:\n",
    "        print(\"You win!\")\n",
    "        break   # this exits the loop if we guess the number in fewer than three tries\n",
    "    elif m < n:\n",
    "        print(\"Oops - too low!\")\n",
    "    else:\n",
    "        print(\"Oops - too high!\")\n",
    "    i = i + 1   # increment loop counter by 1\n",
    "\n",
    "print(\"My number was \" + str(n))  # after exiting the while loop, execution resumes here"
   ]
  },
  {
   "cell_type": "markdown",
   "id": "aa77d071",
   "metadata": {
    "deletable": false,
    "editable": false
   },
   "source": [
    "In the example above, if we guess the computer's number before exhausting all three chances, there is no point in making more guesses. Thus, we use the keyword <code>break</code> to stop iterating (running repeatedly) the indented block of code. Inside a <code>while</code> block, the <code>break</code> statement causes the program to exit the loop regardless of whether the <code>while</code> condition is <code>True</code> or <code>False</code>.\n",
    "\n",
    "There are times when we DO want an infinite loop, or at least a loop that runs an indefinite number of times until we tell it to stop. To do this, we can use <code>while True:</code> as our relational expression - this simply means that the condition that <code>while</code> is testing is <b>always</b> <code>True</code>, the Boolean literal whose value will never change to become <code>False</code>. Don't run an infinite loop unless you know how to halt its execution. (In a Jupyter notebook, it usually entails stopping and restarting the kernel; in PyCharm, you can click the red Stop button; if running a Python program from the command line, CTRL-C will kill it.) <br>\n",
    "\n",
    "An example of this is seen in the code cell below. Instead of our simple \"guess a number between 1 and 10 in three tries\" game, we'll give the user an unlimited number of guesses at a number between 1 and 1000. The user is likely to get tired of playing this game, so we'll give them an option to stop by entering 0 for a guess:"
   ]
  },
  {
   "cell_type": "code",
   "execution_count": 23,
   "id": "37c63d34",
   "metadata": {
    "deletable": false,
    "editable": false
   },
   "outputs": [
    {
     "name": "stdout",
     "output_type": "stream",
     "text": [
      "Enter a number between 1 and 1000, or 0 to stop: 500\n",
      "Oops - too high!\n",
      "Enter a number between 1 and 1000, or 0 to stop: 250\n",
      "Oops - too high!\n",
      "Enter a number between 1 and 1000, or 0 to stop: 125\n",
      "Oops - too high!\n",
      "Enter a number between 1 and 1000, or 0 to stop: 64\n",
      "Oops - too high!\n",
      "Enter a number between 1 and 1000, or 0 to stop: 32\n",
      "Oops - too high!\n",
      "Enter a number between 1 and 1000, or 0 to stop: 16\n",
      "Oops - too high!\n",
      "Enter a number between 1 and 1000, or 0 to stop: 8\n",
      "Oops - too high!\n",
      "Enter a number between 1 and 1000, or 0 to stop: 4\n",
      "You win!\n",
      "My number was 4\n"
     ]
    }
   ],
   "source": [
    "# code cell 4\n",
    "\n",
    "import random\n",
    "\n",
    "def main():  # see cell below - this is the \"main\" thread of execution, hence the name main()\n",
    "    \n",
    "    n = random.randint(1, 1000)  # \"computer\" selects a random integer between 1 and 1000\n",
    "\n",
    "    while True:  # give the user an unlimited number of guesses\n",
    "        \n",
    "        s = input(\"Enter a number between 1 and 1000, or 0 to stop: \")  # prompt user to guess the number\n",
    "        m = int(s)  # convert the string to an integer\n",
    "\n",
    "        if m == 0:\n",
    "            print(\"Goodbye!\")\n",
    "            return\n",
    "        elif m == n:\n",
    "            print(\"You win!\")\n",
    "            break   # this exits the loop if we guess the number in fewer than three tries\n",
    "        elif m < n:\n",
    "            print(\"Oops - too low!\")\n",
    "        else:\n",
    "            print(\"Oops - too high!\")\n",
    "\n",
    "    print(\"My number was \" + str(n))  # after exiting the while loop, execution resumes here\n",
    "\n",
    "# the code above WILL NOT RUN unless the next line is present\n",
    "main()  # this is where the main() function, defined above, is actually called"
   ]
  },
  {
   "cell_type": "markdown",
   "id": "a9f8ccfa",
   "metadata": {
    "deletable": false,
    "editable": false
   },
   "source": [
    "In the cell above, you'll notice that we did something a little different with our code - we included it inside a block called <code>main()</code>. This is the way that Python code is usually written, especially when writing a standalone program (which we can now dignify by using the term \"application\") that can be run from the command line. The application's main thread of execution should appear in the function <code>main()</code>. This becomes more important as our programs (or applications) become more and more complicated. The keyword <code>def</code> indicates that the indented code block that follows belongs only to the function being defined. More complicated code may involve multiple functions that we've defined and are calling from our <code>main()</code> function. However, note that line 28 is where <code>main()</code> is itself invoked (called). A function that is defined will not run unless it is called!\n",
    "\n",
    "\n",
    "<div class=\"alert alert-block alert-info\">\n",
    "Now, your turn! You now know enough Python to program a simple calculator application. For starters, let's make this calculator only do addition and multiplication. <br>\n",
    "1. Create a <code>while</code> loop that will run forever <br>\n",
    "2. In the indented code block, use <code>input()</code> to prompt the user to <code>\"Enter + to add, * to multiply, or q to stop: \"</code>, and assign that value to a variable <br>\n",
    "3. In an <code>if</code>-block, if that variable equals <code>\"q\"</code>, print <code>\"Goodbye!\"</code> and break out of the <code>while</code> loop <br>\n",
    "4. Prompt the user to enter the first number, and assign that value to a second variable <br>\n",
    "5. Prompt the user to enter the second number, and assign that value to a third variable <br>\n",
    "6. Create another <code>if</code>-block <br>\n",
    "7. For <code>if</code>, if the first variable equals <code>\"+\"</code>, add the two numbers and print their sum <br>\n",
    "8. For <code>elif</code>, if the first variable equals <code>\"*\"</code>, multiply the two numbers and print their product <br>\n",
    "9. Test your code by running it with two numbers and both operations, as well as <code>\"q\"</code>. <br>\n",
    "Your dialog should look like this:\n",
    "<pre>\n",
    "Enter + to add, * to multiply, or q to stop: +\n",
    "Enter the first number: 3.5\n",
    "Enter the second number: 2.7\n",
    "The sum of the two numbers is 6.2\n",
    "\n",
    "Enter + to add, * to multiply, or q to stop: *\n",
    "Enter the first number: 3.5\n",
    "Enter the second number: 2.7\n",
    "The product of the two numbers is 9.45\n",
    "\n",
    "Enter + to add, * to multiply, or q to stop: q\n",
    "Goodbye!\n",
    "</pre>\n",
    "</div>"
   ]
  },
  {
   "cell_type": "code",
   "execution_count": 28,
   "id": "158354eb",
   "metadata": {
    "deletable": false
   },
   "outputs": [
    {
     "name": "stdout",
     "output_type": "stream",
     "text": [
      "Enter + to add, * to multiply, or q to stop: +\n",
      "Enter the first number: 3.5\n",
      "Enter the second number: 2.7\n",
      "The sum of the two numbers is 6.2\n",
      "\n",
      "Enter + to add, * to multiply, or q to stop: *\n",
      "Enter the first number: 3.5\n",
      "Enter the second number: 2.7\n",
      "The product of the two numbers is 9.450000000000001\n",
      "\n",
      "Enter + to add, * to multiply, or q to stop: q\n",
      "Goodbye!\n"
     ]
    }
   ],
   "source": [
    "def main():\n",
    "    while True:\n",
    "        op = input(\"Enter + to add, * to multiply, or q to stop: \")\n",
    "        if op == 'q':\n",
    "            print(\"Goodbye!\")\n",
    "            break\n",
    "        s1 = input(\"Enter the first number: \")\n",
    "        s2 = input(\"Enter the second number: \")\n",
    "        x1 = float(s1)\n",
    "        x2 = float(s2)\n",
    "        if op == \"+\":\n",
    "            print(\"The sum of the two numbers is \" + str(x1 + x2))\n",
    "        elif op == \"*\":\n",
    "            print(\"The product of the two numbers is \" + str(x1 * x2))\n",
    "        print()\n",
    "        \n",
    "main()"
   ]
  },
  {
   "cell_type": "markdown",
   "id": "d36a4d09",
   "metadata": {
    "deletable": false,
    "editable": false
   },
   "source": [
    "### 2. Augmented Assignment Operators"
   ]
  },
  {
   "cell_type": "markdown",
   "id": "c2b31ae7",
   "metadata": {
    "deletable": false,
    "editable": false
   },
   "source": [
    "Recall that, in an assignment statement, the <code>=</code> operator does something: it evaluates the expression on the right-hand side (RHS) of <code>=</code>, then assigns that value to the variable on the left-hand side (LHS) of <code>=</code>. \n",
    "\n",
    "When we use a <code>while</code>-loop, we often need to assign a new value to an existing variable (that is, the variable needs to update itself):\n",
    "<pre>\n",
    "iCount = iCount + 1\n",
    "nShoes = nShoes - 2\n",
    "principal = principal * (1.0 + interest_rate)\n",
    "scale = scale / 2.0\n",
    "</pre>\n",
    "\n",
    "In these examples, the existing variable is one of the operands of the arithmetic operator, as well as the assignee of the new value. As a shorthand, there are <b>augmented</b> forms of the arithmetic operators that are, in fact, equivalent to the kinds of expressions above, but easier to write (involve fewer keystrokes). The general form is\n",
    "<pre>\n",
    "variable arith_op= delta\n",
    "</pre>\n",
    "which is equivalent to\n",
    "<pre>\n",
    "variable = variable arith_op delta\n",
    "</pre>\n",
    "where <code>delta</code> is the amount by which the variable's value is being changed before that value is reassigned to the variable.\n",
    "\n",
    "| Operator |  Description / Example  |  Equivalent to  |\n",
    "| :--: | :--: | :-- |\n",
    "| <code>=</code> | assignment: <code>x = 5</code> | <code>x = 5</code> |\n",
    "| <code>+=</code> | increment: <code>x += 5</code> | <code>x = x + 5</code> |\n",
    "| <code>-=</code> | decrement: <code>x -= 5</code> | <code>x = x - 5</code> |\n",
    "| <code>*=</code> | multiply: <code>x *= 5</code> | <code>x = x * 5</code> |\n",
    "| <code>/=</code> | divide: <code>x /= 5</code> | <code>x = x / 5</code> |\n",
    "| <code>//=</code> | integer divide: <code>x //= 5</code> | <code>x = x // 5</code> |\n",
    "| <code>%=</code> | modulo: <code>x %= 5</code> | <code>x = x % 5</code> |\n",
    "| <code>**=</code> | exponentiate: <code>x **= 5</code> | <code>x = x ** 5</code> |\n",
    "\n",
    "#### Reminder!\n",
    "Once again, note that <code>=</code> is NOT the same as the equality relation in mathematics. The statement\n",
    "<pre>\n",
    "<em>x</em> = <em>x</em> + 1\n",
    "</pre>\n",
    "is NOT a mathematical equation, since there is no value of <em>x</em> that equals 1 plus itself. In coding languages, this is an assignment statement: the value of ```x``` is increased by ```1```, then reassigned to ```x```. We also say, \"```x``` is incremented by ```1```\"."
   ]
  },
  {
   "cell_type": "markdown",
   "id": "b99d9b5c",
   "metadata": {
    "deletable": false,
    "editable": false
   },
   "source": [
    "One use of augmented operators: you may have noticed that ```print()``` statements can get rather complicated: <br>\n",
    "<pre>\n",
    "print(\"Hello, \" + name + \"!\")\n",
    "\n",
    "print(\"the sum of the two numbers \" + str(a) + \" and \" + str(b) + \" is \" + str(a + b))\n",
    "</pre>\n",
    "One way to make this easier is to use a variable to hold the string to be printed, then build it up piece by piece: <br>\n",
    "<pre>\n",
    "s1 = \"Hello, \"\n",
    "s1 += name\n",
    "s1 += \"!\"\n",
    "print(s1)\n",
    "\n",
    "s2 = \"the sum of the two numbers \"\n",
    "s2 += str(a) + \" and \" + str(b)\n",
    "s2 += \" is \"\n",
    "s2 += str(a + b)\n",
    "</pre>\n",
    "\n",
    "<div class=\"alert alert-block alert-info\">\n",
    "Now, try this yourself! Do the following: <br>\n",
    "1. Using <code>input()</code>, prompt the user to enter their name, and assign that string to a variable <br>\n",
    "2. Then, prompt the user to enter the name of their advisor, and assign it to a variable <br>\n",
    "3. Then, prompt the user to enter the (4-digit) year of their birth, and assign that to another variable <br>\n",
    "4. Calculate their approximate age by subtracting the year of their birth from the current year <br>\n",
    "5. Using the <code>+</code> or <code>+=</code> operators, build a string with the user's name, their advisor, and their age. <br>\n",
    "6. Print the string <br>\n",
    "Your dialog should look like this: <br>\n",
    "<pre>\n",
    "Enter your name: Mary\n",
    "Now enter your advisor's name: Doughty\n",
    "Now enter your year of birth: 2006\n",
    "My name is Mary, my advisor is Doughty, and my age is 16.\n",
    "</pre>\n",
    "</div>"
   ]
  },
  {
   "cell_type": "code",
   "execution_count": 16,
   "id": "d5a85090",
   "metadata": {},
   "outputs": [
    {
     "name": "stdout",
     "output_type": "stream",
     "text": [
      "Enter your name: Mary\n",
      "Now enter your advisor's name: Doughty\n",
      "Now enter your year of birth: 2006\n",
      "My name is Mary, my advisor is Doughty, and my age is 16.\n"
     ]
    }
   ],
   "source": [
    "name = input(\"Enter your name: \")\n",
    "adv = input(\"Now enter your advisor's name: \")\n",
    "yob = input(\"Now enter your year of birth: \")\n",
    "age = 2022 - int(yob)\n",
    "outStr = \"My name is \" + name\n",
    "outStr += \", my advisor is \" + adv\n",
    "outStr += \", and my age is \" + str(age)\n",
    "outStr += \".\"\n",
    "print(outStr)"
   ]
  },
  {
   "cell_type": "markdown",
   "id": "91d6deac",
   "metadata": {
    "deletable": false,
    "editable": false
   },
   "source": [
    "### 3. More About Loops"
   ]
  },
  {
   "cell_type": "markdown",
   "id": "7e40ea2e",
   "metadata": {
    "deletable": false,
    "editable": false
   },
   "source": [
    "Before we move on from <code>while</code>-loops, there's one more important keyword besides <code>break</code> that we need to know about. The keyword <code>continue</code> is almost but not quite the opposite of <code>break</code> - it skips the rest of the code inside a loop for the current iteration only. However, the loop does not terminate, but continues with the next iteration. To see how this works, let's run the next code cell:"
   ]
  },
  {
   "cell_type": "code",
   "execution_count": 33,
   "id": "4b213a7e",
   "metadata": {
    "deletable": false,
    "editable": false
   },
   "outputs": [
    {
     "name": "stdout",
     "output_type": "stream",
     "text": [
      "this is iteration #1\n",
      "this is iteration #3\n",
      "this is iteration #5\n",
      "this is iteration #7\n",
      "this is iteration #9\n"
     ]
    }
   ],
   "source": [
    "# code cell 5\n",
    "\n",
    "def main():\n",
    "    nIter = 10  # number of times to iterate the while loop\n",
    "    i = 0       # initialize loop counter to zero\n",
    "    \n",
    "    while i < nIter:\n",
    "        \n",
    "        i += 1  # note the use of the augmented operator += to increment i by 1\n",
    "        \n",
    "        if i % 2 == 0:  # if i is an even number, skip the rest of the loop\n",
    "            continue\n",
    "            \n",
    "        print(\"this is iteration #\" + str(i))\n",
    "\n",
    "main()  # don't forget to invoke main()!"
   ]
  },
  {
   "cell_type": "markdown",
   "id": "a9d1dc62",
   "metadata": {
    "deletable": false,
    "editable": false
   },
   "source": [
    "We can even use both <code>break</code> and <code>continue</code> in a <code>while</code>-loop:"
   ]
  },
  {
   "cell_type": "code",
   "execution_count": 36,
   "id": "783806f9",
   "metadata": {
    "deletable": false,
    "editable": false
   },
   "outputs": [
    {
     "name": "stdout",
     "output_type": "stream",
     "text": [
      "this is iteration #1\n",
      "this is iteration #3\n",
      "this is iteration #5\n",
      "this is iteration #7\n",
      "this is iteration #9\n",
      "this is iteration #11\n",
      "this is iteration #13\n",
      "this is iteration #15\n",
      "this is iteration #17\n",
      "this is iteration #19\n",
      "this is iteration #21\n",
      "this is iteration #23\n",
      "this is iteration #25\n",
      "this is iteration #27\n",
      "this is iteration #29\n"
     ]
    }
   ],
   "source": [
    "# code cell 6\n",
    "\n",
    "def main():\n",
    "    i = 0       # initialize loop counter to zero\n",
    "    \n",
    "    while True: # note that we're choosing not to use the loop counter to determine how many times we iterate\n",
    "        \n",
    "        i += 1\n",
    "        \n",
    "        if i % 2 == 0:  # if i is an even number, skip the rest of the loop\n",
    "            continue\n",
    "            \n",
    "        if i > 30:      # if i > 30, then exit loop - we don't want to run this forever!\n",
    "            break\n",
    "            \n",
    "        print(\"this is iteration #\" + str(i))\n",
    "\n",
    "main()  # don't forget to invoke main()!"
   ]
  },
  {
   "cell_type": "markdown",
   "id": "102e606d",
   "metadata": {
    "deletable": false,
    "editable": false
   },
   "source": [
    "#### The <code>for</code> block\n",
    "\n",
    "In other coding languages like C++ and Java, <code>for</code>-loops are usually introduced first. In those languages, the syntax of the <code>for</code>-loop looks like this:\n",
    "<pre>\n",
    "for (int i = 0; i < N; i += 1)\n",
    "{\n",
    "    do something;\n",
    "    do something;\n",
    "}\n",
    "</pre>\n",
    "This is a more compact way of handling the loop counter variable <code>i</code> - it is defined, initialized, incremented, and compared with the number of times we want to iterate the loop, all in an expression following the keyword <code>for</code>. However, in Python, this construct does not exist as such. Instead, the loop counter is *generated* by a so-called <code>range</code> object. This saves us the trouble of initializing and incrementing a loop counter variable inside the <code>for</code>-block.\n",
    "\n",
    "In Python, <code>range</code> generates a sequence of integers, and can take a number of forms:\n",
    "\n",
    "* <code>range(stop)</code>: generates integers ```0```, ```1```, ... , ```stop-1``` (be careful here - this is not ```stop```!)\n",
    "* <code>range(start, stop)</code>: generates integers ```start```, ```start+1```, ... , ```stop-1``` (careful - this is not ```stop```!)\n",
    "* <code>range(start, stop, step)</code>: generates integers ```start```, ```start+step```, ... , ```start+n*step``` (```n``` is an integer such that ```start + n*step < stop```)\n",
    "\n",
    "In all of these, ```start```, ```stop```, and ```step``` must all be integers. If ```start >= stop``` and ```step > 0```, no integers will be generated by ```range()```. Also, ```step``` must be nonzero, or an error will result.\n",
    "\n",
    "This is used in a <code>for</code>-loop, which looks similar to <code>if</code>- and <code>while</code>-blocks, and takes the general form:\n",
    "<pre>\n",
    "for i in range(start, stop, step):\n",
    "    do something\n",
    "    do something\n",
    "</pre>\n",
    "\n",
    "To see how this works, let's run the following code cell:"
   ]
  },
  {
   "cell_type": "code",
   "execution_count": 54,
   "id": "86db0569",
   "metadata": {
    "deletable": false,
    "editable": false
   },
   "outputs": [
    {
     "name": "stdout",
     "output_type": "stream",
     "text": [
      "this is iteration #0\n",
      "this is iteration #1\n",
      "this is iteration #2\n",
      "this is iteration #3\n",
      "this is iteration #4\n",
      "this is iteration #5\n",
      "this is iteration #6\n",
      "this is iteration #7\n",
      "this is iteration #8\n",
      "this is iteration #9\n",
      "\n",
      "this is iteration #2\n",
      "this is iteration #3\n",
      "this is iteration #4\n",
      "this is iteration #5\n",
      "this is iteration #6\n",
      "this is iteration #7\n",
      "\n",
      "this is iteration #1\n",
      "this is iteration #4\n",
      "this is iteration #7\n",
      "\n",
      "\n"
     ]
    }
   ],
   "source": [
    "# code cell 7\n",
    "\n",
    "def main():\n",
    "    numIter = 10  # number of times to iterate loop\n",
    "    \n",
    "    for i in range(numIter):           # range(stop)\n",
    "        \n",
    "        print(\"this is iteration #\" + str(i))\n",
    "    print()\n",
    "    \n",
    "    for i in range(2, numIter-2):      # range(start, stop)\n",
    "        \n",
    "        print(\"this is iteration #\" + str(i))\n",
    "    print()\n",
    "\n",
    "    for i in range(1, numIter, 3):     # range(start, stop, step)\n",
    "        \n",
    "        print(\"this is iteration #\" + str(i))\n",
    "    print()\n",
    "    \n",
    "    for i in range(numIter, numIter):  # if start >= stop, range() generates no numbers\n",
    "        \n",
    "        print(\"this is iteration #\" + str(i))\n",
    "    print()\n",
    "    \n",
    "main()  # don't forget to invoke main()!"
   ]
  },
  {
   "cell_type": "code",
   "execution_count": 61,
   "id": "239f4b2d",
   "metadata": {},
   "outputs": [
    {
     "name": "stdout",
     "output_type": "stream",
     "text": [
      "this is iteration #20\n",
      "this is iteration #18\n",
      "this is iteration #16\n",
      "this is iteration #14\n",
      "this is iteration #12\n"
     ]
    }
   ],
   "source": [
    "# test\n",
    "\n",
    "numIter = 10\n",
    "for i in range(20, 10, -2):\n",
    "    print(\"this is iteration #\" + str(i))"
   ]
  },
  {
   "cell_type": "markdown",
   "id": "7bc5bde0",
   "metadata": {
    "deletable": false,
    "editable": false
   },
   "source": [
    "Note that we can also use <code>break</code> and <code>continue</code> in <code>for</code>-blocks:"
   ]
  },
  {
   "cell_type": "code",
   "execution_count": 55,
   "id": "f88e421a",
   "metadata": {
    "deletable": false,
    "editable": false
   },
   "outputs": [
    {
     "name": "stdout",
     "output_type": "stream",
     "text": [
      "this is iteration #1\n",
      "this is iteration #3\n",
      "this is iteration #5\n",
      "this is iteration #7\n",
      "this is iteration #9\n",
      "this is iteration #11\n",
      "this is iteration #13\n",
      "this is iteration #15\n",
      "this is iteration #17\n",
      "this is iteration #19\n",
      "this is iteration #21\n",
      "this is iteration #23\n",
      "this is iteration #25\n",
      "this is iteration #27\n",
      "this is iteration #29\n"
     ]
    }
   ],
   "source": [
    "# code cell 8\n",
    "\n",
    "def main():\n",
    "    for i in range(1000):\n",
    "        if i % 2 == 0:  # if i is an even number, skip the rest of the loop\n",
    "            continue\n",
    "            \n",
    "        if i > 30:      # if i > 30, then exit loop - we don't want to run this 1000 times!\n",
    "            break\n",
    "            \n",
    "        print(\"this is iteration #\" + str(i))\n",
    "\n",
    "main()  # don't forget to invoke main()!"
   ]
  },
  {
   "cell_type": "markdown",
   "id": "a5b3b93b",
   "metadata": {
    "deletable": false,
    "editable": false
   },
   "source": [
    "<div class=\"alert alert-block alert-info\">\n",
    "Your turn to try a loop! Write a program that asks the user to enter how many times to roll a single six-sided die, then calculate the average of all those rolls. In the code cell below, do the following: <br>\n",
    "1. Import the <code>random</code> module <br>\n",
    "2. Using <code>input()</code>, prompt the user to enter the number of times to roll a 6-sided die, and assign what the user enters to a variable <br>\n",
    "3. Create a variable to hold the sum of the die rolls, and set it equal to zero <br>\n",
    "4. Use <code>range()</code> in a <code>for</code>-loop to: <br>\n",
    "&nbsp; &nbsp; &nbsp;  a. Call <code>randint()</code> to generate a random integer between 1 and 6 <br>\n",
    "&nbsp; &nbsp; &nbsp;  b. Increment the variable you created to hold the sum of the die rolls by the random integer you generated <br>\n",
    "5. Calculate the average of the die rolls <br>\n",
    "6. Print the average. <br>\n",
    "Your dialog should look like this:\n",
    "<pre>\n",
    "Enter the number of times to roll a 6-sided die: 100\n",
    "The average of all 100 die rolls is 3.73\n",
    "</pre>\n",
    "</div>"
   ]
  },
  {
   "cell_type": "code",
   "execution_count": 80,
   "id": "e27a4e4e",
   "metadata": {
    "deletable": false
   },
   "outputs": [
    {
     "name": "stdout",
     "output_type": "stream",
     "text": [
      "Enter the number of times to roll a 6-sided die: 100\n",
      "The average of all 100 die rolls is 3.73\n"
     ]
    }
   ],
   "source": [
    "import random\n",
    "\n",
    "def main():\n",
    "    s = input(\"Enter the number of times to roll a 6-sided die: \")\n",
    "    numRolls = int(s)\n",
    "    diceSum = 0\n",
    "    for i in range(numRolls):\n",
    "        k = random.randint(1, 6)\n",
    "        diceSum += k\n",
    "    print(\"The average of all \" + str(numRolls) + \" die rolls is \" + str(diceSum / numRolls))\n",
    "    \n",
    "    \n",
    "main()"
   ]
  },
  {
   "cell_type": "markdown",
   "id": "515bdab8",
   "metadata": {
    "deletable": false,
    "editable": false
   },
   "source": [
    "Let's put together a lot of what we have learned so far. You now know enough Python to write a little dice game. I have written part of the code for you, but we will add to it in order to make it more interesting. Run the following code cell a few times, and make sure you understand how it works:"
   ]
  },
  {
   "cell_type": "code",
   "execution_count": 87,
   "id": "243f2989",
   "metadata": {
    "deletable": false,
    "editable": false
   },
   "outputs": [
    {
     "name": "stdout",
     "output_type": "stream",
     "text": [
      "Enter s for score, r to roll, or q to quit: r\n",
      "You rolled 3 1 4\n",
      "Your current score is 8\n",
      "\n",
      "Enter s for score, r to roll, or q to quit: r\n",
      "You rolled 1 6 3\n",
      "Your current score is 18\n",
      "\n",
      "Enter s for score, r to roll, or q to quit: s\n",
      "Your current score is 18\n",
      "\n",
      "Enter s for score, r to roll, or q to quit: r\n",
      "You rolled 6 5 5\n",
      "Your current score is 34\n",
      "\n",
      "Enter s for score, r to roll, or q to quit: q\n",
      "Goodbye!\n"
     ]
    }
   ],
   "source": [
    "# code cell 9\n",
    "\n",
    "import random\n",
    "\n",
    "def main():   \n",
    "    numDice = 3\n",
    "    curScore = 0\n",
    "    while True:\n",
    "        s = input(\"Enter s for score, r to roll, or q to quit: \")\n",
    "        if s == \"r\":\n",
    "            outStr = \"You rolled\"\n",
    "            for i in range(numDice):\n",
    "                k = random.randint(1, 6)\n",
    "                outStr += \" \" + str(k)\n",
    "                curScore += k\n",
    "            print(outStr)\n",
    "            print(\"Your current score is \" + str(curScore) + \"\\n\")\n",
    "        elif s == \"s\":\n",
    "            print(\"Your current score is \" + str(curScore) + \"\\n\")\n",
    "        else:\n",
    "            print(\"Goodbye!\")\n",
    "            return\n",
    "        \n",
    "main()"
   ]
  },
  {
   "cell_type": "markdown",
   "id": "49677e90",
   "metadata": {
    "deletable": false,
    "editable": false
   },
   "source": [
    "Note that the code above <b>nests</b> one loop inside another - can you spot the outer and inner loops?\n",
    "\n",
    "As a game, that was boring - your score is simply the sum of all the values of rolling three 6-sided dice at a time. Let's make this fun by modding the code above: <br>\n",
    "1. Each time you roll the 3 dice, if any of them happens to be a 1, then your score goes to zero\n",
    "2. Keep track of your highest score so far\n",
    "\n",
    "Before we write any code, let's consider these questions: <br>\n",
    "1. How would you determine whether you rolled a 1?\n",
    "2. What should happen if you roll a 1 during a turn?\n",
    "3. In a turn, does it matter if the 1 occurs for the first roll, the second roll, or the third roll?\n",
    "4. If you set up another variable and assign your score to it after each turn, how would you update it to keep your highest score?"
   ]
  },
  {
   "cell_type": "code",
   "execution_count": 79,
   "id": "245275ee",
   "metadata": {
    "deletable": false,
    "editable": false
   },
   "outputs": [
    {
     "name": "stdout",
     "output_type": "stream",
     "text": [
      "Enter s for score, r to roll, or q to quit: r\n",
      "You rolled a 5, 5, 2, your score is 12\n",
      "Enter s for score, r to roll, or q to quit: r\n",
      "You rolled a 6, 1, 3, your score is 0\n",
      "Enter s for score, r to roll, or q to quit: r\n",
      "You rolled a 1, 3, 5, your score is 0\n",
      "Enter s for score, r to roll, or q to quit: r\n",
      "You rolled a 6, 2, 6, your score is 14\n",
      "Enter s for score, r to roll, or q to quit: r\n",
      "You rolled a 5, 6, 5, your score is 30\n",
      "Enter s for score, r to roll, or q to quit: r\n",
      "You rolled a 5, 4, 5, your score is 44\n",
      "Enter s for score, r to roll, or q to quit: r\n",
      "You rolled a 3, 4, 1, your score is 0\n",
      "Enter s for score, r to roll, or q to quit: r\n",
      "You rolled a 2, 5, 4, your score is 11\n",
      "Enter s for score, r to roll, or q to quit: r\n",
      "You rolled a 6, 3, 6, your score is 26\n",
      "Enter s for score, r to roll, or q to quit: r\n",
      "You rolled a 4, 1, 3, your score is 0\n",
      "Enter s for score, r to roll, or q to quit: s\n",
      "Your current score is 0, your high score so far is 44\n",
      "Enter s for score, r to roll, or q to quit: q\n",
      "Goodbye!\n"
     ]
    }
   ],
   "source": [
    "# code cell 10\n",
    "\n",
    "import random\n",
    "\n",
    "def main():   \n",
    "    numDice = 3\n",
    "    highScore = 0\n",
    "    curScore = 0\n",
    "    while True:\n",
    "        s = input(\"Enter s for score, r to roll, or q to quit: \")\n",
    "        if s == \"r\":\n",
    "            bIsAOne = False\n",
    "            print(\"You rolled a\", end=\" \")\n",
    "            for i in range(numDice):\n",
    "                k = random.randint(1, 6)\n",
    "                if k == 1:\n",
    "                    bIsAOne = True\n",
    "                if bIsAOne:\n",
    "                    curScore = 0\n",
    "                else:\n",
    "                    curScore += k\n",
    "                print(str(k) + \",\", end=\" \")\n",
    "            if curScore > highScore:\n",
    "                highScore = curScore\n",
    "            print(\"your score is \" + str(curScore))\n",
    "        elif s == \"s\":\n",
    "            print(\"Your current score is \" + str(curScore) + \", your high score so far is \" + str(highScore))\n",
    "        else:\n",
    "            print(\"Goodbye!\")\n",
    "            return\n",
    "\n",
    "main()"
   ]
  },
  {
   "cell_type": "code",
   "execution_count": null,
   "id": "3b7dfe5a",
   "metadata": {},
   "outputs": [],
   "source": []
  },
  {
   "cell_type": "markdown",
   "id": "b01e4788",
   "metadata": {
    "deletable": false,
    "editable": false
   },
   "source": [
    "### 5. Mathematical Functions in Python"
   ]
  },
  {
   "cell_type": "markdown",
   "id": "ef2a7bdb",
   "metadata": {
    "deletable": false,
    "editable": false
   },
   "source": [
    "In a previous notebook, we learned about some built-in functions like <code>int()</code>, <code>float()</code>\\, <code>abs()</code>, <code>min()</code>, <code>max()</code>, and <code>round()</code>. Here are a few more built-in mathematical functions which may soon be useful to you.\n",
    "\n",
    "| Function |  Description  |  Example  |\n",
    "| --: | :-- | :-- |\n",
    "| <code>abs(x)</code> | returns the absolute value of a number ```x``` | <code>abs(-5.9275) = -5.9275</code> |\n",
    "| <code>int(x)</code> | truncates the floating-point value ```x``` to an integer  | <code>int(-5.9275) = -5</code> |\n",
    "| <code>round(x, n)</code> | rounds the floating-point value ```x``` to ```n``` decimal places  | <code>round(-5.9275, 2) = -5.93</code> |\n",
    "| <code>bin(x)</code> | returns the string representation of the value ```x``` in base two (binary)| <code>bin(77) = 0b1001101</code> |\n",
    "| <code>hex(x)</code> | returns the string representation of the value ```x``` in base sixteen (hexadecimal) | <code>hex(77) = 0x4d</code> |\n",
    "| <code>oct(x)</code> | returns the string representation of the value ```x``` in base eight (octal) | <code>oct(77) = 0o115</code> |\n",
    "\n",
    "\n"
   ]
  },
  {
   "cell_type": "code",
   "execution_count": 95,
   "id": "b0c6cff7",
   "metadata": {
    "deletable": false,
    "editable": false
   },
   "outputs": [
    {
     "name": "stdout",
     "output_type": "stream",
     "text": [
      "-5.9275 is of data type <class 'float'>\n",
      "abs(-5.9275) = 5.9275\n",
      "int(-5.9275) = -5\n",
      "round(-5.9275, 2) = -5.93\n",
      "\n",
      "77 is of data type <class 'int'>\n",
      "bin(77) = 0b1001101\n",
      "hex(77) = 0x4d\n",
      "oct(77) = 0o115\n",
      "\n"
     ]
    }
   ],
   "source": [
    "# code cell 11\n",
    "\n",
    "x = -5.9275\n",
    "print(x, end=\" \")\n",
    "print(\"is of data type \" + str(type(x)))\n",
    "print(\"abs(\" + str(x) + \") = \" + str(abs(x)))\n",
    "print(\"int(\" + str(x) + \") = \" + str(int(x)))\n",
    "print(\"round(\" + str(x) + \", 2) = \" + str(round(x, 2)))\n",
    "print()\n",
    "\n",
    "a = 77\n",
    "print(a, end=\" \")\n",
    "print(\"is of data type \" + str(type(a)))\n",
    "print(\"bin(\" + str(a) + \") = \" + bin(a))\n",
    "print(\"hex(\" + str(a) + \") = \" + hex(a))\n",
    "print(\"oct(\" + str(a) + \") = \" + oct(a))\n",
    "print()\n",
    "\n",
    "# ******************************************* #"
   ]
  },
  {
   "cell_type": "markdown",
   "id": "1c94e183",
   "metadata": {
    "deletable": false,
    "editable": false
   },
   "source": [
    "The <code>math</code> module has functions that you would see on a scientific calculator, such as <code>sqrt()</code>, <code>exp()</code>, <code>log()</code>, <code>sin()</code>, and so on. Here are some of the most-used mathematical functions, which can only be used after invoking <code>import math</code> to make them available to us:\n",
    "\n",
    "| Function |  Description  |  Example  |\n",
    "| --: | :-- | :-- |\n",
    "| <code>math.sqrt(x)</code> | returns the square root of ```x``` | <code>math.sqrt(16.0) = 4.0</code> |\n",
    "| <code>math.ceil(x)</code> | returns the ceiling of ```x``` (the smallest integer >= ```x```) | <code>math.ceil(-5.9275) = -5</code> |\n",
    "| <code>math.floor(x)</code> | returns the floor of ```x``` (the largest integer <= ```x```) | <code>math.floor(-5.9275) = -6</code> |\n",
    "| <code>math.pi</code> | returns the mathematical constant ```π``` | <code>math.pi = 3.1415926...</code> |\n",
    "| <code>math.e</code> | returns the mathematical constant ```e``` | <code>math.e = 2.718281...</code> |\n",
    "| <code>math.degrees(x)</code> | converts ```x``` from radians to degrees | <code>math.degrees(math.pi/4) = 45.0 </code> |\n",
    "| <code>math.radians(x)</code> | converts ```x``` from degrees to radians | <code>math.degrees(180.0) = 3.1415926...</code> |\n",
    "| <code>math.atan(x)</code> | returns the arctangent of ```x``` in radians | <code>math.atan(1.0) = 0.785398... </code> |\n",
    "| <code>math.tan(x)</code> | returns the tangent of ```x``` radians  | <code>math.tan(math.pi/4) = 1.0</code> |\n",
    "| <code>math.sin(x)</code> | returns the sine of ```x``` radians  | <code>math.sin(math.pi/6) = 0.5</code> |\n",
    "| <code>math.cos(x)</code> | returns the cosine of ```x``` radians  | <code>math.cos(math.pi/3) = 0.5</code> |\n",
    "| <code>math.pow(x, n)</code> | returns ```x``` raised to the power ```n```  | <code>math.pow(10, 3) = 1000.0</code> |\n",
    "| <code>math.log(x, b)</code> | returns the logarithm of ```x```, base ```b```  | <code>math.log(1000, 10) = 3.0</code> |\n",
    "| <code>math.exp(x)</code> | returns ```e``` raised to the power ```x```  | <code>math.exp(1.0) = 2.718281...</code> |"
   ]
  },
  {
   "cell_type": "code",
   "execution_count": 148,
   "id": "154e586f",
   "metadata": {
    "deletable": false
   },
   "outputs": [
    {
     "name": "stdout",
     "output_type": "stream",
     "text": [
      "x = 16.0\n",
      "sqrt(16.0) = 4.0\n",
      "\n",
      "y = -5.9275\n",
      "ceil(-5.9275) = -5\n",
      "floor(-5.9275) = -6\n",
      "\n",
      "pi = 3.141592653589793\n",
      "e = 2.718281828459045\n",
      "\n",
      "angle theta = 45.0 degrees\n",
      "angle theta = 0.7853981633974483 radians\n",
      "does theta = pi / 4 ? True\n",
      "tan(pi / 4) = 0.9999999999999999\n",
      "\n",
      "angle alpha = 30.0 degrees\n",
      "angle alpha = 0.5235987755982988 radians\n",
      "does alpha = pi / 6 ? True\n",
      "sin(pi / 6) = 0.49999999999999994\n",
      "\n",
      "angle beta = 60.0 degrees\n",
      "angle beta = 1.0471975511965976 radians\n",
      "does beta = pi / 3 ? True\n",
      "cos(pi / 3) = 0.5000000000000001\n",
      "\n",
      "x = 1000.0\n",
      "log(1000.0, 10) = 2.9999999999999996\n",
      "pow(10, 3) = 1000.0\n",
      "\n",
      "y = 1.0\n",
      "exp(1.0) = 2.718281828459045\n",
      "does exp(1.0) = e? True\n",
      "log(2.718281828459045, math.e) = 1.0\n"
     ]
    }
   ],
   "source": [
    "# code cell 12\n",
    "\n",
    "import math\n",
    "\n",
    "x = 16.0\n",
    "print(\"x = \" + str(x))\n",
    "print(\"sqrt(\" + str(x) + \") = \" + str(math.sqrt(x)))\n",
    "print()\n",
    "\n",
    "y = -5.9275\n",
    "print(\"y = \" + str(y))\n",
    "print(\"ceil(\" + str(y) + \") = \" + str(math.ceil(y)))\n",
    "print(\"floor(\" + str(y) + \") = \" + str(math.floor(y)))\n",
    "print()\n",
    "\n",
    "print(\"pi = \" + str(math.pi))\n",
    "print(\"e = \" + str(math.e))\n",
    "print()\n",
    "\n",
    "# ******************************************* #\n",
    "\n",
    "# these are trigonometric functions\n",
    "theta_deg = 45.0  # in degrees\n",
    "print(\"angle theta = \" + str(theta_deg) + \" degrees\")\n",
    "theta = math.radians(theta_deg)\n",
    "print(\"angle theta = \" + str(theta) + \" radians\")\n",
    "print(\"does theta = pi / 4 ? \" + str(theta == math.pi / 4))\n",
    "print(\"tan(pi / 4) = \" + str(math.tan(theta)))\n",
    "print()\n",
    "\n",
    "alpha_deg = 30.0 # in degrees\n",
    "print(\"angle alpha = \" + str(alpha_deg) + \" degrees\")\n",
    "alpha = math.radians(alpha_deg)\n",
    "print(\"angle alpha = \" + str(alpha) + \" radians\")\n",
    "print(\"does alpha = pi / 6 ? \" + str(alpha == math.pi / 6))\n",
    "print(\"sin(pi / 6) = \" + str(math.sin(alpha)))\n",
    "print()\n",
    "\n",
    "beta_deg = 60.0 # in degrees\n",
    "print(\"angle beta = \" + str(beta_deg) + \" degrees\")\n",
    "beta = math.radians(beta_deg)\n",
    "print(\"angle beta = \" + str(beta) + \" radians\")\n",
    "print(\"does beta = pi / 3 ? \" + str(beta == math.pi / 3))\n",
    "print(\"cos(pi / 3) = \" + str(math.cos(beta)))\n",
    "print()\n",
    "\n",
    "# ******************************************* #\n",
    "\n",
    "# these are lagarithmic and exponential functions\n",
    "x = 1000.0\n",
    "print(\"x = \" + str(x))\n",
    "print(\"log(\" + str(x) + \", 10) = \" + str(math.log(x, 10)))\n",
    "print(\"pow(10, 3) = \" + str(math.pow(10, 3)))\n",
    "print()\n",
    "\n",
    "y = 1.0\n",
    "print(\"y = \" + str(y))\n",
    "print(\"exp(\" + str(y) + \") = \" + str(math.exp(y)))\n",
    "print(\"does exp(1.0) = e? \" + str(math.exp(y) == math.e))\n",
    "print(\"log(\" + str(math.exp(1.0)) + \", math.e) = \" + str(math.log(math.exp(y), math.e)))\n"
   ]
  },
  {
   "cell_type": "markdown",
   "id": "a7ec1ef6",
   "metadata": {
    "deletable": false,
    "editable": false
   },
   "source": [
    "Fahrenheit-to-Celsius conversion formula: $$T_c = 5 \\cdot (T_f - 32)\\ /\\ 9$$\n",
    "Celsius-to-Fahrenheit conversion formula: $$T_f = (9\\ /\\ 5) \\cdot T_c + 32$$\n",
    "\n",
    "<div class=\"alert alert-block alert-info\">\n",
    "Now you know enough Python to write some applications that are actually useful! First, you'll write a temperature conversion program. <br>\n",
    "    \n",
    "1. Using <code>input()</code>, prompt the user to <code>\"Enter 1 for F->C, 2 for C->F, or 0 to quit: \"</code>, and assign what the user entered to a variable <br>\n",
    "\n",
    "Then, use an <code>if</code>-block for the following: <br>\n",
    "2 (a) If the variable equals <code>\"1\"</code>, then prompt the user to <code>\"Enter the Fahrenheit temperature to convert: \"</code>, and assign this value to a variable <br>\n",
    "2 (b) Using the Fahrenheit-to-Celsius conversion formula above, calculate the Celsius temperature <br>\n",
    "2 (c) Print <code>\"The equivalent Celsius temperature is X\"</code> (replace X with the value of the Celsius temperature) <br>\n",
    "    \n",
    "3 (a) If the variable equals <code>\"2\"</code>, then prompt the user to <code>\"Enter the Celsius temperature to convert: \"</code>, and assign this value to a variable <br>\n",
    "3 (b) Using the Celsius-to-Fahrenheit conversion formula above, calculate the Fahrenheit temperature <br>\n",
    "3 (c) Print <code>\"The equivalent Fahrenheit temperature is X\"</code> (replace X with the value of the Fahrenheit temperature) <br>\n",
    "    \n",
    "4 (a) Compare the variable to <code>\"0\"</code> (or use <code>else:</code>), and exit the program if this condition is <code>True</code> <br> \n",
    "    \n",
    "</div>"
   ]
  },
  {
   "cell_type": "code",
   "execution_count": 155,
   "id": "166a35ea",
   "metadata": {
    "deletable": false
   },
   "outputs": [
    {
     "name": "stdout",
     "output_type": "stream",
     "text": [
      "Enter 1 for F->C, 2 for C->F, or 0 to quit: 2\n",
      "Enter the Celsius temperature to convert: 100\n",
      "The equivalent Fahrenheit temperature is 212.0\n"
     ]
    }
   ],
   "source": [
    "def main():\n",
    "    s1 = input(\"Enter 1 for F->C, 2 for C->F, or 0 to quit: \")\n",
    "    if s1 == \"0\":\n",
    "        print(\"Goodbye!\")\n",
    "        return\n",
    "    elif s1 == \"1\":\n",
    "        s2 = input(\"Enter the Fahrenheit temperature to convert: \")\n",
    "        Tf = float(s2)\n",
    "        Tc = 5. * (Tf - 32.) / 9.\n",
    "        print(\"The equivalent Celsius temperature is \" + str(Tc))\n",
    "    elif s1 == \"2\":\n",
    "        s2 = input(\"Enter the Celsius temperature to convert: \")\n",
    "        Tc = float(s2)\n",
    "        Tf = (9 / 5) * Tc + 32.\n",
    "        print(\"The equivalent Fahrenheit temperature is \" + str(Tf))\n",
    "        \n",
    "main()"
   ]
  },
  {
   "cell_type": "markdown",
   "id": "1c52070a",
   "metadata": {
    "deletable": false,
    "editable": false
   },
   "source": [
    "The formula for compound interest is $$A = P\\ (1 + \\frac{r}{n})^{nt}$$ where\n",
    "<pre>\n",
    "A = final amount\n",
    "P = initial principal\n",
    "r = annual interest rate (expressed as a decimal)\n",
    "n = number of times interest is applied per year (n = 12 if interest is compounded monthly)\n",
    "t = number of years elapsed\n",
    "</pre>\n",
    "\n",
    "<div class=\"alert alert-block alert-info\">\n",
    "If you go to a bank to open a savings account with \\$1,000 in it, you can calculate the amount that you would have after a certain amount of time if you earned an annual interest rate of 5% , compounded monthly. Let's write a compound interest calculator application: <br>\n",
    "\n",
    "1. Using <code>input()</code>, prompt the user to <code>\"Enter the starting balance (principal): \"</code>, and assign what the user entered to a variable <br>\n",
    "2. Next, prompt the user to <code>\"Enter the annual interest rate as a decimal: \"</code>, and assign what the user entered to another variable <br>\n",
    "3. Then, prompt the user to <code>\"Enter the number of years elapsed (term): \"</code>, and assign what the user entered to a third variable <br>\n",
    "4. If the user has mistakenly entered the interest rate as a percentage (a value greater than 1), convert it to a decimal by dividing by 100; otherwise, leave the interest rate alone <br>\n",
    "5. Use <code>math.pow()</code> to raise <code>(1.0 + r / 12.0)</code> to the power <code>12.0 * t</code> <br>\n",
    "6. Multiply what you calculated previously by the principal to get the final amount <br>\n",
    "7. Print out the amount, rounded to two decimal places using <code>round()</code> <br>\n",
    "8. Test your calculator by entering a principal of \\\\$1,000, an annual interest rate of 5\\%, and a term of 10 years - you should get \\\\$1,647.01\n",
    "</div>"
   ]
  },
  {
   "cell_type": "code",
   "execution_count": 159,
   "id": "cb76d0d7",
   "metadata": {
    "deletable": false
   },
   "outputs": [
    {
     "name": "stdout",
     "output_type": "stream",
     "text": [
      "Enter the starting balance (principal): 1000\n",
      "Enter the annual interest rate as a decimal: 5\n",
      "Enter the number of years elapsed (term): 10\n",
      "After 10 years, $1000 grows to $1647.01 after 10 years.\n"
     ]
    }
   ],
   "source": [
    "import math\n",
    "\n",
    "def main():\n",
    "    s1 = input(\"Enter the starting balance (principal): \")\n",
    "    P = float(s1)\n",
    "    s2 = input(\"Enter the annual interest rate as a decimal: \")\n",
    "    r = float(s2)\n",
    "    if r > 1.:\n",
    "        r /= 100.0\n",
    "    s3 = input(\"Enter the number of years elapsed (term): \")\n",
    "    t = float(s3)\n",
    "    fac = 1.0 + r / 12.0\n",
    "    A = P * math.pow(fac, 12.0 * t)\n",
    "    print(\"After \" + s3 + \" years, $\" + s1 + \" grows to $\" + str(round(A, 2)) + \" after \" + s3 + \" years.\")\n",
    "\n",
    "main()"
   ]
  },
  {
   "cell_type": "markdown",
   "id": "1c5400b7",
   "metadata": {},
   "source": [
    "### 6. Yet More Fun With <code>turtle</code>"
   ]
  },
  {
   "cell_type": "markdown",
   "id": "6b77e0fa",
   "metadata": {},
   "source": [
    "Now that you know more code constructs involving variables, operators, and expressions, it's time to put them to work! In the previous notebook, you wrote a program to make the turtle trace out a square whose side lengths were 100 pixels (2 paces):"
   ]
  },
  {
   "cell_type": "code",
   "execution_count": 88,
   "id": "88826802",
   "metadata": {},
   "outputs": [
    {
     "data": {
      "application/vnd.jupyter.widget-view+json": {
       "model_id": "3812880bb01741e8a5285679e6de09e7",
       "version_major": 2,
       "version_minor": 0
      },
      "text/plain": [
       "Turtle()"
      ]
     },
     "metadata": {},
     "output_type": "display_data"
    }
   ],
   "source": [
    "from mobilechelonian import Turtle\n",
    "\n",
    "t = Turtle()\n",
    "t.speed(5)\n",
    "\n",
    "t.penup()\n",
    "t.home()\n",
    "\n",
    "t.pendown()\n",
    "t.forward(100)\n",
    "t.right(90)\n",
    "t.forward(100)\n",
    "t.right(90)\n",
    "t.forward(100)\n",
    "t.right(90)\n",
    "t.forward(100)\n",
    "t.right(90)\n",
    "\n",
    "t.penup()"
   ]
  },
  {
   "cell_type": "markdown",
   "id": "d49aaef7",
   "metadata": {},
   "source": [
    "But now, suppose we want to make the turtle trace a square of a side length that is not 100 pixels, but some value that we specify in advance. We don't want to have to change the value <code>100</code> each time it appears in the code above with the new value. The way to do this is to use a variable to which we assign the side length. Run the cell below a few times, but change the value of <code>sidelen</code> each time to a number between 0 and 200. What happens if you use a negative number?"
   ]
  },
  {
   "cell_type": "code",
   "execution_count": 2,
   "id": "7270c897",
   "metadata": {},
   "outputs": [
    {
     "data": {
      "application/vnd.jupyter.widget-view+json": {
       "model_id": "7d77aa7bff48431882caf2fda500d786",
       "version_major": 2,
       "version_minor": 0
      },
      "text/plain": [
       "Turtle()"
      ]
     },
     "metadata": {},
     "output_type": "display_data"
    }
   ],
   "source": [
    "from mobilechelonian import Turtle\n",
    "\n",
    "t = Turtle()\n",
    "t.speed(5)\n",
    "\n",
    "sidelen = 50\n",
    "t.penup()\n",
    "t.home()\n",
    "\n",
    "t.pendown()\n",
    "t.forward(sidelen)\n",
    "t.right(90)\n",
    "t.forward(sidelen)\n",
    "t.right(90)\n",
    "t.forward(sidelen)\n",
    "t.right(90)\n",
    "t.forward(sidelen)\n",
    "t.right(90)\n",
    "\n",
    "t.penup()"
   ]
  },
  {
   "cell_type": "markdown",
   "id": "2260f22b",
   "metadata": {},
   "source": [
    "In the previous notebook, you may have also discovered that, in order to make a square (regular polygon of 4 sides), the turtle needs to make a turn at each corner whose angle is 360°/4 = 90°, while making a regular octagon (8 sides), the turtle needs to turn 360°/8 = 45° at each corner. Likewise, to make a regular hexagon (6 sides), the turtle needs to turn 360°/6 = 60° at each corner. What if we want to make a regular polygon having a specified number of sides that we specify in advance? We can do this using an expression for <code>angle</code> to which we assign the value <code>360 / numsides</code>, where <code>numsides</code> is the number of sides.\n",
    "\n",
    "In the code below, note that we have to repeat the sequence\n",
    "<pre>\n",
    "t.forward(sidelen)\n",
    "t.right(angle)\n",
    "</pre>\n",
    "for each side of the polygon we draw. Thus, we only have four repeats of these two lines to draw a square, or six repeats of this sequence to draw a hexagon. Later, we will learn about loops (iteration), so that we don't have to change our code and add or delete these sequences each time we change the number of sides."
   ]
  },
  {
   "cell_type": "code",
   "execution_count": 3,
   "id": "cd62fa3e",
   "metadata": {},
   "outputs": [
    {
     "data": {
      "application/vnd.jupyter.widget-view+json": {
       "model_id": "bc60746ac11d46bfb734744b11011a6e",
       "version_major": 2,
       "version_minor": 0
      },
      "text/plain": [
       "Turtle()"
      ]
     },
     "metadata": {},
     "output_type": "display_data"
    }
   ],
   "source": [
    "from mobilechelonian import Turtle\n",
    "\n",
    "t = Turtle()\n",
    "t.speed(5)\n",
    "\n",
    "sidelen = 50\n",
    "numsides = 6\n",
    "angle = 360 / numsides\n",
    "t.penup()\n",
    "t.home()\n",
    "\n",
    "t.pendown()\n",
    "t.forward(sidelen)\n",
    "t.right(angle)\n",
    "t.forward(sidelen)\n",
    "t.right(angle)\n",
    "t.forward(sidelen)\n",
    "t.right(angle)\n",
    "t.forward(sidelen)\n",
    "t.right(angle)\n",
    "t.forward(sidelen)\n",
    "t.right(angle)\n",
    "t.forward(sidelen)\n",
    "t.right(angle)\n",
    "\n",
    "t.penup()"
   ]
  },
  {
   "cell_type": "markdown",
   "id": "98f4329b",
   "metadata": {},
   "source": [
    "<div class=\"alert alert-block alert-info\">\n",
    "Now, you try! Take the code that you wrote in the previous notebook for a pattern or figure that you had your turtle draw. Create variables for the literals that you used for lengths or angles of that figure, then use that variable to easily scale your figure so that you can draw it (a) half the size, and (b) 1-1/2 times the size of the original figure.\n",
    "</div>"
   ]
  },
  {
   "cell_type": "code",
   "execution_count": null,
   "id": "0a725da6",
   "metadata": {},
   "outputs": [],
   "source": []
  }
 ],
 "metadata": {
  "celltoolbar": "Edit Metadata",
  "kernelspec": {
   "display_name": "Python 3 (ipykernel)",
   "language": "python",
   "name": "python3"
  },
  "language_info": {
   "codemirror_mode": {
    "name": "ipython",
    "version": 3
   },
   "file_extension": ".py",
   "mimetype": "text/x-python",
   "name": "python",
   "nbconvert_exporter": "python",
   "pygments_lexer": "ipython3",
   "version": "3.9.2"
  }
 },
 "nbformat": 4,
 "nbformat_minor": 5
}
