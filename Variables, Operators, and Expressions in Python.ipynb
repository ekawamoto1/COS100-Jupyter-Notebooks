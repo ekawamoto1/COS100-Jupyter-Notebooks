{
 "cells": [
  {
   "cell_type": "markdown",
   "id": "4a5e308f",
   "metadata": {
    "deletable": false,
    "editable": false
   },
   "source": [
    "## **Variables, Operators, and Expressions in Python**"
   ]
  },
  {
   "cell_type": "markdown",
   "id": "880adaf4",
   "metadata": {
    "deletable": false,
    "editable": false
   },
   "source": [
    "### 1. Creating and Using Variables\n",
    "A variable is simply a container that holds data. In Python, there's a lot more under the hood of a variable than that, but for now, that's all you need to know. <br>\n",
    "A variable is like a reservation at a restaurant. It sets aside space in memory to hold a piece of information, some data. The name of a variable is how one refers to that information. If we print out what that variable contains or holds, we get a literal value. Just as in algebra, a variable stands in for a specific literal value. The contents of a variable (the value it holds) can change, hence the name 'variable'. "
   ]
  },
  {
   "cell_type": "code",
   "execution_count": 1,
   "id": "bbe067ec",
   "metadata": {},
   "outputs": [
    {
     "name": "stdout",
     "output_type": "stream",
     "text": [
      "Enter a name: Tom\n",
      "Hello, Tom!\n"
     ]
    }
   ],
   "source": [
    "# code cell 1\n",
    "\n",
    "prompt = \"Enter a name: \"\n",
    "name = input(prompt)\n",
    "greeting = \"Hello, \" + name + \"!\"\n",
    "print(greeting)"
   ]
  },
  {
   "cell_type": "markdown",
   "id": "4401e14c",
   "metadata": {
    "deletable": false,
    "editable": false
   },
   "source": [
    "<br>In the example above, <code>prompt</code>, <code>name</code>, and <code>greeting</code> are examples of variables whose values are strings. <br><br>\n",
    "\n",
    "Legal variable names in Python can:\n",
    "* be of any length\n",
    "* contain uppercase (A-Z) and lowercase (a-z) letters, digits (0-9), or an underscore (\\_) character\n",
    "* Unicode characters (in Python 3.x)\n",
    "\n",
    "Variable names <b> MUST NOT</b>:\n",
    "* begin with a digit\n",
    "* contain these characters: ``` . , ' \" ` ^ : ; ( ) { } [ ] ? ! @ $ * + - = \\ | / < > & % ```\n",
    "* be a keyword (see below)\n",
    "\n",
    "Variable names are <b>case-sensitive</b>: spelling counts! Pro tip: Variable names should suggest the type or meaning of the data they hold. <br>\n",
    "\n",
    "Examples of legal variable names:\n",
    "* ```x``` &nbsp; &nbsp; ```bIsNumeric``` &nbsp; &nbsp; ```a1``` &nbsp; &nbsp; ```a2``` &nbsp; &nbsp; ```c10_17``` &nbsp; &nbsp; ```__name__``` &nbsp; &nbsp; ```IDontKnowWhyYouWouldWantAVariableNameThisLong``` <br>\n",
    "\n",
    "Examples of illegal variable names:\n",
    "* ```10x``` &nbsp; &nbsp; ```0a``` &nbsp; &nbsp; ```y3.4``` &nbsp; &nbsp; ```t&``` &nbsp; &nbsp; ```ke$ha```  &nbsp; &nbsp; ```!boing``` &nbsp; &nbsp; ```ur_a_*``` &nbsp; &nbsp; ```print```<br><br>\n",
    "\n",
    "\n",
    "<b>Caution!</b> <br>\n",
    "For variable names, <b><font color='red'>DO NOT</b></font> use keywords. There are 33 of these, which are reserved for the Python language. To see this list, type <code>help('keywords')</code>) <br><br>\n",
    "```False``` &nbsp; &nbsp; ```None``` &nbsp; &nbsp; ```True```<br><br>\n",
    "```and``` &nbsp; &nbsp;```as``` &nbsp; &nbsp; ```assert``` &nbsp; &nbsp; ```break``` &nbsp; &nbsp; ```class``` &nbsp; &nbsp; ```continue``` &nbsp; &nbsp; ```def```  &nbsp; &nbsp; ```del``` &nbsp; &nbsp; ```elif``` &nbsp; &nbsp; ```else```<br><br>\n",
    "```except``` &nbsp; &nbsp; ```finally``` &nbsp; &nbsp; ```for``` &nbsp; &nbsp; ```from``` &nbsp; &nbsp; ```global```  &nbsp; &nbsp; ```if```  &nbsp; &nbsp; ```import``` &nbsp; &nbsp; ```in``` &nbsp; &nbsp; ```is``` &nbsp; &nbsp; ```lambda``` <br><br>\n",
    "```nonlocal``` &nbsp; &nbsp; ```not``` &nbsp; &nbsp; ```or``` &nbsp; &nbsp; ```pass``` &nbsp; &nbsp; ```raise``` &nbsp; &nbsp; ```return``` &nbsp; &nbsp; ```try``` &nbsp; &nbsp; ```while``` &nbsp; &nbsp; ```with``` &nbsp; &nbsp; ```yield```<br><br>"
   ]
  },
  {
   "cell_type": "markdown",
   "id": "8eaf1e8c",
   "metadata": {
    "deletable": false,
    "editable": false
   },
   "source": [
    "The <code>=</code> is used as an <b>assignment operator</b>: the value or expression on the right-hand side is <b>assigned</b> to the variable on the left-hand side. <br><br>\n",
    "For example, <code>a = \"Hello, world!\"</code> means that the value of the string literal ```\"Hello, world!\"``` (i.e., the string itself) is <b>assigned</b> to the variable <code>a</code>. <br><br>\n",
    "\n",
    "<div class=\"alert alert-block alert-info\">\n",
    "Your turn! In the code cell below, <br>\n",
    "1. type the line <code>a = \"Hello, world!\"</code> <br>\n",
    "2. under it, type the line <code>print(a)</code> <br>\n",
    "3. run the cell using the Run button at the top. <br>\n",
    "4. type the line <code>b = \" My name is [...].\"</code> (Replace [...] with your name.) <br>\n",
    "5. type the line <code>c = a + b</code> <br>\n",
    "6. under that, type the line <code>print(c)</code> <br>\n",
    "7. run the cell using the Run button at the top. What did the <code>+</code> operator do? <br>\n",
    "</div>"
   ]
  },
  {
   "cell_type": "code",
   "execution_count": null,
   "id": "c70b948e",
   "metadata": {},
   "outputs": [],
   "source": []
  },
  {
   "cell_type": "markdown",
   "id": "e5ee46b4",
   "metadata": {
    "deletable": false,
    "editable": false
   },
   "source": [
    "Now, let's try using variables with values other than strings. \n",
    "<div class=\"alert alert-block alert-info\">\n",
    "Try the following: <br>\n",
    "1. type the line <code>a = 3.2</code> <br>\n",
    "2. under it, type the line <code>print(a)</code> <br>\n",
    "3. run the cell using the Run button at the top. <br>\n",
    "4. type the line <code>b = 4.5</code>, then type <code>print(b)</code> on the line below<br>\n",
    "5. type the line <code>c = a + b</code>, then type the line <code>print(c)</code> on the line below<br>\n",
    "6. run the cell using the Run button at the top. What did the <code>+</code> operator do this time? <br>\n",
    "7. now, replace the numerical literals (<code>3.2</code>, <code>4.5</code>) with their <b>string representations</b> (<code>\"3.2\"</code>, <code>\"4.5\"</code>), then re-run the cell. What happens this time?\n",
    "</div>"
   ]
  },
  {
   "cell_type": "code",
   "execution_count": null,
   "id": "7db867df",
   "metadata": {},
   "outputs": [],
   "source": []
  },
  {
   "cell_type": "markdown",
   "id": "acafd6e4",
   "metadata": {
    "deletable": false,
    "editable": false
   },
   "source": [
    "### 2.  A First Look at Operators\n",
    "So far, you already know and have worked with two operators:\n",
    "* ```=```  &nbsp; &nbsp;  assignment\n",
    "* ```+```  &nbsp; &nbsp;  addition or concatenation\n",
    "\n",
    "Here is a table of arithmetic operators in Python<br>\n",
    "\n",
    "| Operator | Description | Example |\n",
    "| :--: | -- | :- |\n",
    "| = | assignment | <code>a = 7</code> |\n",
    "| + | concatenation (strings) | <code>'a' + 'b'</code> evaluates to <code>'ab'</code> | \n",
    "| + | addition (numbers) | <code>3 + 4</code> evaluates to <code>7</code> | \n",
    "| - | subtraction | <code>12 - 7</code> evaluates to <code>7</code> | \n",
    "| * | multiplication (numbers) | <code>4 * 5</code> evaluates to <code>20</code> | \n",
    "| * | multiplication (strings and integers) | <code>3 * 'ab'</code> evaluates to <code>'ababab'</code> | \n",
    "| / | division | <code>20 / 3</code> evaluates to <code>6.6666666</code> |\n",
    "| ** | exponentiation | <code>2 ** 3</code> evaluates to <code>8</code> |\n",
    "| | | |\n",
    "| // | integer division | <code>20 // 3</code> evaluates to <code>6</code> |\n",
    "| % | modulus (remainder after division) | <code>20 % 3</code> evaluates to <code>2</code> | \n",
    "\n",
    "Operators are special characters (symbols) that indicate that a computation is to be performed. The values that the operator acts on are called <b>operands</b>. Operands may be either literals or variables (references to an object). <br>\n",
    "\n",
    "The operators listed above are <b>binary operators</b> because they act upon two operands, and have the general form\n",
    "<pre>\n",
    "operand1 binary_operator operand2\n",
    "</pre>\n",
    "\n",
    "There are two <b>unary</b> arithmetic operators, which act upon only one operand, with the general form\n",
    "<pre>\n",
    "unary_operator operand\n",
    "</pre>\n",
    "\n",
    "* ```-a```  &nbsp; &nbsp;  unary negative: this negates ```a``` (multiplies ```a``` by -1)\n",
    "* ```+a```  &nbsp; &nbsp;  unary positive: doesn't do anything (exists as a complement to negation)\n",
    "\n",
    "Relational (comparison) operators will be introduced below, while logical operators will appear in a later notebook.\n",
    "\n",
    "<div class=\"alert alert-block alert-info\">\n",
    "Now, let's try working with operators and variables! In the code cell below, <br>\n",
    "1. type the line <code>a = 12</code> <br>\n",
    "2. next, type the line <code>b = 4</code> <br>\n",
    "3. then, type the line <code>sum = a + b</code> <br>\n",
    "4. then, type the line <code>print(sum)</code> <br>    \n",
    "5. run the cell <br>\n",
    "6. type the line <code>diff = a - b</code> <br>\n",
    "7. then, type the line <code>print(diff)</code> and run the cell.<br>\n",
    "8. under that, type the lines <code>prod = a * b</code> and <code>print(prod)</code>, then run the cell.<br>\n",
    "9. finally, type the lines <code>quot = a / b</code> and <code>print(quot)</code>, then run the cell.<br>\n",
    "<br> Each time you run the cell, make sure the output is what you expect it to be.\n",
    "</div>"
   ]
  },
  {
   "cell_type": "code",
   "execution_count": null,
   "id": "3a598cac",
   "metadata": {},
   "outputs": [],
   "source": []
  },
  {
   "cell_type": "markdown",
   "id": "36f0efdb",
   "metadata": {
    "deletable": false,
    "editable": false
   },
   "source": [
    "What happens if you try to use operators on entities that are not numbers or strings? In the code cell below, try setting ```a```, ```b``` to the following, and trying each case with operators ```+``` and ```*```:\n",
    "\n",
    "| ```a``` | ```b``` | \n",
    "| :--: | :--: | \n",
    "| 3 | 2 | \n",
    "| 3 | \"cat\" | \n",
    "| \"dog\" | \"cat\" |\n",
    "| 3.5 | 2.2 |\n",
    "| 3.5 | \"cat\" |\n",
    "| 3.5 | True |\n",
    "| 3.5 | False |\n",
    "\n",
    "Use the four lines of code shown, and just change ```a```, ```b```, and/or the operator - do not add more lines of code to the cell!"
   ]
  },
  {
   "cell_type": "code",
   "execution_count": 13,
   "id": "ab686100",
   "metadata": {},
   "outputs": [
    {
     "name": "stdout",
     "output_type": "stream",
     "text": [
      "6\n"
     ]
    }
   ],
   "source": [
    "# code cell 2\n",
    "\n",
    "a = 3\n",
    "b = 2\n",
    "c = a * b\n",
    "print(c)"
   ]
  },
  {
   "cell_type": "markdown",
   "id": "b3cfe427",
   "metadata": {
    "deletable": false,
    "editable": false
   },
   "source": [
    "Most coding languages do not allow variables (or literals) of different data types to be operands (entities upon which an operator acts), as shown above! \n",
    "\n",
    "Java, C, C++, C#, and many other programming languages are <b>statically typed</b>: all constants or variables used in the language must be declared to be one of the recognized data types, and must have a value of that data type during program execution. Python is <b>dynamically typed</b>: the same variable can have values of different data types at different times during program execution. However, all these coding languages allow values to be converted between types. (For instance, the integer 3 becomes the floating-point value 3.0 before it is added to a floating-point number 2.2.)"
   ]
  },
  {
   "cell_type": "markdown",
   "id": "c539bb61",
   "metadata": {
    "deletable": false,
    "editable": false
   },
   "source": [
    "#### Operator precedence\n",
    "\n",
    "This is the order of precedence of arithmetic operators in Python, from highest (top) to lowest (bottom). Operators in the same row have equal precedence.  (This should be reminiscent of <b>PEMDAS</b>: <b>p</b>arentheses, <b>e</b>xponentiation, <b>m</b>ultiplication/<b>d</b>ivision, <b>a</b>ddition/<b>s</b>ubtraction.) Expressions are evaluated from left to right. Also, every open parenthesis <code>( </code> must be followed by a corresponding close parenthesis <code>) </code>!\n",
    "\n",
    "| Operator | Description |\n",
    "| :--: | :-- |\n",
    "| ```**``` | exponentiation |\n",
    "| ```-a```, ```+a``` | unary negative/positive |\n",
    "| ```*```, ```/```, ```//```, ```%``` | multiplication, division, integer division, modulo |\n",
    "| ```+```, ```-``` | addition, subtraction |"
   ]
  },
  {
   "cell_type": "code",
   "execution_count": 4,
   "id": "9b267db5",
   "metadata": {},
   "outputs": [
    {
     "name": "stdout",
     "output_type": "stream",
     "text": [
      "32.4\n",
      "\n",
      "60\n",
      "\n",
      "2.0\n",
      "\n",
      "259.2\n"
     ]
    }
   ],
   "source": [
    "# code cell 3\n",
    "\n",
    "a = 2 * 3 ** 4 / 5\n",
    "# according to operator precedence, a evaluates to 2 * (3 ** 4) / 5 = 2 * 81 / 5 = 32.4\n",
    "print(a)\n",
    "print()\n",
    "\n",
    "b = 20 + 4 * 10\n",
    "# according to operator precedence, b evaluates to 20 + (4 * 10) = 20 + 40 = 60\n",
    "print(b)\n",
    "print()\n",
    "\n",
    "c = 10 / 2 * 4 // 7\n",
    "# according to operator precedence and left-to-right evaluation, \n",
    "# c evaluates to ((10 / 2) * 4) // 7 = (5 * 4) // 7 = 20 // 7 = 2.0\n",
    "print(c)\n",
    "print()\n",
    "\n",
    "p = 2\n",
    "q = (p * 3) ** 4 / 5  \n",
    "# parentheses always override operator precedence\n",
    "# q evaluates to ((2 * 3) ** 4) / 5 = (6 ** 4) / 5 = 1296 / 5 = 259.2\n",
    "print(q)"
   ]
  },
  {
   "cell_type": "markdown",
   "id": "7dd5984b",
   "metadata": {
    "deletable": false,
    "editable": false
   },
   "source": [
    "#### TODO: figure out how students should give answers \n",
    "\n",
    "<div class=\"alert alert-block alert-info\">\n",
    "How would you evaluate these sequences of literals and operators? Using the rules above, do these by hand first, then check your work by typing each of them, one by one, in the code cell below and running the cell. <br>\n",
    "    \n",
    "1. <code>3 * (4 - 2) / 5</code> <br>\n",
    "2. <code>(3 * 4 - 2) / 5</code> <br>\n",
    "3. <code>3 * (4 - 2 / 5)</code> <br>\n",
    "4. <code>(3 * 4) - (2 / 5)</code> <br>\n",
    "5. <code>3 * 4 - 2 / 5</code> <br>\n",
    "    \n",
    "Which one of 1-4 is consistent with the way 5 evaluates, and why?\n",
    "</div>"
   ]
  },
  {
   "cell_type": "code",
   "execution_count": null,
   "id": "c28323a4",
   "metadata": {},
   "outputs": [],
   "source": []
  },
  {
   "cell_type": "markdown",
   "id": "e2c29d30",
   "metadata": {
    "deletable": false,
    "editable": false
   },
   "source": [
    "### 3. Expressions and Statements in Python\n",
    "\n"
   ]
  },
  {
   "cell_type": "markdown",
   "id": "4bdb7d31",
   "metadata": {
    "deletable": false,
    "editable": false
   },
   "source": [
    "A sequence of operators and operands is called an <b>expression</b>. An expression is simply a representation of a value. Python expressions only contain literals, variables, and operators. Expressions can have extra spaces, but not other whitespace, such as tabs or newline characters. <br>\n",
    "\n",
    "These are examples of legal expressions: <br>\n",
    "<pre>\n",
    "3 + 4 - 2.7\n",
    "(a*a+b*b)**(1/2)\n",
    "((  Tf - 32.0   ) * 9)/ 5.\n",
    "\"Hello, \"  +  name  +  \"!\"\n",
    "1.0- 2.0j\n",
    "</pre>\n",
    "\n",
    "These, not so much: <br>\n",
    "<pre>\n",
    "3 + 4 - \n",
    "a*a + b*b) ** (1/2)\n",
    "(Tf - 32. 0) * 9.0 \\ 5 .0\n",
    "\"Hello\", + name + \"!\"\n",
    "3x - 2y\n",
    "9 * print()\n",
    "</pre>"
   ]
  },
  {
   "cell_type": "markdown",
   "id": "3a802a4f",
   "metadata": {
    "deletable": false,
    "editable": false
   },
   "source": [
    "By contrast, a <b>statement</b> actually does something, such as evaluating an expression, then assigning the resulting value to a variable, or invoking a function that performs some kind of action or computation. Expressions by themselves do not do anything. (An imperfect analogy would be that expressions are to statements as phrases are to sentences.) In Python, if you write an expression in code, nothing will happen unless you assign to a variable the value that the expression evaluates to. <br>\n",
    "\n",
    "These are examples of legal statements: <br>\n",
    "<pre>\n",
    "x=3+4-2.7\n",
    "c     =  ( a*a+ b*b    ) ** (   1 /2 )\n",
    "Tc =   ( Tf- 32.0)* 5.0    /9\n",
    "print( \"Hello, \" + name + \"!\" )\n",
    "inStr = input  ( \"Enter a number: \")\n",
    "t.home()\n",
    "t.speed(2)\n",
    "</pre>\n",
    "\n",
    "Again, these, not so much: <br>\n",
    "<pre>\n",
    "x - 3 = 4 - 2.7\n",
    "(a*a + b*b) ** (1/2) = c\n",
    "Tc = Tf - 32.0) * 5.0 / 9\n",
    "print(\"Hello, \" + name \"!\")\n",
    "input(Enter a number: )\n",
    "t.home\n",
    "t.speed() = 2\n",
    "</pre>"
   ]
  },
  {
   "cell_type": "markdown",
   "id": "6019e290",
   "metadata": {
    "deletable": false,
    "editable": false
   },
   "source": [
    "#### TODO: figure out how students should give answers \n",
    "\n",
    "<div class=\"alert alert-block alert-info\">\n",
    "Now, your turn! For each, (a) is it an expression, or is it a statement? (b) is it legal? (c) if not, make it legal <br>\n",
    "    \n",
    "1. <code>(Tf - 32) * 9 / 5 != Tc </code> <br>\n",
    "2. <code> Tc = Tf - 32 * 5 / 9 </code> <br>\n",
    "3. <code> )Tf - 32( * 5 / 9 </code> <br>\n",
    "4. <code>greeting = \"Hello, \" + </code> <br>\n",
    "5. <code>greeting = 'Hello, \" </code> <br>    \n",
    "6. <code>(a - b </code> <br>\n",
    "7. <code>(a - b) * c)</code> <br>\n",
    "8. <code>d = ((a - b) * c)</code> <br>\n",
    "9. <code>hello, world</code> <br>\n",
    "10. <code>\"hello,\" + ' world'</code> <br>\n",
    "11. <code>print(greeting)</code> <br>\n",
    "12. <code>print greeting </code> <br>\n",
    "13. <code>input()</code> <br>\n",
    "14. <code>32x + 17y</code> <br>\n",
    "15. <code>32 + 17j</code> <br>\n",
    "</div>"
   ]
  },
  {
   "cell_type": "code",
   "execution_count": null,
   "id": "a1cd70d4",
   "metadata": {},
   "outputs": [],
   "source": []
  },
  {
   "cell_type": "markdown",
   "id": "696b83d5",
   "metadata": {
    "deletable": false,
    "editable": false
   },
   "source": [
    "#### Assignment statements in Python\n",
    "\n",
    "In programming languages, the statement ```a = 4``` means that the value 4 is being assigned to the variable ```a```.  While a mathematical (in)equality can have expressions on both the left-hand side (LHS) and right-hand side (RHS) of a relational operator (```=```, ```<```, ```>```, ```≠```, ```≤```, ```≥```), this is NOT TRUE for an assignment statement. The LHS can only have a single variable, but the RHS may contain any legal expression. Statements involving <code>=</code> have the general form\n",
    "<pre>\n",
    "variable = RHS_expression\n",
    "</pre>\n",
    "\n",
    "Here are some examples and counterexamples: <br>\n",
    "\n",
    "| Statement | Meaning |\n",
    "| :-- | :-- |\n",
    "| ```x = -0.7071``` | \"the value -0.7071 is being assigned to the variable ```x```\" |\n",
    "| ```z = 3 + 4.3j``` | \"the complex value 3 + 4j is being assigned to the variable ```z```\" |\n",
    "| ```c = a + b - 4``` | \"the value of the expression ```a + b - 4``` is being assigned to the variable ```c```\" |\n",
    "| ```a + b = 4``` | this is ILLEGAL: the LHS must not contain more than one variable |\n",
    "| ```0 = d ``` | this is ILLEGAL: the LHS is not a variable |"
   ]
  },
  {
   "cell_type": "code",
   "execution_count": null,
   "id": "05c57ba9",
   "metadata": {},
   "outputs": [],
   "source": []
  },
  {
   "cell_type": "markdown",
   "id": "6306fed6",
   "metadata": {
    "deletable": false,
    "editable": false
   },
   "source": [
    "#### Relational (or comparison) operators\n",
    "\n",
    "In mathematics, equality (denoted by <code>=</code>) and inequality (denoted by <code>≠</code>, or more precisely, by ```<```, ```>```, ```≤```, or ```≥```) express a <b>relationship</b> between two mathematical expressions. For an equality relation <code>A = B</code>, expressions <code>A</code> and <code>B</code> have the same value. Likewise, for an inequality like ```A < B```, expression <code>A</code> evaluates to a value that is less than the value that expression <code>B</code> evaluates to. However, in coding, the left-hand side expression ```A``` is a single variable, while ```B``` is an expression whose value may depend on the values of other variables. In this case, the relation ```A == B``` is not an assignment of the value of expression ```B``` to variable ```A```, nor is it an equation to be solved. Instead, it is a <b>proposition</b> which may sometimes be true, and sometimes be false, depending on what values the expression ```B``` can take. We will learn more about propositions later on, in preparation for conditionals (```if```-statements).\n",
    "\n",
    "In Python, as in Java, C, C++, C#, and many other coding languages, symbols such as ```<```, ```>```, ```≤```, ```≥```, ```==```, and ```!=``` are known as <b>relational</b> or <b>comparison operators</b>. Correct expressions that contain these operators return a Boolean value of <code>True</code> or <code>False</code>.  Also, note that relational operators are binary operators whose two operands are on the left- and right-hand sides of the operator. These have the general form\n",
    "<pre>\n",
    "LHS_expression relational_operator RHS_expression\n",
    "</pre>\n",
    "which we will abbreviate to\n",
    "<pre>\n",
    "LHS_expr rel_op RHS_expr\n",
    "</pre>\n",
    "\n",
    "| Operator |  Meaning  |\n",
    "| :--: | :-- |\n",
    "| == | is equal to |\n",
    "| != | is not equal to |\n",
    "| < | is less than |\n",
    "| > | is greater than |\n",
    "| <= | is less than or equal to |\n",
    "| >= | is greater than or equal to |\n"
   ]
  },
  {
   "cell_type": "markdown",
   "id": "808f0353",
   "metadata": {
    "deletable": false
   },
   "source": [
    "#### Important!\n",
    "The use of ```==``` is often a source of confusion for beginners - it does NOT have the same meaning as ```=```, the assignment operator that we saw earlier.\n",
    "\n",
    "The \"is equal to\" relational operator ```==``` evaluates expressions on its RHS and LHS, and <b>compares</b> their values.\n",
    "\n",
    "* ```x == 3 - 4 * 2``` means \"evaluate the RHS expression (its value is -5), and <b>compare</b> it to the value of ```x```\". <br>\n",
    "This entire expression has the value of ```True``` if they are equal, ```False``` otherwise. This DOES NOT assign a value to ```x```!\n",
    "\n",
    "The \"equals\", or assignment, operator ```=``` evaluates the expression on its RHS, and <b>assigns</b> its value to\n",
    "a single variable on the left-hand side. (Expressions other than a single variable are NOT allowed on the LHS of ```=```.)\n",
    "\n",
    "* ```x = 3 - 4 * 2``` means \"evaluate the RHS expression (its value is -5), and <b>assign</b> that value to ```x```\" <br>\n",
    "This is more than just an expression - it is a statement. This DOES assign a value to the variable ```x```.\n",
    "\n",
    "<br> For the relational operator examples below, suppose that we have these assignments: <br>\n",
    "<pre>\n",
    "a = 1 \n",
    "b = 1.2\n",
    "c = -3\n",
    "d = -5.3\n",
    "e = \"2.7\" \n",
    "</pre>\n",
    "\n",
    "Let's run the code cell below to see what the relational expressions evaluate to: "
   ]
  },
  {
   "cell_type": "code",
   "execution_count": 14,
   "id": "463b79c8",
   "metadata": {},
   "outputs": [
    {
     "name": "stdout",
     "output_type": "stream",
     "text": [
      "a == 1 is \n",
      "True\n",
      "\n",
      "a > -1 is \n",
      "True\n",
      "\n",
      "b < 1 is \n",
      "False\n",
      "\n",
      "c >= 0 is \n",
      "False\n",
      "\n",
      "c <= d is \n",
      "False\n",
      "\n",
      "e == \"2.7\" is \n",
      "True\n",
      "\n"
     ]
    }
   ],
   "source": [
    "# code cell 4?\n",
    "\n",
    "a = 1\n",
    "b = 1.2\n",
    "c = -3\n",
    "d = -5.3\n",
    "e = \"2.7\"\n",
    "\n",
    "print(\"a == 1 is \") # True\n",
    "print(a == 1)\n",
    "print()\n",
    "\n",
    "print(\"a > -1 is \") # True\n",
    "print(a > -1)\n",
    "print()\n",
    "\n",
    "print(\"b < 1 is \") # False\n",
    "print(b < 1)  \n",
    "print()\n",
    "\n",
    "print(\"c >= 0 is \") # False\n",
    "print(c >= 0)  \n",
    "print()\n",
    "\n",
    "print(\"c <= d is \") # False\n",
    "print(c <= d)  \n",
    "print()\n",
    "\n",
    "print(\"e == \\\"2.7\\\" is \") # True\n",
    "print(e == \"2.7\")  \n",
    "print()"
   ]
  },
  {
   "cell_type": "markdown",
   "id": "8cebad9b",
   "metadata": {
    "deletable": false,
    "editable": false
   },
   "source": [
    "#### Relational expressions\n",
    "\n",
    "The following are examples of relational expressions:\n",
    "\n",
    "| Expression | Meaning |\n",
    "| :-- | :-- |\n",
    "| ```x - 8 == 3 - 4 * 2``` | \"evaluates to ```True``` if ```x = 3```, ```False```  otherwise\" |\n",
    "| ```Tc < (Tf - 32) * 5 / 9``` | \"evaluates to ```True``` if ```Tc < (Tf - 32)* 5 / 9```, ```False``` otherwise\" |\n",
    "| ```Tc >= (Tf - 32) * 5 / 9``` | \"evaluates to ```True``` if ```Tc > (Tf - 32) * 5 / 9``` OR ```Tc = (Tf - 32) * 5 / 9```, ```False``` otherwise\" |\n",
    "| ```a + b != 5 - 2 * x``` | \"evaluates to ```True``` if ```a + b ≠ 5 - 2 * x```, ```False```  otherwise\" |\n",
    "\n",
    "Note that relational operators do NOT assign (set) any values to the variable on the left-hand side (LHS) of these expressions. They simply compare the values of the LHS and RHS of the relational operator, and the entire expression evaluates to the logical value ```True``` or ```False```. Also, relational operators, including ```==```, may have expressions on both their LHS and RHS.\n",
    "\n",
    "For a relational expression to actually \"do something\", the logical value that its evaluates to could be assigned to a variable of Boolean (logical) data type. That would turn the expression into a statement (which does something, like assigning a value). The following are legal statements involving relational expressions (enclosed in red parentheses for clarity):\n",
    "<pre>\n",
    "bIsXNeg5 = <font color='red'><b>(</b></font>x == 3 - 4 * 2<font color='red'><b>)</b></font>\n",
    "bIsCelsius = <font color='red'><b>(</b></font>Tc == (Tf - 32) * 5 / 9<font color='red'><b>)</b></font>\n",
    "bIsUnequal = <font color='red'><b>(</b></font>a + b != 5 - 2 * x<font color='red'><b>)</b></font>\n",
    "bIsNotHypotenuse = <font color='red'><b>(</b></font>c < (a*a + b*b) ** 0.5<font color='red'><b>)</b></font>\n",
    "</pre>\n",
    "\n",
    "However, as we will see later, relational expressions are often used as a Boolean input to an ```if``` or ```while``` statement, which branches execution (jumps to another part of the code) based on whether the relational expression evaluates to ```True``` or ```False```."
   ]
  },
  {
   "cell_type": "markdown",
   "id": "c4ef2927",
   "metadata": {
    "deletable": false,
    "editable": false
   },
   "source": [
    "#### Debug-it Exercises - TODO: figure out how students should give answers \n",
    "\n",
    "<div class=\"alert alert-block alert-info\">\n",
    "Now, your turn! For each, (a) is it an expression, or is it a statement? (b) is it legal? (c) if not, make it legal <br>\n",
    "    \n",
    "1. <code>True = x</code> <br>\n",
    "2. <code>x = True</code> <br>\n",
    "3. <code>True == x</code> <br>\n",
    "4. <code>x + y = 'Hello, world!'</code> <br>\n",
    "5. <code>x + y > \"Hello, world!\"</code> <br>\n",
    "6. <code>a == 3.3</code> <br>\n",
    "7. <code>3.3 == a</code> <br>\n",
    "8. <code>3.3 > a</code> <br>\n",
    "9. <code>3.3 = a</code> <br>\n",
    "10. <code>3 * x - 2 * y \\<= 5</code> <br>\n",
    "11. <code>3 * x - 2 * y = 5</code> <br>\n",
    "12. <code>print(x == 4)</code> <br>\n",
    "13. <code>print('x = 4')</code> <br>\n",
    "14. <code>print(x = 4)</code> <br>\n",
    "15. <code>2.5 * \"False\"</code> <br>\n",
    "16. <code>2 * 'False'</code> <br>\n",
    "17. <code>2 * False</code> <br>\n",
    "</div>"
   ]
  },
  {
   "cell_type": "code",
   "execution_count": null,
   "id": "62b0fd07",
   "metadata": {},
   "outputs": [],
   "source": []
  },
  {
   "cell_type": "markdown",
   "id": "1c5400b7",
   "metadata": {
    "deletable": false,
    "editable": false
   },
   "source": [
    "### 4. More Fun With <code>turtle</code>"
   ]
  },
  {
   "cell_type": "markdown",
   "id": "6b77e0fa",
   "metadata": {
    "deletable": false,
    "editable": false
   },
   "source": [
    "Now that you know more code constructs involving variables, operators, and expressions, it's time to put them to work! In the previous notebook, you wrote a program to make the turtle trace out a square whose side lengths were 100 pixels (2 paces):"
   ]
  },
  {
   "cell_type": "code",
   "execution_count": 14,
   "id": "88826802",
   "metadata": {},
   "outputs": [
    {
     "data": {
      "application/vnd.jupyter.widget-view+json": {
       "model_id": "731fecb1d68b4b58af134c5d2cad1e57",
       "version_major": 2,
       "version_minor": 0
      },
      "text/plain": [
       "Turtle()"
      ]
     },
     "metadata": {},
     "output_type": "display_data"
    }
   ],
   "source": [
    "# code cell 5\n",
    "\n",
    "from mobilechelonian import Turtle\n",
    "\n",
    "t = Turtle()\n",
    "t.speed(5)\n",
    "\n",
    "t.penup()\n",
    "t.home()\n",
    "\n",
    "t.pendown()\n",
    "t.forward(100)\n",
    "t.right(90)\n",
    "t.forward(100)\n",
    "t.right(90)\n",
    "t.forward(100)\n",
    "t.right(90)\n",
    "t.forward(100)\n",
    "t.right(90)\n",
    "\n",
    "t.penup()"
   ]
  },
  {
   "cell_type": "markdown",
   "id": "d49aaef7",
   "metadata": {
    "deletable": false,
    "editable": false
   },
   "source": [
    "But now, suppose we want to make the turtle trace a square of a side length that is not 100 pixels, but some value that we specify in advance. We don't want to have to change the value <code>100</code> each time it appears in the code above with the new value. The way to do this is to use a variable to which we assign the side length. Run the cell below a few times, but change the value of <code>sidelen</code> each time to a number between 0 and 200. What happens if you use a negative number?"
   ]
  },
  {
   "cell_type": "code",
   "execution_count": 2,
   "id": "7270c897",
   "metadata": {},
   "outputs": [
    {
     "data": {
      "application/vnd.jupyter.widget-view+json": {
       "model_id": "7d77aa7bff48431882caf2fda500d786",
       "version_major": 2,
       "version_minor": 0
      },
      "text/plain": [
       "Turtle()"
      ]
     },
     "metadata": {},
     "output_type": "display_data"
    }
   ],
   "source": [
    "# code cell 6\n",
    "\n",
    "from mobilechelonian import Turtle\n",
    "\n",
    "t = Turtle()\n",
    "t.speed(5)\n",
    "\n",
    "sidelen = 50\n",
    "t.penup()\n",
    "t.home()\n",
    "\n",
    "t.pendown()\n",
    "t.forward(sidelen)\n",
    "t.right(90)\n",
    "t.forward(sidelen)\n",
    "t.right(90)\n",
    "t.forward(sidelen)\n",
    "t.right(90)\n",
    "t.forward(sidelen)\n",
    "t.right(90)\n",
    "\n",
    "t.penup()"
   ]
  },
  {
   "cell_type": "markdown",
   "id": "2260f22b",
   "metadata": {
    "deletable": false,
    "editable": false
   },
   "source": [
    "In the previous notebook, you may have also discovered that, in order to make a square (regular polygon of 4 sides), the turtle needs to make a turn at each corner whose angle is 360°/4 = 90°, while making a regular octagon (8 sides), the turtle needs to turn 360°/8 = 45° at each corner. Likewise, to make a regular hexagon (6 sides), the turtle needs to turn 360°/6 = 60° at each corner. What if we want to make a regular polygon having a specified number of sides that we specify in advance? We can do this using an expression for <code>angle</code> to which we assign the value <code>360 / numsides</code>, where <code>numsides</code> is the number of sides.\n",
    "\n",
    "In the code below, note that we have to repeat the sequence\n",
    "<pre>\n",
    "t.forward(sidelen)\n",
    "t.right(angle)\n",
    "</pre>\n",
    "for each side of the polygon we draw. Thus, we only have four repeats of these two lines to draw a square, or six repeats of this sequence to draw a hexagon. Later, we will learn about loops (iteration), so that we don't have to change our code and add or delete these sequences each time we change the number of sides."
   ]
  },
  {
   "cell_type": "code",
   "execution_count": 3,
   "id": "cd62fa3e",
   "metadata": {},
   "outputs": [
    {
     "data": {
      "application/vnd.jupyter.widget-view+json": {
       "model_id": "bc60746ac11d46bfb734744b11011a6e",
       "version_major": 2,
       "version_minor": 0
      },
      "text/plain": [
       "Turtle()"
      ]
     },
     "metadata": {},
     "output_type": "display_data"
    }
   ],
   "source": [
    "# code cell 7\n",
    "\n",
    "from mobilechelonian import Turtle\n",
    "\n",
    "t = Turtle()\n",
    "t.speed(5)\n",
    "\n",
    "sidelen = 50\n",
    "numsides = 6\n",
    "angle = 360 / numsides\n",
    "t.penup()\n",
    "t.home()\n",
    "\n",
    "t.pendown()\n",
    "t.forward(sidelen)\n",
    "t.right(angle)\n",
    "t.forward(sidelen)\n",
    "t.right(angle)\n",
    "t.forward(sidelen)\n",
    "t.right(angle)\n",
    "t.forward(sidelen)\n",
    "t.right(angle)\n",
    "t.forward(sidelen)\n",
    "t.right(angle)\n",
    "t.forward(sidelen)\n",
    "t.right(angle)\n",
    "\n",
    "t.penup()"
   ]
  },
  {
   "cell_type": "markdown",
   "id": "98f4329b",
   "metadata": {
    "deletable": false,
    "editable": false
   },
   "source": [
    "<div class=\"alert alert-block alert-info\">\n",
    "Now, you try! Take the code that you wrote in the previous notebook for a pattern or figure that you had your turtle draw. Create variables for the literals that you used for lengths or angles of that figure, then use that variable to easily scale your figure so that you can draw it (a) half the size, and (b) 1-1/2 times the size of the original figure.\n",
    "</div>"
   ]
  },
  {
   "cell_type": "code",
   "execution_count": null,
   "id": "0a725da6",
   "metadata": {},
   "outputs": [],
   "source": []
  }
 ],
 "metadata": {
  "celltoolbar": "Edit Metadata",
  "kernelspec": {
   "display_name": "Python 3 (ipykernel)",
   "language": "python",
   "name": "python3"
  },
  "language_info": {
   "codemirror_mode": {
    "name": "ipython",
    "version": 3
   },
   "file_extension": ".py",
   "mimetype": "text/x-python",
   "name": "python",
   "nbconvert_exporter": "python",
   "pygments_lexer": "ipython3",
   "version": "3.9.2"
  }
 },
 "nbformat": 4,
 "nbformat_minor": 5
}
