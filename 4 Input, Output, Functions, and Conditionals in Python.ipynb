{
 "cells": [
  {
   "cell_type": "markdown",
   "id": "4a5e308f",
   "metadata": {
    "deletable": false,
    "editable": false
   },
   "source": [
    "## **4 Input, Output, Functions, and Conditionals in Python**"
   ]
  },
  {
   "cell_type": "markdown",
   "id": "880adaf4",
   "metadata": {
    "deletable": false,
    "editable": false
   },
   "source": [
    "### 1. Getting User Input: <code>input()</code> Always Returns a String!\n",
    "Recall from the previous notebook that we can use <code>input()</code> to prompt the user to enter characters at the keyboard. When the user hits ENTER, <code>input()</code> turns the characters that the user types into a string, which is then assigned to the variable on the left-hand side (LHS) of the assignment operator <code>=</code>. In code cell 1 below, note that the program will not run past line 4 until the user hits ENTER, at which point execution resumes at line 5, and completes after line 6 has run. \n",
    "\n",
    "Run the cell below to see this:  "
   ]
  },
  {
   "cell_type": "code",
   "execution_count": null,
   "id": "bbe067ec",
   "metadata": {
    "deletable": false
   },
   "outputs": [],
   "source": [
    "# code cell 1\n",
    "\n",
    "prompt = \"enter a name: \"\n",
    "name = input(prompt)\n",
    "greeting = \"Hello, \" + name + \"!\"\n",
    "print(greeting)"
   ]
  },
  {
   "cell_type": "markdown",
   "id": "4401e14c",
   "metadata": {
    "deletable": false,
    "editable": false
   },
   "source": [
    "<br>In the code above, <code>input()</code> takes an <b>argument</b> (also called a <b>parameter</b>) between its parentheses. In this case, the argument is a a variable whose value is a string, but it could also be a string literal, as we saw before. This code prints a <b>prompt</b> to the user, who then enters some text at the keyboard. When the user hits ENTER, the program resumes with line 5 immediately after the <code>input()</code> statement, and completes after running line 6. <br>\n",
    "\n",
    "However, what happens if we try to do arithmetic with user input? Run code cell 2 below, and notice the output."
   ]
  },
  {
   "cell_type": "code",
   "execution_count": null,
   "id": "9d9b98ed",
   "metadata": {
    "deletable": false
   },
   "outputs": [],
   "source": [
    "# code cell 2\n",
    "\n",
    "prompt1 = \"enter the first number: \"\n",
    "a = input(prompt1)\n",
    "\n",
    "prompt2 = \"enter the second number: \"\n",
    "b = input(prompt2)\n",
    "\n",
    "c = a + b\n",
    "print(\"the sum of the two numbers is \" + c)"
   ]
  },
  {
   "cell_type": "markdown",
   "id": "8eaf1e8c",
   "metadata": {
    "deletable": false,
    "editable": false
   },
   "source": [
    "Remember what the <code>+</code> operator does when its operands (the things it operates upon) are strings instead of numbers? What data type does <code>input()</code> assign to <code>a</code> and to <code>b</code>? How do you think we can fix this, so that the program prints out the arithmetic sum of the two numbers?<br>\n",
    "\n",
    "<code>input()</code> returns a <b>string</b> consisting of the text characters that the user typed in at the keyboard. In the statement <code>a = input(prompt1)</code>, <code>input()</code> <b>returns</b> a string that is then <b>assigned</b> to the variable <code>a</code>. Likewise, in <code>b = input(prompt2)</code>, the string that <code>input()</code> <b>returns</b> is <b>assigned</b> to <code>b</code>. Both <code>a</code> and <code>b</code> are variables that hold values whose data types are strings. Note that this is <b>not</b> what happened when we set <code>a</code> and <code>b</code> to numerical literal values:"
   ]
  },
  {
   "cell_type": "code",
   "execution_count": null,
   "id": "3744d4c9",
   "metadata": {
    "deletable": false
   },
   "outputs": [],
   "source": [
    "# code cell 3\n",
    "\n",
    "a = 3.4\n",
    "print(\"the first number is \" + str(a))\n",
    "\n",
    "b = 2.7\n",
    "print(\"the second number is \" + str(b))\n",
    "\n",
    "c = a + b\n",
    "print(\"the sum of the two numbers is \" + str(c))"
   ]
  },
  {
   "cell_type": "markdown",
   "id": "3608690c",
   "metadata": {
    "deletable": false,
    "editable": false
   },
   "source": [
    "What do you notice that's different about the <code>print()</code> statements in the previous code cell? What happens if we remove the <code>str()</code> function around <code>a</code>, <code>b</code>, or <code>c</code>?<br>\n",
    "\n",
    "This example illustrates two important things: <br>\n",
    "1. The <code>print()</code> function only prints strings, or expressions that evaluate to a string <br>\n",
    "2. The <code>str()</code> function converts what it operates on to a string <br> \n",
    "\n",
    "Do you think there's something like <code>str()</code> to turn strings into numbers? \n",
    "\n",
    "The next code cell seems to show counterexamples to #1 above, but let's examine this more closely:"
   ]
  },
  {
   "cell_type": "code",
   "execution_count": null,
   "id": "17830f59",
   "metadata": {
    "deletable": false
   },
   "outputs": [],
   "source": [
    "# code cell 4\n",
    "\n",
    "a = 3.4\n",
    "print(\"the first number is \")\n",
    "print(a)\n",
    "print(\"the first number is\", a)\n",
    "# this won't work - why?\n",
    "# print(\"the first number is \" + a)\n",
    "print()\n",
    "\n",
    "b = 2.7\n",
    "print(\"the second number is \")\n",
    "print(b)\n",
    "print(\"the second number is\", end=\" \")\n",
    "print(b)\n",
    "print()\n",
    "\n",
    "# 1: using print() with sep and end\n",
    "print(\"1: the sum of the two numbers\", end=\" \")\n",
    "print(a, b, sep=\" and \", end=\" is \")\n",
    "print(a + b)\n",
    "\n",
    "# 2: using print() with only commas\n",
    "print(\"2: the sum of the two numbers\", a, \"and\", b, \"is\", a+b)\n",
    "\n",
    "# 3: using print() with only + (concatenation operators)\n",
    "print(\"3: the sum of the two numbers \" + str(a) + \" and \" + str(b) + \" is \" + str(a+b))\n",
    "\n",
    "# 4: building up the string using a variable s, concatenation operators, and augmented assignment operators\n",
    "s = \"4: the sum of the two numbers \"\n",
    "s = s + str(a)\n",
    "s = s + \" and \"\n",
    "s = s + str(b)\n",
    "s += \" is \"\n",
    "s += str(a+b)\n",
    "print(s)"
   ]
  },
  {
   "cell_type": "markdown",
   "id": "deb8157a",
   "metadata": {
    "deletable": false,
    "editable": false
   },
   "source": [
    "It turns out that, if <code>print()</code> has a *single* <b>argument</b> like <code>a</code> or <code>b</code> that is numerical, or if it has an <b>expression</b> that evaluates to a number, then <code>print()</code> will print the <b>string representation</b> of that argument or expression. <br>\n",
    "\n",
    "Two other behaviors of <code>print()</code> that you should be aware of: <br> \n",
    "\n",
    "(1) it takes multiple <b>positional</b> arguments separated by commas. These arguments will be converted to strings (using <code>str()</code> \"under the hood\") and printed in the order they were specified, but with a single space separating each. <br>\n",
    "\n",
    "(2) it can take a <b>keyword</b> arguments, such as <code>end=\"x\"</code>, where <code>x</code> is a character or sequence of characters that will be used to terminate the line instead of the default newline character <code>\\n</code>. This is useful if you want to use multiple <code>print()</code> statements to print out a string all on one line. Another keyword argument is <code>sep=\"z\"</code>, where <code>z</code> is a character or sequence of characters that will be used to separate successive positional arguments. This is useful if you want to print a sequence of arguments separated by a comma, space, slash, hyphen, or some other character. <br>\n",
    "\n",
    "Read more about it here: [Your Guide to the Python <code>print()</code> Function](https://realpython.com/python-print/)\n"
   ]
  },
  {
   "cell_type": "markdown",
   "id": "12fc9bb3",
   "metadata": {
    "deletable": false,
    "editable": false
   },
   "source": [
    "### 2. Functions\n",
    "\n",
    "A <b>function</b> in Python is similar to a function key on a calculator - you give the function a number as <b><font color=\"red\">input</font></b>, and then the function returns something as <b><font color=\"blue\">output</font></b>. In general, functions have the syntax\n",
    "<pre>\n",
    "    <font color='blue'>variablename</font> = functionname(<font color='red'>param [,param]</font>)\n",
    "</pre>\n",
    "Inside the parentheses are <b>parameters</b> or <b>arguments</b> which are the <b><font color='red'>inputs</font></b> (\"gozintas\") to the function (what it acts upon). The function call is on the right-hand side (RHS) of an <code>=</code> sign, the <b>assignment operator</b>. Thus, the <b><font color='blue'>output</font></b> (\"gozoutas\") that the function returns is assigned to the variable on the left-hand side (LHS) of the <code>=</code> sign.\n",
    "\n",
    "For the <code>input()</code> function, the argument that it takes is a string, or an expression that evaluates to a string. The only thing <code>input()</code> does with this input is to print the string to the console (screen) before displaying a text box and cursor, which will capture what the user types in at the keyboard before hitting ENTER. <br><br>\n",
    "\n",
    "Despite how simple it seems so far, the <code>print()</code> function is actually quite versatile and complex. It is one of many <b>built-in</b> functions, which are available to all Python users. The packages or modules where these functions are defined do NOT need to be installed or imported - these functions are built into the language.\n",
    "\n",
    "We have seen how <code>print()</code> by itself, with no arguments (that is, no inputs between its parentheses), does nothing except to print a blank line. We have also seen how a statement like \n",
    "<pre>\n",
    "print(\"Hello, \" + name + \"!\")\n",
    "</pre>\n",
    "prints a string consisting of the literal string <code>\"Hello, \"</code>, the string stored in the variable <code>name</code>, and an exclamation point. In this case, the argument of <code>print()</code> is an expression <code>\"Hello,\" + name + \"!\"</code>, which evaluates to a string. <code>print()</code> evaluates the expression first, then prints to the screen the string that the expression evaluates to.\n"
   ]
  },
  {
   "cell_type": "markdown",
   "id": "c6e44b68",
   "metadata": {
    "deletable": false,
    "editable": false
   },
   "source": [
    "In this code snippet\n",
    "<pre>\n",
    "a = 3.4\n",
    "print(\"The first number is \" + a)\n",
    "</pre>\n",
    "the variable <code>a</code> holds a value of numeric data type (namely, a floating-point number). However, <code>print()</code> can only print strings, or expressions that evaluate to a string. The expression <code>\"The first number is \" + a</code> does NOT evaluate to a string because the literal is of string data type, while <code>a</code> is of numerical data type, so the operator <code>+</code> does not know what to do - its two operands must both be strings or numbers, or else an error occurs.\n",
    "\n",
    "Notice that, in code cell #3 above, we used another function, <code>str()</code>. In the statement \n",
    "<pre>\n",
    "print(\"The first number is \" + str(a))\n",
    "</pre>\n",
    "<code>str()</code> takes <code>a</code> as its input (argument), and returns a <b>string representation</b> <code>\"3.4\"</code> of its floating-point value, <code>3.4</code>. Thus, in this version of the code, the expression <code>\"The first number is \" + str(a)</code> has strings for both operands of <code>+</code>, so it evaluates to a string that <code>print()</code> can print!"
   ]
  },
  {
   "cell_type": "markdown",
   "id": "fb15afaa",
   "metadata": {
    "deletable": false,
    "editable": false
   },
   "source": [
    "Conversely, there are two functions, <code>float()</code> and <code>int()</code>, which sort of do the opposite of <code>str()</code>. <code>float()</code> takes the string representation of a number as its input, and returns its actual numerical value (as a floating-point number). Likewise, <code>int()</code> takes the string representation of a number as its input, and returns its actual numerical value (as an integer). However, the string representation of an integer MUST NOT have any decimal points or leading zeros! <br>\n",
    "\n",
    "In the code cell below, we see how <code>str()</code>, <code>float()</code>, and <code>int()</code> functions are used. What happens if you enter integers for the first two numbers? What happens if you enter floating-point numbers for the second two numbers?"
   ]
  },
  {
   "cell_type": "code",
   "execution_count": null,
   "id": "dbb975af",
   "metadata": {
    "deletable": false
   },
   "outputs": [],
   "source": [
    "# code cell 5\n",
    "\n",
    "strA = input(\"enter the first number: \")\n",
    "strB = input(\"enter the second number: \")\n",
    "A = float(strA)\n",
    "B = float(strB)\n",
    "C = A + B\n",
    "strC = str(C)\n",
    "print(\"the sum of the two numbers \" + strA + \" and \" + strB + \" is \" + strC)\n",
    "print(\"the sum of the two numbers\", A, \"and\", B, \"is\", C)\n",
    "print()\n",
    "\n",
    "strA = input(\"now enter an integer: \")\n",
    "strB = input(\"enter a second integer: \")\n",
    "A = int(strA)\n",
    "B = int(strB)\n",
    "C = A * B\n",
    "strC = str(C)\n",
    "print(\"the product of the two integers \" + strA + \" and \" + strB + \" is \" + strC)"
   ]
  },
  {
   "cell_type": "markdown",
   "id": "8db846a4",
   "metadata": {
    "deletable": false,
    "editable": false
   },
   "source": [
    "<div class=\"alert alert-block alert-info\">\n",
    "Your turn! In the code cell below, <br>\n",
    "    \n",
    "1. Modify the code so that <code>c</code> is the actual product of the floating-point numbers represented by strings <code>a</code> and <code>b</code> <br>\n",
    "2. Run the cell, enter two numbers, and verify that the code produces the correct result. (Don't forget to save the notebook after doing this!) <br>\n",
    "3. Create a new code cell below this, then copy your code into it. <br>\n",
    "4. Now, run the new code cell, but input <b>non-numerical</b> values for <code>a</code> and <code>b</code> - what happens? (Save your notebook after doing this, too.)<br>\n",
    "    \n",
    "<b>Extra challenge</b>: when you do #4, your program will crash (\"exit ungracefully\"). Can you figure out a way to \"validate\" the input? That is, if the user enters a non-numerical value (perhaps because of a typo), let the user know that what they've entered is not a number, and give them another chance to enter a number.\n",
    "</div>"
   ]
  },
  {
   "cell_type": "code",
   "execution_count": null,
   "id": "afe94263",
   "metadata": {
    "deletable": false
   },
   "outputs": [],
   "source": [
    "# this code will not run as written, unless you make the changes specified in the exercise above\n",
    "\n",
    "a = input(\"enter a number: \")\n",
    "b = input(\"enter another number: \")\n",
    "print(\"the two numbers you entered were \" + a + \" and \" + b)\n",
    "\n",
    "c = a * b\n",
    "print(\"the product of a and b is\", c)"
   ]
  },
  {
   "cell_type": "code",
   "execution_count": null,
   "id": "daf855bf",
   "metadata": {},
   "outputs": [],
   "source": []
  },
  {
   "cell_type": "markdown",
   "id": "acafd6e4",
   "metadata": {
    "deletable": false,
    "editable": false
   },
   "source": [
    "### 3.  More Built-in Functions\n",
    "There is a large number of [built-in functions](https://www.javatpoint.com/python-built-in-functions) in Python. We have already seen <code>print()</code>, <code>input()</code>, <code>str()</code>, <code>float()</code>, and <code>type()</code>. Here, we will only cover some of the more frequently used built-in functions: <code>int()</code>, <code>abs()</code>, <code>min()</code>, <code>max()</code>, <code>round()</code>, <code>type()</code>, and <code>len()</code>. <br><br>\n",
    "\n",
    "| Function |  Description  |  Example  |\n",
    "| --: | :-- | :-- |\n",
    "| <code>float()</code> | converts the specified value into a floating point number | <code>x = float(s)</code> |\n",
    "| <code>int()</code> | converts the specified value into an integer | <code>x = int(s)</code> |\n",
    "| <code>str()</code> | converts the specified value into its string representation | <code>s = str(x)</code> |\n",
    "| <code>abs()</code> | returns the absolute value of the specified number | <code>a = abs(x)</code> |\n",
    "| <code>min()</code> | returns the item with the smallest value | <code>m = min(x1, x2, ... , xN)</code> |\n",
    "| <code>max()</code> | returns the item with the largest value | <code>M = max(x1, x2, ... , xN)</code> |\n",
    "| <code>round()</code> | returns a <code>float</code> that is the specified number rounded to a specified number of decimal places | <code>n = round(x)</code> |\n",
    "| <code>type()</code> | returns the type of a specified object | <code>t = type(x)</code> |\n",
    "| <code>len()</code> | returns the number of characters in a string | <code>n = len(s)</code> |\n",
    "\n",
    "Note that these functions expect input(s) of a certain data type, and produce output (that is, return a value) that may be of the same or a different data type. They can also do different things depending on the data type of the input. For instance, <code>float()</code> can take the string representation of a number, and return the actual number (as a float). However, if we use <code>float()</code> on an input that is an integer, it returns a floating-point number whose value is equal to the integer. Likewise, <code>int()</code> can take the string representation of an integer (NOT a floating-point number!), and return the actual number (as an integer). However, if we use <code>int()</code> on an input that is a floating-point number, it returns the integer part of the floating-point number (that is, it truncates the fractional part - it does not round the number to the nearest integer!)."
   ]
  },
  {
   "cell_type": "code",
   "execution_count": null,
   "id": "e566c77f",
   "metadata": {
    "deletable": false
   },
   "outputs": [],
   "source": [
    "# code cell 6\n",
    "\n",
    "s1 = \"5.9\"\n",
    "print(\"'\" + s1 + \"'\", end=\" \")\n",
    "print(\"is of data type \" + str(type(s1)), end=\" \")\n",
    "print(\"and has length \" + str(len(s1)))\n",
    "\n",
    "a = float(s1)\n",
    "print(a, end=\" \")\n",
    "print(\"is of data type \" + str(type(a)))\n",
    "# s2 = int(s1)   # this will not work - why?\n",
    "\n",
    "x = int(a)\n",
    "print(x, end=\" \")\n",
    "print(\"is of data type \" + str(type(x)))\n",
    "print()\n",
    "\n",
    "# ******************************************* #\n",
    "\n",
    "s2 = \"-7\"\n",
    "print(\"'\" + s2 + \"'\", end=\" \")\n",
    "print(\"is of data type \" + str(type(s2)), end=\" \")\n",
    "print(\"and has length \" + str(len(s2)))\n",
    "\n",
    "b = int(s2)\n",
    "print(b, end=\" \")\n",
    "print(\"is of data type \" + str(type(b)))\n",
    "\n",
    "c = float(s2)\n",
    "print(c, end=\" \")\n",
    "print(\"is of data type \" + str(type(c)))\n",
    "print()\n",
    "\n",
    "# ******************************************* #\n",
    "\n",
    "y = -3.58E+01\n",
    "print(y, end=\" \")\n",
    "print(\"is of data type \" + str(type(y)))\n",
    "\n",
    "s3 = str(y)\n",
    "print(\"'\" + s3 + \"'\", end=\" \")\n",
    "print(\"is of data type \" + str(type(s3)), end=\" \")\n",
    "print(\"and has length \" + str(len(s3)))\n",
    "\n",
    "z = int(y)\n",
    "print(z, end=\" \")\n",
    "print(\"is of data type \" + str(type(z)))\n"
   ]
  },
  {
   "cell_type": "markdown",
   "id": "234c90f2",
   "metadata": {
    "deletable": false,
    "editable": false
   },
   "source": [
    "#### Debug-it Exercises\n",
    "\n",
    "For each of the following, figure out why the code snippet won't work, then modify the code, copy the corrected code into the cell below, and run it to show that you made it work. You should end up with four blocks of code, one for each exercise, separated by a blank line.\n",
    "\n",
    "<div class=\"alert alert-block alert-info\">\n",
    "1. <pre>\n",
    "# assign values to two variables, compute their sum, and print its value\n",
    "a = 3.5\n",
    "b == 5\n",
    "c = a + b\n",
    "print(\"a plus b = \" + str(c))\n",
    "</pre>\n",
    "2. <pre>\n",
    "# assign values to two variables, compute their quotient, and print its value\n",
    "a = \"3.5\"\n",
    "b = 5.0\n",
    "c = a / b\n",
    "print(\"a divided by b = \" + str(c))\n",
    "</pre>\n",
    "3. <pre>\n",
    "# assign a string to a variable, get its length (how many characters it has), and print that number\n",
    "s = -3.58E+01\n",
    "sLen = len(s)\n",
    "print(\"the length of the string s is \" + str(sLen))\n",
    "</pre>\n",
    "4. <pre>\n",
    "# have the user assign a value to n, then print 'hello ' that many times on one line\n",
    "n = input(\"enter how many times to print the string 'hello ': \")\n",
    "s = n * 'hello '\n",
    "print(\"the string s is ' \" + s + \"'\")\n",
    "</pre>\n",
    "</div>"
   ]
  },
  {
   "cell_type": "code",
   "execution_count": null,
   "id": "c2b88f8d",
   "metadata": {
    "deletable": false
   },
   "outputs": [],
   "source": [
    "# code for Debug-It exercises 1-4\n"
   ]
  },
  {
   "cell_type": "markdown",
   "id": "c43cf7e9",
   "metadata": {
    "deletable": false,
    "editable": false
   },
   "source": [
    "#### The <code>random</code> module\n",
    "\n",
    "An important, but not built-in, function that is often used in Python is the one that generates random numbers. To use this, we have to import functions from the built-in <code>random</code> module. (Functions in a built-in module are not built in to Python, but the module is one of many that comes with the version of Python you install. To save space in memory, the code in these modules is only imported if we need it.) We do this using the <code>import</code> keyword:\n",
    "\n",
    "<pre>\n",
    "import random\n",
    "\n",
    "r1 = random.randint(1, 6)\n",
    "print(\"here's a random integer between 1 and 6): \")\n",
    "print(r1)\n",
    "</pre>\n",
    "\n",
    "The <code>randint()</code> function generates a random integer between two integers that we specify as inputs. However, unlike built-in functions, the module from which this function was imported must also be given, so we invoke (call) this function with the syntax <code><b>random.</b>randint()</code>. This function has the signature (inputs and outputs) <br>\n",
    "\n",
    "<pre>\n",
    "randint(start, end) -> int\n",
    "</pre>\n",
    "\n",
    "This means that <code>randint()</code> returns a random integer <code>i</code> such that <code>start <= i <= end</code>.\n",
    "\n",
    "\n",
    "Let's try running the code cell below a number of times to see what it does:"
   ]
  },
  {
   "cell_type": "code",
   "execution_count": null,
   "id": "eed38ed5",
   "metadata": {
    "deletable": false
   },
   "outputs": [],
   "source": [
    "# code cell 7\n",
    "\n",
    "import random  # we have to import this module in order to use randint()\n",
    "\n",
    "r1 = random.randint(1, 6)\n",
    "print(\"here's a random integer between 1 and 6:\", end=\" \")\n",
    "print(r1)"
   ]
  },
  {
   "cell_type": "markdown",
   "id": "2a41b1f1",
   "metadata": {
    "deletable": false,
    "editable": false
   },
   "source": [
    "<div class=\"alert alert-block alert-info\">\n",
    "Now, let's try working with built-in functions! You may need to look up what these functions do before using them; see <a href=https://www.javatpoint.com/python-built-in-functions>Python Built-In Functions</a>. In the code cell below, <br>\n",
    "    \n",
    "1. Prompt the user for input with the string <code>\"please enter a floating-point number: \"</code> <br>\n",
    "2. Assign what the user enters to a variable <code>s</code> and print it <br>\n",
    "3. Determine the data type of <code>s</code> using <code>type()</code> and print it <br>\n",
    "4. Determine the length of the string <code>s</code> using <code>len()</code>, and print it <br> \n",
    "5. Convert <code>s</code> to a <code>float</code>, and assign it to a variable <code>x</code> <br>\n",
    "6. Determine the data type of <code>x</code> using <code>type()</code>, and print it <br>\n",
    "7. Take the absolute value of <code>x</code> using <code>abs()</code>, assign it to a variable <code>a</code>, and print it <br>\n",
    "8. Now, round <code>x</code> to the nearest integer using <code>round()</code>, assign it to a variable <code>n</code>, and print it <br>\n",
    "9. Determine the data type of <code>n</code> using <code>type()</code> and print it <br>\n",
    "10. Determine the minimum of these numbers: <code>-1.2E+01, -5, 0.24, 77</code>, and print it out <br>\n",
    "11. Determine the maximum of the same numbers, and print it out <br>\n",
    "    \n",
    "\n",
    "Each time you run the cell (enter a negative number with digits after the decimal point, to make sure <code>abs()</code> and <code>round()</code> do what you expect), make sure the output is correct. Remember to save your notebook after running this cell!\n",
    "</div>"
   ]
  },
  {
   "cell_type": "code",
   "execution_count": null,
   "id": "4879d2ce",
   "metadata": {
    "deletable": false
   },
   "outputs": [],
   "source": [
    "# code for exercises on built-in functions\n"
   ]
  },
  {
   "cell_type": "markdown",
   "id": "b3cfe427",
   "metadata": {
    "deletable": false,
    "editable": false
   },
   "source": [
    "### 4. Making Decisions: The <code>if</code> Statement"
   ]
  },
  {
   "cell_type": "markdown",
   "id": "c539bb61",
   "metadata": {
    "deletable": false,
    "editable": false
   },
   "source": [
    "So far, we have only encountered simple programs whose lines of code are executed sequentially, line by line, completing execution after the last line of code is run. However, there are times when we need to run certain lines (or blocks) of code if a condition is true, or skip them if the condition is false. The ability to jump or branch to a different part of a body of code is built in to the instruction set of a computer's CPU (central processing unit), and carries over into higher-level programming languages like C++, Java, and Python.\n",
    "\n",
    "In coding languages, the construct that determines the truth or falsehood of a condition and executes lines of code accordingly is known as a <b>conditional</b>. More precisely, the condition that is being tested is called a <b>logical expression</b>, and such expressions evaluate to either <code>True</code> or <code>False</code>. <b>There is no <code>Maybe</code> or any other allowable value that a logical expression may have.</b> In Python, there is a Boolean data type which has this property: it can only take the values <code>True</code> or <code>False</code>.\n",
    "\n",
    "Recall that the operators ```<```, ```>```, ```≤```, ```≥```, ```==```, and ```!=``` are <b>relational</b> or <b>comparison operators</b>. Each relational operator is a binary operator whose two operands are variables or expressions on its left-hand side (LHS) and right-hand side (RHS). Relational expressions evaluate the LHS and RHS expressions, compare the LHS and RHS values, and return the Boolean values ```True``` or ```False``` depending on the relationship between those values.\n",
    "\n",
    "Now, we will use these relational operator expressions in an <code>if</code> statement, which WILL execute the indented code block immediately following it <b>if</b> the expression evaluates to <code>True</code>, or <b>else</b> (that is, the expression evaluates to <code>False</code>), it WILL NOT execute the indented code block. Note how this conditional construct has a special format - the keyword <code>if</code>, followed by the relational expression, followed by a colon (<code>:</code>). The code block that executes if the expression is <code>True</code> <b><font color=\"red\">MUST BE</font></b> indented:<br>\n",
    "<pre>\n",
    "if (LHS_expr rel_op RHS_expr) == True:\n",
    "    do something\n",
    "    do something\n",
    "</pre>\n",
    "\n",
    "The <code>do something</code> lines are executed ONLY IF <code>LHS_expr rel_op RHS_expr</code> evaluates to <code>True</code>; otherwise, those lines are not run, and the program resumes execution after the last indented line of the <code>if</code>-block. A shortcut for this is to leave out the <code>== True</code> altogether. If the Boolean expression in parentheses evaluates to <code>True</code>, it is superfluous to test whether <code>True == True</code>. Thus, the more common way of writing the <code>if</code> construct is:\n",
    "<pre>\n",
    "if LHS_expr rel_op RHS_expr:\n",
    "    do something\n",
    "    do something\n",
    "</pre>\n",
    "\n",
    "Run the code below, enter positive, negative, and zero integer values, and see for yourself how this works:"
   ]
  },
  {
   "cell_type": "code",
   "execution_count": null,
   "id": "9b267db5",
   "metadata": {
    "deletable": false
   },
   "outputs": [],
   "source": [
    "# code cell 8\n",
    "\n",
    "strA = input(\"enter an integer a: \")\n",
    "a = int(strA)\n",
    "print(\"you entered a = \" + strA)\n",
    "\n",
    "if a < 0 :\n",
    "    print(\"a is negative\")\n",
    "\n",
    "print(\"all done!\")"
   ]
  },
  {
   "cell_type": "markdown",
   "id": "7846ec4b",
   "metadata": {
    "deletable": false,
    "editable": false
   },
   "source": [
    "#### <code>if</code>-<code>else</code> blocks\n",
    "\n",
    "Suppose that we want something different to happen for the \"or else\" case (that is, if the expression evaluates to <code>False</code>). We *could* write another <code>if</code>-block to handle this case:\n",
    "<pre>\n",
    "if (LHS_expr rel_op RHS_expr) == True :\n",
    "    do something\n",
    "    do something\n",
    "    \n",
    "if (LHS_expr rel_op RHS_expr) == False :\n",
    "    do something else\n",
    "    do something else\n",
    "</pre>\n",
    "\n",
    "However, if the condition that is being evaluated is not <code>True</code>, there is only one other alternative: it cannot be anything other than <code>False</code>. Because of this, there is a better way to do this - use an <code>else</code>-block associated with the first <code>if</code>-block. This form of the conditional construct has a similar special format - following the <code>if</code>-block, the keyword <code>else</code>, followed by a colon (<code>:</code>). The <code>else</code>-block that executes if the expression is <code>False</code> MUST ALSO BE indented.\n",
    "If we use the same shortcut as above (that is, leave out <code>== True</code> in the <code>if</code> statement), then this conditional construct has the general form:<br>\n",
    "\n",
    "<pre>\n",
    "if LHS_expr rel_op RHS_expr :\n",
    "    do something\n",
    "    do something\n",
    "else :\n",
    "    do something else\n",
    "    do something else\n",
    "</pre>\n",
    "\n",
    "Note that the <code>else</code> keyword must also be followed by a colon, and the lines of code to be executed for this case must be indented.\n",
    "\n",
    "The <code>do something</code> lines are executed ONLY IF <code>LHS_expr rel_op RHS_expr</code> evaluates to <code>True</code>; OTHERWISE (that is, if <code>LHS_expr rel_op RHS_expr</code> evaluates to <code>False</code>), those lines in the <code>if</code>-block are not run, but the <code>do something else</code> lines in the <code>else</code>-block are run instead. Then, the program then resumes execution after the last indented line of the <code>else</code>-block.\n",
    "\n",
    "Run the code below, enter positive, negative, and zero floating-point values, and see for yourself how this works:"
   ]
  },
  {
   "cell_type": "code",
   "execution_count": null,
   "id": "ae888d8c",
   "metadata": {
    "deletable": false
   },
   "outputs": [],
   "source": [
    "# code cell 9\n",
    "\n",
    "strA = input(\"enter a floating-point number a: \")\n",
    "a = float(strA)\n",
    "print(\"you entered a = \" + strA)\n",
    "\n",
    "if a > 0:\n",
    "    print(\"a is positive\")\n",
    "\n",
    "else:\n",
    "    print(\"a is either zero or negative\")\n",
    "    \n",
    "print()      # this unindented line is where execution continues after if-else\n",
    "    \n",
    "    \n",
    "# you can have if-else blocks inside other if-else blocks: nested if blocks\n",
    "strB = input(\"enter a floating-point number b: \")\n",
    "b = float(strB)\n",
    "print(\"you entered b = \" + strB)\n",
    "\n",
    "if b > 0 :\n",
    "    print(\"b is positive\")\n",
    "else :\n",
    "    if b < 0 :\n",
    "        print(\"b is negative\")\n",
    "    else :\n",
    "        print(\"b is zero\")\n",
    "\n",
    "print(\"\\n\" + \"all done!\")"
   ]
  },
  {
   "cell_type": "markdown",
   "id": "aec5e05a",
   "metadata": {
    "deletable": false,
    "editable": false
   },
   "source": [
    "#### Use <code>if</code>-<code>elif</code>-<code>else</code> ladders instead of nested <code>if</code> blocks\n",
    "\n",
    "Now suppose that there is a variety of different things that you want to occur for the \"or else\" case (that is, if the expression evaluates to <code>False</code>). We *could* keep writing <code>if</code>-<code>else</code>-blocks inside the <code>else</code>-block to handle each case:\n",
    "<pre>\n",
    "if (LHS_expr0 rel_op RHS_expr0) == True :\n",
    "    do something\n",
    "    do something\n",
    "else :\n",
    "    if (LHS_expr1 rel_op RHS_expr1) == True :\n",
    "        do something else 1 \n",
    "        do something else 1\n",
    "    else: \n",
    "        if (LHS_expr2 rel_op RHS_expr2) == True :\n",
    "            do something else 2\n",
    "            do something else 2\n",
    "    ...\n",
    "</pre>\n",
    "\n",
    "This construction above is known as a <b>nested <code>if</code></b> statement. Once again, there is a shortcut for this kind of construct that avoids the nesting (as well as the need to keep indenting blocks of code further to the right):\n",
    "<pre>\n",
    "if LHS_expr0 rel_op RHS_expr0 :\n",
    "    do something\n",
    "    do something\n",
    "elif LHS_expr1 rel_op RHS_expr1 :\n",
    "    do something else 1 \n",
    "    do something else 1\n",
    "elif LHS_expr2 rel_op RHS_expr2 :\n",
    "    do something else 2\n",
    "    do something else 2\n",
    "...\n",
    "else :\n",
    "    do this only if none of the above is true\n",
    "    do this only if none of the above is true\n",
    "</pre>\n",
    "\n",
    "In this construction, sometimes called an <code>if</code>-<code>elif</code>-<code>else</code> ladder, it is <b>highly</b> recommended to include a final <code>else</code>-block, to take care of the case where none of the various conditions being evaluated happens to be <code>True</code>. \n",
    "\n",
    "For more information about this, see <a href=https://www.geeksforgeeks.org/python-if-else/>Python if else</a>. (For empty <code>if</code> or <code>elif</code> blocks, use the keyword <code>pass</code> in place of lines of code in these empty blocks!)\n",
    "\n",
    "Once again, run the code below, enter positive, negative, and zero floating-point values, and see for yourself how this works:"
   ]
  },
  {
   "cell_type": "code",
   "execution_count": null,
   "id": "62b0fd07",
   "metadata": {
    "deletable": false,
    "scrolled": false
   },
   "outputs": [],
   "source": [
    "# code cell 10\n",
    "\n",
    "strA = input(\"enter a floating-point number a: \")\n",
    "a = float(strA)\n",
    "print(\"you entered a = \" + str(a))\n",
    "\n",
    "if a > 0 :\n",
    "    print(\"a is positive\")\n",
    "elif a < 0 :\n",
    "    print(\"a is negative\")\n",
    "else :\n",
    "    print(\"a is zero\")\n",
    "\n",
    "print(\"all done!\")"
   ]
  },
  {
   "cell_type": "markdown",
   "id": "39ca824a",
   "metadata": {
    "deletable": false,
    "editable": false
   },
   "source": [
    "#### Compound conditional expressions\n",
    "\n",
    "Suppose we have some code that involves a number of conditions that we're testing:\n",
    "\n",
    "<pre>\n",
    "if tempF <= 32:\n",
    "    print(\"water freezes to becomes ice\")\n",
    "elif tempF >= 212:\n",
    "    print(\"water boils to become steam\")\n",
    "else:                                     # we get here only if tempF is <b>not</b> <= 32 <b><font color=\"red\">AND</font></b> tempF is <b>not</b> >= 212\n",
    "    print(\"water is liquid\")\n",
    "</pre>\n",
    "\n",
    "Equivalently, we could turn the <code>else</code> clause into the testable condition instead:\n",
    "\n",
    "<pre>\n",
    "if <b>tempF > 32 <font color=\"red\">and</font> temp < 212</b>:\n",
    "    print(\"water is liquid\")\n",
    "else:                                     # we get here only if tempF is <= 32 <b><font color=\"blue\">OR</font></b> tempF is >= 212\n",
    "    if tempF <= 32:\n",
    "        print(\"water freezes to become ice\")\n",
    "    elif tempF >= 212:\n",
    "        print(\"water boils to become steam\")\n",
    "</pre>\n",
    "\n",
    "Note that this is a bit clumsier (less elegant) than the first solution, but it illustrates the use of a <b>compound conditional</b> expression <br>\n",
    "&emsp; &emsp; <code>temp > 32 <b><font color=\"red\">and</font></b> tempF < 212</code>.<br>\n",
    "\n",
    "As you will learn in our unit on logic, the <code>else</code> clause represents the <b>negation</b> (opposite) of this conditional expression, which is <br>\n",
    "&emsp; &emsp; <code>tempF <= 32 <b><font color=\"blue\">or</font></b> tempF >= 212</code>.\n",
    "\n",
    "In this context, we can view expressions involving the relational operators <code><=</code> and <code>>=</code> the same way. \n",
    "\n",
    "* <code><=</code> literally means \"less than <b><font color=\"blue\">or</font></b> equal to\", so its <b>negation</b> becomes \"not less than <b><font color=\"red\">and</font></b> not equal to</code>, \n",
    "which is equivalent to \"greater than\", or <code>></code>. <br>\n",
    "* <code>>=</code> literally means \"greater than <b><font color=\"blue\">or</font></b> equal to\", so its <b>negation</b> becomes \"not greater than <b><font color=\"red\">and</font></b> not equal to</code>, \n",
    "which is equivalent to \"less than\", or <code><</code>. \n",
    "\n",
    "These are concrete examples of the most important result from propositional logic and Boolean algebra: <a href=\"https://en.wikipedia.org/wiki/De_Morgan%27s_laws\">De Morgan's theorem</a>. This becomes: <br>\n",
    "* <code> <b>not</b> (p <b><font color=\"blue\">or</font></b> q) = <b>not</b> p <b><font color=\"red\">and</font></b> <b>not</b> q</code>\n",
    "* <code> <b>not</b> (p <b><font color=\"red\">and</font></b> q) = <b>not</b> p <b><font color=\"blue\">or</font></b> <b>not</b> q</code>\n",
    "\n",
    "Notice how <code>not</code> distributes over <code><font color=\"red\">and</font></code> but flips it to <code><font color=\"blue\">or</font></code>. Likewise, <code>not</code> distributes over <code><font color=\"blue\">or</font></code> but flips it to <code><font color=\"red\">and</font></code>. <br><br>\n",
    "\n",
    "\n",
    "The logical operators are: \n",
    "\n",
    "| Operator | Meaning |\n",
    "| :--: | :- |\n",
    "| <code>and</code> | conjunction |\n",
    "| <code>or</code> | disjunction |\n",
    "| <code>not</code> | negation |\n",
    "\n",
    "<b>Important!!!</b> When using a compound conditional, <b>DO NOT</b> do this: <br>\n",
    "<code>if op == '+' or '-' or '* ' or '/': </code> <br>\n",
    "The logical operators <code>and</code>, <code>or</code>, and <code>not</code> separate <b>complete</b> relational expressions.\n",
    "\n",
    "Instead, <b>DO</b> this: <br>\n",
    "<code>if (op == '+') or (op == '-') or (op == '*') or (op =='/'): </code>\n",
    "\n",
    "It's more cumbersome, but it's also syntactically correct! (The parentheses are optional, by the way.)"
   ]
  },
  {
   "cell_type": "markdown",
   "id": "6d580cf1",
   "metadata": {
    "deletable": false,
    "editable": false
   },
   "source": [
    "<div class=\"alert alert-block alert-info\">\n",
    "Suppose we want to write a program that tells the ticket taker at the movie theater what price to charge, based on the age of the customer. At this theater, the normal ticket price is \\$10, but they charge \\$3 for children <b>12 or under</b>, and \\$5 for folks <b>over 65</b>. \n",
    "\n",
    "1. Use <code>input()</code> to prompt the user to <code>\"Enter the customer's age: \"</code>, and assign that value to a variable <br>\n",
    "2. Create a variable for the ticket price, and initialize it to <code>10.0</code> (the default ticket price) <br>\n",
    "3. In an <code>if</code>-block, <br>\n",
    "&nbsp; &nbsp; &nbsp; a. Compare the age to <code>12</code>, and assign <code>3.0</code> to the ticket price variable if age is less than or equal to <code>12</code> <br>\n",
    "&nbsp; &nbsp; &nbsp; b. Compare the age to <code>65</code>, and assign <code>5.0</code> to the ticket price variable if age is greater than <code>65</code> <br>\n",
    "4. Print out the ticket price.\n",
    "5. Test your program by running it for five test cases: <br>\n",
    "&nbsp; &nbsp; &nbsp; a. Enter an age that's less than <code>12</code> <br>\n",
    "&nbsp; &nbsp; &nbsp; b. Enter an age that's exactly <code>12</code> <br>\n",
    "&nbsp; &nbsp; &nbsp; c. Enter an age that's exactly <code>65</code> <br>\n",
    "&nbsp; &nbsp; &nbsp; d. Enter an age that's greater than <code>65</code> <br>\n",
    "&nbsp; &nbsp; &nbsp; e. Enter an age that's between <code>12</code> and <code>65</code> <br>\n",
    "\n",
    "<b>For each case</b>, select the lines of output, copy them (<code>CTRL-C</code>), paste them (<code>CTRL-V</code>) into the bottom of your code cell, then select those lines and comment them out (<code>CTRL-/</code>). This provides evidence that you actually ran these test cases. Make sure they each give you the desired result, given the movie theater's policy.\n",
    "</div>"
   ]
  },
  {
   "cell_type": "code",
   "execution_count": null,
   "id": "e7d56e2f",
   "metadata": {
    "deletable": false
   },
   "outputs": [],
   "source": [
    "# code for movie theater pricing application\n"
   ]
  },
  {
   "cell_type": "markdown",
   "id": "97fdf007",
   "metadata": {
    "deletable": false,
    "editable": false
   },
   "source": [
    "<div class=\"alert alert-block alert-info\">\n",
    "You now know enough Python to program a simple game where you try to guess a number between 1 and 10 that the computer has randomly chosen. <br>\n",
    "\n",
    "1. Import the <code>random</code> module <br>\n",
    "2. Use <code>random.randint()</code> to generate a random integer between 1 and 10, and assign that value to a variable <br>\n",
    "3. Use <code>input()</code> to prompt the user to <code>\"Enter a number between 1 and 10: \"</code>, and assign that value to another variable <br>\n",
    "4. Convert the string that <code>input()</code> returns to an integer, and assign that value to yet another variable <br>\n",
    "5. Print <code>\"You win!</code> if the number the user entered equals the random integer <br>\n",
    "6. Print <code>\"Oops - too low! My number was X\"</code> if the number the user entered is less than the random integer (replace X with the value of the random number) <br>\n",
    "7. Print <code>\"Oops - too high! My number was X\"</code> if the number the user entered is greater than the random integer (replace X with the value of the random number) <br>\n",
    "    \n",
    "Run your code multiple times so that you guess the number, guess too low, and guess too high. <br>\n",
    "<b>For each case</b>, select the lines of output, copy them (<code>CTRL-C</code>), paste them (<code>CTRL-V</code>) into the bottom of your code cell, then select those lines and comment them out (<code>CTRL-/</code>). This provides evidence that you actually exercised each possibility. Make sure they each give you the desired result. <br>\n",
    "    \n",
    "Remember to save your notebook after running your code!\n",
    "</div>"
   ]
  },
  {
   "cell_type": "code",
   "execution_count": null,
   "id": "125cf91d",
   "metadata": {
    "deletable": false
   },
   "outputs": [],
   "source": [
    "# code for number guessing game\n"
   ]
  },
  {
   "cell_type": "markdown",
   "id": "9dab141e",
   "metadata": {
    "deletable": false,
    "editable": false
   },
   "source": [
    "### 5. From Flowcharts to Code (<code>turtle</code> will return in the next notebook)"
   ]
  },
  {
   "cell_type": "markdown",
   "id": "7e28e268",
   "metadata": {
    "deletable": false,
    "editable": false
   },
   "source": [
    "<div class=\"alert alert-block alert-info\">\n",
    "For the following exercises, write Python code that does what each flowchart indicates in the code cells immediately below them. Feel free to add <code>input()</code> statements with prompts, as well as <code>print()</code> statements that print output to the notebook when you run the cell. <br>\n",
    "    \n",
    "<b>For each exercise</b>, be sure to run the indicated test cases. <b>For each case you run</b>, select the lines of output, copy them (<code>CTRL-C</code>), paste them (<code>CTRL-V</code>) into the bottom of your code cell, then select those lines and comment them out (<code>CTRL-/</code>). This provides evidence that you actually ran these test cases. Make sure they each give you the expected result.\n",
    "</div>"
   ]
  },
  {
   "attachments": {
    "division_flowchart.png": {
     "image/png": "[encoded data removed]"
    }
   },
   "cell_type": "markdown",
   "id": "5db93e66",
   "metadata": {
    "deletable": false,
    "editable": false
   },
   "source": [
    "<div>\n",
    "<img src=\"attachment:division_flowchart.png\" width=250/>\n",
    "</div>"
   ]
  },
  {
   "cell_type": "code",
   "execution_count": null,
   "id": "e8d112fb",
   "metadata": {
    "deletable": false
   },
   "outputs": [],
   "source": [
    "# code for division flowchart (see above)\n",
    "\n",
    "# run two test cases: divide non-zero by non-zero, divide non-zero by zero\n",
    "# copy the output and paste it into the bottom of your code cell\n",
    "\n",
    "# Extra challenge: Write a program that prompts user for operator (+, -, *, /), asks the user \n",
    "# to enter two numbers, then reports the result of the calculation.\n",
    "# The flowchart above shows the special case of division (don't allow division by zero)\n"
   ]
  },
  {
   "attachments": {
    "leap_year_flowchart-2.png": {
     "image/png": "[encoded data removed]"
    }
   },
   "cell_type": "markdown",
   "id": "1f9424fe",
   "metadata": {
    "deletable": false,
    "editable": false
   },
   "source": [
    "<div>\n",
    "<img src=\"attachment:leap_year_flowchart-2.png\" width=350/>\n",
    "</div>"
   ]
  },
  {
   "cell_type": "code",
   "execution_count": null,
   "id": "d06d2847",
   "metadata": {
    "deletable": false
   },
   "outputs": [],
   "source": [
    "# code for leap year flowchart (see above)\n",
    "# if year is divisible by 400, then it's a leap year (2000 was a leap year!)\n",
    "# if year is divisible by 100, it's not a leap year\n",
    "# if year is divisible by 4, it's a leap year\n",
    "\n",
    "# see https://www.rmg.co.uk/stories/topics/which-years-are-leap-years-can-you-have-leap-seconds\n",
    "# solar year is 365.2422 days: add 1 day every 4 years: +0.25; lose 1 day every 100 years: -0.01; \n",
    "# add 1 day back every 400 years: +0.0025 \n",
    "\n",
    "# x % y = 0 means that x is divisible by y (e.g., n % 2 = 0 if n is even, while n % 2 = 1 if n is odd)\n",
    "\n",
    "# run your code with these test cases: 2023 (not a leap year); 2024 (leap year); 1900 (not a leap year); 2000 (leap year)\n",
    "# copy the output and paste it into the bottom of your code cell\n"
   ]
  },
  {
   "attachments": {
    "F2C_C2F_flowchart.png": {
     "image/png": "[encoded data removed]"
    }
   },
   "cell_type": "markdown",
   "id": "30addc68",
   "metadata": {
    "deletable": false,
    "editable": false
   },
   "source": [
    "<div>\n",
    "<img src=\"attachment:F2C_C2F_flowchart.png\" width=500/>\n",
    "</div>"
   ]
  },
  {
   "cell_type": "code",
   "execution_count": null,
   "id": "f8786005",
   "metadata": {
    "deletable": false
   },
   "outputs": [],
   "source": [
    "# code for F to C, C to F flowchart (see above)\n",
    "\n",
    "# run your code with three test cases (known values: 0°C = 32°F; 100°C = 212°F; -40°C = -40°F)\n",
    "# copy the output and paste it into the bottom of your code cell\n"
   ]
  },
  {
   "cell_type": "code",
   "execution_count": null,
   "id": "c7fab1e7",
   "metadata": {},
   "outputs": [],
   "source": []
  }
 ],
 "metadata": {
  "kernelspec": {
   "display_name": "Python 3",
   "language": "python",
   "name": "python3"
  },
  "language_info": {
   "codemirror_mode": {
    "name": "ipython",
    "version": 3
   },
   "file_extension": ".py",
   "mimetype": "text/x-python",
   "name": "python",
   "nbconvert_exporter": "python",
   "pygments_lexer": "ipython3",
   "version": "3.8.8"
  }
 },
 "nbformat": 4,
 "nbformat_minor": 5
}
