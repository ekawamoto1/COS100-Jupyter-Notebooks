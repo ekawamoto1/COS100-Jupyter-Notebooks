{
 "cells": [
  {
   "cell_type": "markdown",
   "id": "301396c3",
   "metadata": {
    "deletable": false,
    "editable": false
   },
   "source": [
    "## **Strings, Lists, and Dictionaries in Python**\n",
    "\n",
    "Python strings: \n",
    "* W3 Schools: <a href=\"https://www.w3schools.com/python/python_strings.asp\"><b>Python Strings</b></a>\n",
    "* Programiz: <a href=\"https://www.programiz.com/python-programming/string\"><b>Python Strings</b></a>\n",
    "* TutorialsPoint: <a href=\"https://www.tutorialspoint.com/python/python_strings.htm\"><b>Python - Strings</b></a>\n",
    "* RealPython: <a href=\"https://realpython.com/python-strings/\"><b>Strings and Character Data in Python</b></a>"
   ]
  },
  {
   "cell_type": "markdown",
   "id": "25b0ef73",
   "metadata": {
    "deletable": false,
    "editable": false
   },
   "source": [
    "### 1. A String is a Collection of Characters\n",
    "\n",
    "We have already met and worked with strings, which are a <b>collection</b>, or array, of characters. Unlike other languages like C, C++, Java, etc., Python does not have a <code>character</code> data type. A single character (like <code>'c'</code>) is simply a string of length 1. <br>\n",
    "\n",
    "Earlier, we learned that string literals can be written with either single or double quotes:"
   ]
  },
  {
   "cell_type": "code",
   "execution_count": null,
   "id": "4fbbd0b3",
   "metadata": {
    "deletable": false,
    "editable": false
   },
   "outputs": [],
   "source": [
    "# code cell 1\n",
    "\n",
    "print('This is a string.')\n",
    "print(\"This is also a string.\")\n",
    "print(\"This is how to create a 'string within a string' in Python.\")\n",
    "print('You can also create a \"string within a string\" this way.')"
   ]
  },
  {
   "cell_type": "markdown",
   "id": "9dc0626d",
   "metadata": {
    "deletable": false,
    "editable": false
   },
   "source": [
    "However, if we want to write a literal single or double quote, non-printing characters like tab or CR-LF (carriage return + line feed), or other special characters such as backslashes themselves, in a string, they must be <a href=\"https://en.wikipedia.org/wiki/Escape_character\"><b>escaped</b></a> (preceded by a backslash character <code> \\ </code>, with no space, as shown below):"
   ]
  },
  {
   "cell_type": "code",
   "execution_count": null,
   "id": "8147bf82",
   "metadata": {
    "deletable": false,
    "editable": false
   },
   "outputs": [],
   "source": [
    "# code cell 2\n",
    "\n",
    "print(\"This is how to print a double quote \\\" inside a string delimited by double quotes.\")\n",
    "print('This is how to print a single quote \\' inside a string delimited by single quotes.')\n",
    "print('This is \\t\\thow to \\tprint \\t\\t\\ttabs ')\n",
    "print('This is how to print a string\\n  on consecutive lines.')\n",
    "print('This is how to print a backslash: \\\\ (forward slashes like / don\\'t need to be escaped)')"
   ]
  },
  {
   "cell_type": "markdown",
   "id": "3aff6adc",
   "metadata": {
    "deletable": false,
    "editable": false
   },
   "source": [
    "We have also learned about operators that work with strings: <code>+</code> concatenates (joins) strings, while <code>*</code> creates multiple copies of a string (but ONLY IF the other operand is an integer):"
   ]
  },
  {
   "cell_type": "code",
   "execution_count": null,
   "id": "6fe8084f",
   "metadata": {
    "deletable": false
   },
   "outputs": [],
   "source": [
    "# code cell 3\n",
    "\n",
    "a = \"this is \"\n",
    "b = \"a string \"\n",
    "print(\"a = \" + a)\n",
    "print(\"b = \" + b)\n",
    "print()\n",
    "\n",
    "c = a + b\n",
    "d = 3 * a\n",
    "e = b * 4\n",
    "\n",
    "print(\"c = a + b:\", c)\n",
    "print(\"d = 3 * a:\", d)\n",
    "print(\"e = b * 4:\", e)"
   ]
  },
  {
   "cell_type": "markdown",
   "id": "3d4c30bd",
   "metadata": {
    "deletable": false,
    "editable": false
   },
   "source": [
    "Here's something new we can do with a string: we can reference individual characters in it using brackets (<code>[]</code>), as in the code cell below. Note that Python, like many other coding languages, uses <a href=\"https://en.wikipedia.org/wiki/Zero-based_numbering\"><b>zero-based indexing</a></b>, meaning that the first item in a collection has the index 0. In other words, the position of a character in a string is one greater than its index.\n",
    "\n",
    "\n",
    "Run the following cell several times with numbers between 0 and the length of the string <code>s</code> minus one. Then, see what happens if you enter a number that is less than zero or greater than or equal to the length of the string <code>s</code>. <br>\n",
    "\n",
    "Something interesting happens if you enter <code>-1</code>. Try changing the string <code>s</code> (make it longer, for instance), and see if you can figure out what's going on!"
   ]
  },
  {
   "cell_type": "code",
   "execution_count": null,
   "id": "e390af59",
   "metadata": {
    "deletable": false
   },
   "outputs": [],
   "source": [
    "# code cell 4\n",
    "\n",
    "s = \"abcde\"\n",
    "n = len(s)\n",
    "i = round(float(input(\"String \\'\" + s + \"\\': enter a number between 0 and \" + str(n-1) + \": \")))\n",
    "\n",
    "outStr = \"Character \" + s[i]\n",
    "outStr += \" is at index \" + str(i)\n",
    "if i >= 0:\n",
    "    outStr += \" (position \" + str(i+1) + \")\"\n",
    "outStr += \" in the string \"\n",
    "outStr += \"\\'\" + s + \"\\'\"\n",
    "\n",
    "print(outStr)"
   ]
  },
  {
   "cell_type": "markdown",
   "id": "b7359f12",
   "metadata": {
    "deletable": false,
    "editable": false
   },
   "source": [
    "We can also loop through each character in a string in two different ways: using a <code>for</code>-loop to (1) index each character by position, or (2) reference each character using the <code>in</code> operator (yes, <code>in</code> is an operator!), as shown below."
   ]
  },
  {
   "cell_type": "code",
   "execution_count": null,
   "id": "8179c77c",
   "metadata": {
    "deletable": false
   },
   "outputs": [],
   "source": [
    "# code cell 5\n",
    "\n",
    "s = input(\"Enter a short string: \")\n",
    "n = len(s)\n",
    "print(\"\\nthe string '\" + s + \"' has\", n, \"characters\")\n",
    "\n",
    "for i in range(n):\n",
    "    c = s[i]\n",
    "    print('the character at index', i, \"is \" + c)\n",
    "print()\n",
    " \n",
    "print(\"in the string '\" + s + \"', \")\n",
    "\n",
    "i = 0\n",
    "for x in s:\n",
    "    outStr = \"the character at index \" + str(i) \n",
    "    outStr += \" is \" + x\n",
    "    print(outStr)\n",
    "    i += 1"
   ]
  },
  {
   "cell_type": "markdown",
   "id": "1ae4c92c",
   "metadata": {
    "deletable": false,
    "editable": false
   },
   "source": [
    "Note that we can also do something in Python that other programming languages do not allow us to do nearly as easily. (These methods are sometimes called \"Pythonic\" because they are particular to Python.) From a given string <code>a</code>, we can create a substring containing characters at indices <code><font color=\"red\"><b>i</b></font></code> through <code><font color=\"blue\"><b>j - 1</b></font></code> by using the notation <code>a[<font color=\"red\"><b>i</b></font>:<font color=\"blue\"><b>j</b></font>]</code>. This is called <a href=\"https://realpython.com/lessons/string-slicing/\"><b>slicing</b></a>:\n",
    "<pre>\n",
    "a[<font color=\"red\"><b>start</b></font>:<font color=\"blue\"><b>stop</b></font>]  # items <font color=\"red\"><b>start</b></font> through <font color=\"blue\"><b>stop-1</b></font>\n",
    "a[<font color=\"red\"><b>start</b></font>:]      # items <font color=\"red\"><b>start</b></font> through the rest of the string (array of characters)\n",
    "a[:<font color=\"blue\"><b>stop</b></font>]       # items from the beginning through <font color=\"blue\"><b>stop-1</b></font>\n",
    "a[:]           # a copy of the whole string (array)\n",
    "</pre>"
   ]
  },
  {
   "cell_type": "code",
   "execution_count": null,
   "id": "24a5c338",
   "metadata": {
    "deletable": false
   },
   "outputs": [],
   "source": [
    "# code cell 6\n",
    "\n",
    "s0 = input(\"Enter a long string (at least 10 characters): \")\n",
    "n = len(s0)\n",
    "print()\n",
    "print(\"             012345678901234567890123456789012345678901234567890\")\n",
    "print(\"string s0 = \\'\" + s0 + \"\\' has\", n, \"characters\\n\" )\n",
    "\n",
    "i = int(input(\"enter an integer i between 1 and \" + str(n) + \": \"))\n",
    "j = int(input(\"enter a larger integer j between 1 and \" + str(n) + \": \"))\n",
    "s1 = s0[i:j]\n",
    "print(\"the substring s1 = \\'\" + s1 + \"\\' has characters from index\", i, \"through index\", j-1, \", inclusive\")\n",
    "print()\n",
    "\n",
    "for i in range(0, n, 3):\n",
    "    s2 = s0[i:i+3]\n",
    "    print(\"s0[\" + str(i) + \":\" + str(i+3) + \"] = \" + s2)"
   ]
  },
  {
   "cell_type": "markdown",
   "id": "cd878e0c",
   "metadata": {
    "deletable": false,
    "editable": false
   },
   "source": [
    "<div class=\"alert alert-block alert-info\">\n",
    "Try these! For each exercise that asks you to print out something, please <b>copy</b> your output (<code>CTRL-C</code>), <b>paste</b> it into the bottom of the code cell (<code>CTRL-V</code>), and <b>comment</b> it out (<code>CTRL-/</code>).<br>\n",
    "\n",
    "1. Assign the string <code>\"abracadabra\"</code> to a variable. <br><br>\n",
    "2. Using <code>len()</code>, get the number of characters in the string (its length), then print out the string and its length. <br><br>\n",
    "3. Create the string <code>\"arbadacarba\"</code>: assign an empty string to another variable, then use a loop to append each character in the original string <code>\"abracadabra\"</code> to it <b>in reverse order</b>, and print it out. <br><br>\n",
    "4. Using a loop, print out three-letter sequences of <code>\"abracadabra\"</code> preceded by spaces in this pattern:\n",
    "<code>\n",
    "     abr           \n",
    "      bra          \n",
    "       rac         \n",
    "        aca        \n",
    "         cad       \n",
    "          ada      \n",
    "           dab     \n",
    "            abr    \n",
    "             bra  \n",
    "</code> <br>\n",
    "5. Create the string <code>\"a b r a c a d a b r a \"</code>: assign an empty string to yet another variable, then use a loop to append each character in the original string <code>\"abracadabra\"</code> to it <b>with spaces after each letter</b>, and print it out. <br><br>\n",
    "6. Using the string you created in #5 as a starting point (that is, assign it to a variable), see if you can figure out how to print out the following pattern:\n",
    "<code>\n",
    "     a b r a c a d a b r a  \n",
    "      a b r a c a d a b r   \n",
    "       a b r a c a d a b    \n",
    "        a b r a c a d a     \n",
    "         a b r a c a d      \n",
    "          a b r a c a       \n",
    "           a b r a c        \n",
    "            a b r a         \n",
    "             a b r          \n",
    "              a b           \n",
    "               a            \n",
    "</code>\n",
    "</div>"
   ]
  },
  {
   "cell_type": "code",
   "execution_count": null,
   "id": "b184de2f",
   "metadata": {
    "deletable": false
   },
   "outputs": [],
   "source": [
    "# code for string pattern exercises\n",
    "\n",
    "def main():\n",
    "    # delete 'pass', and replace it with your own code\n",
    "    pass\n",
    "\n",
    "\n",
    "# be sure to invoke main()!\n",
    "main()"
   ]
  },
  {
   "cell_type": "markdown",
   "id": "6ef4ceb6",
   "metadata": {
    "deletable": false,
    "editable": false
   },
   "source": [
    "#### Strings are immutable!\n",
    "\n",
    "However, just because characters in a string can be *referenced* does not mean that they can be *changed*. In Python, strings are <b>immutable</b>; that is, characters in a string cannot be modified, appended to, or deleted from *in place*. "
   ]
  },
  {
   "cell_type": "code",
   "execution_count": null,
   "id": "85085fb1",
   "metadata": {
    "deletable": false
   },
   "outputs": [],
   "source": [
    "# code cell 7\n",
    "\n",
    "s = \"abcde\"\n",
    "# s[2] = \"q\"  # this will cause an error: 'str' object does not support item assignment\n",
    "s = \"abqde\"\n",
    "print(s)"
   ]
  },
  {
   "cell_type": "markdown",
   "id": "7313d551",
   "metadata": {
    "deletable": false,
    "editable": false
   },
   "source": [
    "But wait! We can append to a string using the augmented assignment operator. Doesn't that make strings mutable (changeable) after all? <br>\n",
    "\n",
    "As it turns out, the answer is no. Like any other object in Python (<u>everything</u> in Python is an object in memory), a string resides at an address or location in memory. We can query the address of an object (variable, string, number, Boolean, etc.) by using the built-in <code>id()</code> function. If we truly changed an object like a string *in place*, then it should have the same memory address (location) before and after the change. In the case of a string <code>s</code> to which we append another string, this is NOT the case, as seen in the following code cell. Thus, instead of changing (mutating) the string <code>s</code> in place by appending to it, we have instead created a new object at a different memory address (location), but with the same name <code>s</code> as before."
   ]
  },
  {
   "cell_type": "code",
   "execution_count": null,
   "id": "15aa1f00",
   "metadata": {
    "deletable": false
   },
   "outputs": [],
   "source": [
    "# code cell 8\n",
    "\n",
    "s = \"abcde\"\n",
    "outStr = \"String s = \\'\" + s + \"\\' has address id(s) = \" + str(id(s))\n",
    "print(outStr)\n",
    "\n",
    "s += \"fgh\"\n",
    "outStr = \"String s += \\'fgh\\', which becomes s = \\'\" + s + \"\\', now has address id(s) = \" + str(id(s))\n",
    "print(outStr)"
   ]
  },
  {
   "cell_type": "markdown",
   "id": "8282715a",
   "metadata": {
    "deletable": false,
    "editable": false
   },
   "source": [
    "### 2. String Functions and Methods\n",
    "\n",
    "* Towards Data Science: <a href=\"https://towardsdatascience.com/15-must-know-python-string-methods-64a4f554941b\"><b>15 Must-Know Python String Methods</b></a>\n",
    "* W3 Schools: <a href=\"https://www.w3schools.com/python/python_ref_string.asp\"><b>Python String Methods</b></a>\n",
    "\n",
    "Formatting output in strings:\n",
    "* Geeks For Geeks: <a href=\"https://www.geeksforgeeks.org/string-formatting-in-python/\"><b>Python String Formatting - How to format String</b></a>\n",
    "* Real Python: <a href=\"https://realpython.com/python-formatted-output/\"><b>A Guide to the Newer Python String Format Techniques</b></a>"
   ]
  },
  {
   "cell_type": "markdown",
   "id": "c5bcb263",
   "metadata": {
    "deletable": false,
    "editable": false
   },
   "source": [
    "Here, we will make a distinction between built-in functions that operate on strings and string methods (functionality that belongs to string objects). Functions that operate on strings take a string as an input, and do something (print it, return information about the string, etc.), while string methods are functions (services) that string objects provide.\n",
    "\n",
    "Commonly used built-in <b>string functions</b> (functions that operate on strings):\n",
    "\n",
    "| function | description |\n",
    "| --: | :-- |\n",
    "| <code>len(s)</code> |  returns the length of string <code>s</code> can be determined by using built-in <code>len()</code> function. |\n",
    "| <code>float(s)</code> | returns a floating point number represented by the string <code>s</code> |\n",
    "| <code>int(s)</code> | returns a base-10 integer represented by the string <code>s</code> |\n",
    "| <code>bool(s)</code> | returns a Boolean value (either <code>True</code> or <code>False</code>) represented by the string <code>s</code> |\n",
    "| <code>print(s)</code> | prints the string <code>s</code> to the console |\n",
    "| <code>type(s)</code> | This function returns the type of an object (in this case, the string <code>s</code>) |\n",
    "| <code>id(s)</code> | returns the “identity” (memory address) of the string <code>s</code> |\n",
    "\n",
    "The memory address of an object is an integer, which is guaranteed to be unique and constant for this object during its lifetime.\n",
    "\n",
    "We have used almost all of these functions earlier."
   ]
  },
  {
   "cell_type": "code",
   "execution_count": null,
   "id": "da2344e2",
   "metadata": {
    "deletable": false
   },
   "outputs": [],
   "source": [
    "# code cell 9\n",
    "\n",
    "#    01234567890123456789012345678901234567890123456789\n",
    "s = \"the quick brown fox jumped over the lazy dog\"\n",
    "\n",
    "print('string s = \\\"' + s + '\\\"')\n",
    "n = len(s)\n",
    "print('the length of s is', n)\n",
    "q = type(s)\n",
    "print('the type of s is', q)\n",
    "memloc = id(s)\n",
    "print('the memory location of s is', memloc)\n",
    "print()\n",
    "print(\"***************************************************************\")\n",
    "print()\n",
    "\n",
    "\n",
    "t = \"1.2e-01\"\n",
    "\n",
    "print('string t = \\\"' + t + '\\\"')\n",
    "n = len(t)\n",
    "print('the length of t is ' + str(n))\n",
    "p = float(t)\n",
    "print('the numerical value represented by t is p = ' + str(p))\n",
    "q = type(t)\n",
    "print('the type of t is ' + str(q))\n",
    "r = type(float(t))\n",
    "print('the type of p, the numerical value represented by t, is ' + str(r))\n",
    "print()\n",
    "print(\"***************************************************************\")\n",
    "print()\n",
    "\n",
    "\n",
    "u = \"-451\"\n",
    "\n",
    "print('string u = \\\"' + u + '\\\"')\n",
    "print('the length of u is', len(u))\n",
    "p = int(u)\n",
    "print('the numerical value represented by u is p =', p)\n",
    "print('the type of u is', type(u))\n",
    "print('the type of p, the numerical value represented by u, is', type(int(u)))\n",
    "print()\n",
    "print(\"***************************************************************\")\n",
    "print()\n",
    "\n",
    "\n",
    "v = \"False\"\n",
    "\n",
    "print('string v = \\\"' + v + '\\\"')\n",
    "print('the length of v is', len(v))\n",
    "print('the Boolean value represented by v is', bool(v), ' <-- why is this?')\n",
    "print('the type of v is', type(v))\n",
    "print('the type of the numerical value represented by v is', type(bool(v)))\n",
    "print()"
   ]
  },
  {
   "cell_type": "markdown",
   "id": "8e174c74",
   "metadata": {
    "deletable": false,
    "editable": false
   },
   "source": [
    "There is a larger set of functions (more properly, _methods_) that string objects themselves provide. \n",
    "\n",
    "Commonly used <b>string methods</b> (functions provided by string objects):\n",
    "\n",
    "| function | description |\n",
    "| --: | :-- |\n",
    "| <code>s.count()</code> | returns the number of times a specified substring occurs in a string <code>s</code> |\n",
    "| <code>s.index()</code> | searches the string <code>s</code> for a specified value and returns the position of where it was found |\n",
    "| <code>s.lower()</code> | converts string <code>s</code> into lower case |\n",
    "| <code>s.upper()</code> | converts string <code>s</code> into upper case |\n",
    "| <code>s.isalnum()</code> | returns ```True``` if all characters in the string <code>s</code> are alphanumeric | \n",
    "| <code>s.isalpha()</code> | returns ```True``` if all characters in the string <code>s</code> are in the alphabet |\n",
    "| <code>s.isascii()</code> | returns ```True``` if all characters in the string <code>s</code> are ASCII characters |\n",
    "| <code>s.isdecimal()</code> | returns ```True``` if all characters in the string <code>s</code> are decimals |\n",
    "| <code>s.isdigit()</code> | returns ```True``` if all characters in the string <code>s</code> are digits |\n",
    "| <code>s.isnumeric()</code> | returns ```True``` if all characters in the string <code>s</code> are numeric |\n",
    "| <code>s.find()</code> | searches the string <code>s</code> for a specified substring and returns the position of where it was found |\n",
    "| <code>s.replace()</code> | returns a string in which a substring in <code>s</code> is replaced with another specified substring |\n",
    "| <code>s.format()</code> | formats specified values in a string <code>s</code> |\n",
    "| <code>s.lstrip()</code> | returns a left trim version of the string <code>s</code> (deletes all leading whitespace) |\n",
    "| <code>s.rstrip()</code> | returns a right trim version of the string <code>s</code> (deletes all trailing whitespace) |\n",
    "| <code>s.strip()</code> | returns a trimmed version of the string <code>s</code> (deletes leading and trailing whitespace) |\n",
    "| <code>s.join()</code> | converts the elements of an iterable into a string <code>s</code> |\n",
    "| <code>s.split()</code> | splits the string <code>s</code> at the specified separator, and returns a list |\n",
    "\n",
    "Note the difference in syntax between using string <b>functions</b> and string <b>methods</b>: <br>\n",
    "\n",
    "* string <b>functions</b> operate <b>on</b> a string <code>s</code>: <code>len(s)</code>, <code>type(s)</code>, <code>print(s)</code>, etc. <br>\n",
    "* string <b>methods</b> are called <b><font color=\"red\">by</font></b> a string <code>s</code> using the <b><font color=\"red\">dot</font> operator</b>: <code>s<font color=\"red\"><b>.</b></font>count()</code>, <code>s<font color=\"red\"><b>.</b></font>index()</code>, <code>s<font color=\"red\"><b>.</b></font>isnumeric()</code>, etc.\n",
    "\n",
    "\n",
    "What are __[ASCII characters](https://www.w3schools.com/charsets/ref_html_ascii.asp#:~:text=The%20ASCII%20Character%20Set&text=ASCII%20is%20a%207%2Dbit,are%20all%20based%20on%20ASCII\")__?"
   ]
  },
  {
   "cell_type": "code",
   "execution_count": null,
   "id": "f351222e",
   "metadata": {
    "deletable": false
   },
   "outputs": [],
   "source": [
    "# code cell 10\n",
    "\n",
    "#    01234567890123456789012345678901234567890123456789\n",
    "S = \"    The quick brown fox jumped over THE lazy dog  \"\n",
    "print(\"            01234567890123456789012345678901234567890123456789\")\n",
    "print('string S = \\\"' + S + '\\\"')\n",
    "print()\n",
    "\n",
    "n = len(S)\n",
    "print('the length of string S is', n)\n",
    "oCount = S.count('e')\n",
    "print('the letter \\\"e\\\" occurs', oCount, 'times in string S')\n",
    "S2Count = S.count('  ')\n",
    "print('a pair of space characters \\\"  \\\" occurs', S2Count, 'times in string S')\n",
    "\n",
    "print()\n",
    "print(\"-   -   -   -   -   -   -   -   -   -   -   -   -   -   -   -\")\n",
    "print()\n",
    "\n",
    "i1 = S.index('e')\n",
    "print('the first occurrence of the letter \\\"e\\\" in string S is at index', i1)\n",
    "i2 = S.find('e', i1+1)\n",
    "print('the next occurrence of the letter \\\"e\\\" in string S is at index', i2)\n",
    "i3 = S.index('e', i2+1)\n",
    "print('the next occurrence of the letter \\\"e\\\" in string S is at index', i3)\n",
    "# what happens if you replace 'find' with 'index' in the line below?\n",
    "i4 = S.find('e', i3+1)\n",
    "print('there are no further occurrences of \\\"e\\\" in string S: find() returns', i4)\n",
    "print()\n",
    "print(\"*************************************************************\")\n",
    "print()\n",
    "\n",
    "j1 = S.find('THE')\n",
    "print('the substring \\\"THE\\\" occurs at index', j1, 'in string S, using S.find(\\'THE\\')')\n",
    "j2 = S.index('The')\n",
    "print('the substring \\\"The\\\" occurs at index', j2, 'in string S, using S.index(\\'The\\')')\n",
    "j3 = S.find('the')\n",
    "print('the substring \\\"the\\\" occurs at index', j3)\n",
    "print('   (S.find(\\'the\\') returns -1 when substring \\'the\\' is not found in string S)\\n')\n",
    "\n",
    "\n",
    "print('replace substring \\\"THE\\\" with substring \\\"A\\\" in string S: ')\n",
    "print('\\\"' + S.replace('THE', 'A') + '\\\"')\n",
    "print()\n",
    "print(\"*************************************************************\")\n",
    "print()\n",
    "\n",
    "print('convert string S to uppercase: \\\"', S.upper() + '\\\"')\n",
    "print('convert string S to lowercase: \\\"', S.lower() + '\\\"')\n",
    "print()\n",
    "\n",
    "print('trim spaces from left side of string S: \\\"' + S.lstrip() + '\\\"')\n",
    "print('trim spaces from right side of string S: \\\"' + S.rstrip() + '\\\"')\n",
    "print('trim spaces from both sides of string S: \\\"' + S.strip() + '\\\"')\n",
    "print()\n",
    "\n",
    "b1 = S.isalnum()\n",
    "print('all characters in string S are alphanumeric:', b1)\n",
    "b2 = S.isalpha()\n",
    "print('all characters in string S are alphabetic:', b2)\n",
    "print('all characters in string S are ASCII:', S.isascii())\n",
    "print()\n",
    "print(\"*************************************************************\")\n",
    "print()\n",
    "\n",
    "T = \"12345\"\n",
    "\n",
    "print('string T = \\\"' + T + '\\\"')\n",
    "print()\n",
    "\n",
    "n = len(T)\n",
    "print('the length of T is', n)\n",
    "print('all characters in string T are alphanumeric:', T.isalnum())\n",
    "b3 = T.isalpha()\n",
    "print('all characters in string T are alphabetic:', b3)\n",
    "print('all characters in string T are ASCII:', T.isascii())\n",
    "print('all characters in string T are numeric:', T.isnumeric())\n",
    "print('all characters in string T are decimal:', T.isdecimal())\n",
    "b4 = T.isdigit()\n",
    "print('all characters in string T are digits:', b4)\n",
    "print()"
   ]
  },
  {
   "cell_type": "markdown",
   "id": "50a90af0",
   "metadata": {
    "deletable": false,
    "editable": false
   },
   "source": [
    "<div class=\"alert alert-block alert-info\">\n",
    "    \n",
    "Now, it's your turn! Once again, for each exercise that asks you to print out something, please <b>copy</b> your output (<code>CTRL-C</code>), <b>paste</b> it into the bottom of the code cell (<code>CTRL-V</code>), and <b>comment</b> it out (<code>CTRL-/</code>). <br>\n",
    "    \n",
    "1. Assign the string <code>\"Supercalifragilisticexpialidocious\"</code> to a variable, and print it out. <br><br>\n",
    "2. Use string function <code>len()</code> to find the length of the string, and print out that number. <br><br>\n",
    "    \n",
    "3. Use string method <code>count()</code> to find the number of times the letter <code>s</code> appears in the string, and print out that number. <br><br>\n",
    "4. Use string method <code>index()</code> to find the index of the first occurrence of the letter <code>s</code> in the string, and print out that index. (<b>Don't</b> use <code>find()</code> here.) <br><br>\n",
    "5. Use the examples in the cell above (code cell 9) to see how to use string method <code>find()</code> to find the index of the next occurrence of the letter <code>s</code> in the string, and print out that index. (<b>Don't</b> use <code>index()</code> here!) <br><br>\n",
    "6. Create a loop (use either <code>for</code> or <code>while</code>) to find the indices of <b>all</b> occurrences of the letter <code>s</code> in the string, and print out those indices. (Again, <b>don't</b> use <code>index()</code> here!) <br><br>\n",
    "7. Use Google to look up a string method that will <b>determine whether</b> all letters in a string are lowercase; then, apply it to this string, assign to a variable what that function returns, and print it out. <br><br>\n",
    "8. From the string methods in the cell above (code cell 10), find one that will <b>convert</b> all letters in a string to lowercase, apply it to this string, assign what it returns to a variable, and print out that variable. <br><br>\n",
    "9. Repeat #7, but with the variable you created in #8. <br><br>\n",
    "10. Repeat #6, but with the variable you created in #8. <br>\n",
    "</div>"
   ]
  },
  {
   "cell_type": "code",
   "execution_count": null,
   "id": "12aa5447",
   "metadata": {
    "deletable": false
   },
   "outputs": [],
   "source": [
    "# code for string functions and methods\n",
    "\n",
    "def main():\n",
    "    # delete 'pass', and replace it with your own code\n",
    "    pass\n",
    "\n",
    "\n",
    "# be sure to invoke main()!\n",
    "main()"
   ]
  },
  {
   "cell_type": "markdown",
   "id": "d2398c16",
   "metadata": {
    "deletable": false,
    "editable": false
   },
   "source": [
    "### 3. A List is a Collection of Objects\n",
    "Coding languages like C, C++, C#, and Java all have an entity that holds an <b>array</b>, or collection, of objects of the same data type. In Python, this entity is called a <b>list</b>, but it may hold a collection of objects of any type at all. (That is, it can holds objects of different data types.) At this time, we will only consider lists containing objects of the same data type.<br>\n",
    "\n",
    "The Python list is enclosed by brackets, and elements are delimited (set off from each other) by commas. An empty list has nothing between its opening and closing brackets.<br>\n",
    "<pre>\n",
    "L0 = []\n",
    "L1 = [-1, 2, -3, 4, 5]\n",
    "L2 = [0.707, -2.0E+06, 3.14]\n",
    "L3 = [\"apple\", \"banana\", \"cherry\"]\n",
    "L4 = [True, False, False, True]\n",
    "</pre>\n",
    "\n",
    "A list can be initialized as a specified number of values (and can have duplicate elements, too):\n",
    "<pre>\n",
    "L5 = [0] * 5   # this assigns [0, 0, 0, 0, 0] to L5\n",
    "</pre>\n",
    "\n",
    "A list can be printed:\n",
    "<pre>\n",
    "L1 = [-1, 2, -3, 4, 5]\n",
    "print(L1)    # this prints [-1, 2, -3, 4, 5]\n",
    "</pre>\n",
    "\n",
    "The number of elements of a list can be determined using <code>len()</code>:\n",
    "<pre>\n",
    "L1 = [-1, 2, -3, 4, 5]\n",
    "N = len(L1)  # this assigns 5 to N\n",
    "</pre>\n"
   ]
  },
  {
   "cell_type": "markdown",
   "id": "d0e41d81",
   "metadata": {
    "deletable": false,
    "editable": false
   },
   "source": [
    "Just as we can do with strings, we can also do with lists: we can reference individual elements in it using brackets (<code>[]</code>), as in the code cell below. Again, note that Python uses <b>zero-based indexing</b>, meaning that the first item in a collection has the index 0. In other words, the position of an element in a list is one greater than its index.\n",
    "\n",
    "Run the following cell several times with numbers between 0 and the length of the list <code>L</code> minus one. Then, see what happens if you enter a number that is less than zero or greater than or equal to the length of the list <code>L</code>. <br>\n",
    "\n",
    "As with strings, something interesting happens if you enter <code>-1</code>. Try changing the list <code>L</code> (make it longer, for instance), and see if you can figure out what's going on!"
   ]
  },
  {
   "cell_type": "code",
   "execution_count": null,
   "id": "cbbe91b0",
   "metadata": {
    "deletable": false
   },
   "outputs": [],
   "source": [
    "# code cell 11\n",
    "\n",
    "L = ['a', 'b', 'c', 'd', 'e']\n",
    "n = len(L)\n",
    "i = int(input(\"List L = \" + str(L) + \": enter a number between 0 and \" + str(n-1) + \": \"))\n",
    "\n",
    "outStr = \"Element \" + \"\\'\" + L[i] + \"\\'\"\n",
    "outStr += \" is at index \" + str(i)\n",
    "if i >= 0:\n",
    "    outStr += \" (position \" + str(i+1) + \")\"\n",
    "outStr += \" in the list \"\n",
    "outStr += str(L) \n",
    "\n",
    "print(outStr)"
   ]
  },
  {
   "cell_type": "markdown",
   "id": "e47a609f",
   "metadata": {
    "deletable": false,
    "editable": false
   },
   "source": [
    "We can also loop through each element in a list using a <code>for</code>-loop and the <code>in</code> operator (yes, <code>in</code> is an operator!), as shown below."
   ]
  },
  {
   "cell_type": "code",
   "execution_count": null,
   "id": "6eb67aa5",
   "metadata": {
    "deletable": false
   },
   "outputs": [],
   "source": [
    "# code cell 12\n",
    "\n",
    "L = ['a', 'b', 'c', 'd', 'e']\n",
    "i = 0\n",
    "for x in L:\n",
    "    outStr = \"The element at index \" + str(i) \n",
    "    outStr += \" in list L is \\'\" + x + \"\\'\"\n",
    "    print(outStr)\n",
    "    i += 1\n",
    "\n",
    "print()"
   ]
  },
  {
   "cell_type": "markdown",
   "id": "aa906ee6",
   "metadata": {
    "deletable": false,
    "editable": false
   },
   "source": [
    "As for strings, note that we can also do something Pythonic for lists that other programming languages do not allow us to do nearly as easily. From a given list <code>L</code>, we can create a sub-list containing elements at indices <code><font color=\"red\"><b>i</b></font></code> through <code><font color=\"blue\"><b>j - 1</b></font></code> by using the notation <code>L[<font color=\"red\"><b>i</b></font>:<font color=\"blue\"><b>j</b></font>]</code>. This is also called <a href=\"https://www.geeksforgeeks.org/python-list-slicing/\"><b>slicing</b></a>:\n",
    "<pre>\n",
    "L[<font color=\"red\"><b>start</b></font>:<font color=\"blue\"><b>stop</b></font>]  # items <font color=\"red\"><b>start</b></font> through <font color=\"blue\"><b>stop-1</b></font>\n",
    "L[<font color=\"red\"><b>start</b></font>:]      # items <font color=\"red\"><b>start</b></font> through the rest of the string (array of characters)\n",
    "L[:<font color=\"blue\"><b>stop</b></font>]       # items from the beginning through <font color=\"blue\"><b>stop-1</b></font>\n",
    "L[:]           # a copy of the whole list (array)\n",
    "</pre>"
   ]
  },
  {
   "cell_type": "code",
   "execution_count": null,
   "id": "9d42da2b",
   "metadata": {
    "deletable": false
   },
   "outputs": [],
   "source": [
    "# code cell 13\n",
    "\n",
    "s = input(\"Enter at least seven elements for a list separated by a comma: \")\n",
    "L0 = s.split(\",\")\n",
    "n = len(L0)\n",
    "print(\"list L0 =\", L0, \"has\", n, \"elements\")\n",
    "print()\n",
    "     \n",
    "i = int(input(\"enter i: \"))\n",
    "j = int(input(\"enter j: \"))\n",
    "L1 = L0[i:j]\n",
    "print(\"the list L1 =\" , L1 , \"has elements from index\", i, \"through index\", j-1, \", inclusive\")\n",
    "print()\n",
    "\n",
    "for i in range(0, n, 3):\n",
    "    L2 = L0[i:i+3]\n",
    "    print(\"L0[\" + str(i) + \":\" + str(i+3) + \"] = \" , L2)"
   ]
  },
  {
   "cell_type": "markdown",
   "id": "d457e8b3",
   "metadata": {
    "deletable": false,
    "editable": false
   },
   "source": [
    "#### Lists are mutable!\n",
    "\n",
    "Unlike strings, elements in a list can be referenced by index and changed! In Python, lists are <b>mutable</b>; that is, elements of a list <b>can</b> be modified, appended to, or deleted from *in place*. "
   ]
  },
  {
   "cell_type": "code",
   "execution_count": null,
   "id": "3cba3fad",
   "metadata": {
    "deletable": false
   },
   "outputs": [],
   "source": [
    "# code cell 14\n",
    "\n",
    "L = ['a', 'b', 'c', 'd', 'e']\n",
    "memloc1 = id(L)\n",
    "print('list L = ', L, 'is at address', memloc1)\n",
    "print()\n",
    "\n",
    "L[2] = \"q\"  # no error here - lists can be modified in place!\n",
    "memloc2 = id(L)\n",
    "print('modified list L = ', L, 'is still at address', memloc2)\n",
    "print()\n",
    "\n",
    "L.insert(1, 'z')\n",
    "print('after inserting \\'z\\' at index 1, list L is now', L)\n",
    "print()\n",
    "\n",
    "L.pop(2)\n",
    "print('after deleting \\'b\\' at index 2, list L is now', L)"
   ]
  },
  {
   "cell_type": "markdown",
   "id": "18e7575b",
   "metadata": {
    "deletable": false,
    "editable": false
   },
   "source": [
    "### 4. List Functions and Methods\n",
    "\n",
    "* https://www.w3schools.com/python/python_ref_list.asp\n",
    "* https://www.analyticsvidhya.com/blog/2021/06/15-functions-you-should-know-to-master-lists-in-python/\n"
   ]
  },
  {
   "cell_type": "markdown",
   "id": "61d900aa",
   "metadata": {
    "deletable": false,
    "editable": false
   },
   "source": [
    "The <b>constructor</b> <code>list()</code> returns an empty list.\n",
    "\n",
    "Commonly used built-in <b>list functions</b> (functions that operate on lists):\n",
    "\n",
    "| function | description |\n",
    "| --: | :-- |\n",
    "| <code>len(L)</code> |  returns the length of list <code>L</code> can be determined by using built-in <code>len()</code> function |\n",
    "| <code>print(L)</code> |  prints the elements of <code>L</code> as a comma-separated list of values surrounded by brackets |\n",
    "| <code>type(L)</code> |  returns the type of a list object <code>L</code> (```<class 'list'>```) |\n",
    "| <code>id(L)</code> |  returns the \"identity\" (memory address) of a list object <code>L</code> |\n",
    "| <code>max(L)</code> | returns an item from list <code>L</code> with a maximum value |\n",
    "| <code>min(L)</code> | returns an item from list <code>L</code> with a minimum value |\n",
    "\n",
    "\n",
    "Commonly used built-in <b>list methods</b> (functions provided by list objects):\n",
    "\n",
    "| function | description |\n",
    "| --: | :-- |\n",
    "| <code>L.append()</code> | adds an element at the end of the list <code>L</code> |\n",
    "| <code>L.clear()</code> | removes all the elements from the list <code>L</code> |\n",
    "| <code>L.copy()</code> | returns a (shallow) copy of the list <code>L</code> |\n",
    "| <code>L.count()</code> | returns the number of elements of list <code>L</code> with the specified value |\n",
    "| <code>L.extend()</code> | add the elements of a specified list (or any iterable), to the end of list <code>L</code>  |\n",
    "| <code>L.index()</code> | returns the index of the first element of list <code>L</code> with the specified value |\n",
    "| <code>L.insert()</code> | adds an element to list <code>L</code> at the specified position |\n",
    "| <code>L.pop()</code> | removes the element from list <code>L</code> at the specified position |\n",
    "| <code>L.remove()</code>| removes the first item from list <code>L</code> with the specified value |\n",
    "| <code>L.reverse()</code> | reverses the order of the list <code>L</code>  |\n",
    "| <code>L.sort()</code> | sorts the list <code>L</code> |\n",
    "\n",
    "Note the difference in syntax between using list <b>functions</b> and list <b>methods</b>: <br>\n",
    "\n",
    "* list <b>functions</b> operate <b>on</b> a list <code>L</code>: <code>len(L)</code>, <code>type(L)</code>, <code>print(L)</code>, etc. <br>\n",
    "* list <b>methods</b> are called <b><font color=\"red\"><b>by</b></font></b> a list <code>L</code> using the <b><font color=\"red\">dot</font> operator</b>: <code>L<font color=\"red\"><b>.</b></font>count()</code>, <code>L<font color=\"red\"><b>.</b></font>index()</code>, <code>L<font color=\"red\"><b>.</b></font>sort()</code>, etc. Also, some list methods DO NOT return any value - they merely change the list _in place_ (because lists are mutable)."
   ]
  },
  {
   "cell_type": "code",
   "execution_count": null,
   "id": "cc671bd0",
   "metadata": {
    "deletable": false
   },
   "outputs": [],
   "source": [
    "# code cell 15\n",
    "\n",
    "L1 = list()\n",
    "\n",
    "print('list() returns an empty list L1: ', L1)\n",
    "n = len(L1)\n",
    "print('the length of list L1 is', n)\n",
    "print()\n",
    "print(\"*************************************************************\")\n",
    "print()\n",
    "\n",
    "L2 = [1, 5, 3, 4, 2, 1]\n",
    "\n",
    "print('list L2 =', L2)\n",
    "n = len(L2)\n",
    "print('the length of list L2 is' , n)\n",
    "e1 = L2[1]\n",
    "print('the element of list L2 at index 1 is', e1)\n",
    "t = type(L2)\n",
    "print('the type of L2 is', t)\n",
    "memloc = id(L2)\n",
    "print('the memory location of list L2 is', memloc)\n",
    "M = max(L2)\n",
    "print('the element of list L2 with the maximum value is', M)\n",
    "m = min(L2)\n",
    "print('the element of list L2 with the minimum value is', m)\n",
    "print()\n",
    "\n",
    "i5 = L2.index(5)\n",
    "print('in list L2, the index of element 5 is found using L2.index(5):', i5)\n",
    "c1 = L2.count(1)\n",
    "print('in list L2, the number of times element 1 occurs is found using L2.count(1):', c1)\n",
    "print()\n",
    "print(\"-   -   -   -   -   -   -   -   -   -   -   -   -   -   -   -\")\n",
    "print()\n",
    "\n",
    "\n",
    "L2.insert(3, 0)\n",
    "print('after inserting 0 at index 3, L2 =', L2)\n",
    "x = L2.insert(5, 0)\n",
    "print('L2.insert(5, 0) does not return anything:', x)\n",
    "print('but it inserts the element 0 at index 3 in place: L2 =', L2)\n",
    "print()\n",
    "\n",
    "x = L2.remove(0)\n",
    "print('L2.remove(0) does not return anything:', x)\n",
    "print('but it removes the first occurrence of element 0 in list L2 in place: L2 =', L2)\n",
    "print()\n",
    "\n",
    "x = L2.pop(5)\n",
    "print('L2.pop(5) does return the element being removed:', x)\n",
    "print('and it removes the element at index 5 in place: L2 =', L2)\n",
    "print()\n",
    "\n",
    "x = L2.reverse()\n",
    "print('L2.reverse() does not return anything:', x)\n",
    "print('but it reverses list L2 in place: L2 =', L2)\n",
    "print()\n",
    "\n",
    "x = L2.sort()\n",
    "print('L2.sort() does not return anything:', x)\n",
    "print('but it sorts list L2 in ascending order (by default) in place: L2 =', L2)\n",
    "print()\n",
    "\n",
    "x = L2.sort(reverse=True)\n",
    "print('L2.sort(reverse=True) does not return anything:', x)\n",
    "print('but it sorts list L2 in descending order in place: L2 =', L2)\n",
    "print()\n",
    "\n",
    "x = L2.append(6)\n",
    "print('L2.append(6) does not return anything:', x)\n",
    "print('but it adds an element to the end of the list: L2 =', L2)\n",
    "print()\n",
    "\n",
    "x = L2.extend([-1, -2, -3])\n",
    "print('L2.extend([-1, -2, -3]) does not return anything:', x)\n",
    "print('but it extends list L2 in place: L2 =', L2)\n",
    "print()\n",
    "\n",
    "x = L2.clear()\n",
    "print('L2.clear() does not return anything:', x)\n",
    "print('but it clears list L2 in place: L2 =', L2)\n",
    "print()\n",
    "print(\"*************************************************************\")\n",
    "print()\n",
    "\n",
    "\n",
    "L3 = ['e', 'q', 'h', 'b', 'j']\n",
    "print('list L3 =', L3)\n",
    "print('the length of list L3 is', len(L3))\n",
    "e2 = L3[2]\n",
    "print('the element of list L3 at index 2 is \\'' + e2 + '\\'')\n",
    "print()\n",
    "print(\"-   -   -   -   -   -   -   -   -   -   -   -   -   -   -   -\")\n",
    "print()\n",
    "\n",
    "x = L3.insert(3, 'x')\n",
    "print('L3.insert(3, \\'x\\') does not return anything:', x)\n",
    "print('but it inserts the element \\'x\\' at index 3 in place: L3 =', L3)\n",
    "print()\n",
    "\n",
    "x = L3.sort()\n",
    "print('L3.sort() does not return anything:', x)\n",
    "print('but it sorts list L3 in ascending order (by default) in place: L3 =', L3)\n",
    "print()\n",
    "\n",
    "x = L3.sort(reverse=True)\n",
    "print('L3.sort(reverse=True) does not return anything:', x)\n",
    "print('but it sorts list L3 in descending order in place: L3 =', L3)\n",
    "print()"
   ]
  },
  {
   "cell_type": "markdown",
   "id": "f144a90d",
   "metadata": {
    "deletable": false,
    "editable": false
   },
   "source": [
    "#### Lists and strings\n",
    "\n",
    "A string can be converted into a list of its individual characters. Two of the following return the list <code>['a', 'b', 'c', 'd', 'e']</code> from the string <code>\"abcde\"</code>:\n",
    "* <code>L = list(\"abcde\")</code>\n",
    "* <code>L = [x for x in \"abcde\"]</code>\n",
    "* <code>L = \"a,b,c,d,e\".split(\",\")</code> <br>\n",
    "\n",
    "Conversely, a list can be converted into a string. All of the following return the string <code>\"abcde\"</code> from the list <code>['a', 'b', 'c', 'd', 'e']</code>: \n",
    "* <code>s = \"\".join(['a', 'b', 'c', 'd', 'e']</code>\n",
    "* <code>s = \"\".join(x for x in ['a', 'b', 'c', 'd', 'e'])</code>\n",
    "* <code>s = \"\"</code> <br>\n",
    "<code>for x in ['a', 'b', 'c', 'd', 'e']:</code> <br>\n",
    "<code>    s += x </code>\n"
   ]
  },
  {
   "cell_type": "code",
   "execution_count": null,
   "id": "e3e325a6",
   "metadata": {
    "deletable": false
   },
   "outputs": [],
   "source": [
    "# code cell 16\n",
    "\n",
    "s1 = \"abcde\"\n",
    "L1 = list(s1)\n",
    "print(\"list('abcde') =\", L1)\n",
    "\n",
    "L2 = [x for x in s1]\n",
    "print(\"[x for x in 'abcde'] =\", L2)\n",
    "\n",
    "L3 = \"a,b,c,d,e\".split(\",\")\n",
    "print(\"'a,b,c,d,e'.split(',') =\", L3)\n",
    "\n",
    "print()\n",
    "print(\"*************************************************************\")\n",
    "print()\n",
    "\n",
    "s2 = ''.join(L1)\n",
    "print(\"''.join(['a', 'b', 'c', 'd', 'e']) = '\" + s2 + \"'\")\n",
    "\n",
    "s3 = ''.join(x for x in L1)\n",
    "print(\"''.join(x for x in L1) = '\" + s3 + \"'\")\n",
    "\n",
    "s4 = \"\"\n",
    "for x in L1:\n",
    "    s4 += x\n",
    "print(\"empty string concatenated with each element of L1 = '\" + s4 + \"'\")"
   ]
  },
  {
   "cell_type": "markdown",
   "id": "79c0f3f4",
   "metadata": {
    "deletable": false,
    "editable": false
   },
   "source": [
    "<div class=\"alert alert-block alert-info\">\n",
    "Note that <code>ord('A')</code> returns the <a href=\"https://www.asciitable.com/?authuser=0\"><b>ASCII</b></a> code for the letter <code>A</code> (which is 65), while <code>chr(65)</code> returns the string <code>'A'</code>. All the uppercase letters in English have consecutive ASCII codes (so <code>B</code> has code 66, ... , <code>Z</code> has code 90). See <a href=\"https://www.digitalocean.com/community/tutorials/python-ord-chr\"><b>Python ord(), chr() functions</b></a> for more details.<br>\n",
    "    \n",
    "1. Starting with an empty string assigned to a variable, <b>use a loop</b> to append successive uppercase letters to it in order to create the string <code>\"ABCDEFGHIJKLMNOPQRSTUVWXYZ\"</code>, and print it out. <br><br>\n",
    "2. Starting with an empty list assigned to a variable, <b>use a loop</b> to append successive uppercase letters to it in order to create the list <code>['A', 'B', 'C', 'D', 'E', 'F', 'G', 'H', 'I', 'J', 'K', 'L', 'M', 'N', 'O', 'P', 'Q', 'R', 'S', 'T', 'U', 'V', 'W', 'X', 'Y', 'Z']</code>, and print it out. <br><br>\n",
    "3. Verify that you can also create the list in #2 by using the <code>list()</code> function (constructor) on the string you created in #1, and print it out. <br><br>\n",
    "4. Verify that you can also create the string in #1 using the <code>join()</code> method on an empty string, using the list you created in #2 as its input, and print it out. <br><br>\n",
    "5. Starting with an empty list assigned to a variable, append successive uppercase letters to it, but this time, using <code>random.randint(1, 2)</code>, randomly convert some letters to lowercase before appending them to the list. Print this list. <br><br>\n",
    "6. Starting with an empty string assigned to a variable, convert the list in #5 to a string. Print this string. <br><br>\n",
    "7. Using <code>random.shuffle()</code>, shuffle the order of letters in the list in #5. Print this shuffled list.<br><br>\n",
    "8. Starting with an empty string assigned to a variable, convert the shuffled list in #7 to a string, and print it out. <br><br>\n",
    "9. Prompt the user to enter a long sentence or phrase, and assign this string to a variable. Print this string and its length. Then, convert this string to a list, shuffle the list, convert the shuffled list back into a string, and print out the string and its length. \n",
    "</div>"
   ]
  },
  {
   "cell_type": "code",
   "execution_count": null,
   "id": "44c423cb",
   "metadata": {},
   "outputs": [],
   "source": [
    "# code for list/string exercise\n",
    "import random\n",
    "\n",
    "def main():\n",
    "    # delete 'pass', and replace it with your own code\n",
    "    pass\n",
    "\n",
    "\n",
    "# be sure to invoke main()!\n",
    "main()"
   ]
  },
  {
   "cell_type": "markdown",
   "id": "1a275d64",
   "metadata": {
    "deletable": false,
    "editable": false
   },
   "source": [
    "<div class=\"alert alert-block alert-info\">\n",
    "Try this! In the code cell below, you are given a list <code>suits</code> containing all four suits of a deck of cards, represented as one-character strings. <br>\n",
    "    \n",
    "1. To a variable <code>nums</code>, assign a list containing the numbers from 1 to 13, assign it to a variable, and print it out. (See if you can create this list using a loop instead of by brute force, like <code>nums = [1, 2, ..., 13]</code>.) <br><br>\n",
    "2. Loop through the lists <code>suits</code> and <code>nums</code> in order to create a list of two-element lists containing a suit and a value from the list you created in #1. Assign this to a variable called <code>deck</code>, and print it out to verify that it contains 52 items (\"cards\") like this: <code>[['♠', 1], ['♠', 2], ..., ['♥', 1], ['♥', 2], ...]</code>. <br><br>\n",
    "3. Create an empty list, assign it to a variable called <code>hand</code>, then append to it a \"card\" (an item of <code>deck</code>) that has been randomly \"dealt\" from it. (That is, randomly choose an integer between <code>0</code> and <code>len(deck)-1</code>. The item in <code>deck</code> at this index is to be appended to <code>hand</code>. Then, remove it from <code>deck</code> using <code>pop()</code>.) In this manner, deal four cards from <code>deck</code> to <code>hand</code>. Be sure to print out your <code>hand</code>! <br><br>\n",
    "4. Sum the values of each \"card\" in <code>hand</code> - you can use a second index to obtain card values. (For example, <code>hand[2][1]</code> is the value of the third card in <code>hand</code>, while <code>hand[0][0]</code> is the suit of the first card in <code>hand</code>). This sum is the value of your hand - print it out, and verify that it is correct. <br><br>\n",
    "5. Print out <code>deck</code> and its size (the number of cards in it) to make sure that the four cards you dealt in #3 are indeed missing from it. Remember to <b>copy</b> your output (<code>CTRL-C</code>), <b>paste</b> it into the bottom of the code cell (<code>CTRL-V</code>), and <b>comment</b> it out (<code>CTRL-/</code>).<br><br>\n",
    "    \n",
    "<b> Extra challenge</b>:\n",
    "Deal four hands containing four cards each. Determine the value of each hand, and declare the winner to be the hand whose value is the highest. (Ignore ties.) Print the deck and its size both before and after the hands are dealt, verifying that the cards dealt out are indeed missing from the deck. \n",
    "</div>"
   ]
  },
  {
   "cell_type": "code",
   "execution_count": null,
   "id": "3b3d2c78",
   "metadata": {
    "deletable": false
   },
   "outputs": [],
   "source": [
    "# code for card game exercise using lists\n",
    "import random\n",
    "\n",
    "suits = ['♠', '♥', '♦', '♣']\n",
    "\n",
    "def main():\n",
    "    # delete 'pass', and replace it with your own code\n",
    "    pass\n",
    "\n",
    "\n",
    "# be sure to invoke main()!\n",
    "main()"
   ]
  },
  {
   "cell_type": "code",
   "execution_count": null,
   "id": "92a47ea8",
   "metadata": {
    "deletable": false,
    "editable": false
   },
   "outputs": [],
   "source": [
    "# code cell 17\n",
    "\n",
    "import random\n",
    "\n",
    "def main():   \n",
    "    numDice = 3\n",
    "    curScore = 0\n",
    "    \n",
    "    while True:\n",
    "        s = input(\"Enter s for score, r to roll, or q to quit: \")\n",
    "        \n",
    "        if s == \"r\":\n",
    "            outStr = \"You rolled\"\n",
    "            for i in range(numDice):\n",
    "                k = random.randint(1, 6)\n",
    "                outStr += \" \" + str(k)\n",
    "                curScore += k\n",
    "                \n",
    "            print(outStr)\n",
    "            print(\"Your current score is \" + str(curScore) + \"\\n\")\n",
    "            \n",
    "        elif s == \"s\":\n",
    "            print(\"Your current score is \" + str(curScore) + \"\\n\")\n",
    "            \n",
    "        else:\n",
    "            print(\"You entered q ... goodbye!\")\n",
    "            return\n",
    "        \n",
    "main()"
   ]
  },
  {
   "cell_type": "markdown",
   "id": "751bf35e",
   "metadata": {
    "deletable": false
   },
   "source": [
    "<div class=\"alert alert-block alert-info\">\n",
    "This code above should look familiar to you - it's from the previous notebook, but with <code>numDice = 3</code>. Copy and paste it into the code cell below. <br>\n",
    "\n",
    "Remember how we changed the rules: <br>\n",
    "* Each time you roll the 3 dice, if any of them happens to be a 1, then your score goes to zero. <br>\n",
    "* Make sure all 3 dice are rolled, regardless of whether any of them is a 1. <br>\n",
    "* Keep track of your highest score so far. <br>\n",
    "\n",
    "This time, <b>EITHER</b> <br>\n",
    "1. Use a <b>list</b> to store each of the die rolls in lines 14-17. Then, use list functions or methods to determine whether a 1 was rolled; if so, then zero out the current score; <b>OR</b>\n",
    "2. Use string functions or methods to determine whether there is at least one <code>'1'</code> in <code>outStr</code> (lines 13-19); if so, then zero out the current score. <br>\n",
    "    \n",
    "As in the previous notebook, test your code by rolling the dice a sufficient number of times to (a) zero out your score once, and (b) exceed your previous high score. Please remember to <b>copy</b> your output (<code>CTRL-C</code>), <b>paste</b> it into the bottom of the code cell (<code>CTRL-V</code>), and <b>comment</b> it out (<code>CTRL-/</code>).\n",
    "</div>"
   ]
  },
  {
   "cell_type": "code",
   "execution_count": null,
   "id": "49add1e8",
   "metadata": {
    "deletable": false
   },
   "outputs": [],
   "source": [
    "# code for three-dice game using lists\n",
    "\n",
    "def main():\n",
    "    # delete 'pass', and replace it with your own code\n",
    "    pass\n",
    "\n",
    "\n",
    "# be sure to invoke main()!\n",
    "main()"
   ]
  },
  {
   "cell_type": "markdown",
   "id": "1850ba17",
   "metadata": {
    "deletable": false,
    "editable": false
   },
   "source": [
    "### 5. A Dictionary is a Set of Key-Value Pairs\n",
    "\n",
    "Coding languages like C, C++, C#, and Java all have a data structure that holds a collection of objects that can be referred to by something other than their index or position in the collection. In these collections, the elements (entries) are <b>key-value pairs</b>, in which the <b>keys must be unique</b>, while the values (objects) they refer to need not be. In Python, such a data stucture is known as a <b>dictionary</b>, while other programming languages call this entity a <b>map</b>. At this time, we will only consider dictionaries containing entries whose keys are of the same data type, and whose values (objects) of the same data type.<br>\n",
    "\n",
    "The Python dictionary is enclosed by braces (curly brackets), and its entries (key-value pairs) are delimited (set off from each other) by commas. An empty dictionary has nothing between its opening and closing braces.<br>\n",
    "<pre>\n",
    "d0 = {}\n",
    "d1 = {\"a\": 1, \"b\": 2, \"c\": 3}\n",
    "d2 = {1: \"dog\", -2: \"x\", 3.4: \"hello\"}\n",
    "d3 = {0: False, 1: True}\n",
    "</pre>\n",
    "\n",
    "A dictionary can be initialized using a <b>constructor</b> <code>dict()</code>:\n",
    "<pre>\n",
    "d4 = dict()                                   # this creates an empty dictionary {}\n",
    "\n",
    "d5 = dict(dog=1, cat=2, iguana=3, rat=4)      # this creates the dictionary\n",
    "                                              # d5 = {'dog': 1, 'cat': 2, 'iguana': 3, 'rat': 4}\n",
    "d6 = dict.fromkeys([-1, -2, -3])              # this initializes a dictionary with all keys having the value None:\n",
    "                                              # d6 = {-1: None, -2: None, -3: None}\n",
    "d7 = dict.fromkeys([3.4, 2.7], 0)             # this initializes a dictionary with all keys having the same value 0: \n",
    "                                              # d7 = {3.4: 0, 2.7: 0}\n",
    "</pre>\n",
    "\n",
    "\n",
    "A dictionary can be printed:\n",
    "<pre>\n",
    "d1 = {\"a\": 1, \"b\": 2, \"c\": 3}\n",
    "print(d1)      # this prints {'a': 1, 'b': 2, 'c': 3}\n",
    "</pre>\n",
    "\n",
    "The number of entries (elements) of a dictionary can be determined using <code>len()</code>:\n",
    "<pre>\n",
    "d2 = {1: \"dog\", -2: \"x\", 3.4: \"hello\"}\n",
    "N = len(d2)    # this assigns 3 to N\n",
    "</pre>"
   ]
  },
  {
   "cell_type": "markdown",
   "id": "b51fe14f",
   "metadata": {
    "deletable": false,
    "editable": false
   },
   "source": [
    "Like lists, the entries of dictionaries are referenced using brackets (<code>[]</code>), as in the code cell below. However, what goes in the brackets must be a <b>key</b> that already exists in the dictionary, and what is returned is the value associated with the specified key. Unlike lists, the entries of dictionaries <b>cannot</b> be referenced by their position in the collection. \n",
    "\n",
    "Run the following cell several times with various keys that exist in the dictionary. What happens if you enter a key that's not in the dictionary?"
   ]
  },
  {
   "cell_type": "code",
   "execution_count": null,
   "id": "5b1a44f1",
   "metadata": {
    "deletable": false
   },
   "outputs": [],
   "source": [
    "# code cell 18\n",
    "\n",
    "d = {'dog': 1, 'cat': 2, 'iguana': 3, 'rat': 4}\n",
    "print(\"Dictionary d = \", d)\n",
    "n = len(d)\n",
    "x = input(\"Enter a key that exists in the dictionary: \")\n",
    "\n",
    "outStr = \"The value \" + str(d[x])\n",
    "outStr += \" is associated with key \\'\" + x + \"\\'\"\n",
    "outStr += \" in dictionary d.\"\n",
    "\n",
    "print(outStr)"
   ]
  },
  {
   "cell_type": "markdown",
   "id": "34b0f167",
   "metadata": {
    "deletable": false,
    "editable": false
   },
   "source": [
    "We can also loop through each entry in a dictionary through its keys, using a <code>for</code>-loop and the <code>in</code> operator, as shown below."
   ]
  },
  {
   "cell_type": "code",
   "execution_count": null,
   "id": "2a860e57",
   "metadata": {
    "deletable": false,
    "scrolled": false
   },
   "outputs": [],
   "source": [
    "# code cell 19\n",
    "\n",
    "d = {'dog': 1, 'cat': 2, 'iguana': 3, 'rat': 4}\n",
    "print(\"Dictionary d = \" + str(d))\n",
    "keyList = list(d.keys())   # if you don't use list(), then d.keys() returns a list-like object called dict_keys\n",
    "for x in d.keys():\n",
    "    outStr = \"The value associated with key \\'\" + x + \"\\'\"\n",
    "    outStr += \" in dictionary d is \" + str(d[x])\n",
    "    print(outStr)"
   ]
  },
  {
   "cell_type": "markdown",
   "id": "8c330144",
   "metadata": {
    "deletable": false,
    "editable": false
   },
   "source": [
    "#### Dictionaries are mutable!\n",
    "\n",
    "Like lists, entries in a dictionary can be referenced by index and changed! In Python, dictionaries are <b>mutable</b>; that is, entries in a dictionary <b>can</b> be modified, appended to, or deleted from *in place*. "
   ]
  },
  {
   "cell_type": "code",
   "execution_count": null,
   "id": "70ccbd2b",
   "metadata": {
    "deletable": false
   },
   "outputs": [],
   "source": [
    "# code cell 20\n",
    "\n",
    "d = {'dog': 1, 'cat': 2, 'iguana': 3, 'rat': 4}\n",
    "print('dictionary d =', d, 'is at address', id(d))\n",
    "print()\n",
    "\n",
    "d['rat'] = 7  # no error here - lists can be modified in place!\n",
    "print('modified dictionary =', d, 'is still at address', id(d))\n",
    "print()\n",
    "\n",
    "d['ferret'] = 6\n",
    "print('after inserting entry \\'ferret\\': 6, dictionary d is now', d)\n",
    "print(id(d))\n",
    "print()\n",
    "\n",
    "d.pop('iguana')\n",
    "print('after deleting entry \\'iguana\\': 3, dictionary d is now', d)\n",
    "print(id(d))"
   ]
  },
  {
   "cell_type": "markdown",
   "id": "21858636",
   "metadata": {
    "deletable": false,
    "editable": false
   },
   "source": [
    "### 6. Dictionary Functions and Methods\n",
    "\n",
    "* https://www.w3schools.com/python/python_ref_dictionary.asp\n",
    "* https://www.programiz.com/python-programming/dictionary"
   ]
  },
  {
   "cell_type": "markdown",
   "id": "d7598a2e",
   "metadata": {
    "deletable": false,
    "editable": false
   },
   "source": [
    "The <b>constructor</b> <code>dict()</code> returns an empty dictionary.\n",
    "\n",
    "Commonly used built-in <b>dictionary functions</b> (functions that operate on dictionaries):\n",
    "\n",
    "| function | description |\n",
    "| --: | :-- |\n",
    "| <code>len(d)</code> |  returns the length of dictionary <code>d</code> can be determined by using built-in <code>len()</code> function |\n",
    "| <code>print(d)</code> |  prints the entries of <code>d</code> as a comma-separated list of values surrounded by braces |\n",
    "| <code>type(d)</code> |  returns the type of a dictionary object <code>L</code> (```<class 'dict'>```) |\n",
    "| <code>id(d)</code> |  returns the \"identity\" (memory address) of a dictionary object <code>d</code> |\n",
    "| <code>dict(d)</code> |  returns a copy of dictionary object <code>d</code> |\n",
    "| <code>del(d)</code> | deletes the dictionary object <code>d</code> (<code>del d</code> also works) |\n",
    "\n",
    "\n",
    "Commonly used built-in <b>dictionary methods</b> (functions provided by dictionary objects):\n",
    "\n",
    "| function | description |\n",
    "| --: | :-- |\n",
    "| <code>d.clear()</code> | removes all entries from the dictionary <code>d</code> |\n",
    "| <code>d.copy()</code> | returns a (shallow) copy of the dictionary <code>d</code> |\n",
    "| <code>d.fromkeys()</code> | returns a dictionary with the specified keys and value |\n",
    "| <code>d.get()</code> | returns the value of a specified key from the dictionary <code>d</code> |\n",
    "| <code>d.items()</code> | returns a list containing a tuple for each entry (key-value pair) in dictionary <code>d</code> |\n",
    "| <code>d.keys()</code> | returns a list containing the keys of dictionary <code>d</code> |\n",
    "| <code>d.pop()</code> | removes the entry with the specified key from dictionary <code>d</code> |\n",
    "| <code>d.popitem()</code>| removes the the last inserted entry (key-value pair) from dictionary <code>d</code> |\n",
    "| <code>d.setdefault()</code> | returns the value of the specified key, if it exists; otherwise, inserts the key with the specified value  |\n",
    "| <code>d.update()</code> | updates the dictionary <code>d</code> with the specified key-value pairs |\n",
    "| <code>d.values()</code> | returns a list containing the values of dictionary <code>d</code> |\n",
    "\n",
    "Note the difference in syntax between using dictionary <b>functions</b> and dictionary <b>methods</b>: <br>\n",
    "\n",
    "* dictionary <b>functions</b> operate <b>on</b> a dictionary <code>d</code>: <code>len(d)</code>, <code>type(d)</code>, <code>print(d)</code>, etc. <br>\n",
    "* dictionary <b>methods</b> are called <font color=\"red\"><b>by</b></font> a dictionary <code>d</code> using the <b><font color=\"red\">dot</font> operator</b>: <code>d<font color=\"red\"><b>.</b></font>clear()</code>, <code>d<font color=\"red\"><b>.</b></font>keys()</code>, <code>d<font color=\"red\"><b>.</b></font>values()</code>, etc."
   ]
  },
  {
   "cell_type": "code",
   "execution_count": null,
   "id": "bc3393bc",
   "metadata": {
    "deletable": false
   },
   "outputs": [],
   "source": [
    "# code cell 21\n",
    "\n",
    "d0 = dict()\n",
    "\n",
    "print('dict() returns an empty dictionary d0:', d0)\n",
    "print()\n",
    "\n",
    "\n",
    "d1 = dict(dog=1, cat=2, rat=3)\n",
    "\n",
    "print('d1 = dict(dog=1, cat=2, rat=3) creates a dictionary with the specified key-value pairs.')\n",
    "print('dictionary d1 =', d1, '\\n')\n",
    "d1a = dict.fromkeys([1, 2, 3])\n",
    "print('d1a = dict.fromkeys([1, 2, 3]) creates a dictionary with values all set to None.')\n",
    "print('dictionary d1a =', d1a, '\\n')\n",
    "d1b = dict.fromkeys([1, 2, 3], '0')\n",
    "print('d1b = dict.fromkeys([1, 2, 3], \\'0\\') creates a dictionary with values all set to \\'0\\'.')\n",
    "print('dictionary d1b =', d1b, '\\n')\n",
    "d1c = dict(zip(['dog', 'cat', 'rat'], [1, 2, 3]))\n",
    "print('d1c = dict(zip([\\'dog\\', \\'cat\\', \\'rat\\'], [1, 2, 3])) creates a dictionary from two lists.')\n",
    "print('dictionary d1c =', d1c, '\\n')\n",
    "print(\"*************************************************************\")\n",
    "print()\n",
    "\n",
    "d2 = {1: \"dog\", -2: \"x\", 3.4: \"hello\"}\n",
    "\n",
    "print('dictionary d2 =', d2)\n",
    "n = len(d2)\n",
    "print('the length of dictionary d2 is' , n)\n",
    "en2 = d2[-2]\n",
    "print('the value associated with key -2 in dictionary d2 is \\'' + str(en2) + '\\'')\n",
    "t = type(d2)\n",
    "print('the type of d2 is', t)\n",
    "memloc = id(d2)\n",
    "print('the memory location of dictionary d2 is', memloc)\n",
    "print()\n",
    "print(\"-   -   -   -   -   -   -   -   -   -   -   -   -   -   -   -\")\n",
    "print()\n",
    "\n",
    "k2 = d2.keys()\n",
    "print('d2.keys() returns the keys of d2 as a list:', k2)\n",
    "t = type(d2.keys())\n",
    "print('          but this is an object of type', t)\n",
    "kl2 = list(d2.keys())\n",
    "print('list(d2.keys()) converts this to a list: ' + str(kl2) + ' of type ' + str(type(kl2)))\n",
    "print()\n",
    "\n",
    "v2 = d2.values()\n",
    "print('d2.values() returns the values of d2 as a list:', v2)\n",
    "t = type(d2.values())\n",
    "print('            but this is an object of type', t)\n",
    "vl2 = list(d2.values())\n",
    "print('list(d2.values()) converts this to a list: ' + str(vl2) + ' of type ' + str(type(vl2)))\n",
    "print()\n",
    "print(\"-   -   -   -   -   -   -   -   -   -   -   -   -   -   -   -\")\n",
    "print()\n",
    "\n",
    "vn2a = d2[-2]\n",
    "print('d2[-2] returns the value associated with existing key -2: \\'' + str(vn2a) + '\\'')\n",
    "vn2b = d2.get(-2)\n",
    "print('d2.get(-2) also returns the value associated with existing key -2: \\'' + str(vn2b) + '\\'')\n",
    "d2[3.4] = 'what?'\n",
    "print('d2[3.4] = \\'what?\\' sets a new value for existing key 3.4: dict d2 =', d2)\n",
    "d2[-0.3] = 'IDK'\n",
    "print('d2[-0.3] = \\'IDK\\' sets a value \\'IDK\\' for new key -0.3: dict d2 = ' +  str(d2))\n",
    "print()\n",
    "\n",
    "v3p4 = d2.pop(3.4)\n",
    "print('d2.pop(3.4) returns the value associated with the key whose entry is being removed: \\'' + str(v3p4) + '\\'')\n",
    "print('after removing entry 3.4: \\'what?\\', dict d2 = ' + str(d2))\n",
    "print()\n",
    "print()\n",
    "print(\"*************************************************************\")\n",
    "print()\n",
    "\n",
    "\n",
    "d3 = {42: 'yes', 17: 'no'}\n",
    "print('dictionary d3 =', d3)\n",
    "x = d2.update(d3)\n",
    "print('d2.update(d3) does not return anything:', x)\n",
    "print('but it updates dictionary d2 with entries from d3: dict d2 = ', d2)\n",
    "print()\n",
    "\n",
    "b1 = 42 in d2\n",
    "print('\\'42 in d2\\' returns True because 42 is a key:', b1)\n",
    "b2 = 0 in d2\n",
    "print('\\'0 in d2\\' returns False because 0 is not a key: ' + str(b2))\n",
    "print()\n",
    "\n",
    "x = d2.clear()\n",
    "print('d2.clear() does not return anything:', x)\n",
    "print('but it deletes all entries in d2: dict d2 is now', d2)"
   ]
  },
  {
   "cell_type": "markdown",
   "id": "f795adab",
   "metadata": {
    "deletable": false
   },
   "source": [
    "#### You could do EITHER (1) both of the following two exercises, OR (2) just the Extra Challenge, and skip the following two exercises."
   ]
  },
  {
   "cell_type": "markdown",
   "id": "0ccded71",
   "metadata": {
    "deletable": false,
    "editable": false
   },
   "source": [
    "<div class=\"alert alert-block alert-info\">\n",
    "Scrabble&trade; word value calculator <br>\n",
    "\n",
    "This website lists the point values of each letter in the game Scrabble&trade;: <a href=\"https://www.playmeo.com/face-value-scrabble-tiles/\"><b>The Face Value of SCRABBLE Tiles</b></a>. For this exercise, you will write a program that turns this information into an application that calculates the point value of words using lists and dictionaries. <br>\n",
    "    \n",
    "1. Create separate lists of one-character uppercase strings (for example, <code>['A', 'B', ...]</code>) for 1-point letters, then for 2-point letters, etc. You should end up with seven such lists; print each of them out. <br><br>\n",
    "2. Using <code>dict.fromkeys()</code>, create dictionaries for each of these lists. Each dictionary should have the one-character strings as keys, and the point value of the letters as values. Print out each of these dictionaries to verify that they look right. <br><br>\n",
    "3. Then, create an empty dictionary and update it with each of the seven dictionaries you created in #2. Verify that this dictionary has 26 entries by using the <code>len()</code> function, and print out this dictionary. <br><br>\n",
    "4. Prompt the user to enter a word that has seven letters or fewer, and assign this string to a variable. <br><br>\n",
    "5. Convert all characters assigned to this variable to uppercase, then loop through each character in the string, obtain its point value using the dictionary you created in #3, and add up these values. <br><br>\n",
    "6. Print out the word that the user entered, and its point value. Remember to <b>copy</b> your output (<code>CTRL-C</code>), <b>paste</b> it into the bottom of the code cell (<code>CTRL-V</code>), and <b>comment</b> it out (<code>CTRL-/</code>). <br><br>\n",
    "    \n",
    "<b>Optional</b>: See if you can figure out how to sort alphabetically the entries of the dictionary you created in #3, then print it out. This will make it much easier for you to confirm the results of your word value calculator by inspection. (Hint: consult <a href=\"https://www.freecodecamp.org/news/python-sort-dictionary-by-key/\"><b>Python Sort Dictionary by Key</b></a>. If you ever need to, you could sort a dictionary by its values instead: <a href='https://www.freecodecamp.org/news/sort-dictionary-by-value-in-python/'><b>Sort Dictionary by Value in Python</b>)\n",
    "\n",
    "</div>"
   ]
  },
  {
   "cell_type": "code",
   "execution_count": null,
   "id": "8cfdea65",
   "metadata": {
    "deletable": false
   },
   "outputs": [],
   "source": [
    "# code for Scrabble word value calculator\n",
    "\n",
    "def main():\n",
    "    # delete 'pass', and replace it with your own code\n",
    "    pass\n",
    "\n",
    "\n",
    "# be sure to invoke main()!\n",
    "main()"
   ]
  },
  {
   "cell_type": "markdown",
   "id": "3cb4406c",
   "metadata": {
    "deletable": false,
    "editable": false
   },
   "source": [
    "<div class=\"alert alert-block alert-info\">\n",
    "Caesar (shift) cipher encoder<br>\n",
    "    \n",
    "In this exercise, you will create a <a href=\"https://en.wikipedia.org/wiki/Caesar_cipher\"><b>substitution (or shift) cipher</b></a> (also known as a Caesar cipher, since Roman dictator Julius Caesar (100-44 BCE) purportedly used one for his private correspondence) using a dictionary to establish the correspondence between letters in the encoded and decoded message. <br>\n",
    "    \n",
    "1. Using the <code>ord()</code> function, obtain the <a href=\"https://en.wikipedia.org/wiki/ASCII\"><b>ASCII</b></a> code value for the letter <code>'A'</code>, and print it out. All the other uppercase letters of the alphabet are encoded consecutively from this value (that is, the ASCII code for <code>'B'</code> is the ASCII code for <code>'A'</code> plus one, etc.) Note that <code>chr()</code> does the opposite of <code>ord()</code>. (See <a href=\"https://www.digitalocean.com/community/tutorials/python-ord-chr\"><b>Python ord(), chr() functions</b></a>.) <br><br>\n",
    "2. Create an empty list, use a loop to append one-character strings containing each consecutive letter of the alphabet, then print out this list and verify that it has 26 entries. <br><br>\n",
    "3. Assign an integer offset value to a variable named <code>rotX</code>. This value determines the shift for the shift cipher. (For instance, if the shift is +1, then <code>'A'</code> maps to <code>'B'</code>, <code>'B'</code> maps to <code>'C'</code>, ..., <code>'Z'</code> maps to <code>'A'</code>.) <br><br>\n",
    "4. Create another empty list, and use a loop to append one-character strings containing each letter in the list you created in #2, but shifted forward by <code>rotX</code> positions. See if you can use the <code>%</code> operator to elegantly handle the case when you need to loop back through the letters without running past <code>'Z'</code>. This list contains the values (encrypted letters) that correspond to your keys (unencrypted letters). <br><br>\n",
    "5. Create an empty dictionary and assign it to a variable. Loop through the elements of the list you created in #2 as the keys of this dictionary, and use as their values the elements of the shifted list you created in #4. Print this dictionary. <br><br>\n",
    "6. Prompt the user for a phrase or sentence, and assign this string to a variable. <br><br>\n",
    "7. Create an empty string, and assign it to a variable. <br><br>\n",
    "8. Convert all characters in the user-entered string from #6 to uppercase, then loop through each character in the string, look up the encrypted character from the dictionary, and append each encrypted character to the variable you created in #7. <br><br>\n",
    "9. Run your program several times with the same phrase or sentence, each time using different values of <code>rotX</code> (at least twice, using +1 and +13, for instance), and print out what the encrypted string looks like. Run it with <code>rotX = 0</code> (no shift) to verify that you recover the unencrypted string. Please <b>copy</b> your output (<code>CTRL-C</code>), <b>paste</b> it into the bottom of the code cell (<code>CTRL-V</code>), and <b>comment</b> it out (<code>CTRL-/</code>).\n",
    "</div>"
   ]
  },
  {
   "cell_type": "code",
   "execution_count": null,
   "id": "b7537d6a",
   "metadata": {
    "deletable": false
   },
   "outputs": [],
   "source": [
    "# code for Caesar cipher encoder\n",
    "\n",
    "def main():\n",
    "    # delete 'pass', and replace it with your own code\n",
    "    pass\n",
    "\n",
    "\n",
    "# be sure to invoke main()!\n",
    "main()"
   ]
  },
  {
   "cell_type": "markdown",
   "id": "04e11a95",
   "metadata": {
    "deletable": false
   },
   "source": [
    "<div class=\"alert alert-block alert-info\">\n",
    "    \n",
    "<b>Extra challenge</b>: Apply what you now know about strings, lists, and dictionaries to a real-life bioinformatics problem ! <br>\n",
    "    \n",
    "In the cell below, I have created a dictionary whose keys are 3-base sequences, and whose values are the amino acids they code for. (This is known as a <a href=\"https://en.wikipedia.org/wiki/DNA_and_RNA_codon_tables\"><b>standard codon table</b></a>.) There is also a dictionary whose keys are the three-letter abbreviations for the amino acids, and whose values are their one-letter abbreviations, which are used in the scientific literature. From an early <a href=\"https://www.ncbi.nlm.nih.gov/nuccore/NC_045512.2?report=genbank&to=29903\"><b>NIH article</b></a> (Feb 2020) about the SARS-CoV-2 virus (29,903 base pairs), I have excerpted the 3822-bp nucleotide sequence that codes for the spike protein, along with the amino acid sequence that it corresponds to. <br>\n",
    "    \n",
    "For this exercise, you will <br>\n",
    "1. Find the length of the spike protein sequence <code>SPseq</code>, and print it out. <br><br>\n",
    "2. Use string functions or methods to remove spaces and convert all the letters from lowercase to uppercase letters (bases) in <code>SPseq</code>, and print it out, along with its length. <br><br>\n",
    "3. Use a <code>for</code>-loop to convert each three-base sequence in the string to an amino acid; then, using the dictionary <code>DNAdict</code>, append each three-letter amino acid string to a list, and print out that list. (The last three bases do not code for an amino acid, but for a <code>'stop'</code> codon instead. You will get an error in #6 unless you omit this from your list.) <br><br>\n",
    "4. Find the length (number of elements) in this list of amino acids, and print it out. <br><br>\n",
    "5. Create a dictionary <code>AAdict</code> using the lists <code>AAtla</code> (<b>keys</b>: three-letter amino acid abbreviations) and <code>AAola</code> (<b>values</b>: one-letter amino acid abbreviations), and print it out. (Hint: use <code>zip()</code> to match up corresponding elements in the two lists, then use <code>dict()</code> to turn this into a dictionary. Here's a link to info about <a href=\"https://www.programiz.com/python-programming/methods/built-in/zip\"><code>zip()</code></a>. <br><br>\n",
    "6. Using <code>AAdict</code>, convert each element (a string with a three-letter abbreviation for an amino acid) in the <b>list</b> of amino acids (from #3) into a <b>string</b> of one-letter abbreviations, and append it to a variable that started out as an empty string. Print out this string, as well as its length. <br><br>\n",
    "7. Compare the string you obtained in #6 with the amino acid sequence <code>AAseq</code>, which was published in the cited paper, and print out the result of that comparison. Please <b>copy</b> your output (<code>CTRL-C</code>), <b>paste</b> it into the bottom of the code cell (<code>CTRL-V</code>), and <b>comment</b> it out (<code>CTRL-/</code>).<br>\n",
    "\n",
    "<b>Optional</b>: See if you can determine which amino acids are most and least prevalent in the spike protein. (That is, count the number of occurrences of each amino acid in the sequence, and print out which one has the highest count and which one has the lowest count.)    \n",
    "</div>"
   ]
  },
  {
   "cell_type": "code",
   "execution_count": null,
   "id": "6be4969c",
   "metadata": {
    "deletable": false
   },
   "outputs": [],
   "source": [
    "# codon tables: https://en.wikipedia.org/wiki/DNA_and_RNA_codon_tables\n",
    "# Severe acute respiratory syndrome coronavirus 2 isolate Wuhan-Hu-1, complete genome\n",
    "# https://www.ncbi.nlm.nih.gov/nuccore/NC_045512.2?report=genbank&to=29903\n",
    "\n",
    "\n",
    "# this dictionary is the standard codon table\n",
    "# keys are three-base nucleotide sequences\n",
    "# values are the three-letter abbreviations for the amino acids they encode\n",
    "DNAdict = {\n",
    "    'TTT': 'phe', 'TTC': 'phe', 'TTA': 'leu', 'TTG': 'leu',\n",
    "    'TCT': 'ser', 'TCC': 'ser', 'TCA': 'ser', 'TCG': 'ser',\n",
    "    'TAT': 'tyr', 'TAC': 'tyr', 'TAA': 'stop', 'TAG': 'stop',\n",
    "    'TGT': 'cys', 'TGC': 'cys', 'TGA': 'stop', 'TGG': 'trp',\n",
    "    'CTT': 'leu', 'CTC': 'leu', 'CTA': 'leu', 'CTG': 'leu',\n",
    "    'CCT': 'pro', 'CCC': 'pro', 'CCA': 'pro', 'CCG': 'pro',\n",
    "    'CAT': 'his', 'CAC': 'his', 'CAA': 'gln', 'CAG': 'gln',\n",
    "    'CGT': 'arg', 'CGC': 'arg', 'CGA': 'arg', 'CGG': 'arg',\n",
    "    'ATT': 'ile', 'ATC': 'ile', 'ATA': 'ile', 'ATG': 'met',\n",
    "    'ACT': 'thr', 'ACC': 'thr', 'ACA': 'thr', 'ACG': 'thr', \n",
    "    'AAT': 'asn', 'AAC': 'asn', 'AAA': 'lys', 'AAG': 'lys', \n",
    "    'AGT': 'ser', 'AGC': 'ser', 'AGA': 'arg', 'AGG': 'arg', \n",
    "    'GTT': 'val', 'GTC': 'val', 'GTA': 'val', 'GTG': 'val',\n",
    "    'GCT': 'ala', 'GCC': 'ala', 'GCA': 'ala', 'GCG': 'ala', \n",
    "    'GAT': 'asp', 'GAC': 'asp', 'GAA': 'glu', 'GAG': 'glu', \n",
    "    'GGT': 'gly', 'GGC': 'gly', 'GGA': 'gly', 'GGG': 'gly'\n",
    "}\n",
    "\n",
    "# list containing three-letter abbreviations (TLA) for the 20 amino acids\n",
    "AAtla = ['ala', 'arg', 'asn', 'asp', 'cys', \n",
    "         'glu', 'gln', 'gly', 'his', 'ile', \n",
    "         'leu', 'lys', 'met', 'phe', 'pro', \n",
    "         'ser', 'thr', 'trp', 'tyr', 'val']\n",
    "\n",
    "# list containing one-letter abbreviations (OLA) for the 20 amino acids\n",
    "AAola = ['A', 'R', 'N', 'D', 'C', \n",
    "         'E', 'Q', 'G', 'H', 'I', \n",
    "         'L', 'K', 'M', 'F', 'P', \n",
    "         'S', 'T', 'W', 'Y', 'V']\n",
    "\n",
    "\n",
    "# sequence of 3822 base pairs (bp) for the coronavirus spike protein\n",
    "# N.B. the last three base pairs (TAA) encode the STOP codon (not an amino acid!)\n",
    "# bp 21563 - 25384 (3822 bp, or 1274 aa)\n",
    "SPseq = 'atgtttgt ttttcttgtt ttattgccac tagtctctag'\\\n",
    "'tcagtgtgtt aatcttacaa ccagaactca attaccccct gcatacacta attctttcac'\\\n",
    "'acgtggtgtt tattaccctg acaaagtttt cagatcctca gttttacatt caactcagga'\\\n",
    "'cttgttctta cctttctttt ccaatgttac ttggttccat gctatacatg tctctgggac'\\\n",
    "'caatggtact aagaggtttg ataaccctgt cctaccattt aatgatggtg tttattttgc'\\\n",
    "'ttccactgag aagtctaaca taataagagg ctggattttt ggtactactt tagattcgaa'\\\n",
    "'gacccagtcc ctacttattg ttaataacgc tactaatgtt gttattaaag tctgtgaatt'\\\n",
    "'tcaattttgt aatgatccat ttttgggtgt ttattaccac aaaaacaaca aaagttggat'\\\n",
    "'ggaaagtgag ttcagagttt attctagtgc gaataattgc acttttgaat atgtctctca'\\\n",
    "'gccttttctt atggaccttg aaggaaaaca gggtaatttc aaaaatctta gggaatttgt'\\\n",
    "'gtttaagaat attgatggtt attttaaaat atattctaag cacacgccta ttaatttagt'\\\n",
    "'gcgtgatctc cctcagggtt tttcggcttt agaaccattg gtagatttgc caataggtat'\\\n",
    "'taacatcact aggtttcaaa ctttacttgc tttacataga agttatttga ctcctggtga'\\\n",
    "'ttcttcttca ggttggacag ctggtgctgc agcttattat gtgggttatc ttcaacctag'\\\n",
    "'gacttttcta ttaaaatata atgaaaatgg aaccattaca gatgctgtag actgtgcact'\\\n",
    "'tgaccctctc tcagaaacaa agtgtacgtt gaaatccttc actgtagaaa aaggaatcta'\\\n",
    "'tcaaacttct aactttagag tccaaccaac agaatctatt gttagatttc ctaatattac'\\\n",
    "'aaacttgtgc ccttttggtg aagtttttaa cgccaccaga tttgcatctg tttatgcttg'\\\n",
    "'gaacaggaag agaatcagca actgtgttgc tgattattct gtcctatata attccgcatc'\\\n",
    "'attttccact tttaagtgtt atggagtgtc tcctactaaa ttaaatgatc tctgctttac'\\\n",
    "'taatgtctat gcagattcat ttgtaattag aggtgatgaa gtcagacaaa tcgctccagg'\\\n",
    "'gcaaactgga aagattgctg attataatta taaattacca gatgatttta caggctgcgt'\\\n",
    "'tatagcttgg aattctaaca atcttgattc taaggttggt ggtaattata attacctgta'\\\n",
    "'tagattgttt aggaagtcta atctcaaacc ttttgagaga gatatttcaa ctgaaatcta'\\\n",
    "'tcaggccggt agcacacctt gtaatggtgt tgaaggtttt aattgttact ttcctttaca'\\\n",
    "'atcatatggt ttccaaccca ctaatggtgt tggttaccaa ccatacagag tagtagtact'\\\n",
    "'ttcttttgaa cttctacatg caccagcaac tgtttgtgga cctaaaaagt ctactaattt'\\\n",
    "'ggttaaaaac aaatgtgtca atttcaactt caatggttta acaggcacag gtgttcttac'\\\n",
    "'tgagtctaac aaaaagtttc tgcctttcca acaatttggc agagacattg ctgacactac'\\\n",
    "'tgatgctgtc cgtgatccac agacacttga gattcttgac attacaccat gttcttttgg'\\\n",
    "'tggtgtcagt gttataacac caggaacaaa tacttctaac caggttgctg ttctttatca'\\\n",
    "'ggatgttaac tgcacagaag tccctgttgc tattcatgca gatcaactta ctcctacttg'\\\n",
    "'gcgtgtttat tctacaggtt ctaatgtttt tcaaacacgt gcaggctgtt taataggggc'\\\n",
    "'tgaacatgtc aacaactcat atgagtgtga catacccatt ggtgcaggta tatgcgctag'\\\n",
    "'ttatcagact cagactaatt ctcctcggcg ggcacgtagt gtagctagtc aatccatcat'\\\n",
    "'tgcctacact atgtcacttg gtgcagaaaa ttcagttgct tactctaata actctattgc'\\\n",
    "'catacccaca aattttacta ttagtgttac cacagaaatt ctaccagtgt ctatgaccaa'\\\n",
    "'gacatcagta gattgtacaa tgtacatttg tggtgattca actgaatgca gcaatctttt'\\\n",
    "'gttgcaatat ggcagttttt gtacacaatt aaaccgtgct ttaactggaa tagctgttga'\\\n",
    "'acaagacaaa aacacccaag aagtttttgc acaagtcaaa caaatttaca aaacaccacc'\\\n",
    "'aattaaagat tttggtggtt ttaatttttc acaaatatta ccagatccat caaaaccaag'\\\n",
    "'caagaggtca tttattgaag atctactttt caacaaagtg acacttgcag atgctggctt'\\\n",
    "'catcaaacaa tatggtgatt gccttggtga tattgctgct agagacctca tttgtgcaca'\\\n",
    "'aaagtttaac ggccttactg ttttgccacc tttgctcaca gatgaaatga ttgctcaata'\\\n",
    "'cacttctgca ctgttagcgg gtacaatcac ttctggttgg acctttggtg caggtgctgc'\\\n",
    "'attacaaata ccatttgcta tgcaaatggc ttataggttt aatggtattg gagttacaca'\\\n",
    "'gaatgttctc tatgagaacc aaaaattgat tgccaaccaa tttaatagtg ctattggcaa'\\\n",
    "'aattcaagac tcactttctt ccacagcaag tgcacttgga aaacttcaag atgtggtcaa'\\\n",
    "'ccaaaatgca caagctttaa acacgcttgt taaacaactt agctccaatt ttggtgcaat'\\\n",
    "'ttcaagtgtt ttaaatgata tcctttcacg tcttgacaaa gttgaggctg aagtgcaaat'\\\n",
    "'tgataggttg atcacaggca gacttcaaag tttgcagaca tatgtgactc aacaattaat'\\\n",
    "'tagagctgca gaaatcagag cttctgctaa tcttgctgct actaaaatgt cagagtgtgt'\\\n",
    "'acttggacaa tcaaaaagag ttgatttttg tggaaagggc tatcatctta tgtccttccc'\\\n",
    "'tcagtcagca cctcatggtg tagtcttctt gcatgtgact tatgtccctg cacaagaaaa'\\\n",
    "'gaacttcaca actgctcctg ccatttgtca tgatggaaaa gcacactttc ctcgtgaagg'\\\n",
    "'tgtctttgtt tcaaatggca cacactggtt tgtaacacaa aggaattttt atgaaccaca'\\\n",
    "'aatcattact acagacaaca catttgtgtc tggtaactgt gatgttgtaa taggaattgt'\\\n",
    "'caacaacaca gtttatgatc ctttgcaacc tgaattagac tcattcaagg aggagttaga'\\\n",
    "'taaatatttt aagaatcata catcaccaga tgttgattta ggtgacatct ctggcattaa'\\\n",
    "'tgcttcagtt gtaaacattc aaaaagaaat tgaccgcctc aatgaggttg ccaagaattt'\\\n",
    "'aaatgaatct ctcatcgatc tccaagaact tggaaagtat gagcagtata taaaatggcc'\\\n",
    "'atggtacatt tggctaggtt ttatagctgg cttgattgcc atagtaatgg tgacaattat'\\\n",
    "'gctttgctgt atgaccagtt gctgtagttg tctcaagggc tgttgttctt gtggatcctg'\\\n",
    "'ctgcaaattt gatgaagacg actctgagcc agtgctcaaa ggagtcaaat tacattacac'\\\n",
    "'ataa'\n",
    "\n",
    "# sequence of one-letter abbreviations for the 1274 amino acids encoded by SPseq\n",
    "AAseq = 'MFVFLVLLPLVSSQCVNLTTRTQLPPAYTNSFTRGVYYPDKVFR'\\\n",
    "'SSVLHSTQDLFLPFFSNVTWFHAIHVSGTNGTKRFDNPVLPFNDGVYFASTEKSNIIR'\\\n",
    "'GWIFGTTLDSKTQSLLIVNNATNVVIKVCEFQFCNDPFLGVYYHKNNKSWMESEFRVY'\\\n",
    "'SSANNCTFEYVSQPFLMDLEGKQGNFKNLREFVFKNIDGYFKIYSKHTPINLVRDLPQ'\\\n",
    "'GFSALEPLVDLPIGINITRFQTLLALHRSYLTPGDSSSGWTAGAAAYYVGYLQPRTFL'\\\n",
    "'LKYNENGTITDAVDCALDPLSETKCTLKSFTVEKGIYQTSNFRVQPTESIVRFPNITN'\\\n",
    "'LCPFGEVFNATRFASVYAWNRKRISNCVADYSVLYNSASFSTFKCYGVSPTKLNDLCF'\\\n",
    "'TNVYADSFVIRGDEVRQIAPGQTGKIADYNYKLPDDFTGCVIAWNSNNLDSKVGGNYN'\\\n",
    "'YLYRLFRKSNLKPFERDISTEIYQAGSTPCNGVEGFNCYFPLQSYGFQPTNGVGYQPY'\\\n",
    "'RVVVLSFELLHAPATVCGPKKSTNLVKNKCVNFNFNGLTGTGVLTESNKKFLPFQQFG'\\\n",
    "'RDIADTTDAVRDPQTLEILDITPCSFGGVSVITPGTNTSNQVAVLYQDVNCTEVPVAI'\\\n",
    "'HADQLTPTWRVYSTGSNVFQTRAGCLIGAEHVNNSYECDIPIGAGICASYQTQTNSPR'\\\n",
    "'RARSVASQSIIAYTMSLGAENSVAYSNNSIAIPTNFTISVTTEILPVSMTKTSVDCTM'\\\n",
    "'YICGDSTECSNLLLQYGSFCTQLNRALTGIAVEQDKNTQEVFAQVKQIYKTPPIKDFG'\\\n",
    "'GFNFSQILPDPSKPSKRSFIEDLLFNKVTLADAGFIKQYGDCLGDIAARDLICAQKFN'\\\n",
    "'GLTVLPPLLTDEMIAQYTSALLAGTITSGWTFGAGAALQIPFAMQMAYRFNGIGVTQN'\\\n",
    "'VLYENQKLIANQFNSAIGKIQDSLSSTASALGKLQDVVNQNAQALNTLVKQLSSNFGA'\\\n",
    "'ISSVLNDILSRLDKVEAEVQIDRLITGRLQSLQTYVTQQLIRAAEIRASANLAATKMS'\\\n",
    "'ECVLGQSKRVDFCGKGYHLMSFPQSAPHGVVFLHVTYVPAQEKNFTTAPAICHDGKAH'\\\n",
    "'FPREGVFVSNGTHWFVTQRNFYEPQIITTDNTFVSGNCDVVIGIVNNTVYDPLQPELD'\\\n",
    "'SFKEELDKYFKNHTSPDVDLGDISGINASVVNIQKEIDRLNEVAKNLNESLIDLQELG'\\\n",
    "'KYEQYIKWPWYIWLGFIAGLIAIVMVTIMLCCMTSCCSCLKGCCSCGSCCKFDEDDSE'\\\n",
    "'PVLKGVKLHYT'\n",
    "    \n",
    "def main():\n",
    "    # delete 'pass', and replace it with your own code\n",
    "    pass\n",
    "\n",
    "\n",
    "# be sure to invoke main()!\n",
    "main()"
   ]
  },
  {
   "cell_type": "markdown",
   "id": "02c31788",
   "metadata": {
    "deletable": false,
    "editable": false
   },
   "source": [
    "### 7. More Fun With <code>turtle</code>"
   ]
  },
  {
   "cell_type": "markdown",
   "id": "bf2a7b29",
   "metadata": {
    "deletable": false,
    "editable": false
   },
   "source": [
    "Now that you know more code constructs involving variables, operators, and expressions, it's time to put them to work! In the previous notebook, you wrote a program using a loop to make the turtle trace out a figure whose side lengths and number of sides could be specified by the user:"
   ]
  },
  {
   "cell_type": "code",
   "execution_count": null,
   "id": "d9d85d92",
   "metadata": {
    "deletable": false
   },
   "outputs": [],
   "source": [
    "# code cell 22\n",
    "\n",
    "import turtle as t\n",
    "t.TurtleScreen._RUNNING=True\n",
    "t.screensize(400, 400, \"light blue\")\n",
    "t.shape(\"turtle\")\n",
    "t.width(3)\n",
    "t.speed(9)\n",
    "\n",
    "N = int(input(\"Enter the number of sides: \"))\n",
    "sidelen = int(input(\"Enter the length of each side: \"))\n",
    "angle = int(360 / N)\n",
    "t.penup()\n",
    "t.setposition(100, 100)\n",
    "t.setheading(90)\n",
    "\n",
    "t.pencolor('red')\n",
    "t.pendown()\n",
    "for i in range(N):\n",
    "    t.forward(sidelen)\n",
    "    t.right(angle)\n",
    "\n",
    "t.penup()\n",
    "t.mainloop()"
   ]
  },
  {
   "cell_type": "markdown",
   "id": "9fb9e867",
   "metadata": {
    "deletable": false
   },
   "source": [
    "<div class=\"alert alert-block alert-info\">\n",
    "In the code cell below: <br>\n",
    "    \n",
    "1. Create a list of length (size) <code>len(xPos)</code>, each element being a string with the name of different pen colors of your choosing (see <a href=\"https://stackoverflow.com/questions/22408237/named-colors-in-matplotlib\"><b>Named colors in matplotlib</b></a>). <br><br>\n",
    "2. With the pen up, set the turtle's starting position to <code>x0, y0</code> where <code>x0 = 0</code> and <code>y0 = -50</code>. In a <code>for</code>-loop, set the pen color to each entry in the list you created in #1, then draw each side of the figure by putting the pen down, assigning <code>x0 + xPos[i]</code> to <code>x</code>, <code>y0 + yPos[i]</code> to <code>y</code>, and using <code>t.setposition(x, y)</code>. Put the pen up after drawing the figure. <br><br>\n",
    "3. Then, indent this code and put it into another <code>for</code>-loop, but this time, before drawing each figure, offset its starting point by random amounts <code>xDelta = 10 * random.randint(-3, 3)</code> and <code>yDelta = 10 * random.randint(-3, 3)</code> from <code>x0, y0</code>. (Remember to import <code>random</code>!) <br><br>\n",
    "4. Have this loop iterate 10 times. <br>\n",
    "    \n",
    "<b>Extra challenge</b>: Change the lists <code>xPos</code> and <code>yPos</code> so that <code>turtle</code> traces the shape of the capital letter that begins your first name. <br><br>\n",
    "<b>Extra extra challenge</b>: Instead of random offsets, rotate the coordinates in the lists <code>xPos</code> and <code>yPos</code> through 36° for each of the 10 iterations of the outer <code>for</code>-loop. (This might require knowing something about how to use a <a href=\"https://en.wikipedia.org/wiki/Rotation_matrix\"><b>rotation matrix</b></a>.)\n",
    "</div>"
   ]
  },
  {
   "cell_type": "code",
   "execution_count": null,
   "id": "8d92a891",
   "metadata": {
    "deletable": false
   },
   "outputs": [],
   "source": [
    "# code for turtle exercises\n",
    "\n",
    "import random\n",
    "import turtle as t\n",
    "t.TurtleScreen._RUNNING=True\n",
    "t.screensize(400, 400, \"light blue\")\n",
    "t.shape(\"turtle\")\n",
    "t.width(3)\n",
    "t.speed(10)\n",
    "\n",
    "def main():\n",
    "    # below are offsets (displacements) from the starting position (x0, y0), not absolute coordinates!\n",
    "    # what shape do these coordinates trace out?\n",
    "    xPos = [50, -81, 81, -50, 0]\n",
    "    yPos = [154, 59, 59, 154, 0]\n",
    "\n",
    "    t.mainloop()\n",
    "\n",
    "\n",
    "# be sure to invoke main()!\n",
    "main()"
   ]
  },
  {
   "cell_type": "code",
   "execution_count": null,
   "id": "e7c0db12",
   "metadata": {
    "deletable": false
   },
   "outputs": [],
   "source": []
  },
  {
   "cell_type": "markdown",
   "id": "0d56957f",
   "metadata": {
    "deletable": false,
    "editable": false
   },
   "source": [
    "<div class=\"alert alert-block alert-info\">\n",
    "<b>Optional</b>: Just for fun! <br>\n",
    "\n",
    "The code in the cell below (lines 1-22) creates an audio synthesizer that plays sine waves (pure tones), and sets up a list of notes and frequencies. <code>noteDict</code> is a dictionary whose keys are the names of each pitch, and whose values are the frequencies of each pitch. <br>\n",
    "    \n",
    "1. Run the cell below. <br><br>\n",
    "2. In the cell below, import the <code>time</code> module. <br><br>\n",
    "3. In <code>main()</code>, create a list of names of pitches (one-character strings) to form a familiar melody. <br><br>\n",
    "4. Loop through the pitch names in your list, and call <code>synth()</code> for each one, using <code>noteDict</code> to convert pitches to frequencies. You will probably need to call <code>time.sleep()</code> after each pitch. <br><br>\n",
    "5. Run the cell - it should play your melody! <br><br>\n",
    "6. Experiment with different waveforms (for instance, instead of a pure sine wave like $\\sin(2 \\pi ft)$, use a <a href=\"https://en.wikipedia.org/wiki/Square_wave\">square</a> or <a href=\"https://en.wikipedia.org/wiki/Triangle_wave\">triangle</a> wave of the same frequency, or else multiply the sine wave by an exponentially decaying envelope) and hear how different the pitches sound! <br><br>\n",
    "7. See if you can figure out how to play chords (i.e., sound multiple pitches simultaneously). <br>\n",
    "</div>"
   ]
  },
  {
   "cell_type": "code",
   "execution_count": null,
   "id": "51971fc2",
   "metadata": {
    "deletable": false
   },
   "outputs": [],
   "source": [
    "# code cell 23\n",
    "# https://ipython-books.github.io/117-creating-a-sound-synthesizer-in-the-notebook/\n",
    "# pitch frequencies are based on 12-tone equal temperament (see https://en.wikipedia.org/wiki/Equal_temperament)\n",
    "\n",
    "import numpy as np\n",
    "from IPython.display import (\n",
    "    Audio, display, clear_output)\n",
    "\n",
    "rate = 16000.\n",
    "duration = .25\n",
    "t = np.linspace(0., duration, int(rate * duration))\n",
    "\n",
    "def synth(f):\n",
    "    x = np.sin(f * 2. * np.pi * t) \n",
    "    display(Audio(x, rate=rate, autoplay=True))\n",
    "\n",
    "    \n",
    "def main():\n",
    "    notes = 'C,C#,D,D#,E,F,F#,G,G#,A,A#,B'.split(',')\n",
    "    freqs = 440. * 2**(np.arange(3, 3 + len(notes)) / 12.)\n",
    "\n",
    "    noteDict = dict(zip(notes, freqs))\n",
    "    print(noteDict)\n",
    "\n",
    "\n",
    "# be sure to invoke main()!\n",
    "main()"
   ]
  },
  {
   "cell_type": "code",
   "execution_count": null,
   "id": "3c937a3a",
   "metadata": {},
   "outputs": [],
   "source": []
  }
 ],
 "metadata": {
  "kernelspec": {
   "display_name": "Python 3",
   "language": "python",
   "name": "python3"
  },
  "language_info": {
   "codemirror_mode": {
    "name": "ipython",
    "version": 3
   },
   "file_extension": ".py",
   "mimetype": "text/x-python",
   "name": "python",
   "nbconvert_exporter": "python",
   "pygments_lexer": "ipython3",
   "version": "3.8.8"
  }
 },
 "nbformat": 4,
 "nbformat_minor": 5
}
