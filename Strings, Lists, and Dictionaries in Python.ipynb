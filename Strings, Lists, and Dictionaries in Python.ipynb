{
 "cells": [
  {
   "cell_type": "markdown",
   "id": "301396c3",
   "metadata": {
    "deletable": false,
    "editable": false
   },
   "source": [
    "## **Strings, Lists, and Dictionaries in Python**\n",
    "\n",
    "Python strings: \n",
    "* https://www.w3schools.com/python/python_strings.asp\n",
    "* https://www.programiz.com/python-programming/string\n",
    "* https://www.tutorialspoint.com/python/python_strings.htm\n",
    "* https://realpython.com/python-strings/"
   ]
  },
  {
   "cell_type": "markdown",
   "id": "25b0ef73",
   "metadata": {
    "deletable": false,
    "editable": false
   },
   "source": [
    "### 1. A String is a Collection of Characters\n",
    "\n",
    "We have already met and worked with strings, which are a <b>collection</b>, or array, of characters. Unlike other languages like C, C++, Java, etc., Python does not have a <code>character</code> data type. A single character (like <code>'c'</code>) is simply a string of length 1. <br>\n",
    "\n",
    "TODO: provide links to references\n",
    "\n",
    "Earlier, we learned that string literals can be written with either single or double quotes:"
   ]
  },
  {
   "cell_type": "code",
   "execution_count": 6,
   "id": "4fbbd0b3",
   "metadata": {
    "deletable": false,
    "editable": false
   },
   "outputs": [
    {
     "name": "stdout",
     "output_type": "stream",
     "text": [
      "This is a string.\n",
      "This is also a string.\n",
      "This is how to create a 'string within a string' in Python.\n",
      "You can also create a \"string within a string\" this way.\n"
     ]
    }
   ],
   "source": [
    "# code cell 1\n",
    "\n",
    "print('This is a string.')\n",
    "print(\"This is also a string.\")\n",
    "print(\"This is how to create a 'string within a string' in Python.\")\n",
    "print('You can also create a \"string within a string\" this way.')"
   ]
  },
  {
   "cell_type": "markdown",
   "id": "9dc0626d",
   "metadata": {
    "deletable": false,
    "editable": false
   },
   "source": [
    "However, if we want to write a literal single or double quote in a string, it must be escaped (preceded by a backslash character <code> \\ </code>, with no space, as shown below):"
   ]
  },
  {
   "cell_type": "code",
   "execution_count": 5,
   "id": "8147bf82",
   "metadata": {
    "deletable": false,
    "editable": false
   },
   "outputs": [
    {
     "name": "stdout",
     "output_type": "stream",
     "text": [
      "This is how to print a double quote \" inside a string.\n",
      "This is how to print a single quote ' inside a string.\n"
     ]
    }
   ],
   "source": [
    "# code cell 2\n",
    "\n",
    "print(\"This is how to print a double quote \\\" inside a string.\")\n",
    "print(\"This is how to print a single quote \\' inside a string.\")"
   ]
  },
  {
   "cell_type": "markdown",
   "id": "3aff6adc",
   "metadata": {
    "deletable": false,
    "editable": false
   },
   "source": [
    "We have also learned about operators that work with strings: <code>+</code> concatenates (joins) strings, while <code>*</code> creates multiple copies of a string (but ONLY IF the other operand is an integer):"
   ]
  },
  {
   "cell_type": "code",
   "execution_count": 24,
   "id": "6fe8084f",
   "metadata": {
    "deletable": false
   },
   "outputs": [
    {
     "name": "stdout",
     "output_type": "stream",
     "text": [
      "a = this is \n",
      "b = a string \n",
      "\n",
      "c = a + b: this is a string \n",
      "d = 3 * a: this is this is this is \n",
      "e = b * 2: a string a string \n"
     ]
    }
   ],
   "source": [
    "# code cell 3\n",
    "\n",
    "a = \"this is \"\n",
    "b = \"a string \"\n",
    "print(\"a = \" + a)\n",
    "print(\"b = \" + b)\n",
    "print()\n",
    "\n",
    "c = a + b\n",
    "d = 3 * a\n",
    "e = b * 2\n",
    "\n",
    "print(\"c = a + b:\", c)\n",
    "print(\"d = 3 * a:\", d)\n",
    "print(\"e = b * 2:\", e)"
   ]
  },
  {
   "cell_type": "markdown",
   "id": "3d4c30bd",
   "metadata": {
    "deletable": false,
    "editable": false
   },
   "source": [
    "Here's something new we can do with a string: we can reference individual characters in it using brackets (<code>[]</code>), as in the code cell below. Note that Python uses <b>zero-based indexing</b>, meaning that the first item in a collection has the index 0. In other words, the position of a character in a string is one greater than its index.\n",
    "<div class=\"alert alert-block alert-info\">\n",
    "Run the following cell several times with numbers between 0 and the length of the string <code>s</code> minus one. Then, see what happens if you enter a number that is less than zero or greater than or equal to the length of the string <code>s</code>. <br>\n",
    "\n",
    "Something interesting happens if you enter <code>-1</code>. Try changing the string <code>s</code> (make it longer, for instance), and see if you can figure out what's going on!\n",
    "</div>"
   ]
  },
  {
   "cell_type": "code",
   "execution_count": 3,
   "id": "e390af59",
   "metadata": {
    "deletable": false
   },
   "outputs": [
    {
     "name": "stdout",
     "output_type": "stream",
     "text": [
      "Enter a number between 0 and 4: 3\n",
      "Character d is at index 3 (position 4) in the string 'abcde'\n"
     ]
    }
   ],
   "source": [
    "# code cell 4\n",
    "\n",
    "s = \"abcde\"\n",
    "n = len(s)\n",
    "i = int(input(\"Enter a number between 0 and \" + str(n-1) + \": \"))\n",
    "\n",
    "outStr = \"Character \" + s[i]\n",
    "outStr += \" is at index \" + str(i)\n",
    "if i >= 0:\n",
    "    outStr += \" (position \" + str(i+1) + \")\"\n",
    "outStr += \" in the string \"\n",
    "outStr += \"\\'\" + s + \"\\'\"\n",
    "\n",
    "print(outStr)"
   ]
  },
  {
   "cell_type": "markdown",
   "id": "b7359f12",
   "metadata": {
    "deletable": false,
    "editable": false
   },
   "source": [
    "We can also loop through each character in a string using a <code>for</code>-loop and the <code>in</code> operator (yes, <code>in</code> is an operator!), as shown below."
   ]
  },
  {
   "cell_type": "code",
   "execution_count": 2,
   "id": "8179c77c",
   "metadata": {
    "deletable": false
   },
   "outputs": [
    {
     "name": "stdout",
     "output_type": "stream",
     "text": [
      "The character at index 0 in string 'abcde' is a\n",
      "The character at index 1 in string 'abcde' is b\n",
      "The character at index 2 in string 'abcde' is c\n",
      "The character at index 3 in string 'abcde' is d\n",
      "The character at index 4 in string 'abcde' is e\n"
     ]
    }
   ],
   "source": [
    "# code cell 5\n",
    "\n",
    "s = \"abcde\"\n",
    "i = 0\n",
    "for x in s:\n",
    "    outStr = \"The character at index \" + str(i) \n",
    "    outStr += \" in string \\'\"\n",
    "    outStr += s + \"\\'\"\n",
    "    outStr += \" is \" + x\n",
    "    print(outStr)\n",
    "    i += 1"
   ]
  },
  {
   "cell_type": "markdown",
   "id": "6ef4ceb6",
   "metadata": {
    "deletable": false,
    "editable": false
   },
   "source": [
    "#### Strings are immutable!\n",
    "\n",
    "However, just because characters in a string can be referenced does not mean that they can be changed. In Python, strings are <b>immutable</b>; that is, characters in a string cannot be modified, appended to, or deleted from *in place*. "
   ]
  },
  {
   "cell_type": "code",
   "execution_count": 4,
   "id": "85085fb1",
   "metadata": {
    "deletable": false
   },
   "outputs": [
    {
     "ename": "TypeError",
     "evalue": "'str' object does not support item assignment",
     "output_type": "error",
     "traceback": [
      "\u001b[1;31m---------------------------------------------------------------------------\u001b[0m",
      "\u001b[1;31mTypeError\u001b[0m                                 Traceback (most recent call last)",
      "\u001b[1;32mC:\\Users\\ERICKA~1\\AppData\\Local\\Temp/ipykernel_9816/1265207576.py\u001b[0m in \u001b[0;36m<module>\u001b[1;34m\u001b[0m\n\u001b[0;32m      2\u001b[0m \u001b[1;33m\u001b[0m\u001b[0m\n\u001b[0;32m      3\u001b[0m \u001b[0ms\u001b[0m \u001b[1;33m=\u001b[0m \u001b[1;34m\"abcde\"\u001b[0m\u001b[1;33m\u001b[0m\u001b[1;33m\u001b[0m\u001b[0m\n\u001b[1;32m----> 4\u001b[1;33m \u001b[0ms\u001b[0m\u001b[1;33m[\u001b[0m\u001b[1;36m2\u001b[0m\u001b[1;33m]\u001b[0m \u001b[1;33m=\u001b[0m \u001b[1;34m\"q\"\u001b[0m  \u001b[1;31m# this will cause an error: 'str' object does not support item assignment\u001b[0m\u001b[1;33m\u001b[0m\u001b[1;33m\u001b[0m\u001b[0m\n\u001b[0m\u001b[0;32m      5\u001b[0m \u001b[0mprint\u001b[0m\u001b[1;33m(\u001b[0m\u001b[0ms\u001b[0m\u001b[1;33m)\u001b[0m\u001b[1;33m\u001b[0m\u001b[1;33m\u001b[0m\u001b[0m\n",
      "\u001b[1;31mTypeError\u001b[0m: 'str' object does not support item assignment"
     ]
    }
   ],
   "source": [
    "# code cell 6\n",
    "\n",
    "s = \"abcde\"\n",
    "s[2] = \"q\"  # this will cause an error: 'str' object does not support item assignment\n",
    "print(s)"
   ]
  },
  {
   "cell_type": "markdown",
   "id": "7313d551",
   "metadata": {
    "deletable": false,
    "editable": false
   },
   "source": [
    "But wait! We can append to a string using the augmented assignment operator. Doesn't that make strings mutable (changeable) after all? <br>\n",
    "\n",
    "As it turns out, the answer is no. Like any other object in Python (everything in Python is an object in memory), a string resides at an address or location in memory. We can query the address of an object (variable, string, number, Boolean, etc.) by using the built-in <code>id()</code> function. If we truly changed an object like a string *in place*, then it should have the same memory address (location) before and after the change. In the case of a string <code>s</code> to which we append another string, this is NOT the case, as seen in the following code cell. Thus, instead of changing (mutating) the string <code>s</code> in place by appending to it, we have instead created a new object at a different memory address (location), but with the same name <code>s</code> as before."
   ]
  },
  {
   "cell_type": "code",
   "execution_count": 1,
   "id": "15aa1f00",
   "metadata": {
    "deletable": false
   },
   "outputs": [
    {
     "name": "stdout",
     "output_type": "stream",
     "text": [
      "String s = 'abcde' has address id(s) = 2583339180656\n",
      "String s += 'fgh', which becomes s = 'abcdefgh', now has address id(s) = 2583339180336\n"
     ]
    }
   ],
   "source": [
    "# code cell 7\n",
    "\n",
    "s = \"abcde\"\n",
    "outStr = \"String s = \\'\" + s + \"\\' has address id(s) = \" + str(id(s))\n",
    "print(outStr)\n",
    "\n",
    "s += \"fgh\"\n",
    "outStr = \"String s += \\'fgh\\', which becomes s = \\'\" + s + \"\\', now has address id(s) = \" + str(id(s))\n",
    "print(outStr)"
   ]
  },
  {
   "cell_type": "markdown",
   "id": "8282715a",
   "metadata": {
    "deletable": false,
    "editable": false
   },
   "source": [
    "### 2. String Functions and Methods\n",
    "\n",
    "* https://towardsdatascience.com/15-must-know-python-string-methods-64a4f554941b\n",
    "* https://www.w3schools.com/python/python_ref_string.asp\n",
    "\n",
    "Formatting output in strings:\n",
    "* https://www.geeksforgeeks.org/string-formatting-in-python/\n",
    "* https://realpython.com/python-formatted-output/"
   ]
  },
  {
   "cell_type": "markdown",
   "id": "c5bcb263",
   "metadata": {
    "deletable": false,
    "editable": false
   },
   "source": [
    "Here, we will make a distinction between built-in functions that operate on strings and string methods (functionality that belongs to string objects). Functions that operate on strings take a string as an input, and do something (print it, return information about the string, etc.), while string methods are functions (services) that string objects provide.\n",
    "\n",
    "Commonly used built-in <b>string functions</b> (functions that operate on strings):\n",
    "\n",
    "| function | description |\n",
    "| --: | :-- |\n",
    "| <code>len(s)</code> |  returns the length of string <code>s</code> can be determined by using built-in <code>len()</code> function. |\n",
    "| <code>float(s)</code> | returns a floating point number represented by the string <code>s</code> |\n",
    "| <code>int(s)</code> | returns a base-10 integer represented by the string <code>s</code> |\n",
    "| <code>bool(s)</code> | returns a Boolean value (either <code>True</code> or <code>False</code>) represented by the string <code>s</code> |\n",
    "| <code>print(s)</code> | prints the string <code>s</code> to the console |\n",
    "| <code>type(s)</code> | This function returns the type of an object (in this case, the string <code>s</code>) |\n",
    "| <code>id(s)</code> | returns the “identity” (memory address) of the string <code>s</code> |\n",
    "\n",
    "The memory address of an object is an integer, which is guaranteed to be unique and constant for this object during its lifetime.\n",
    "\n",
    "We have used almost all of these functions earlier:"
   ]
  },
  {
   "cell_type": "code",
   "execution_count": 92,
   "id": "da2344e2",
   "metadata": {
    "deletable": false
   },
   "outputs": [
    {
     "name": "stdout",
     "output_type": "stream",
     "text": [
      "string s = \"the quick brown fox jumped over the lazy dog\"\n",
      "the length of s is 44\n",
      "the type of s is <class 'str'>\n",
      "the memory location of s is 1827276519152\n",
      "\n",
      "string t = \"1.2E-01\"\n",
      "the length of t is 7\n",
      "the numerical value represented by t is 0.12\n",
      "the type of t is <class 'str'>\n",
      "the type of the numerical value represented by t is <class 'float'>\n",
      "\n",
      "string u = \"-451\"\n",
      "the length of u is 4\n",
      "the numerical value represented by u is -451\n",
      "the type of u is <class 'str'>\n",
      "the type of the numerical value represented by u is <class 'int'>\n",
      "\n",
      "string v = \"False\"\n",
      "the length of v is 5\n",
      "the Boolean value represented by v is True  <-- why is this?\n",
      "the type of v is <class 'str'>\n",
      "the type of the numerical value represented by v is <class 'bool'>\n",
      "\n"
     ]
    }
   ],
   "source": [
    "# code cell 8\n",
    "\n",
    "s = \"the quick brown fox jumped over the lazy dog\"\n",
    "\n",
    "print('string s = \\\"' + s + '\\\"')\n",
    "print('the length of s is' , len(s))\n",
    "print('the type of s is', type(s))\n",
    "print('the memory location of s is', id(s))\n",
    "print()\n",
    "\n",
    "\n",
    "t = \"1.2E-01\"\n",
    "\n",
    "print('string t = \\\"' + t + '\\\"')\n",
    "print('the length of t is', len(t))\n",
    "print('the numerical value represented by t is', float(t))\n",
    "print('the type of t is', type(t))\n",
    "print('the type of the numerical value represented by t is', type(float(t)))\n",
    "print()\n",
    "\n",
    "\n",
    "u = \"-451\"\n",
    "\n",
    "print('string u = \\\"' + u + '\\\"')\n",
    "print('the length of u is', len(u))\n",
    "print('the numerical value represented by u is', int(u))\n",
    "print('the type of u is', type(u))\n",
    "print('the type of the numerical value represented by u is', type(int(u)))\n",
    "print()\n",
    "\n",
    "\n",
    "v = \"False\"\n",
    "\n",
    "print('string v = \\\"' + v + '\\\"')\n",
    "print('the length of v is', len(v))\n",
    "print('the Boolean value represented by v is', bool(v), ' <-- why is this?')\n",
    "print('the type of v is', type(v))\n",
    "print('the type of the numerical value represented by v is', type(bool(v)))\n",
    "print()"
   ]
  },
  {
   "cell_type": "markdown",
   "id": "8e174c74",
   "metadata": {
    "deletable": false,
    "editable": false
   },
   "source": [
    "There is a larger set of functions (more properly, _methods_) that string objects themselves provide. \n",
    "\n",
    "Commonly used <b>string methods</b> (functions provided by string objects):\n",
    "\n",
    "| function | description |\n",
    "| --: | :-- |\n",
    "| <code>s.count()</code> | returns the number of times a specified substring occurs in a string <code>s</code> |\n",
    "| <code>s.index()</code> | searches the string <code>s</code> for a specified value and returns the position of where it was found |\n",
    "| <code>s.lower()</code> | converts string <code>s</code> into lower case |\n",
    "| <code>s.upper()</code> | converts string <code>s</code> into upper case |\n",
    "| <code>s.isalnum()</code> | returns ```True``` if all characters in the string <code>s</code> are alphanumeric | \n",
    "| <code>s.isalpha()</code> | returns ```True``` if all characters in the string <code>s</code> are in the alphabet |\n",
    "| <code>s.isascii()</code> | returns ```True``` if all characters in the string <code>s</code> are ASCII characters |\n",
    "| <code>s.isdecimal()</code> | returns ```True``` if all characters in the string <code>s</code> are decimals |\n",
    "| <code>s.isdigit()</code> | returns ```True``` if all characters in the string <code>s</code> are digits |\n",
    "| <code>s.isnumeric()</code> | returns ```True``` if all characters in the string <code>s</code> are numeric |\n",
    "| <code>s.find()</code> | searches the string <code>s</code> for a specified substring and returns the position of where it was found |\n",
    "| <code>s.replace()</code> | returns a string in which a substring in <code>s</code> is replaced with another specified substring |\n",
    "| <code>s.format()</code> | formats specified values in a string <code>s</code> |\n",
    "| <code>s.lstrip()</code> | returns a left trim version of the string <code>s</code> |\n",
    "| <code>s.rstrip()</code> | returns a right trim version of the string <code>s</code> |\n",
    "| <code>s.strip()</code> | returns a trimmed version of the string <code>s</code> |\n",
    "| <code>s.join()</code> | converts the elements of an iterable into a string <code>s</code> |\n",
    "| <code>s.split()</code> | splits the string <code>s</code> at the specified separator, and returns a list |\n",
    "\n",
    "Note the difference in syntax between using string <b>functions</b> and string <b>methods</b>: <br>\n",
    "\n",
    "* string <b>functions</b> operate <b>on</b> a string <code>s</code>: <code>len(s)</code>, <code>type(s)</code>, <code>print(s)</code>, etc. <br>\n",
    "* string <b>methods</b> are called <b>by</b> a string <code>s</code> using the <b>dot operator</b>: <code>s.count()</code>, <code>s.index()</code>, <code>s.isnumeric()</code>, etc.\n",
    "\n",
    "\n",
    "What are __[ASCII characters](https://www.w3schools.com/charsets/ref_html_ascii.asp#:~:text=The%20ASCII%20Character%20Set&text=ASCII%20is%20a%207%2Dbit,are%20all%20based%20on%20ASCII\")__?"
   ]
  },
  {
   "cell_type": "code",
   "execution_count": 139,
   "id": "f351222e",
   "metadata": {
    "deletable": false
   },
   "outputs": [
    {
     "name": "stdout",
     "output_type": "stream",
     "text": [
      "string s = \"    The quick brown fox jumped over THE lazy dog  \"\n",
      "the length of string s is 50\n",
      "the letter \"o\" occurs 4 times in string s\n",
      "a pair of space characters \"  \" occurs 3 times in string s\n",
      "\n",
      "the substring \"THE\" occurs at index 36 in string s, using find()\n",
      "the substring \"the\" occurs at index -1 in string s (s.find() returns -1 when substring is not found in string s)\n",
      "the substring \"The\" occurs at index 4 in string s, using index()\n",
      "replace substring \"THE\" with substring \"A\" in string s: \"    The quick brown fox jumped over A lazy dog  \"\n",
      "\n",
      "convert string s to uppercase: \"     THE QUICK BROWN FOX JUMPED OVER THE LAZY DOG  \"\n",
      "convert string s to lowercase: \"     the quick brown fox jumped over the lazy dog  \"\n",
      "\n",
      "trim spaces from left side of string s: \"The quick brown fox jumped over THE lazy dog  \"\n",
      "trim spaces from right side of string s: \"    The quick brown fox jumped over THE lazy dog\"\n",
      "trim spaces from both sides of string s: \"The quick brown fox jumped over THE lazy dog\"\n",
      "\n",
      "all characters in string s are alphanumeric: False\n",
      "all characters in string s are alphabetic: False\n",
      "all characters in string s are ASCII: True\n",
      "\n",
      "\n",
      "string t = \"12345\"\n",
      "the length of t is 5\n",
      "all characters in string t are alphanumeric: True\n",
      "all characters in string t are decimal: True\n",
      "all characters in string t are digits: True\n",
      "all characters in string t are numeric: True\n",
      "\n"
     ]
    }
   ],
   "source": [
    "# code cell 9\n",
    "\n",
    "#    01234567890123456789012345678901234567890123456789\n",
    "s = \"    The quick brown fox jumped over THE lazy dog  \"\n",
    "\n",
    "print('string s = \\\"' + s + '\\\"')\n",
    "print('the length of string s is', len(s))\n",
    "print('the letter \\\"o\\\" occurs', s.count('o'), 'times in string s')\n",
    "print('a pair of space characters \\\"  \\\" occurs', s.count('  '), 'times in string s')\n",
    "print()\n",
    "\n",
    "print('the substring \\\"THE\\\" occurs at index', s.find('THE'), 'in string s, using find()')\n",
    "print('the substring \\\"the\\\" occurs at index', s.find('the'), 'in string s (s.find() returns -1 when substring is not found in string s)')\n",
    "print('the substring \\\"The\\\" occurs at index', s.index('The'), 'in string s, using index()')\n",
    "# the following line will cause an error because 'the' is not found in string s\n",
    "# print('the substring \\\"the\\\" occurs at position', s.index('the'), 'in string s')\n",
    "print('replace substring \\\"THE\\\" with substring \\\"A\\\" in string s: \\\"' + s.replace('THE', 'A') + '\\\"')\n",
    "print()\n",
    "\n",
    "print('convert string s to uppercase: \\\"', s.upper() + '\\\"')\n",
    "print('convert string s to lowercase: \\\"', s.lower() + '\\\"')\n",
    "print()\n",
    "\n",
    "print('trim spaces from left side of string s: \\\"' + s.lstrip() + '\\\"')\n",
    "print('trim spaces from right side of string s: \\\"' + s.rstrip() + '\\\"')\n",
    "print('trim spaces from both sides of string s: \\\"' + s.strip() + '\\\"')\n",
    "print()\n",
    "\n",
    "print('all characters in string s are alphanumeric:', s.isalnum())\n",
    "print('all characters in string s are alphabetic:', s.isalpha())\n",
    "print('all characters in string s are ASCII:', s.isascii())\n",
    "print(); print()\n",
    "\n",
    "t = \"12345\"\n",
    "\n",
    "print('string t = \\\"' + t + '\\\"')\n",
    "print('the length of t is', len(t))\n",
    "print('all characters in string t are alphanumeric:', t.isalnum())\n",
    "print('all characters in string t are decimal:', t.isdecimal())\n",
    "print('all characters in string t are digits:', t.isdigit())\n",
    "print('all characters in string t are numeric:', t.isnumeric())\n",
    "print()"
   ]
  },
  {
   "cell_type": "markdown",
   "id": "50a90af0",
   "metadata": {
    "deletable": false,
    "editable": false
   },
   "source": [
    "<div class=\"alert alert-block alert-info\">\n",
    "    \n",
    "Now, it's your turn! <br>\n",
    "    \n",
    "1. Assign the string <code>\"Supercalifragilisticexpialidocious\"</code> to a variable, and print it out. <br>\n",
    "2. Use string function <code>len()</code> to find the length of the string, and print out that number. <br>\n",
    "3. Use string method <code>count()</code> to find the number of times the letter <code>s</code> appears in the string, and print out that number. <br>\n",
    "4. Use string method <code>index()</code> to find the index of the first occurrence of the letter <code>s</code> in the string, and print out that index. <br>\n",
    "5. Use Google to look up how to use string method <code>find()</code> to find the index of the next occurrence of the letter <code>s</code> in the string, and print out that index. <br>\n",
    "6. Create a loop (use either <code>for</code> or <code>while</code>) to find the indices of <b>all</b> occurrences of the letter <code>s</code> in the string, and print out those indices. <br>\n",
    "7. Use Google to look up a string method that will determine whether all letters in a string are lowercase; then, apply it to this string, assign to a variable what that function returns, and print it out. <br>\n",
    "8. From the string methods above, find one that will convert all letters in a string to lowercase, apply it to this string, assign what it returns to a variable, and print out that variable. <br>\n",
    "9. Repeat 7, but with the variable you created in 8. <br>\n",
    "10. Repeat 6, but with the variable you created in 8. <br>\n",
    "</div>"
   ]
  },
  {
   "cell_type": "code",
   "execution_count": null,
   "id": "12aa5447",
   "metadata": {
    "deletable": false
   },
   "outputs": [],
   "source": []
  },
  {
   "cell_type": "markdown",
   "id": "d2398c16",
   "metadata": {
    "deletable": false,
    "editable": false
   },
   "source": [
    "### 3. A List is a Collection of Objects\n",
    "Coding languages like C, C++, C#, and Java all have an entity that holds an <b>array</b>, or collection, of objects of the same data type. In Python, this entity is called a <b>list</b>, but it may hold a collection of objects of any type at all. (That is, it can holds objects of different data types.) At this time, we will only consider lists containing objects of the same data type.<br>\n",
    "\n",
    "The Python list is enclosed by brackets, and elements are delimited (set off from each other) by commas. An empty list has nothing between its opening and closing brackets.<br>\n",
    "<pre>\n",
    "L0 = []\n",
    "L1 = [-1, 2, -3, 4, 5]\n",
    "L2 = [0.707, -2.0E+06, 3.14]\n",
    "L3 = [\"apple\", \"banana\", \"cherry\"]\n",
    "L4 = [True, False, False, True]\n",
    "</pre>\n",
    "\n",
    "A list can be initialized as a specified number of values (and can have duplicate elements, too):\n",
    "<pre>\n",
    "L5 = [0] * 5   # this assigns [0, 0, 0, 0, 0] to L5\n",
    "</pre>\n",
    "\n",
    "A list can be printed:\n",
    "<pre>\n",
    "L1 = [-1, 2, -3, 4, 5]\n",
    "print(L1)    # this prints [-1, 2, -3, 4, 5]\n",
    "</pre>\n",
    "\n",
    "The number of elements of a list can be determined using <code>len()</code>:\n",
    "<pre>\n",
    "L1 = [-1, 2, -3, 4, 5]\n",
    "N = len(L1)  # this assigns 5 to N\n",
    "</pre>\n"
   ]
  },
  {
   "cell_type": "markdown",
   "id": "d0e41d81",
   "metadata": {
    "deletable": false,
    "editable": false
   },
   "source": [
    "Just as we can do with strings, we can also do with lists: we can reference individual elements in it using brackets (<code>[]</code>), as in the code cell below. Again, note that Python uses <b>zero-based indexing</b>, meaning that the first item in a collection has the index 0. In other words, the position of an element in a list is one greater than its index.\n",
    "<div class=\"alert alert-block alert-info\">\n",
    "Run the following cell several times with numbers between 0 and the length of the list <code>L</code> minus one. Then, see what happens if you enter a number that is less than zero or greater than or equal to the length of the list <code>L</code>. <br>\n",
    "\n",
    "Something interesting happens if you enter <code>-1</code>. Try changing the list <code>L</code> (make it longer, for instance), and see if you can figure out what's going on!\n",
    "</div>"
   ]
  },
  {
   "cell_type": "code",
   "execution_count": 71,
   "id": "cbbe91b0",
   "metadata": {
    "deletable": false
   },
   "outputs": [
    {
     "name": "stdout",
     "output_type": "stream",
     "text": [
      "Enter a number between 0 and 4: 3\n",
      "Element 'd' is at index 3 (position 4) in the list ['a', 'b', 'c', 'd', 'e']\n"
     ]
    }
   ],
   "source": [
    "# code cell 10\n",
    "\n",
    "L = ['a', 'b', 'c', 'd', 'e']\n",
    "n = len(L)\n",
    "i = int(input(\"Enter a number between 0 and \" + str(n-1) + \": \"))\n",
    "\n",
    "outStr = \"Element \" + \"\\'\" + L[i] + \"\\'\"\n",
    "outStr += \" is at index \" + str(i)\n",
    "if i >= 0:\n",
    "    outStr += \" (position \" + str(i+1) + \")\"\n",
    "outStr += \" in the list \"\n",
    "outStr += str(L) \n",
    "\n",
    "print(outStr)"
   ]
  },
  {
   "cell_type": "markdown",
   "id": "e47a609f",
   "metadata": {
    "deletable": false,
    "editable": false
   },
   "source": [
    "We can also loop through each character in a string using a <code>for</code>-loop and the <code>in</code> operator (yes, <code>in</code> is an operator!), as shown below."
   ]
  },
  {
   "cell_type": "code",
   "execution_count": 73,
   "id": "6eb67aa5",
   "metadata": {
    "deletable": false
   },
   "outputs": [
    {
     "name": "stdout",
     "output_type": "stream",
     "text": [
      "The element at index 0 in list L is 'a'\n",
      "The element at index 1 in list L is 'b'\n",
      "The element at index 2 in list L is 'c'\n",
      "The element at index 3 in list L is 'd'\n",
      "The element at index 4 in list L is 'e'\n"
     ]
    }
   ],
   "source": [
    "# code cell 11\n",
    "\n",
    "L = ['a', 'b', 'c', 'd', 'e']\n",
    "i = 0\n",
    "for x in L:\n",
    "    outStr = \"The element at index \" + str(i) \n",
    "    outStr += \" in list L is \\'\" + x + \"\\'\"\n",
    "    print(outStr)\n",
    "    i += 1"
   ]
  },
  {
   "cell_type": "markdown",
   "id": "d457e8b3",
   "metadata": {
    "deletable": false,
    "editable": false
   },
   "source": [
    "#### Lists are mutable!\n",
    "\n",
    "Unlike strings, elements in a list can be referenced by index and changed! In Python, lists are <b>mutable</b>; that is, elements of a list <b>can</b> be modified, appended to, or deleted from *in place*. "
   ]
  },
  {
   "cell_type": "code",
   "execution_count": 79,
   "id": "3cba3fad",
   "metadata": {
    "deletable": false
   },
   "outputs": [
    {
     "name": "stdout",
     "output_type": "stream",
     "text": [
      "list L =  ['a', 'b', 'c', 'd', 'e'] is at address 2583340353344\n",
      "\n",
      "modified list L =  ['a', 'b', 'q', 'd', 'e'] is still at address 2583340353344\n",
      "\n",
      "after inserting 'z' at index 1, list L is now ['a', 'z', 'b', 'q', 'd', 'e']\n",
      "\n",
      "after deleting 'b' at index 2, list L is now ['a', 'z', 'q', 'd', 'e']\n"
     ]
    }
   ],
   "source": [
    "# code cell 12\n",
    "\n",
    "L = ['a', 'b', 'c', 'd', 'e']\n",
    "print('list L = ', L, 'is at address', id(L))\n",
    "print()\n",
    "\n",
    "L[2] = \"q\"  # no error here - lists can be modified in place!\n",
    "print('modified list L = ', L, 'is still at address', id(L))\n",
    "print()\n",
    "\n",
    "L.insert(1, 'z')\n",
    "print('after inserting \\'z\\' at index 1, list L is now', L)\n",
    "print()\n",
    "\n",
    "L.pop(2)\n",
    "print('after deleting \\'b\\' at index 2, list L is now', L)"
   ]
  },
  {
   "cell_type": "markdown",
   "id": "18e7575b",
   "metadata": {
    "deletable": false,
    "editable": false
   },
   "source": [
    "### 4. List Functions and Methods\n",
    "\n",
    "* https://www.w3schools.com/python/python_ref_list.asp\n",
    "* https://www.analyticsvidhya.com/blog/2021/06/15-functions-you-should-know-to-master-lists-in-python/\n"
   ]
  },
  {
   "cell_type": "markdown",
   "id": "61d900aa",
   "metadata": {
    "deletable": false,
    "editable": false
   },
   "source": [
    "The <b>constructor</b> <code>list()</code> returns an empty list.\n",
    "\n",
    "Commonly used built-in <b>list functions</b> (functions that operate on lists):\n",
    "\n",
    "| function | description |\n",
    "| --: | :-- |\n",
    "| <code>len(L)</code> |  returns the length of list <code>L</code> can be determined by using built-in <code>len()</code> function |\n",
    "| <code>print(L)</code> |  prints the elements of <code>L</code> as a comma-separated list of values surrounded by brackets |\n",
    "| <code>type(L)</code> |  returns the type of a list object <code>L</code> (```<class 'list'>```) |\n",
    "| <code>id(L)</code> |  returns the \"identity\" (memory address) of a list object <code>L</code> |\n",
    "| <code>max(L)</code> | returns an item from list <code>L</code> with a maximum value |\n",
    "| <code>min(L)</code> | returns an item from list <code>L</code> with a minimum value |\n",
    "\n",
    "\n",
    "Commonly used built-in <b>list methods</b> (functions provided by list objects):\n",
    "\n",
    "| function | description |\n",
    "| --: | :-- |\n",
    "| <code>L.append()</code> | adds an element at the end of the list <code>L</code> |\n",
    "| <code>L.clear()</code> | removes all the elements from the list <code>L</code> |\n",
    "| <code>L.copy()</code> | returns a (shallow) copy of the list <code>L</code> |\n",
    "| <code>L.count()</code> | returns the number of elements of list <code>L</code> with the specified value |\n",
    "| <code>L.extend()</code> | add the elements of a specified list (or any iterable), to the end of list <code>L</code>  |\n",
    "| <code>L.index()</code> | returns the index of the first element of list <code>L</code> with the specified value |\n",
    "| <code>L.insert()</code> | adds an element to list <code>L</code> at the specified position |\n",
    "| <code>L.pop()</code> | removes the element from list <code>L</code> at the specified position |\n",
    "| <code>L.remove()</code>| removes the first item from list <code>L</code> with the specified value |\n",
    "| <code>L.reverse()</code> | reverses the order of the list <code>L</code>  |\n",
    "| <code>L.sort()</code> | sorts the list <code>L</code> |\n",
    "\n",
    "Note the difference in syntax between using list <b>functions</b> and list <b>methods</b>: <br>\n",
    "\n",
    "* list <b>functions</b> operate <b>on</b> a list <code>L</code>: <code>len(L)</code>, <code>type(L)</code>, <code>print(L)</code>, etc. <br>\n",
    "* list <b>methods</b> are called <b>by</b> a list <code>L</code> using the <b>dot operator</b>: <code>L.count()</code>, <code>L.index()</code>, <code>L.sort()</code>, etc."
   ]
  },
  {
   "cell_type": "code",
   "execution_count": 137,
   "id": "cc671bd0",
   "metadata": {
    "deletable": false,
    "editable": false
   },
   "outputs": [
    {
     "name": "stdout",
     "output_type": "stream",
     "text": [
      "list() returns an empty list L1:  []\n",
      "\n",
      "\n",
      "list L2 = [1, 5, 3, 4, 2, 1]\n",
      "the length of list L2 is 6\n",
      "the element of list L2 at index 1 is 5\n",
      "the type of L2 is <class 'list'>\n",
      "the memory location of list L2 is 2583340585216\n",
      "the element of list L2 with the maximum value is 5\n",
      "the element of list L2 with the minimum value is 1\n",
      "\n",
      "in list L2, element 5 is found at index 1\n",
      "in list L2, element 1 is found 2 times\n",
      "\n",
      "after inserting 0 at index 3, L2 = [1, 5, 3, 0, 4, 2, 1]\n",
      "L2.insert(5, 0) does not return anything: None\n",
      "but it inserts the element 0 at index 3 in place: L2 = [1, 5, 3, 0, 4, 0, 2, 1]\n",
      "\n",
      "L2.remove(0) does not return anything: None\n",
      "but it removes the first occurrence of element 0 in list L2 in place: L2 = [1, 5, 3, 4, 0, 2, 1]\n",
      "\n",
      "L2.pop(5) does return the element being removed: 2\n",
      "and it removes the element at index 5 in place: L2 = [1, 5, 3, 4, 0, 1]\n",
      "\n",
      "L2.reverse() does not return anything: None\n",
      "but it reverses list L2 in place: L2 = [1, 0, 4, 3, 5, 1]\n",
      "\n",
      "L2.sort() does not return anything: None\n",
      "but it sorts list L2 in ascending order (by default) in place: L2 = [0, 1, 1, 3, 4, 5]\n",
      "\n",
      "L2.sort(reverse=True) does not return anything: None\n",
      "but it sorts list L2 in descending order in place: L2 = [5, 4, 3, 1, 1, 0]\n",
      "\n",
      "L2.extend([-1, -2, -3]) does not return anything: None\n",
      "but it extends list L2 in place: L2 = [5, 4, 3, 1, 1, 0, -1, -2, -3]\n",
      "\n",
      "L2.clear() does not return anything: None\n",
      "but it clears list L2 in place: L2 = []\n",
      "\n",
      "\n",
      "list L3 = ['e', 'q', 'h', 'b', 'j']\n",
      "the length of list L3 is 5\n",
      "the element of list L3 at index 2 is 'h'\n",
      "\n",
      "L3.insert(3, 'x') does not return anything: None\n",
      "but it inserts the element 'x' at index 3 in place: L3 = ['e', 'q', 'h', 'x', 'b', 'j']\n",
      "\n",
      "L3.sort() does not return anything: None\n",
      "but it sorts list L3 in ascending order (by default) in place: L3 = ['b', 'e', 'h', 'j', 'q', 'x']\n",
      "\n",
      "L3.sort(reverse=True) does not return anything: None\n",
      "but it sorts list L3 in descending order in place: L3 = ['x', 'q', 'j', 'h', 'e', 'b']\n",
      "\n"
     ]
    }
   ],
   "source": [
    "# code cell 13\n",
    "\n",
    "L1 = list()\n",
    "\n",
    "print('list() returns an empty list L1: ', L1)\n",
    "print(); print()\n",
    "\n",
    "L2 = [1, 5, 3, 4, 2, 1]\n",
    "\n",
    "print('list L2 =', L2)\n",
    "print('the length of list L2 is' , len(L2))\n",
    "print('the element of list L2 at index 1 is', L2[1])\n",
    "print('the type of L2 is', type(L2))\n",
    "print('the memory location of list L2 is', id(L2))\n",
    "print('the element of list L2 with the maximum value is', max(L2))\n",
    "print('the element of list L2 with the minimum value is', min(L2))\n",
    "print()\n",
    "\n",
    "print('in list L2, element 5 is found at index', L2.index(5))\n",
    "print('in list L2, element 1 is found', L2.count(1), 'times')\n",
    "print()\n",
    "\n",
    "L2.insert(3, 0)\n",
    "print('after inserting 0 at index 3, L2 =', L2)\n",
    "print('L2.insert(5, 0) does not return anything:', L2.insert(5, 0))\n",
    "print('but it inserts the element 0 at index 3 in place: L2 =', L2)\n",
    "print()\n",
    "\n",
    "print('L2.remove(0) does not return anything:', L2.remove(0))\n",
    "print('but it removes the first occurrence of element 0 in list L2 in place: L2 =', L2)\n",
    "print()\n",
    "\n",
    "print('L2.pop(5) does return the element being removed:', L2.pop(5))\n",
    "print('and it removes the element at index 5 in place: L2 =', L2)\n",
    "print()\n",
    "\n",
    "print('L2.reverse() does not return anything:', L2.reverse())\n",
    "print('but it reverses list L2 in place: L2 =', L2)\n",
    "print()\n",
    "\n",
    "print('L2.sort() does not return anything:', L2.sort())\n",
    "print('but it sorts list L2 in ascending order (by default) in place: L2 =', L2)\n",
    "print()\n",
    "\n",
    "print('L2.sort(reverse=True) does not return anything:', L2.sort(reverse=True))\n",
    "print('but it sorts list L2 in descending order in place: L2 =', L2)\n",
    "print()\n",
    "\n",
    "print('L2.extend([-1, -2, -3]) does not return anything:', L2.extend([-1, -2, -3]))\n",
    "print('but it extends list L2 in place: L2 =', L2)\n",
    "print()\n",
    "\n",
    "print('L2.clear() does not return anything:', L2.clear())\n",
    "print('but it clears list L2 in place: L2 =', L2)\n",
    "print(); print()\n",
    "\n",
    "\n",
    "L3 = ['e', 'q', 'h', 'b', 'j']\n",
    "print('list L3 =', L3)\n",
    "print('the length of list L3 is' , len(L3))\n",
    "print('the element of list L3 at index 2 is \\'' + L3[2] + '\\'')\n",
    "print()\n",
    "\n",
    "print('L3.insert(3, \\'x\\') does not return anything:', L3.insert(3, 'x'))\n",
    "print('but it inserts the element \\'x\\' at index 3 in place: L3 =', L3)\n",
    "print()\n",
    "\n",
    "print('L3.sort() does not return anything:', L3.sort())\n",
    "print('but it sorts list L3 in ascending order (by default) in place: L3 =', L3)\n",
    "print()\n",
    "\n",
    "print('L3.sort(reverse=True) does not return anything:', L3.sort(reverse=True))\n",
    "print('but it sorts list L3 in descending order in place: L3 =', L3)\n",
    "print()"
   ]
  },
  {
   "cell_type": "markdown",
   "id": "9d535cfa",
   "metadata": {
    "deletable": false,
    "editable": false
   },
   "source": [
    "<div class=\"alert alert-block alert-info\">\n",
    "In the cell below, write code that does the following: <br>\n",
    "    \n",
    "1. Assign an empty list to <code>list1</code>. <br>\n",
    "2. Append the strings <code>\"Europa\"</code>, <code>\"Ganymede\"</code>, <code>\"Io\"</code>, and <code>\"Callisto\"</code> to the list <b>one at a time</b>, and print out the list after each addition. <br>\n",
    "3. Reverse the order of <code>list1</code>, and print it out. <br>\n",
    "4. Sort <code>list1</code>, and print it out. <br>\n",
    "5. Print out <code>list1[0]</code>, <code>list1[1]</code>, and <code>list1[-1]</code>. <br>\n",
    "6. Extend <code>list1</code> with <code>list2 = [\"Himalia\", \"Amalthea\", \"Thebe\"]</code>. <br>\n",
    "7. Print out the length of <code>list1</code>. <br>\n",
    "8. Remove the last element of <code>list1</code>, and print out <code>list1</code>. <br>\n",
    "9. Insert the element you removed in 8 at the beginning of <code>list1</code>. <br>\n",
    "\n",
    "Each time you run the cell, make sure the output is what you expect it to be.\n",
    "</div>"
   ]
  },
  {
   "cell_type": "code",
   "execution_count": null,
   "id": "6815cee6",
   "metadata": {
    "deletable": false
   },
   "outputs": [],
   "source": []
  },
  {
   "cell_type": "code",
   "execution_count": null,
   "id": "92a47ea8",
   "metadata": {
    "deletable": false,
    "editable": false
   },
   "outputs": [],
   "source": [
    "# code cell 14\n",
    "\n",
    "import random\n",
    "\n",
    "def main():   \n",
    "    numDice = 3\n",
    "    curScore = 0\n",
    "    while True:\n",
    "        s = input(\"Enter s for score, r to roll, or q to quit: \")\n",
    "        if s == \"r\":\n",
    "            outStr = \"You rolled\"\n",
    "            for i in range(numDice):\n",
    "                k = random.randint(1, 6)\n",
    "                outStr += \" \" + str(k)\n",
    "                curScore += k\n",
    "            print(outStr)\n",
    "            print(\"Your current score is \" + str(curScore) + \"\\n\")\n",
    "        elif s == \"s\":\n",
    "            print(\"Your current score is \" + str(curScore) + \"\\n\")\n",
    "        else:\n",
    "            print(\"You entered q ... goodbye!\")\n",
    "            return\n",
    "        \n",
    "main()"
   ]
  },
  {
   "cell_type": "markdown",
   "id": "751bf35e",
   "metadata": {
    "deletable": false,
    "editable": false
   },
   "source": [
    "<div class=\"alert alert-block alert-info\">\n",
    "This code above should look familiar to you - it's from the previous notebook. Copy and paste it into the code cell below. <br>\n",
    "\n",
    "Remember how we changed the rules: <br>\n",
    "* Each time you roll the 3 dice, if any of them happens to be a 1, then your score goes to zero. <br>\n",
    "* Keep track of your highest score so far. <br>\n",
    "\n",
    "This time, either <br>\n",
    "1. Use a <b>list</b> to store each of the die rolls in lines 12-15. Then, use list functions or methods to determine whether a 1 was rolled; if so, then zero out the current score; or\n",
    "2. Use string functions or methods to determine whether there is at least one <code>'1'</code> in <code>outStr</code> (lines 11-16); if so, then zero out the current score. \n",
    "</div>"
   ]
  },
  {
   "cell_type": "code",
   "execution_count": null,
   "id": "49add1e8",
   "metadata": {
    "deletable": false
   },
   "outputs": [],
   "source": []
  },
  {
   "cell_type": "markdown",
   "id": "1850ba17",
   "metadata": {
    "deletable": false,
    "editable": false
   },
   "source": [
    "### 5. A Dictionary is a Set of Key-Value Pairs\n",
    "\n",
    "Coding languages like C, C++, C#, and Java all have a data structure that holds a collection of objects that can be referred to by something other than their index or position in the collection. In these collections, the elements (entries) are <b>key-value pairs</b>, in which the <b>keys must be unique</b>, while the values (objects) they refer to need not be. In Python, such a data stucture is known as a <b>dictionary</b>, while other programming languages call this entity a <b>map</b>. At this time, we will only consider dictionaries containing entries whose keys are of the same data type, and whose values (objects) of the same data type.<br>\n",
    "\n",
    "The Python dictionary is enclosed by curly braces, and key-value pairs are delimited (set off from each other) by commas. An empty dictionary has nothing between its opening and closing braces.<br>\n",
    "<pre>\n",
    "d0 = {}\n",
    "d1 = {\"a\": 1, \"b\": 2, \"c\": 3}\n",
    "d2 = {1: \"dog\", -2: \"x\", 3.4: \"hello\"}\n",
    "d3 = {0: False, 1: True}\n",
    "</pre>\n",
    "\n",
    "A dictionary can be initialized using a <b>constructor</b> <code>dict()</code>:\n",
    "<pre>\n",
    "d4 = dict()                                   # this creates an empty dictionary {}\n",
    "\n",
    "d5 = dict(dog=1, cat=2, iguana=3, rat=4)      # this creates the dictionary\n",
    "                                              # d5 = {'dog': 1, 'cat': 2, 'iguana': 3, 'rat': 4}\n",
    "d6 = dict.fromkeys([-1, -2, -3])              # this initializes a dictionary with all keys having the value None:\n",
    "                                              # d6 = {-1: None, -2: None, -3: None}\n",
    "d7 = dict.fromkeys([3.4, 2.7], 0)             # this initializes a dictionary with all keys having the same value 0: \n",
    "                                              # d7 = {3.4: 0, 2.7: 0}\n",
    "</pre>\n",
    "\n",
    "\n",
    "A dictionary can be printed:\n",
    "<pre>\n",
    "d1 = {\"a\": 1, \"b\": 2, \"c\": 3}\n",
    "print(d1)      # this prints {'a': 1, 'b': 2, 'c': 3}\n",
    "</pre>\n",
    "\n",
    "The number of elements of a dictionary can be determined using <code>len()</code>:\n",
    "<pre>\n",
    "d2 = {1: \"dog\", -2: \"x\", 3.4: \"hello\"}\n",
    "N = len(d2)    # this assigns 3 to N\n",
    "</pre>"
   ]
  },
  {
   "cell_type": "markdown",
   "id": "b51fe14f",
   "metadata": {
    "deletable": false,
    "editable": false
   },
   "source": [
    "Like lists, the entries of dictionaries are referenced using brackets (<code>[]</code>), as in the code cell below. However, what goes in the brackets must be a <b>key</b> that already exists in the dictionary, and what is returned is the value associated with the specified key. Unlike lists, the entries of dictionaries <b>cannot</b> be referenced by their position in the collection. \n",
    "\n",
    "<div class=\"alert alert-block alert-info\">\n",
    "Run the following cell several times with various keys that exist in the dictionary. What happens if you enter a key that's not in the dictionary?\n",
    "</div>"
   ]
  },
  {
   "cell_type": "code",
   "execution_count": 63,
   "id": "5b1a44f1",
   "metadata": {
    "deletable": false
   },
   "outputs": [
    {
     "name": "stdout",
     "output_type": "stream",
     "text": [
      "Enter a key that exists in the dictionary: cat\n",
      "The value 2 is associated with key 'cat' in dictionary d = {'dog': 1, 'cat': 2, 'iguana': 3, 'rat': 4}\n"
     ]
    }
   ],
   "source": [
    "# code cell 15\n",
    "\n",
    "d = {'dog': 1, 'cat': 2, 'iguana': 3, 'rat': 4}\n",
    "n = len(d)\n",
    "x = input(\"Enter a key that exists in the dictionary: \")\n",
    "\n",
    "outStr = \"The value \" + str(d[x])\n",
    "outStr += \" is associated with key \\'\" + x + \"\\'\"\n",
    "outStr += \" in dictionary d = \"\n",
    "outStr += str(d) \n",
    "\n",
    "print(outStr)"
   ]
  },
  {
   "cell_type": "markdown",
   "id": "34b0f167",
   "metadata": {
    "deletable": false,
    "editable": false
   },
   "source": [
    "We can also loop through each entry in a dictionary through its keys, using a <code>for</code>-loop and the <code>in</code> operator, as shown below."
   ]
  },
  {
   "cell_type": "code",
   "execution_count": 61,
   "id": "2a860e57",
   "metadata": {
    "deletable": false
   },
   "outputs": [
    {
     "name": "stdout",
     "output_type": "stream",
     "text": [
      "The value associated with key 'dog' in dictionary d is 1\n",
      "The value associated with key 'cat' in dictionary d is 2\n",
      "The value associated with key 'iguana' in dictionary d is 3\n",
      "The value associated with key 'rat' in dictionary d is 4\n"
     ]
    }
   ],
   "source": [
    "# code cell 16\n",
    "\n",
    "d = {'dog': 1, 'cat': 2, 'iguana': 3, 'rat': 4}\n",
    "for x in d.keys():\n",
    "    outStr = \"The value associated with key \\'\" + x + \"\\'\"\n",
    "    outStr += \" in dictionary d is \" + str(d[x])\n",
    "    print(outStr)"
   ]
  },
  {
   "cell_type": "markdown",
   "id": "8c330144",
   "metadata": {
    "deletable": false,
    "editable": false
   },
   "source": [
    "#### Dictionaries are mutable!\n",
    "\n",
    "Like lists, entries in a dictionary can be referenced by index and changed! In Python, dictionaries are <b>mutable</b>; that is, entries in a dictionary <b>can</b> be modified, appended to, or deleted from *in place*. "
   ]
  },
  {
   "cell_type": "code",
   "execution_count": 80,
   "id": "70ccbd2b",
   "metadata": {
    "deletable": false
   },
   "outputs": [
    {
     "name": "stdout",
     "output_type": "stream",
     "text": [
      "dictionary d = {'dog': 1, 'cat': 2, 'iguana': 3, 'rat': 4} is at address 1827276863808\n",
      "\n",
      "modified dictionary = {'dog': 1, 'cat': 2, 'iguana': 3, 'rat': 7} is still at address 1827276863808\n",
      "\n",
      "after inserting entry 'ferret': 6, dictionary d is now {'dog': 1, 'cat': 2, 'iguana': 3, 'rat': 7, 'ferret': 6}\n",
      "\n",
      "after deleting entry 'iguana': 3, dictionary d is now {'dog': 1, 'cat': 2, 'rat': 7, 'ferret': 6}\n"
     ]
    }
   ],
   "source": [
    "# code cell 17\n",
    "\n",
    "d = {'dog': 1, 'cat': 2, 'iguana': 3, 'rat': 4}\n",
    "print('dictionary d =', d, 'is at address', id(d))\n",
    "print()\n",
    "\n",
    "d['rat'] = 7  # no error here - lists can be modified in place!\n",
    "print('modified dictionary =', d, 'is still at address', id(d))\n",
    "print()\n",
    "\n",
    "d['ferret'] = 6\n",
    "print('after inserting entry \\'ferret\\': 6, dictionary d is now', d)\n",
    "print()\n",
    "\n",
    "d.pop('iguana')\n",
    "print('after deleting entry \\'iguana\\': 3, dictionary d is now', d)"
   ]
  },
  {
   "cell_type": "markdown",
   "id": "21858636",
   "metadata": {
    "deletable": false,
    "editable": false
   },
   "source": [
    "### 6. Dictionary Functions and Methods\n",
    "\n",
    "* https://www.w3schools.com/python/python_ref_dictionary.asp\n",
    "* https://www.programiz.com/python-programming/dictionary"
   ]
  },
  {
   "cell_type": "markdown",
   "id": "d7598a2e",
   "metadata": {
    "deletable": false,
    "editable": false
   },
   "source": [
    "The <b>constructor</b> <code>dict()</code> returns an empty dictionary.\n",
    "\n",
    "Commonly used built-in <b>dictionary functions</b> (functions that operate on dictionaries):\n",
    "\n",
    "| function | description |\n",
    "| --: | :-- |\n",
    "| <code>len(d)</code> |  returns the length of dictionary <code>d</code> can be determined by using built-in <code>len()</code> function |\n",
    "| <code>print(d)</code> |  prints the entries of <code>d</code> as a comma-separated list of values surrounded by braces |\n",
    "| <code>type(d)</code> |  returns the type of a dictionary object <code>L</code> (```<class 'dict'>```) |\n",
    "| <code>id(d)</code> |  returns the \"identity\" (memory address) of a dictionary object <code>d</code> |\n",
    "| <code>dict(d)</code> |  returns a copy of dictionary object <code>d</code> |\n",
    "| <code>del(d)</code> | deletes the dictionary object <code>d</code> (<code>del d</code> also works) |\n",
    "\n",
    "\n",
    "Commonly used built-in <b>dictionary methods</b> (functions provided by dictionary objects):\n",
    "\n",
    "| function | description |\n",
    "| --: | :-- |\n",
    "| <code>d.clear()</code> | removes all entries from the dictionary <code>d</code> |\n",
    "| <code>d.copy()</code> | returns a (shallow) copy of the dictionary <code>d</code> |\n",
    "| <code>d.fromkeys()</code> | returns a dictionary with the specified keys and value |\n",
    "| <code>d.get()</code> | returns the value of a specified key from the dictionary <code>d</code> |\n",
    "| <code>d.items()</code> | returns a list containing a tuple for each entry (key-value pair) in dictionary <code>d</code> |\n",
    "| <code>d.keys()</code> | returns a list containing the keys of dictionary <code>d</code> |\n",
    "| <code>d.pop()</code> | removes the entry with the specified key from dictionary <code>d</code> |\n",
    "| <code>d.popitem()</code>| removes the the last inserted entry (key-value pair) from dictionary <code>d</code> |\n",
    "| <code>d.setdefault()</code> | returns the value of the specified key, if it exists; otherwise, inserts the key with the specified value  |\n",
    "| <code>d.update()</code> | updates the dictionary <code>d</code> with the specified key-value pairs |\n",
    "| <code>d.values()</code> | returns a list containing the values of dictionary <code>d</code> |\n",
    "\n",
    "Note the difference in syntax between using dictionary <b>functions</b> and dictionary <b>methods</b>: <br>\n",
    "\n",
    "* dictionary <b>functions</b> operate <b>on</b> a dictionary <code>d</code>: <code>len(d)</code>, <code>type(d)</code>, <code>print(d)</code>, etc. <br>\n",
    "* dictionary <b>methods</b> are called <b>by</b> a dictionary <code>d</code> using the <b>dot operator</b>: <code>d.clear()</code>, <code>d.keys()</code>, <code>d.values()</code>, etc."
   ]
  },
  {
   "cell_type": "code",
   "execution_count": 2,
   "id": "bc3393bc",
   "metadata": {
    "deletable": false,
    "editable": false
   },
   "outputs": [
    {
     "name": "stdout",
     "output_type": "stream",
     "text": [
      "dict() returns an empty dictionary d1: {}\n",
      "\n",
      "dict(dog=1, cat=2, rat=3) creates a dictionary with specified entries: {'dog': 1, 'cat': 2, 'rat': 3}\n",
      "dict.fromkeys([1, 2, 3]) creates a dictionary with values all set to None: {1: None, 2: None, 3: None}\n",
      "dict.fromkeys([1, 2, 3], '0') creates a dictionary with values all set to '0': {1: '0', 2: '0', 3: '0'}\n",
      "dict(zip(['dog', 'cat', 'rat'], [1, 2, 3])) creates a dictionary from two lists: {'dog': 1, 'cat': 2, 'rat': 3}\n",
      "\n",
      "\n",
      "dictionary d2 = {1: 'dog', -2: 'x', 3.4: 'hello'}\n",
      "the length of dictionary d2 is 3\n",
      "the value associated with key -2 in dictionary d2 is 'x'\n",
      "the type of d2 is <class 'dict'>\n",
      "the memory location of dictionary d2 is 2479223848576\n",
      "\n",
      "d2.keys() returns the keys of d2 as a list: dict_keys([1, -2, 3.4])\n",
      "          but this is an object of type <class 'dict_keys'>\n",
      "list(d2.keys()) converts this to a list:[1, -2, 3.4] of type <class 'list'>\n",
      "\n",
      "d2.values() returns the values of d2 as a list: dict_values(['dog', 'x', 'hello'])\n",
      "            but this is an object of type <class 'dict_values'>\n",
      "list(d2.values()) converts this to a list:['dog', 'x', 'hello'] of type <class 'list'>\n",
      "\n",
      "d2[-2] returns the value associated with existing key -2:'x'\n",
      "d2.get(-2) also returns the value associated with existing key -2:'x'\n",
      "d2[3.4] = 'what?' sets a new value for existing key 3.4: d2 = {1: 'dog', -2: 'x', 3.4: 'what?'}\n",
      "d2[-0.3] = 'IDK' sets a value 'IDK' for new key -0.3: d2 = {1: 'dog', -2: 'x', 3.4: 'what?', -0.3: 'IDK'}\n",
      "\n",
      "d2.pop(3.4) returns the value associated with the key whose entry is being removed: 'what?'\n",
      "after removing entry 3.4: 'what?', d2 = {1: 'dog', -2: 'x', -0.3: 'IDK'}\n",
      "\n",
      "\n",
      "dictionary d3 = {42: 'yes', 17: 'no'}\n",
      "d2.update(d3) does not return anything: None\n",
      "but it updates dictionary d2 with entries from d3: d2 = {1: 'dog', -2: 'x', -0.3: 'IDK', 42: 'yes', 17: 'no'}\n",
      "\n",
      "'42 in d2' returns True because 42 is a key: True\n",
      "'0 in d2' returns False because 0 is not a key: False\n",
      "\n",
      "d2.clear() does not return anything: None\n",
      "but it deletes all entries in d2: d2 = {}\n"
     ]
    }
   ],
   "source": [
    "# code cell 18\n",
    "\n",
    "d1 = dict()\n",
    "\n",
    "print('dict() returns an empty dictionary d1:', d1)\n",
    "print()\n",
    "\n",
    "print('dict(dog=1, cat=2, rat=3) creates a dictionary with specified entries:', dict(dog=1, cat=2, rat=3))\n",
    "print('dict.fromkeys([1, 2, 3]) creates a dictionary with values all set to None:', dict.fromkeys([1, 2, 3]))\n",
    "print('dict.fromkeys([1, 2, 3], \\'0\\') creates a dictionary with values all set to \\'0\\':', dict.fromkeys([1, 2, 3], '0'))\n",
    "print('dict(zip([\\'dog\\', \\'cat\\', \\'rat\\'], [1, 2, 3])) creates a dictionary from two lists:', dict(zip(['dog', 'cat', 'rat'], [1, 2, 3])))\n",
    "print(); print()\n",
    "\n",
    "\n",
    "d2 = {1: \"dog\", -2: \"x\", 3.4: \"hello\"}\n",
    "\n",
    "print('dictionary d2 =', d2)\n",
    "print('the length of dictionary d2 is' , len(d2))\n",
    "print('the value associated with key -2 in dictionary d2 is \\'' + str(d2[-2]) + '\\'')\n",
    "print('the type of d2 is', type(d2))\n",
    "print('the memory location of dictionary d2 is', id(d2))\n",
    "print()\n",
    "\n",
    "print('d2.keys() returns the keys of d2 as a list:', d2.keys())\n",
    "print('          but this is an object of type', type(d2.keys()))\n",
    "print('list(d2.keys()) converts this to a list:' + str(list(d2.keys())) + ' of type ' + str(type(list(d2.keys()))))\n",
    "print()\n",
    "print('d2.values() returns the values of d2 as a list:', d2.values())\n",
    "print('            but this is an object of type', type(d2.values()))\n",
    "print('list(d2.values()) converts this to a list:' + str(list(d2.values())) + ' of type ' + str(type(list(d2.values()))))\n",
    "print()\n",
    "\n",
    "print('d2[-2] returns the value associated with existing key -2:\\'' + str(d2[-2]) + '\\'')\n",
    "print('d2.get(-2) also returns the value associated with existing key -2:\\'' + str(d2.get(-2)) + '\\'')\n",
    "d2[3.4] = 'what?'\n",
    "print('d2[3.4] = \\'what?\\' sets a new value for existing key 3.4: d2 =', d2)\n",
    "d2[-0.3] = 'IDK'\n",
    "print('d2[-0.3] = \\'IDK\\' sets a value \\'IDK\\' for new key -0.3: d2 =', d2)\n",
    "print()\n",
    "\n",
    "print('d2.pop(3.4) returns the value associated with the key whose entry is being removed: \\'' + str(d2.pop(3.4)) + '\\'')\n",
    "print('after removing entry 3.4: \\'what?\\', d2 = ' + str(d2))\n",
    "print(); print()\n",
    "\n",
    "\n",
    "d3 = {42: 'yes', 17: 'no'}\n",
    "print('dictionary d3 =', d3)\n",
    "print('d2.update(d3) does not return anything:', d2.update(d3))\n",
    "print('but it updates dictionary d2 with entries from d3: d2 =', d2)\n",
    "print()\n",
    "\n",
    "print('\\'42 in d2\\' returns True because 42 is a key:', 42 in d2)\n",
    "print('\\'0 in d2\\' returns False because 0 is not a key:', 0 in d2)\n",
    "print()\n",
    "\n",
    "print('d2.clear() does not return anything:', d2.clear())\n",
    "print('but it deletes all entries in d2: d2 =', d2)"
   ]
  },
  {
   "cell_type": "markdown",
   "id": "04e11a95",
   "metadata": {
    "deletable": false,
    "editable": false
   },
   "source": [
    "<div class=\"alert alert-block alert-info\">\n",
    "    \n",
    "Apply what you now know about strings, lists, and dictionaries to a real-life bioinformatics problem ! <br>\n",
    "    \n",
    "In the cell below, I have created a dictionary whose keys are 3-base sequences, and whose values are the amino acids they code for. (This is known as a <a href=\"https://en.wikipedia.org/wiki/DNA_and_RNA_codon_tables\"><b>standard codon table</b></a>.) There is also a dictionary whose keys are the three-letter abbreviations for the amino acids, and whose values are their one-letter abbreviations, which are used in the scientific literature. From an early <a href=\"https://www.ncbi.nlm.nih.gov/nuccore/NC_045512.2?report=genbank&to=29903\"><b>NIH article</b></a> (Feb 2020) about the SARS-CoV-2 virus (29,903 base pairs), I have excerpted the 3822-bp nucleotide sequence that codes for the spike protein, along with the amino acid sequence that it corresponds to. <br>\n",
    "    \n",
    "For this exercise, you will <br>\n",
    "1. Find the length of the spike protein sequence <code>SPseq</code>, and print it out. <br>\n",
    "2. Use string functions or methods to remove spaces and convert all the letters from lowercase to uppercase letters (bases) in <code>SPseq</code>, and print it out, along with its length. <br>\n",
    "3. Use a <code>for</code>-loop to convert each three-base sequence in the string to an amino acid; then, using the dictionary <code>DNAdict</code>, append each three-letter amino acid string to a list. <br>\n",
    "4. Find the length (number of elements) in the list of amino acids. <br>\n",
    "5. Create a dictionary <code>AAdict</code> using the lists <code>AAtla</code> (keys) and <code>AAola</code> (values). (Hint: use the <code>zip()</code> function.) <br>\n",
    "6. Using <code>AAdict</code>, convert each element in the list of amino acids into a one-character string, and append it to a string. <br>\n",
    "7. Compare the string you obtained with the amino acid sequence <code>AAseq</code>, which was published in the cited paper. <br>\n",
    "\n",
    "<b>Extra challenge:</b>\n",
    "Determine which amino acids are most and least prevalent in the spike protein. (That is, count the number of occurrences of each amino acid in the sequence, and print out which one has the highest count and which one has the lowest count.)    \n",
    "</div>"
   ]
  },
  {
   "cell_type": "code",
   "execution_count": 4,
   "id": "6be4969c",
   "metadata": {
    "deletable": false
   },
   "outputs": [],
   "source": [
    "# codon tables: https://en.wikipedia.org/wiki/DNA_and_RNA_codon_tables\n",
    "# Severe acute respiratory syndrome coronavirus 2 isolate Wuhan-Hu-1, complete genome\n",
    "# https://www.ncbi.nlm.nih.gov/nuccore/NC_045512.2?report=genbank&to=29903\n",
    "\n",
    "def main():\n",
    "    DNAdict = {\n",
    "        'TTT': 'phe', 'TTC': 'phe', 'TTA': 'leu', 'TTG': 'leu',\n",
    "        'TCT': 'ser', 'TCC': 'ser', 'TCA': 'ser', 'TCG': 'ser',\n",
    "        'TAT': 'tyr', 'TAC': 'tyr', 'TAA': 'stop', 'TAG': 'stop',\n",
    "        'TGT': 'cys', 'TGC': 'cys', 'TGA': 'stop', 'TGG': 'trp',\n",
    "        'CTT': 'leu', 'CTC': 'leu', 'CTA': 'leu', 'CTG': 'leu',\n",
    "        'CCT': 'pro', 'CCC': 'pro', 'CCA': 'pro', 'CCG': 'pro',\n",
    "        'CAT': 'his', 'CAC': 'his', 'CAA': 'gln', 'CAG': 'gln',\n",
    "        'CGT': 'arg', 'CGC': 'arg', 'CGA': 'arg', 'CGG': 'arg',\n",
    "        'ATT': 'ile', 'ATC': 'ile', 'ATA': 'ile', 'ATG': 'met',\n",
    "        'ACT': 'thr', 'ACC': 'thr', 'ACA': 'thr', 'ACG': 'thr', \n",
    "        'AAT': 'asn', 'AAC': 'asn', 'AAA': 'lys', 'AAG': 'lys', \n",
    "        'AGT': 'ser', 'AGC': 'ser', 'AGA': 'arg', 'AGG': 'arg', \n",
    "        'GTT': 'val', 'GTC': 'val', 'GTA': 'val', 'GTG': 'val',\n",
    "        'GCT': 'ala', 'GCC': 'ala', 'GCA': 'ala', 'GCG': 'ala', \n",
    "        'GAT': 'asp', 'GAC': 'asp', 'GAA': 'glu', 'GAG': 'glu', \n",
    "        'GGT': 'gly', 'GGC': 'gly', 'GGA': 'gly', 'GGG': 'gly'\n",
    "    }\n",
    "\n",
    "    AAtla = ['ala', 'arg', 'asn', 'asp', 'cys', \n",
    "             'glu', 'gln', 'gly', 'his', 'ile', \n",
    "             'leu', 'lys', 'met', 'phe', 'pro', \n",
    "             'ser', 'thr', 'trp', 'tyr', 'val']\n",
    "    AAola = ['A', 'R', 'N', 'D', 'C', \n",
    "             'E', 'Q', 'G', 'H', 'I', \n",
    "             'L', 'K', 'M', 'F', 'P', \n",
    "             'S', 'T', 'W', 'Y', 'V']\n",
    "        \n",
    "    # bp 21563 - 25384 (3822 bp, or 1274 aa)\n",
    "    SPseq = 'atgtttgt ttttcttgtt ttattgccac tagtctctag'\\\n",
    "    'tcagtgtgtt aatcttacaa ccagaactca attaccccct gcatacacta attctttcac'\\\n",
    "    'acgtggtgtt tattaccctg acaaagtttt cagatcctca gttttacatt caactcagga'\\\n",
    "    'cttgttctta cctttctttt ccaatgttac ttggttccat gctatacatg tctctgggac'\\\n",
    "    'caatggtact aagaggtttg ataaccctgt cctaccattt aatgatggtg tttattttgc'\\\n",
    "    'ttccactgag aagtctaaca taataagagg ctggattttt ggtactactt tagattcgaa'\\\n",
    "    'gacccagtcc ctacttattg ttaataacgc tactaatgtt gttattaaag tctgtgaatt'\\\n",
    "    'tcaattttgt aatgatccat ttttgggtgt ttattaccac aaaaacaaca aaagttggat'\\\n",
    "    'ggaaagtgag ttcagagttt attctagtgc gaataattgc acttttgaat atgtctctca'\\\n",
    "    'gccttttctt atggaccttg aaggaaaaca gggtaatttc aaaaatctta gggaatttgt'\\\n",
    "    'gtttaagaat attgatggtt attttaaaat atattctaag cacacgccta ttaatttagt'\\\n",
    "    'gcgtgatctc cctcagggtt tttcggcttt agaaccattg gtagatttgc caataggtat'\\\n",
    "    'taacatcact aggtttcaaa ctttacttgc tttacataga agttatttga ctcctggtga'\\\n",
    "    'ttcttcttca ggttggacag ctggtgctgc agcttattat gtgggttatc ttcaacctag'\\\n",
    "    'gacttttcta ttaaaatata atgaaaatgg aaccattaca gatgctgtag actgtgcact'\\\n",
    "    'tgaccctctc tcagaaacaa agtgtacgtt gaaatccttc actgtagaaa aaggaatcta'\\\n",
    "    'tcaaacttct aactttagag tccaaccaac agaatctatt gttagatttc ctaatattac'\\\n",
    "    'aaacttgtgc ccttttggtg aagtttttaa cgccaccaga tttgcatctg tttatgcttg'\\\n",
    "    'gaacaggaag agaatcagca actgtgttgc tgattattct gtcctatata attccgcatc'\\\n",
    "    'attttccact tttaagtgtt atggagtgtc tcctactaaa ttaaatgatc tctgctttac'\\\n",
    "    'taatgtctat gcagattcat ttgtaattag aggtgatgaa gtcagacaaa tcgctccagg'\\\n",
    "    'gcaaactgga aagattgctg attataatta taaattacca gatgatttta caggctgcgt'\\\n",
    "    'tatagcttgg aattctaaca atcttgattc taaggttggt ggtaattata attacctgta'\\\n",
    "    'tagattgttt aggaagtcta atctcaaacc ttttgagaga gatatttcaa ctgaaatcta'\\\n",
    "    'tcaggccggt agcacacctt gtaatggtgt tgaaggtttt aattgttact ttcctttaca'\\\n",
    "    'atcatatggt ttccaaccca ctaatggtgt tggttaccaa ccatacagag tagtagtact'\\\n",
    "    'ttcttttgaa cttctacatg caccagcaac tgtttgtgga cctaaaaagt ctactaattt'\\\n",
    "    'ggttaaaaac aaatgtgtca atttcaactt caatggttta acaggcacag gtgttcttac'\\\n",
    "    'tgagtctaac aaaaagtttc tgcctttcca acaatttggc agagacattg ctgacactac'\\\n",
    "    'tgatgctgtc cgtgatccac agacacttga gattcttgac attacaccat gttcttttgg'\\\n",
    "    'tggtgtcagt gttataacac caggaacaaa tacttctaac caggttgctg ttctttatca'\\\n",
    "    'ggatgttaac tgcacagaag tccctgttgc tattcatgca gatcaactta ctcctacttg'\\\n",
    "    'gcgtgtttat tctacaggtt ctaatgtttt tcaaacacgt gcaggctgtt taataggggc'\\\n",
    "    'tgaacatgtc aacaactcat atgagtgtga catacccatt ggtgcaggta tatgcgctag'\\\n",
    "    'ttatcagact cagactaatt ctcctcggcg ggcacgtagt gtagctagtc aatccatcat'\\\n",
    "    'tgcctacact atgtcacttg gtgcagaaaa ttcagttgct tactctaata actctattgc'\\\n",
    "    'catacccaca aattttacta ttagtgttac cacagaaatt ctaccagtgt ctatgaccaa'\\\n",
    "    'gacatcagta gattgtacaa tgtacatttg tggtgattca actgaatgca gcaatctttt'\\\n",
    "    'gttgcaatat ggcagttttt gtacacaatt aaaccgtgct ttaactggaa tagctgttga'\\\n",
    "    'acaagacaaa aacacccaag aagtttttgc acaagtcaaa caaatttaca aaacaccacc'\\\n",
    "    'aattaaagat tttggtggtt ttaatttttc acaaatatta ccagatccat caaaaccaag'\\\n",
    "    'caagaggtca tttattgaag atctactttt caacaaagtg acacttgcag atgctggctt'\\\n",
    "    'catcaaacaa tatggtgatt gccttggtga tattgctgct agagacctca tttgtgcaca'\\\n",
    "    'aaagtttaac ggccttactg ttttgccacc tttgctcaca gatgaaatga ttgctcaata'\\\n",
    "    'cacttctgca ctgttagcgg gtacaatcac ttctggttgg acctttggtg caggtgctgc'\\\n",
    "    'attacaaata ccatttgcta tgcaaatggc ttataggttt aatggtattg gagttacaca'\\\n",
    "    'gaatgttctc tatgagaacc aaaaattgat tgccaaccaa tttaatagtg ctattggcaa'\\\n",
    "    'aattcaagac tcactttctt ccacagcaag tgcacttgga aaacttcaag atgtggtcaa'\\\n",
    "    'ccaaaatgca caagctttaa acacgcttgt taaacaactt agctccaatt ttggtgcaat'\\\n",
    "    'ttcaagtgtt ttaaatgata tcctttcacg tcttgacaaa gttgaggctg aagtgcaaat'\\\n",
    "    'tgataggttg atcacaggca gacttcaaag tttgcagaca tatgtgactc aacaattaat'\\\n",
    "    'tagagctgca gaaatcagag cttctgctaa tcttgctgct actaaaatgt cagagtgtgt'\\\n",
    "    'acttggacaa tcaaaaagag ttgatttttg tggaaagggc tatcatctta tgtccttccc'\\\n",
    "    'tcagtcagca cctcatggtg tagtcttctt gcatgtgact tatgtccctg cacaagaaaa'\\\n",
    "    'gaacttcaca actgctcctg ccatttgtca tgatggaaaa gcacactttc ctcgtgaagg'\\\n",
    "    'tgtctttgtt tcaaatggca cacactggtt tgtaacacaa aggaattttt atgaaccaca'\\\n",
    "    'aatcattact acagacaaca catttgtgtc tggtaactgt gatgttgtaa taggaattgt'\\\n",
    "    'caacaacaca gtttatgatc ctttgcaacc tgaattagac tcattcaagg aggagttaga'\\\n",
    "    'taaatatttt aagaatcata catcaccaga tgttgattta ggtgacatct ctggcattaa'\\\n",
    "    'tgcttcagtt gtaaacattc aaaaagaaat tgaccgcctc aatgaggttg ccaagaattt'\\\n",
    "    'aaatgaatct ctcatcgatc tccaagaact tggaaagtat gagcagtata taaaatggcc'\\\n",
    "    'atggtacatt tggctaggtt ttatagctgg cttgattgcc atagtaatgg tgacaattat'\\\n",
    "    'gctttgctgt atgaccagtt gctgtagttg tctcaagggc tgttgttctt gtggatcctg'\\\n",
    "    'ctgcaaattt gatgaagacg actctgagcc agtgctcaaa ggagtcaaat tacattacac'\\\n",
    "    'ataa'\n",
    "\n",
    "    AAseq = 'MFVFLVLLPLVSSQCVNLTTRTQLPPAYTNSFTRGVYYPDKVFR'\\\n",
    "    'SSVLHSTQDLFLPFFSNVTWFHAIHVSGTNGTKRFDNPVLPFNDGVYFASTEKSNIIR'\\\n",
    "    'GWIFGTTLDSKTQSLLIVNNATNVVIKVCEFQFCNDPFLGVYYHKNNKSWMESEFRVY'\\\n",
    "    'SSANNCTFEYVSQPFLMDLEGKQGNFKNLREFVFKNIDGYFKIYSKHTPINLVRDLPQ'\\\n",
    "    'GFSALEPLVDLPIGINITRFQTLLALHRSYLTPGDSSSGWTAGAAAYYVGYLQPRTFL'\\\n",
    "    'LKYNENGTITDAVDCALDPLSETKCTLKSFTVEKGIYQTSNFRVQPTESIVRFPNITN'\\\n",
    "    'LCPFGEVFNATRFASVYAWNRKRISNCVADYSVLYNSASFSTFKCYGVSPTKLNDLCF'\\\n",
    "    'TNVYADSFVIRGDEVRQIAPGQTGKIADYNYKLPDDFTGCVIAWNSNNLDSKVGGNYN'\\\n",
    "    'YLYRLFRKSNLKPFERDISTEIYQAGSTPCNGVEGFNCYFPLQSYGFQPTNGVGYQPY'\\\n",
    "    'RVVVLSFELLHAPATVCGPKKSTNLVKNKCVNFNFNGLTGTGVLTESNKKFLPFQQFG'\\\n",
    "    'RDIADTTDAVRDPQTLEILDITPCSFGGVSVITPGTNTSNQVAVLYQDVNCTEVPVAI'\\\n",
    "    'HADQLTPTWRVYSTGSNVFQTRAGCLIGAEHVNNSYECDIPIGAGICASYQTQTNSPR'\\\n",
    "    'RARSVASQSIIAYTMSLGAENSVAYSNNSIAIPTNFTISVTTEILPVSMTKTSVDCTM'\\\n",
    "    'YICGDSTECSNLLLQYGSFCTQLNRALTGIAVEQDKNTQEVFAQVKQIYKTPPIKDFG'\\\n",
    "    'GFNFSQILPDPSKPSKRSFIEDLLFNKVTLADAGFIKQYGDCLGDIAARDLICAQKFN'\\\n",
    "    'GLTVLPPLLTDEMIAQYTSALLAGTITSGWTFGAGAALQIPFAMQMAYRFNGIGVTQN'\\\n",
    "    'VLYENQKLIANQFNSAIGKIQDSLSSTASALGKLQDVVNQNAQALNTLVKQLSSNFGA'\\\n",
    "    'ISSVLNDILSRLDKVEAEVQIDRLITGRLQSLQTYVTQQLIRAAEIRASANLAATKMS'\\\n",
    "    'ECVLGQSKRVDFCGKGYHLMSFPQSAPHGVVFLHVTYVPAQEKNFTTAPAICHDGKAH'\\\n",
    "    'FPREGVFVSNGTHWFVTQRNFYEPQIITTDNTFVSGNCDVVIGIVNNTVYDPLQPELD'\\\n",
    "    'SFKEELDKYFKNHTSPDVDLGDISGINASVVNIQKEIDRLNEVAKNLNESLIDLQELG'\\\n",
    "    'KYEQYIKWPWYIWLGFIAGLIAIVMVTIMLCCMTSCCSCLKGCCSCGSCCKFDEDDSE'\\\n",
    "    'PVLKGVKLHYT'\n",
    "    \n",
    "\n",
    "\n",
    "main()"
   ]
  },
  {
   "cell_type": "markdown",
   "id": "02c31788",
   "metadata": {
    "deletable": false,
    "editable": false
   },
   "source": [
    "### 7. More Fun With <code>turtle</code>"
   ]
  },
  {
   "cell_type": "markdown",
   "id": "bf2a7b29",
   "metadata": {
    "deletable": false,
    "editable": false
   },
   "source": [
    "Now that you know more code constructs involving variables, operators, and expressions, it's time to put them to work! In the previous notebook, you wrote a program using a loop to make the turtle trace out a figure whose side lengths and number of sides could be specified by the user:"
   ]
  },
  {
   "cell_type": "code",
   "execution_count": 23,
   "id": "51483882",
   "metadata": {
    "deletable": false,
    "editable": false
   },
   "outputs": [
    {
     "data": {
      "application/vnd.jupyter.widget-view+json": {
       "model_id": "d9ed43246de743599780c0cdf5b27549",
       "version_major": 2,
       "version_minor": 0
      },
      "text/plain": [
       "Turtle()"
      ]
     },
     "metadata": {},
     "output_type": "display_data"
    },
    {
     "name": "stdout",
     "output_type": "stream",
     "text": [
      "Enter the number of sides: 5\n",
      "Enter the length of each side: 50\n"
     ]
    }
   ],
   "source": [
    "# code cell 19\n",
    "\n",
    "from mobilechelonian import Turtle\n",
    "\n",
    "t = Turtle()\n",
    "t.speed(9)\n",
    "\n",
    "N = int(input(\"Enter the number of sides: \"))\n",
    "sidelen = int(input(\"Enter the length of each side: \"))\n",
    "angle = int(360 / N)\n",
    "t.penup()\n",
    "t.setposition(100, 100)\n",
    "t.setbearing(90)\n",
    "\n",
    "t.pencolor('red')\n",
    "t.pendown()\n",
    "for i in range(N):\n",
    "    t.forward(sidelen)\n",
    "    t.right(angle)\n",
    "\n",
    "t.penup()"
   ]
  },
  {
   "cell_type": "markdown",
   "id": "9fb9e867",
   "metadata": {
    "deletable": false,
    "editable": false
   },
   "source": [
    "<div class=\"alert alert-block alert-info\">\n",
    "In the code cell below: <br>\n",
    "1. Using the lists <code>xPos</code> and <code>yPos</code>, create a dictionary whose keys are the elements of <code>xPos</code>, and whose values are the elements of <code>yPos</code>. <br>\n",
    "2. Create a list of various pen colors (see <a href=\"https://stackoverflow.com/questions/22408237/named-colors-in-matplotlib\"><b>Named colors in matplotlib</b></a>). <br>\n",
    "3. In the <code>for</code>-loop, instead of using the lists  <code>xPos</code> and <code>yPos</code>, instead set the position of <code>turtle</code> using each entry (key-value pair) in the dictionary. <br>\n",
    "4. Then, indent this code and put it into another <code>for</code>-loop, but this time, before drawing each figure, offset its starting point by random amounts <code>x0 = 20 * random.randint(0, 5)</code> and <code>y0 = 20 * random.randint(0, 5)</code>. (Remember to import <code>random</code>!) <br>\n",
    "5. Also, change the pen color at random before drawing each figure. Have this loop iterate 20 times. <br>\n",
    "    \n",
    "<b>Extra chellenge</b>: Change the lists <code>xPos</code> and <code>yPos</code> so that <code>turtle</code> traces the shape of the capital letter that begins your first name.\n",
    "</div>"
   ]
  },
  {
   "cell_type": "code",
   "execution_count": 9,
   "id": "8d92a891",
   "metadata": {
    "deletable": false
   },
   "outputs": [
    {
     "data": {
      "application/vnd.jupyter.widget-view+json": {
       "model_id": "739e8ce39540436882bf1b93ea4cf872",
       "version_major": 2,
       "version_minor": 0
      },
      "text/plain": [
       "Turtle()"
      ]
     },
     "metadata": {},
     "output_type": "display_data"
    }
   ],
   "source": [
    "from mobilechelonian import Turtle\n",
    "\n",
    "def main():\n",
    "    t = Turtle()\n",
    "    t.speed(9)\n",
    "\n",
    "    xPos = [100, 200, 150, 100]\n",
    "    yPos = [100, 100, 200, 100]\n",
    "    n = len(xPos)\n",
    "\n",
    "    t.pencolor('blue')\n",
    "    t.penup()\n",
    "    t.home()\n",
    "\n",
    "    for i in range(n):\n",
    "        x = xPos[i]\n",
    "        y = yPos[i]\n",
    "\n",
    "        t.setposition(x, y)\n",
    "        t.pendown()\n",
    "        \n",
    "    t.penup()\n",
    "    t.home()\n",
    "    \n",
    "    \n",
    "main()"
   ]
  },
  {
   "cell_type": "code",
   "execution_count": 130,
   "id": "e7c0db12",
   "metadata": {
    "deletable": false
   },
   "outputs": [
    {
     "name": "stdout",
     "output_type": "stream",
     "text": [
      "{'C': 523.2511306011972, 'C#': 554.3652619537442, 'D': 587.3295358348151, 'D#': 622.2539674441618, 'E': 659.2551138257398, 'F': 698.4564628660078, 'F#': 739.9888454232688, 'G': 783.9908719634985, 'G#': 830.6093951598903, 'A': 880.0, 'A#': 932.3275230361799, 'B': 987.7666025122483}\n"
     ]
    }
   ],
   "source": [
    "# code cell 20\n",
    "# https://ipython-books.github.io/117-creating-a-sound-synthesizer-in-the-notebook/\n",
    "\n",
    "import numpy as np\n",
    "from IPython.display import (\n",
    "    Audio, display, clear_output)\n",
    "\n",
    "rate = 16000.\n",
    "duration = .25\n",
    "t = np.linspace(0., duration, int(rate * duration))\n",
    "\n",
    "def synth(f):\n",
    "    x = np.sin(f * 2. * np.pi * t)\n",
    "    display(Audio(x, rate=rate, autoplay=True))\n",
    "    \n",
    "notes = 'C,C#,D,D#,E,F,F#,G,G#,A,A#,B'.split(',')\n",
    "freqs = 440. * 2**(np.arange(3, 3 + len(notes)) / 12.)\n",
    "\n",
    "noteDict = dict(zip(notes, freqs))\n",
    "print(noteDict)"
   ]
  },
  {
   "cell_type": "markdown",
   "id": "0d56957f",
   "metadata": {
    "deletable": false,
    "editable": false
   },
   "source": [
    "<div class=\"alert alert-block alert-info\">\n",
    "<b>(Optional)</b> Just for fun: <br>\n",
    "\n",
    "* The code in the cell above creates an audio synthesizer that plays sine waves (pure tones), and sets up a list of notes and frequencies. <br>\n",
    "* <code>noteDict</code> is a dictionary whose keys are the names of each pitch, and whose values are the frequencies of each pitch. <br>\n",
    "\n",
    "0. Run the cell above. <br>\n",
    "1. In the cell below, import the <code>time</code> module. <br>\n",
    "2. Create a list of names of pitches to form a familiar melody. <br>\n",
    "3. Loop through the pitch names in your list, and call <code>synth()</code> for each one. You may need to call <code>time.sleep()</code> after each pitch. <br>\n",
    "4. Run the cell - it should play your melody! <br>\n",
    "</div>"
   ]
  },
  {
   "cell_type": "code",
   "execution_count": null,
   "id": "4d5f6777",
   "metadata": {
    "deletable": false
   },
   "outputs": [],
   "source": []
  }
 ],
 "metadata": {
  "kernelspec": {
   "display_name": "Python 3 (ipykernel)",
   "language": "python",
   "name": "python3"
  },
  "language_info": {
   "codemirror_mode": {
    "name": "ipython",
    "version": 3
   },
   "file_extension": ".py",
   "mimetype": "text/x-python",
   "name": "python",
   "nbconvert_exporter": "python",
   "pygments_lexer": "ipython3",
   "version": "3.9.2"
  }
 },
 "nbformat": 4,
 "nbformat_minor": 5
}
