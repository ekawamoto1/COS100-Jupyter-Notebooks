{
 "cells": [
  {
   "cell_type": "markdown",
   "id": "301396c3",
   "metadata": {
    "deletable": false,
    "editable": false
   },
   "source": [
    "## **Strings, Lists, and Dictionaries in Python**\n",
    "\n",
    "Python strings: \n",
    "* https://www.w3schools.com/python/python_strings.asp\n",
    "* https://www.programiz.com/python-programming/string\n",
    "* https://www.tutorialspoint.com/python/python_strings.htm\n",
    "* https://realpython.com/python-strings/"
   ]
  },
  {
   "cell_type": "markdown",
   "id": "25b0ef73",
   "metadata": {
    "deletable": false,
    "editable": false
   },
   "source": [
    "### 1. A String is a Collection of Characters\n",
    "\n",
    "We have already met and worked with strings, which are a <b>collection</b>, or array, of characters. Unlike other languages like C, C++, Java, etc., Python does not have a <code>character</code> data type. A single character (like <code>'c'</code>) is simply a string of length 1. <br>\n",
    "\n",
    "Earlier, we learned that string literals can be written with either single or double quotes:"
   ]
  },
  {
   "cell_type": "code",
   "execution_count": 2,
   "id": "4fbbd0b3",
   "metadata": {
    "deletable": false,
    "editable": false
   },
   "outputs": [
    {
     "name": "stdout",
     "output_type": "stream",
     "text": [
      "This is a string.\n",
      "This is also a string.\n",
      "This is how to create a 'string within a string' in Python.\n",
      "You can also create a \"string within a string\" this way.\n"
     ]
    }
   ],
   "source": [
    "# code cell 1\n",
    "\n",
    "print('This is a string.')\n",
    "print(\"This is also a string.\")\n",
    "print(\"This is how to create a 'string within a string' in Python.\")\n",
    "print('You can also create a \"string within a string\" this way.')"
   ]
  },
  {
   "cell_type": "markdown",
   "id": "9dc0626d",
   "metadata": {
    "deletable": false,
    "editable": false
   },
   "source": [
    "However, if we want to write a literal single or double quote in a string, it must be escaped (preceded by a backslash character <code> \\ </code>, with no space, as shown below):"
   ]
  },
  {
   "cell_type": "code",
   "execution_count": 3,
   "id": "8147bf82",
   "metadata": {
    "deletable": false,
    "editable": false
   },
   "outputs": [
    {
     "name": "stdout",
     "output_type": "stream",
     "text": [
      "This is how to print a double quote \" inside a string delimited by double quotes.\n",
      "This is how to print a single quote ' inside a string delimited by single quotes.\n"
     ]
    }
   ],
   "source": [
    "# code cell 2\n",
    "\n",
    "print(\"This is how to print a double quote \\\" inside a string delimited by double quotes.\")\n",
    "print('This is how to print a single quote \\' inside a string delimited by single quotes.')"
   ]
  },
  {
   "cell_type": "markdown",
   "id": "3aff6adc",
   "metadata": {
    "deletable": false,
    "editable": false
   },
   "source": [
    "We have also learned about operators that work with strings: <code>+</code> concatenates (joins) strings, while <code>*</code> creates multiple copies of a string (but ONLY IF the other operand is an integer):"
   ]
  },
  {
   "cell_type": "code",
   "execution_count": 4,
   "id": "6fe8084f",
   "metadata": {
    "deletable": false
   },
   "outputs": [
    {
     "name": "stdout",
     "output_type": "stream",
     "text": [
      "a = this is \n",
      "b = a string \n",
      "\n",
      "c = a + b: this is a string \n",
      "d = 3 * a: this is this is this is \n",
      "e = b * 2: a string a string \n"
     ]
    }
   ],
   "source": [
    "# code cell 3\n",
    "\n",
    "a = \"this is \"\n",
    "b = \"a string \"\n",
    "print(\"a = \" + a)\n",
    "print(\"b = \" + b)\n",
    "print()\n",
    "\n",
    "c = a + b\n",
    "d = 3 * a\n",
    "e = b * 2\n",
    "\n",
    "print(\"c = a + b:\", c)\n",
    "print(\"d = 3 * a:\", d)\n",
    "print(\"e = b * 2:\", e)"
   ]
  },
  {
   "cell_type": "markdown",
   "id": "3d4c30bd",
   "metadata": {
    "deletable": false,
    "editable": false
   },
   "source": [
    "Here's something new we can do with a string: we can reference individual characters in it using brackets (<code>[]</code>), as in the code cell below. Note that Python uses <b>zero-based indexing</b>, meaning that the first item in a collection has the index 0. In other words, the position of a character in a string is one greater than its index.\n",
    "<div class=\"alert alert-block alert-info\">\n",
    "Run the following cell several times with numbers between 0 and the length of the string <code>s</code> minus one. Then, see what happens if you enter a number that is less than zero or greater than or equal to the length of the string <code>s</code>. <br>\n",
    "\n",
    "Something interesting happens if you enter <code>-1</code>. Try changing the string <code>s</code> (make it longer, for instance), and see if you can figure out what's going on!\n",
    "</div>"
   ]
  },
  {
   "cell_type": "code",
   "execution_count": 5,
   "id": "e390af59",
   "metadata": {
    "deletable": false
   },
   "outputs": [
    {
     "name": "stdout",
     "output_type": "stream",
     "text": [
      "Enter a number between 0 and 7: 4\n",
      "Character e is at index 4 (position 5) in the string 'abcdefgh'\n"
     ]
    }
   ],
   "source": [
    "# code cell 4\n",
    "\n",
    "s = \"abcdefgh\"\n",
    "n = len(s)\n",
    "i = round(float(input(\"Enter a number between 0 and \" + str(n-1) + \": \")))\n",
    "\n",
    "outStr = \"Character \" + s[i]\n",
    "outStr += \" is at index \" + str(i)\n",
    "if i >= 0:\n",
    "    outStr += \" (position \" + str(i+1) + \")\"\n",
    "outStr += \" in the string \"\n",
    "outStr += \"\\'\" + s + \"\\'\"\n",
    "\n",
    "print(outStr)"
   ]
  },
  {
   "cell_type": "markdown",
   "id": "b7359f12",
   "metadata": {
    "deletable": false,
    "editable": false
   },
   "source": [
    "We can also loop through each character in a string using a <code>for</code>-loop and the <code>in</code> operator (yes, <code>in</code> is an operator!), as shown below."
   ]
  },
  {
   "cell_type": "code",
   "execution_count": 6,
   "id": "8179c77c",
   "metadata": {
    "deletable": false
   },
   "outputs": [
    {
     "name": "stdout",
     "output_type": "stream",
     "text": [
      "character a\n",
      "character b\n",
      "character c\n",
      "character d\n",
      "character e\n",
      "\n",
      "character a\n",
      "character b\n",
      "character c\n",
      "character d\n",
      "character e\n",
      "\n",
      "The character at index 0 in string 'abcde' is a\n",
      "The character at index 1 in string 'abcde' is b\n",
      "The character at index 2 in string 'abcde' is c\n",
      "The character at index 3 in string 'abcde' is d\n",
      "The character at index 4 in string 'abcde' is e\n"
     ]
    }
   ],
   "source": [
    "# code cell 5\n",
    "\n",
    "s = \"abcde\"\n",
    "n = len(s)\n",
    "\n",
    "for i in range(n):\n",
    "    print('character ' + s[i])\n",
    "print()\n",
    "\n",
    "for x in s:\n",
    "    print('character ' + x)\n",
    "print()\n",
    " \n",
    "i = 0\n",
    "for x in s:\n",
    "    outStr = \"The character at index \" + str(i) \n",
    "    outStr += \" in string \\'\"\n",
    "    outStr += s + \"\\'\"\n",
    "    outStr += \" is \" + x\n",
    "    print(outStr)\n",
    "    i += 1"
   ]
  },
  {
   "cell_type": "markdown",
   "id": "6ef4ceb6",
   "metadata": {
    "deletable": false,
    "editable": false
   },
   "source": [
    "#### Strings are immutable!\n",
    "\n",
    "However, just because characters in a string can be referenced does not mean that they can be changed. In Python, strings are <b>immutable</b>; that is, characters in a string cannot be modified, appended to, or deleted from *in place*. "
   ]
  },
  {
   "cell_type": "code",
   "execution_count": 79,
   "id": "85085fb1",
   "metadata": {
    "deletable": false
   },
   "outputs": [
    {
     "name": "stdout",
     "output_type": "stream",
     "text": [
      "abqde\n"
     ]
    }
   ],
   "source": [
    "# code cell 6\n",
    "\n",
    "s = \"abcde\"\n",
    "# s[2] = \"q\"  # this will cause an error: 'str' object does not support item assignment\n",
    "s = \"abqde\"\n",
    "print(s)"
   ]
  },
  {
   "cell_type": "markdown",
   "id": "7313d551",
   "metadata": {
    "deletable": false,
    "editable": false
   },
   "source": [
    "But wait! We can append to a string using the augmented assignment operator. Doesn't that make strings mutable (changeable) after all? <br>\n",
    "\n",
    "As it turns out, the answer is no. Like any other object in Python (everything in Python is an object in memory), a string resides at an address or location in memory. We can query the address of an object (variable, string, number, Boolean, etc.) by using the built-in <code>id()</code> function. If we truly changed an object like a string *in place*, then it should have the same memory address (location) before and after the change. In the case of a string <code>s</code> to which we append another string, this is NOT the case, as seen in the following code cell. Thus, instead of changing (mutating) the string <code>s</code> in place by appending to it, we have instead created a new object at a different memory address (location), but with the same name <code>s</code> as before."
   ]
  },
  {
   "cell_type": "code",
   "execution_count": 81,
   "id": "15aa1f00",
   "metadata": {
    "deletable": false
   },
   "outputs": [
    {
     "name": "stdout",
     "output_type": "stream",
     "text": [
      "String s = 'abcde' has address id(s) = 2203910660464\n",
      "String s += 'fgh', which becomes s = 'abcdefgh', now has address id(s) = 2203910718576\n"
     ]
    }
   ],
   "source": [
    "# code cell 7\n",
    "\n",
    "s = \"abcde\"\n",
    "outStr = \"String s = \\'\" + s + \"\\' has address id(s) = \" + str(id(s))\n",
    "print(outStr)\n",
    "\n",
    "s += \"fgh\"\n",
    "outStr = \"String s += \\'fgh\\', which becomes s = \\'\" + s + \"\\', now has address id(s) = \" + str(id(s))\n",
    "print(outStr)"
   ]
  },
  {
   "cell_type": "markdown",
   "id": "8282715a",
   "metadata": {
    "deletable": false,
    "editable": false
   },
   "source": [
    "### 2. String Functions and Methods\n",
    "\n",
    "* https://towardsdatascience.com/15-must-know-python-string-methods-64a4f554941b\n",
    "* https://www.w3schools.com/python/python_ref_string.asp\n",
    "\n",
    "Formatting output in strings:\n",
    "* https://www.geeksforgeeks.org/string-formatting-in-python/\n",
    "* https://realpython.com/python-formatted-output/"
   ]
  },
  {
   "cell_type": "markdown",
   "id": "c5bcb263",
   "metadata": {
    "deletable": false,
    "editable": false
   },
   "source": [
    "Here, we will make a distinction between built-in functions that operate on strings and string methods (functionality that belongs to string objects). Functions that operate on strings take a string as an input, and do something (print it, return information about the string, etc.), while string methods are functions (services) that string objects provide.\n",
    "\n",
    "Commonly used built-in <b>string functions</b> (functions that operate on strings):\n",
    "\n",
    "| function | description |\n",
    "| --: | :-- |\n",
    "| <code>len(s)</code> |  returns the length of string <code>s</code> can be determined by using built-in <code>len()</code> function. |\n",
    "| <code>float(s)</code> | returns a floating point number represented by the string <code>s</code> |\n",
    "| <code>int(s)</code> | returns a base-10 integer represented by the string <code>s</code> |\n",
    "| <code>bool(s)</code> | returns a Boolean value (either <code>True</code> or <code>False</code>) represented by the string <code>s</code> |\n",
    "| <code>print(s)</code> | prints the string <code>s</code> to the console |\n",
    "| <code>type(s)</code> | This function returns the type of an object (in this case, the string <code>s</code>) |\n",
    "| <code>id(s)</code> | returns the “identity” (memory address) of the string <code>s</code> |\n",
    "\n",
    "The memory address of an object is an integer, which is guaranteed to be unique and constant for this object during its lifetime.\n",
    "\n",
    "We have used almost all of these functions earlier:"
   ]
  },
  {
   "cell_type": "code",
   "execution_count": 1,
   "id": "da2344e2",
   "metadata": {
    "deletable": false
   },
   "outputs": [
    {
     "name": "stdout",
     "output_type": "stream",
     "text": [
      "string s = \"the quick brown fox jumped over the lazy dog\"\n",
      "the length of s is 44\n",
      "the type of s is <class 'str'>\n",
      "the memory location of s is 2199222942480\n",
      "\n",
      "string t = \"1.2e-01\"\n",
      "the length of t is 7\n",
      "the numerical value represented by t is 0.12\n",
      "the type of t is <class 'str'>\n",
      "the type of the numerical value represented by t is <class 'float'>\n",
      "\n",
      "string u = \"-451\"\n",
      "the length of u is 4\n",
      "the numerical value represented by u is -451\n",
      "the type of u is <class 'str'>\n",
      "the type of the numerical value represented by u is <class 'int'>\n",
      "\n",
      "string v = \"False\"\n",
      "the length of v is 5\n",
      "the Boolean value represented by v is True  <-- why is this?\n",
      "the type of v is <class 'str'>\n",
      "the type of the numerical value represented by v is <class 'bool'>\n",
      "\n"
     ]
    }
   ],
   "source": [
    "# code cell 8\n",
    "\n",
    "#    01234567890123456789012345678901234567890123456789\n",
    "s = \"the quick brown fox jumped over the lazy dog\"\n",
    "\n",
    "print('string s = \\\"' + s + '\\\"')\n",
    "print('the length of s is', len(s))\n",
    "print('the type of s is', type(s))\n",
    "print('the memory location of s is', id(s))\n",
    "print()\n",
    "\n",
    "\n",
    "t = \"1.2e-01\"\n",
    "\n",
    "print('string t = \\\"' + t + '\\\"')\n",
    "print('the length of t is', len(t))\n",
    "print('the numerical value represented by t is', float(t))\n",
    "print('the type of t is', type(t))\n",
    "print('the type of the numerical value represented by t is', type(float(t)))\n",
    "print()\n",
    "\n",
    "\n",
    "u = \"-451\"\n",
    "\n",
    "print('string u = \\\"' + u + '\\\"')\n",
    "print('the length of u is', len(u))\n",
    "print('the numerical value represented by u is', int(u))\n",
    "print('the type of u is', type(u))\n",
    "print('the type of the numerical value represented by u is', type(int(u)))\n",
    "print()\n",
    "\n",
    "\n",
    "v = \"False\"\n",
    "\n",
    "print('string v = \\\"' + v + '\\\"')\n",
    "print('the length of v is', len(v))\n",
    "print('the Boolean value represented by v is', bool(v), ' <-- why is this?')\n",
    "print('the type of v is', type(v))\n",
    "print('the type of the numerical value represented by v is', type(bool(v)))\n",
    "print()"
   ]
  },
  {
   "cell_type": "markdown",
   "id": "8e174c74",
   "metadata": {
    "deletable": false,
    "editable": false
   },
   "source": [
    "There is a larger set of functions (more properly, _methods_) that string objects themselves provide. \n",
    "\n",
    "Commonly used <b>string methods</b> (functions provided by string objects):\n",
    "\n",
    "| function | description |\n",
    "| --: | :-- |\n",
    "| <code>s.count()</code> | returns the number of times a specified substring occurs in a string <code>s</code> |\n",
    "| <code>s.index()</code> | searches the string <code>s</code> for a specified value and returns the position of where it was found |\n",
    "| <code>s.lower()</code> | converts string <code>s</code> into lower case |\n",
    "| <code>s.upper()</code> | converts string <code>s</code> into upper case |\n",
    "| <code>s.isalnum()</code> | returns ```True``` if all characters in the string <code>s</code> are alphanumeric | \n",
    "| <code>s.isalpha()</code> | returns ```True``` if all characters in the string <code>s</code> are in the alphabet |\n",
    "| <code>s.isascii()</code> | returns ```True``` if all characters in the string <code>s</code> are ASCII characters |\n",
    "| <code>s.isdecimal()</code> | returns ```True``` if all characters in the string <code>s</code> are decimals |\n",
    "| <code>s.isdigit()</code> | returns ```True``` if all characters in the string <code>s</code> are digits |\n",
    "| <code>s.isnumeric()</code> | returns ```True``` if all characters in the string <code>s</code> are numeric |\n",
    "| <code>s.find()</code> | searches the string <code>s</code> for a specified substring and returns the position of where it was found |\n",
    "| <code>s.replace()</code> | returns a string in which a substring in <code>s</code> is replaced with another specified substring |\n",
    "| <code>s.format()</code> | formats specified values in a string <code>s</code> |\n",
    "| <code>s.lstrip()</code> | returns a left trim version of the string <code>s</code> |\n",
    "| <code>s.rstrip()</code> | returns a right trim version of the string <code>s</code> |\n",
    "| <code>s.strip()</code> | returns a trimmed version of the string <code>s</code> |\n",
    "| <code>s.join()</code> | converts the elements of an iterable into a string <code>s</code> |\n",
    "| <code>s.split()</code> | splits the string <code>s</code> at the specified separator, and returns a list |\n",
    "\n",
    "Note the difference in syntax between using string <b>functions</b> and string <b>methods</b>: <br>\n",
    "\n",
    "* string <b>functions</b> operate <b>on</b> a string <code>s</code>: <code>len(s)</code>, <code>type(s)</code>, <code>print(s)</code>, etc. <br>\n",
    "* string <b>methods</b> are called <b>by</b> a string <code>s</code> using the <b>dot operator</b>: <code>s.count()</code>, <code>s.index()</code>, <code>s.isnumeric()</code>, etc.\n",
    "\n",
    "\n",
    "What are __[ASCII characters](https://www.w3schools.com/charsets/ref_html_ascii.asp#:~:text=The%20ASCII%20Character%20Set&text=ASCII%20is%20a%207%2Dbit,are%20all%20based%20on%20ASCII\")__?"
   ]
  },
  {
   "cell_type": "code",
   "execution_count": 118,
   "id": "f351222e",
   "metadata": {
    "deletable": false
   },
   "outputs": [
    {
     "name": "stdout",
     "output_type": "stream",
     "text": [
      "string s = \"    The quick brown fox jumped over THE lazy dog  \"\n",
      "the length of string s is 50\n",
      "the letter \"o\" occurs 4 times in string s\n",
      "a pair of space characters \"  \" occurs 3 times in string s\n",
      "\n",
      "the substring \"THE\" occurs at index 36 in string s, using find()\n",
      "the substring \"the\" occurs at index -1 in string s (s.find() returns -1 when substring is not found in string s)\n",
      "the substring \"The\" occurs at index 4 in string s, using index()\n",
      "replace substring \"THE\" with substring \"A\" in string s: \"    The quick brown fox jumped over A lazy dog  \"\n",
      "\n",
      "convert string s to uppercase: \"     THE QUICK BROWN FOX JUMPED OVER THE LAZY DOG  \"\n",
      "convert string s to lowercase: \"     the quick brown fox jumped over the lazy dog  \"\n",
      "\n",
      "trim spaces from left side of string s: \"The quick brown fox jumped over THE lazy dog  \"\n",
      "trim spaces from right side of string s: \"    The quick brown fox jumped over THE lazy dog\"\n",
      "trim spaces from both sides of string s: \"The quick brown fox jumped over THE lazy dog\"\n",
      "\n",
      "all characters in string s are alphanumeric: False\n",
      "all characters in string s are alphabetic: False\n",
      "all characters in string s are ASCII: True\n",
      "\n",
      "\n",
      "string t = \"12345\"\n",
      "the length of t is 5\n",
      "all characters in string t are alphanumeric: True\n",
      "all characters in string t are decimal: True\n",
      "all characters in string t are digits: True\n",
      "all characters in string t are numeric: True\n",
      "\n"
     ]
    }
   ],
   "source": [
    "# code cell 9\n",
    "\n",
    "#    01234567890123456789012345678901234567890123456789\n",
    "s = \"    The quick brown fox jumped over THE lazy dog  \"\n",
    "\n",
    "print('string s = \\\"' + s + '\\\"')\n",
    "print('the length of string s is', len(s))\n",
    "print('the letter \\\"o\\\" occurs', s.count('o'), 'times in string s')\n",
    "print('a pair of space characters \\\"  \\\" occurs', s.count('  '), 'times in string s')\n",
    "print()\n",
    "\n",
    "print('the substring \\\"THE\\\" occurs at index', s.find('THE'), 'in string s, using find()')\n",
    "print('the substring \\\"the\\\" occurs at index', s.find('the'), 'in string s (s.find() returns -1 when substring is not found in string s)')\n",
    "print('the substring \\\"The\\\" occurs at index', s.index('The'), 'in string s, using index()')\n",
    "# the following line will cause an error because 'the' is not found in string s\n",
    "# print('the substring \\\"the\\\" occurs at position', s.index('the'), 'in string s')\n",
    "print('replace substring \\\"THE\\\" with substring \\\"A\\\" in string s: \\\"' + s.replace('THE', 'A') + '\\\"')\n",
    "print()\n",
    "\n",
    "print('convert string s to uppercase: \\\"', s.upper() + '\\\"')\n",
    "print('convert string s to lowercase: \\\"', s.lower() + '\\\"')\n",
    "print()\n",
    "\n",
    "print('trim spaces from left side of string s: \\\"' + s.lstrip() + '\\\"')\n",
    "print('trim spaces from right side of string s: \\\"' + s.rstrip() + '\\\"')\n",
    "print('trim spaces from both sides of string s: \\\"' + s.strip() + '\\\"')\n",
    "print()\n",
    "\n",
    "print('all characters in string s are alphanumeric:', s.isalnum())\n",
    "print('all characters in string s are alphabetic:', s.isalpha())\n",
    "print('all characters in string s are ASCII:', s.isascii())\n",
    "print(); print()\n",
    "\n",
    "t = \"12345\"\n",
    "\n",
    "print('string t = \\\"' + t + '\\\"')\n",
    "print('the length of t is', len(t))\n",
    "print('all characters in string t are alphanumeric:', t.isalnum())\n",
    "print('all characters in string t are decimal:', t.isdecimal())\n",
    "print('all characters in string t are digits:', t.isdigit())\n",
    "print('all characters in string t are numeric:', t.isnumeric())\n",
    "print()"
   ]
  },
  {
   "cell_type": "markdown",
   "id": "50a90af0",
   "metadata": {
    "deletable": false,
    "editable": false
   },
   "source": [
    "<div class=\"alert alert-block alert-info\">\n",
    "    \n",
    "Now, it's your turn! <br>\n",
    "    \n",
    "1. Assign the string <code>\"Supercalifragilisticexpialidocious\"</code> to a variable, and print it out. <br>\n",
    "2. Use string function <code>len()</code> to find the length of the string, and print out that number. <br>\n",
    "3. Use string method <code>count()</code> to find the number of times the letter <code>s</code> appears in the string, and print out that number. <br>\n",
    "4. Use string method <code>index()</code> to find the index of the first occurrence of the letter <code>s</code> in the string, and print out that index. <br>\n",
    "5. Use Google to look up how to use string method <code>find()</code> to find the index of the next occurrence of the letter <code>s</code> in the string, and print out that index. <br>\n",
    "6. Create a loop (use either <code>for</code> or <code>while</code>) to find the indices of <b>all</b> occurrences of the letter <code>s</code> in the string, and print out those indices. <br>\n",
    "7. Use Google to look up a string method that will determine whether all letters in a string are lowercase; then, apply it to this string, assign to a variable what that function returns, and print it out. <br>\n",
    "8. From the string methods above, find one that will convert all letters in a string to lowercase, apply it to this string, assign what it returns to a variable, and print out that variable. <br>\n",
    "9. Repeat 7, but with the variable you created in 8. <br>\n",
    "10. Repeat 6, but with the variable you created in 8. <br>\n",
    "</div>"
   ]
  },
  {
   "cell_type": "code",
   "execution_count": null,
   "id": "12aa5447",
   "metadata": {
    "deletable": false
   },
   "outputs": [],
   "source": []
  },
  {
   "cell_type": "markdown",
   "id": "d2398c16",
   "metadata": {
    "deletable": false,
    "editable": false
   },
   "source": [
    "### 3. A List is a Collection of Objects\n",
    "Coding languages like C, C++, C#, and Java all have an entity that holds an <b>array</b>, or collection, of objects of the same data type. In Python, this entity is called a <b>list</b>, but it may hold a collection of objects of any type at all. (That is, it can holds objects of different data types.) At this time, we will only consider lists containing objects of the same data type.<br>\n",
    "\n",
    "The Python list is enclosed by brackets, and elements are delimited (set off from each other) by commas. An empty list has nothing between its opening and closing brackets.<br>\n",
    "<pre>\n",
    "L0 = []\n",
    "L1 = [-1, 2, -3, 4, 5]\n",
    "L2 = [0.707, -2.0E+06, 3.14]\n",
    "L3 = [\"apple\", \"banana\", \"cherry\"]\n",
    "L4 = [True, False, False, True]\n",
    "</pre>\n",
    "\n",
    "A list can be initialized as a specified number of values (and can have duplicate elements, too):\n",
    "<pre>\n",
    "L5 = [0] * 5   # this assigns [0, 0, 0, 0, 0] to L5\n",
    "</pre>\n",
    "\n",
    "A list can be printed:\n",
    "<pre>\n",
    "L1 = [-1, 2, -3, 4, 5]\n",
    "print(L1)    # this prints [-1, 2, -3, 4, 5]\n",
    "</pre>\n",
    "\n",
    "The number of elements of a list can be determined using <code>len()</code>:\n",
    "<pre>\n",
    "L1 = [-1, 2, -3, 4, 5]\n",
    "N = len(L1)  # this assigns 5 to N\n",
    "</pre>\n"
   ]
  },
  {
   "cell_type": "markdown",
   "id": "d0e41d81",
   "metadata": {
    "deletable": false,
    "editable": false
   },
   "source": [
    "Just as we can do with strings, we can also do with lists: we can reference individual elements in it using brackets (<code>[]</code>), as in the code cell below. Again, note that Python uses <b>zero-based indexing</b>, meaning that the first item in a collection has the index 0. In other words, the position of an element in a list is one greater than its index.\n",
    "<div class=\"alert alert-block alert-info\">\n",
    "Run the following cell several times with numbers between 0 and the length of the list <code>L</code> minus one. Then, see what happens if you enter a number that is less than zero or greater than or equal to the length of the list <code>L</code>. <br>\n",
    "\n",
    "Something interesting happens if you enter <code>-1</code>. Try changing the list <code>L</code> (make it longer, for instance), and see if you can figure out what's going on!\n",
    "</div>"
   ]
  },
  {
   "cell_type": "code",
   "execution_count": 45,
   "id": "cbbe91b0",
   "metadata": {
    "deletable": false
   },
   "outputs": [
    {
     "name": "stdout",
     "output_type": "stream",
     "text": [
      "List: enter a number between 0 and 4: 2\n",
      "Element 'c' is at index 2 (position 3) in the list ['a', 'b', 'c', 'd', 'e']\n"
     ]
    }
   ],
   "source": [
    "# code cell 10\n",
    "\n",
    "L = ['a', 'b', 'c', 'd', 'e']\n",
    "n = len(L)\n",
    "i = int(input(\"List: enter a number between 0 and \" + str(n-1) + \": \"))\n",
    "\n",
    "outStr = \"Element \" + \"\\'\" + L[i] + \"\\'\"\n",
    "outStr += \" is at index \" + str(i)\n",
    "if i >= 0:\n",
    "    outStr += \" (position \" + str(i+1) + \")\"\n",
    "outStr += \" in the list \"\n",
    "outStr += str(L) \n",
    "\n",
    "print(outStr)"
   ]
  },
  {
   "cell_type": "markdown",
   "id": "e47a609f",
   "metadata": {
    "deletable": false,
    "editable": false
   },
   "source": [
    "We can also loop through each element in a list using a <code>for</code>-loop and the <code>in</code> operator (yes, <code>in</code> is an operator!), as shown below."
   ]
  },
  {
   "cell_type": "code",
   "execution_count": 43,
   "id": "6eb67aa5",
   "metadata": {
    "deletable": false
   },
   "outputs": [
    {
     "name": "stdout",
     "output_type": "stream",
     "text": [
      "The element at index 0 in list L is 'a'\n",
      "The element at index 1 in list L is 'b'\n",
      "The element at index 2 in list L is 'c'\n",
      "The element at index 3 in list L is 'd'\n",
      "The element at index 4 in list L is 'e'\n",
      "\n"
     ]
    }
   ],
   "source": [
    "# code cell 11\n",
    "\n",
    "L = ['a', 'b', 'c', 'd', 'e']\n",
    "i = 0\n",
    "for x in L:\n",
    "    outStr = \"The element at index \" + str(i) \n",
    "    outStr += \" in list L is \\'\" + x + \"\\'\"\n",
    "    print(outStr)\n",
    "    i += 1\n",
    "\n",
    "print()"
   ]
  },
  {
   "cell_type": "markdown",
   "id": "d457e8b3",
   "metadata": {
    "deletable": false,
    "editable": false
   },
   "source": [
    "#### Lists are mutable!\n",
    "\n",
    "Unlike strings, elements in a list can be referenced by index and changed! In Python, lists are <b>mutable</b>; that is, elements of a list <b>can</b> be modified, appended to, or deleted from *in place*. "
   ]
  },
  {
   "cell_type": "code",
   "execution_count": 28,
   "id": "3cba3fad",
   "metadata": {
    "deletable": false
   },
   "outputs": [
    {
     "name": "stdout",
     "output_type": "stream",
     "text": [
      "list L =  ['a', 'b', 'c', 'd', 'e'] is at address 2199223419904\n",
      "\n",
      "modified list L =  ['a', 'b', 'q', 'd', 'e'] is still at address 2199223419904\n",
      "\n",
      "after inserting 'z' at index 1, list L is now ['a', 'z', 'b', 'q', 'd', 'e']\n",
      "\n",
      "after deleting 'b' at index 2, list L is now ['a', 'z', 'q', 'd', 'e']\n"
     ]
    }
   ],
   "source": [
    "# code cell 12\n",
    "\n",
    "L = ['a', 'b', 'c', 'd', 'e']\n",
    "print('list L = ', L, 'is at address', id(L))\n",
    "print()\n",
    "\n",
    "L[2] = \"q\"  # no error here - lists can be modified in place!\n",
    "print('modified list L = ', L, 'is still at address', id(L))\n",
    "print()\n",
    "\n",
    "L.insert(1, 'z')\n",
    "print('after inserting \\'z\\' at index 1, list L is now', L)\n",
    "print()\n",
    "\n",
    "L.pop(2)\n",
    "print('after deleting \\'b\\' at index 2, list L is now', L)"
   ]
  },
  {
   "cell_type": "markdown",
   "id": "18e7575b",
   "metadata": {
    "deletable": false,
    "editable": false
   },
   "source": [
    "### 4. List Functions and Methods\n",
    "\n",
    "* https://www.w3schools.com/python/python_ref_list.asp\n",
    "* https://www.analyticsvidhya.com/blog/2021/06/15-functions-you-should-know-to-master-lists-in-python/\n"
   ]
  },
  {
   "cell_type": "markdown",
   "id": "61d900aa",
   "metadata": {
    "deletable": false,
    "editable": false
   },
   "source": [
    "The <b>constructor</b> <code>list()</code> returns an empty list.\n",
    "\n",
    "Commonly used built-in <b>list functions</b> (functions that operate on lists):\n",
    "\n",
    "| function | description |\n",
    "| --: | :-- |\n",
    "| <code>len(L)</code> |  returns the length of list <code>L</code> can be determined by using built-in <code>len()</code> function |\n",
    "| <code>print(L)</code> |  prints the elements of <code>L</code> as a comma-separated list of values surrounded by brackets |\n",
    "| <code>type(L)</code> |  returns the type of a list object <code>L</code> (```<class 'list'>```) |\n",
    "| <code>id(L)</code> |  returns the \"identity\" (memory address) of a list object <code>L</code> |\n",
    "| <code>max(L)</code> | returns an item from list <code>L</code> with a maximum value |\n",
    "| <code>min(L)</code> | returns an item from list <code>L</code> with a minimum value |\n",
    "\n",
    "\n",
    "Commonly used built-in <b>list methods</b> (functions provided by list objects):\n",
    "\n",
    "| function | description |\n",
    "| --: | :-- |\n",
    "| <code>L.append()</code> | adds an element at the end of the list <code>L</code> |\n",
    "| <code>L.clear()</code> | removes all the elements from the list <code>L</code> |\n",
    "| <code>L.copy()</code> | returns a (shallow) copy of the list <code>L</code> |\n",
    "| <code>L.count()</code> | returns the number of elements of list <code>L</code> with the specified value |\n",
    "| <code>L.extend()</code> | add the elements of a specified list (or any iterable), to the end of list <code>L</code>  |\n",
    "| <code>L.index()</code> | returns the index of the first element of list <code>L</code> with the specified value |\n",
    "| <code>L.insert()</code> | adds an element to list <code>L</code> at the specified position |\n",
    "| <code>L.pop()</code> | removes the element from list <code>L</code> at the specified position |\n",
    "| <code>L.remove()</code>| removes the first item from list <code>L</code> with the specified value |\n",
    "| <code>L.reverse()</code> | reverses the order of the list <code>L</code>  |\n",
    "| <code>L.sort()</code> | sorts the list <code>L</code> |\n",
    "\n",
    "Note the difference in syntax between using list <b>functions</b> and list <b>methods</b>: <br>\n",
    "\n",
    "* list <b>functions</b> operate <b>on</b> a list <code>L</code>: <code>len(L)</code>, <code>type(L)</code>, <code>print(L)</code>, etc. <br>\n",
    "* list <b>methods</b> are called <b>by</b> a list <code>L</code> using the <b>dot operator</b>: <code>L.count()</code>, <code>L.index()</code>, <code>L.sort()</code>, etc."
   ]
  },
  {
   "cell_type": "code",
   "execution_count": 50,
   "id": "cc671bd0",
   "metadata": {
    "deletable": false,
    "editable": false
   },
   "outputs": [
    {
     "name": "stdout",
     "output_type": "stream",
     "text": [
      "list() returns an empty list L1:  []\n",
      "\n",
      "\n",
      "list L2 = [1, 5, 3, 4, 2, 1]\n",
      "the length of list L2 is 6\n",
      "the element of list L2 at index 1 is 5\n",
      "the type of L2 is <class 'list'>\n",
      "the memory location of list L2 is 2199224380672\n",
      "the element of list L2 with the maximum value is 5\n",
      "the element of list L2 with the minimum value is 1\n",
      "\n",
      "in list L2, element 5 is found at index 1\n",
      "in list L2, element 1 is found 2 times\n",
      "\n",
      "after inserting 0 at index 3, L2 = [1, 5, 3, 0, 4, 2, 1]\n",
      "L2.insert(5, 0) does not return anything: None\n",
      "but it inserts the element 0 at index 3 in place: L2 = [1, 5, 3, 0, 4, 0, 2, 1]\n",
      "\n",
      "L2.remove(0) does not return anything: None\n",
      "but it removes the first occurrence of element 0 in list L2 in place: L2 = [1, 5, 3, 4, 0, 2, 1]\n",
      "\n",
      "L2.pop(5) does return the element being removed: 2\n",
      "and it removes the element at index 5 in place: L2 = [1, 5, 3, 4, 0, 1]\n",
      "\n",
      "L2.reverse() does not return anything: None\n",
      "but it reverses list L2 in place: L2 = [1, 0, 4, 3, 5, 1]\n",
      "\n",
      "L2.sort() does not return anything: None\n",
      "but it sorts list L2 in ascending order (by default) in place: L2 = [0, 1, 1, 3, 4, 5]\n",
      "\n",
      "L2.sort(reverse=True) does not return anything: None\n",
      "but it sorts list L2 in descending order in place: L2 = [5, 4, 3, 1, 1, 0]\n",
      "\n",
      "L2.extend([-1, -2, -3]) does not return anything: None\n",
      "but it extends list L2 in place: L2 = [5, 4, 3, 1, 1, 0, -1, -2, -3]\n",
      "\n",
      "L2.clear() does not return anything: None\n",
      "but it clears list L2 in place: L2 = []\n",
      "\n",
      "\n",
      "list L3 = ['e', 'q', 'h', 'b', 'j']\n",
      "the length of list L3 is 5\n",
      "the element of list L3 at index 2 is 'h'\n",
      "\n",
      "L3.insert(3, 'x') does not return anything: None\n",
      "but it inserts the element 'x' at index 3 in place: L3 = ['e', 'q', 'h', 'x', 'b', 'j']\n",
      "\n",
      "L3.sort() does not return anything: None\n",
      "but it sorts list L3 in ascending order (by default) in place: L3 = ['b', 'e', 'h', 'j', 'q', 'x']\n",
      "\n",
      "L3.sort(reverse=True) does not return anything: None\n",
      "but it sorts list L3 in descending order in place: L3 = ['x', 'q', 'j', 'h', 'e', 'b']\n",
      "\n"
     ]
    }
   ],
   "source": [
    "# code cell 13\n",
    "\n",
    "L1 = list()\n",
    "\n",
    "print('list() returns an empty list L1: ', L1)\n",
    "print(); print()\n",
    "\n",
    "L2 = [1, 5, 3, 4, 2, 1]\n",
    "\n",
    "print('list L2 =', L2)\n",
    "print('the length of list L2 is' , len(L2))\n",
    "print('the element of list L2 at index 1 is', L2[1])\n",
    "print('the type of L2 is', type(L2))\n",
    "print('the memory location of list L2 is', id(L2))\n",
    "print('the element of list L2 with the maximum value is', max(L2))\n",
    "print('the element of list L2 with the minimum value is', min(L2))\n",
    "print()\n",
    "\n",
    "print('in list L2, element 5 is found at index', L2.index(5))\n",
    "print('in list L2, element 1 is found', L2.count(1), 'times')\n",
    "print()\n",
    "\n",
    "L2.insert(3, 0)\n",
    "print('after inserting 0 at index 3, L2 =', L2)\n",
    "print('L2.insert(5, 0) does not return anything:', L2.insert(5, 0))\n",
    "print('but it inserts the element 0 at index 3 in place: L2 =', L2)\n",
    "print()\n",
    "\n",
    "print('L2.remove(0) does not return anything:', L2.remove(0))\n",
    "print('but it removes the first occurrence of element 0 in list L2 in place: L2 =', L2)\n",
    "print()\n",
    "\n",
    "print('L2.pop(5) does return the element being removed:', L2.pop(5))\n",
    "print('and it removes the element at index 5 in place: L2 =', L2)\n",
    "print()\n",
    "\n",
    "print('L2.reverse() does not return anything:', L2.reverse())\n",
    "print('but it reverses list L2 in place: L2 =', L2)\n",
    "print()\n",
    "\n",
    "print('L2.sort() does not return anything:', L2.sort())\n",
    "print('but it sorts list L2 in ascending order (by default) in place: L2 =', L2)\n",
    "print()\n",
    "\n",
    "print('L2.sort(reverse=True) does not return anything:', L2.sort(reverse=True))\n",
    "print('but it sorts list L2 in descending order in place: L2 =', L2)\n",
    "print()\n",
    "\n",
    "print('L2.extend([-1, -2, -3]) does not return anything:', L2.extend([-1, -2, -3]))\n",
    "print('but it extends list L2 in place: L2 =', L2)\n",
    "print()\n",
    "\n",
    "print('L2.clear() does not return anything:', L2.clear())\n",
    "print('but it clears list L2 in place: L2 =', L2)\n",
    "print(); print()\n",
    "\n",
    "\n",
    "L3 = ['e', 'q', 'h', 'b', 'j']\n",
    "print('list L3 =', L3)\n",
    "print('the length of list L3 is' , len(L3))\n",
    "print('the element of list L3 at index 2 is \\'' + L3[2] + '\\'')\n",
    "print()\n",
    "\n",
    "print('L3.insert(3, \\'x\\') does not return anything:', L3.insert(3, 'x'))\n",
    "print('but it inserts the element \\'x\\' at index 3 in place: L3 =', L3)\n",
    "print()\n",
    "\n",
    "print('L3.sort() does not return anything:', L3.sort())\n",
    "print('but it sorts list L3 in ascending order (by default) in place: L3 =', L3)\n",
    "print()\n",
    "\n",
    "print('L3.sort(reverse=True) does not return anything:', L3.sort(reverse=True))\n",
    "print('but it sorts list L3 in descending order in place: L3 =', L3)\n",
    "print()"
   ]
  },
  {
   "cell_type": "markdown",
   "id": "9d535cfa",
   "metadata": {
    "deletable": false,
    "editable": false
   },
   "source": [
    "<div class=\"alert alert-block alert-info\">\n",
    "In the cell below, write code that does the following: <br>\n",
    "    \n",
    "1. Assign an empty list to <code>list1</code>. <br>\n",
    "2. Append the strings <code>\"Europa\"</code>, <code>\"Ganymede\"</code>, <code>\"Io\"</code>, and <code>\"Callisto\"</code> to the list <b>one at a time</b>, and print out the list after each addition. <br>\n",
    "3. Reverse the order of <code>list1</code>, and print it out. <br>\n",
    "4. Sort <code>list1</code>, and print it out. <br>\n",
    "5. Print out <code>list1[0]</code>, <code>list1[1]</code>, and <code>list1[-1]</code>. <br>\n",
    "6. Extend <code>list1</code> with <code>list2 = [\"Himalia\", \"Amalthea\", \"Thebe\"]</code>. <br>\n",
    "7. Print out the length of <code>list1</code>. <br>\n",
    "8. Remove the last element of <code>list1</code>, and print out <code>list1</code>. <br>\n",
    "9. Insert the element you removed in 8 at the beginning of <code>list1</code>. <br>\n",
    "\n",
    "Each time you run the cell, make sure the output is what you expect it to be.\n",
    "</div>"
   ]
  },
  {
   "cell_type": "code",
   "execution_count": null,
   "id": "6815cee6",
   "metadata": {
    "deletable": false
   },
   "outputs": [],
   "source": []
  },
  {
   "cell_type": "code",
   "execution_count": null,
   "id": "92a47ea8",
   "metadata": {
    "deletable": false,
    "editable": false
   },
   "outputs": [],
   "source": [
    "# code cell 14\n",
    "\n",
    "import random\n",
    "\n",
    "def main():   \n",
    "    numDice = 3\n",
    "    curScore = 0\n",
    "    while True:\n",
    "        s = input(\"Enter s for score, r to roll, or q to quit: \")\n",
    "        if s == \"r\":\n",
    "            outStr = \"You rolled\"\n",
    "            for i in range(numDice):\n",
    "                k = random.randint(1, 6)\n",
    "                outStr += \" \" + str(k)\n",
    "                curScore += k\n",
    "            print(outStr)\n",
    "            print(\"Your current score is \" + str(curScore) + \"\\n\")\n",
    "        elif s == \"s\":\n",
    "            print(\"Your current score is \" + str(curScore) + \"\\n\")\n",
    "        else:\n",
    "            print(\"You entered q ... goodbye!\")\n",
    "            return\n",
    "        \n",
    "main()"
   ]
  },
  {
   "cell_type": "markdown",
   "id": "751bf35e",
   "metadata": {
    "deletable": false,
    "editable": false
   },
   "source": [
    "<div class=\"alert alert-block alert-info\">\n",
    "This code above should look familiar to you - it's from the previous notebook. Copy and paste it into the code cell below. <br>\n",
    "\n",
    "Remember how we changed the rules: <br>\n",
    "* Each time you roll the 3 dice, if any of them happens to be a 1, then your score goes to zero. <br>\n",
    "* Keep track of your highest score so far. <br>\n",
    "\n",
    "This time, either <br>\n",
    "1. Use a <b>list</b> to store each of the die rolls in lines 12-15. Then, use list functions or methods to determine whether a 1 was rolled; if so, then zero out the current score; or\n",
    "2. Use string functions or methods to determine whether there is at least one <code>'1'</code> in <code>outStr</code> (lines 11-16); if so, then zero out the current score. \n",
    "</div>"
   ]
  },
  {
   "cell_type": "code",
   "execution_count": null,
   "id": "49add1e8",
   "metadata": {
    "deletable": false
   },
   "outputs": [],
   "source": []
  },
  {
   "cell_type": "markdown",
   "id": "1850ba17",
   "metadata": {
    "deletable": false,
    "editable": false
   },
   "source": [
    "### 5. A Dictionary is a Set of Key-Value Pairs\n",
    "\n",
    "Coding languages like C, C++, C#, and Java all have a data structure that holds a collection of objects that can be referred to by something other than their index or position in the collection. In these collections, the elements (entries) are <b>key-value pairs</b>, in which the <b>keys must be unique</b>, while the values (objects) they refer to need not be. In Python, such a data stucture is known as a <b>dictionary</b>, while other programming languages call this entity a <b>map</b>. At this time, we will only consider dictionaries containing entries whose keys are of the same data type, and whose values (objects) of the same data type.<br>\n",
    "\n",
    "The Python dictionary is enclosed by curly braces, and key-value pairs are delimited (set off from each other) by commas. An empty dictionary has nothing between its opening and closing braces.<br>\n",
    "<pre>\n",
    "d0 = {}\n",
    "d1 = {\"a\": 1, \"b\": 2, \"c\": 3}\n",
    "d2 = {1: \"dog\", -2: \"x\", 3.4: \"hello\"}\n",
    "d3 = {0: False, 1: True}\n",
    "</pre>\n",
    "\n",
    "A dictionary can be initialized using a <b>constructor</b> <code>dict()</code>:\n",
    "<pre>\n",
    "d4 = dict()                                   # this creates an empty dictionary {}\n",
    "\n",
    "d5 = dict(dog=1, cat=2, iguana=3, rat=4)      # this creates the dictionary\n",
    "                                              # d5 = {'dog': 1, 'cat': 2, 'iguana': 3, 'rat': 4}\n",
    "d6 = dict.fromkeys([-1, -2, -3])              # this initializes a dictionary with all keys having the value None:\n",
    "                                              # d6 = {-1: None, -2: None, -3: None}\n",
    "d7 = dict.fromkeys([3.4, 2.7], 0)             # this initializes a dictionary with all keys having the same value 0: \n",
    "                                              # d7 = {3.4: 0, 2.7: 0}\n",
    "</pre>\n",
    "\n",
    "\n",
    "A dictionary can be printed:\n",
    "<pre>\n",
    "d1 = {\"a\": 1, \"b\": 2, \"c\": 3}\n",
    "print(d1)      # this prints {'a': 1, 'b': 2, 'c': 3}\n",
    "</pre>\n",
    "\n",
    "The number of elements of a dictionary can be determined using <code>len()</code>:\n",
    "<pre>\n",
    "d2 = {1: \"dog\", -2: \"x\", 3.4: \"hello\"}\n",
    "N = len(d2)    # this assigns 3 to N\n",
    "</pre>"
   ]
  },
  {
   "cell_type": "markdown",
   "id": "b51fe14f",
   "metadata": {
    "deletable": false,
    "editable": false
   },
   "source": [
    "Like lists, the entries of dictionaries are referenced using brackets (<code>[]</code>), as in the code cell below. However, what goes in the brackets must be a <b>key</b> that already exists in the dictionary, and what is returned is the value associated with the specified key. Unlike lists, the entries of dictionaries <b>cannot</b> be referenced by their position in the collection. \n",
    "\n",
    "<div class=\"alert alert-block alert-info\">\n",
    "Run the following cell several times with various keys that exist in the dictionary. What happens if you enter a key that's not in the dictionary?\n",
    "</div>"
   ]
  },
  {
   "cell_type": "code",
   "execution_count": null,
   "id": "5b1a44f1",
   "metadata": {
    "deletable": false
   },
   "outputs": [],
   "source": [
    "# code cell 15\n",
    "\n",
    "d = {'dog': 1, 'cat': 2, 'iguana': 3, 'rat': 4}\n",
    "n = len(d)\n",
    "x = input(\"Enter a key that exists in the dictionary: \")\n",
    "\n",
    "outStr = \"The value \" + str(d[x])\n",
    "outStr += \" is associated with key \\'\" + x + \"\\'\"\n",
    "outStr += \" in dictionary d = \"\n",
    "outStr += str(d) \n",
    "\n",
    "print(outStr)"
   ]
  },
  {
   "cell_type": "markdown",
   "id": "34b0f167",
   "metadata": {
    "deletable": false,
    "editable": false
   },
   "source": [
    "We can also loop through each entry in a dictionary through its keys, using a <code>for</code>-loop and the <code>in</code> operator, as shown below."
   ]
  },
  {
   "cell_type": "code",
   "execution_count": 123,
   "id": "2a860e57",
   "metadata": {
    "deletable": false
   },
   "outputs": [
    {
     "name": "stdout",
     "output_type": "stream",
     "text": [
      "The value associated with key 'dog' in dictionary d is 1\n",
      "The value associated with key 'cat' in dictionary d is 2\n",
      "The value associated with key 'iguana' in dictionary d is 3\n",
      "The value associated with key 'rat' in dictionary d is 4\n"
     ]
    }
   ],
   "source": [
    "# code cell 16\n",
    "\n",
    "d = {'dog': 1, 'cat': 2, 'iguana': 3, 'rat': 4}\n",
    "keyList = list(d.keys())\n",
    "for x in d.keys():\n",
    "    outStr = \"The value associated with key \\'\" + x + \"\\'\"\n",
    "    outStr += \" in dictionary d is \" + str(d[x])\n",
    "    print(outStr)"
   ]
  },
  {
   "cell_type": "markdown",
   "id": "8c330144",
   "metadata": {
    "deletable": false,
    "editable": false
   },
   "source": [
    "#### Dictionaries are mutable!\n",
    "\n",
    "Like lists, entries in a dictionary can be referenced by index and changed! In Python, dictionaries are <b>mutable</b>; that is, entries in a dictionary <b>can</b> be modified, appended to, or deleted from *in place*. "
   ]
  },
  {
   "cell_type": "code",
   "execution_count": 83,
   "id": "70ccbd2b",
   "metadata": {
    "deletable": false
   },
   "outputs": [
    {
     "name": "stdout",
     "output_type": "stream",
     "text": [
      "dictionary d = {'dog': 1, 'cat': 2, 'iguana': 3, 'rat': 4} is at address 2199224335040\n",
      "\n",
      "modified dictionary = {'dog': 1, 'cat': 2, 'iguana': 3, 'rat': 7} is still at address 2199224335040\n",
      "\n",
      "after inserting entry 'ferret': 6, dictionary d is now {'dog': 1, 'cat': 2, 'iguana': 3, 'rat': 7, 'ferret': 6}\n",
      "2199224335040\n",
      "\n",
      "after deleting entry 'iguana': 3, dictionary d is now {'dog': 1, 'cat': 2, 'rat': 7, 'ferret': 6}\n",
      "2199224335040\n"
     ]
    }
   ],
   "source": [
    "# code cell 17\n",
    "\n",
    "d = {'dog': 1, 'cat': 2, 'iguana': 3, 'rat': 4}\n",
    "print('dictionary d =', d, 'is at address', id(d))\n",
    "print()\n",
    "\n",
    "d['rat'] = 7  # no error here - lists can be modified in place!\n",
    "print('modified dictionary =', d, 'is still at address', id(d))\n",
    "print()\n",
    "\n",
    "d['ferret'] = 6\n",
    "print('after inserting entry \\'ferret\\': 6, dictionary d is now', d)\n",
    "print(id(d))\n",
    "print()\n",
    "\n",
    "d.pop('iguana')\n",
    "print('after deleting entry \\'iguana\\': 3, dictionary d is now', d)\n",
    "print(id(d))"
   ]
  },
  {
   "cell_type": "markdown",
   "id": "21858636",
   "metadata": {
    "deletable": false,
    "editable": false
   },
   "source": [
    "### 6. Dictionary Functions and Methods\n",
    "\n",
    "* https://www.w3schools.com/python/python_ref_dictionary.asp\n",
    "* https://www.programiz.com/python-programming/dictionary"
   ]
  },
  {
   "cell_type": "markdown",
   "id": "d7598a2e",
   "metadata": {
    "deletable": false,
    "editable": false
   },
   "source": [
    "The <b>constructor</b> <code>dict()</code> returns an empty dictionary.\n",
    "\n",
    "Commonly used built-in <b>dictionary functions</b> (functions that operate on dictionaries):\n",
    "\n",
    "| function | description |\n",
    "| --: | :-- |\n",
    "| <code>len(d)</code> |  returns the length of dictionary <code>d</code> can be determined by using built-in <code>len()</code> function |\n",
    "| <code>print(d)</code> |  prints the entries of <code>d</code> as a comma-separated list of values surrounded by braces |\n",
    "| <code>type(d)</code> |  returns the type of a dictionary object <code>L</code> (```<class 'dict'>```) |\n",
    "| <code>id(d)</code> |  returns the \"identity\" (memory address) of a dictionary object <code>d</code> |\n",
    "| <code>dict(d)</code> |  returns a copy of dictionary object <code>d</code> |\n",
    "| <code>del(d)</code> | deletes the dictionary object <code>d</code> (<code>del d</code> also works) |\n",
    "\n",
    "\n",
    "Commonly used built-in <b>dictionary methods</b> (functions provided by dictionary objects):\n",
    "\n",
    "| function | description |\n",
    "| --: | :-- |\n",
    "| <code>d.clear()</code> | removes all entries from the dictionary <code>d</code> |\n",
    "| <code>d.copy()</code> | returns a (shallow) copy of the dictionary <code>d</code> |\n",
    "| <code>d.fromkeys()</code> | returns a dictionary with the specified keys and value |\n",
    "| <code>d.get()</code> | returns the value of a specified key from the dictionary <code>d</code> |\n",
    "| <code>d.items()</code> | returns a list containing a tuple for each entry (key-value pair) in dictionary <code>d</code> |\n",
    "| <code>d.keys()</code> | returns a list containing the keys of dictionary <code>d</code> |\n",
    "| <code>d.pop()</code> | removes the entry with the specified key from dictionary <code>d</code> |\n",
    "| <code>d.popitem()</code>| removes the the last inserted entry (key-value pair) from dictionary <code>d</code> |\n",
    "| <code>d.setdefault()</code> | returns the value of the specified key, if it exists; otherwise, inserts the key with the specified value  |\n",
    "| <code>d.update()</code> | updates the dictionary <code>d</code> with the specified key-value pairs |\n",
    "| <code>d.values()</code> | returns a list containing the values of dictionary <code>d</code> |\n",
    "\n",
    "Note the difference in syntax between using dictionary <b>functions</b> and dictionary <b>methods</b>: <br>\n",
    "\n",
    "* dictionary <b>functions</b> operate <b>on</b> a dictionary <code>d</code>: <code>len(d)</code>, <code>type(d)</code>, <code>print(d)</code>, etc. <br>\n",
    "* dictionary <b>methods</b> are called <b>by</b> a dictionary <code>d</code> using the <b>dot operator</b>: <code>d.clear()</code>, <code>d.keys()</code>, <code>d.values()</code>, etc."
   ]
  },
  {
   "cell_type": "code",
   "execution_count": 72,
   "id": "bc3393bc",
   "metadata": {
    "deletable": false,
    "editable": false
   },
   "outputs": [
    {
     "name": "stdout",
     "output_type": "stream",
     "text": [
      "dict() returns an empty dictionary d1: {}\n",
      "\n",
      "dict(dog=1, cat=2, rat=3) creates a dictionary with specified entries: {'dog': 1, 'cat': 2, 'rat': 3}\n",
      "dict.fromkeys([1, 2, 3]) creates a dictionary with values all set to None: {1: None, 2: None, 3: None}\n",
      "dict.fromkeys([1, 2, 3], '0') creates a dictionary with values all set to '0': {1: '0', 2: '0', 3: '0'}\n",
      "dict(zip(['dog', 'cat', 'rat'], [1, 2, 3])) creates a dictionary from two lists: {'dog': 1, 'cat': 2, 'rat': 3}\n",
      "\n",
      "\n",
      "dictionary d2 = {1: 'dog', -2: 'x', 3.4: 'hello'}\n",
      "the length of dictionary d2 is 3\n",
      "the value associated with key -2 in dictionary d2 is 'x'\n",
      "the type of d2 is <class 'dict'>\n",
      "the memory location of dictionary d2 is 2199224438144\n",
      "\n",
      "d2.keys() returns the keys of d2 as a list: dict_keys([1, -2, 3.4])\n",
      "          but this is an object of type <class 'dict_keys'>\n",
      "list(d2.keys()) converts this to a list:[1, -2, 3.4] of type <class 'list'>\n",
      "\n",
      "d2.values() returns the values of d2 as a list: dict_values(['dog', 'x', 'hello'])\n",
      "            but this is an object of type <class 'dict_values'>\n",
      "list(d2.values()) converts this to a list:['dog', 'x', 'hello'] of type <class 'list'>\n",
      "\n",
      "d2[-2] returns the value associated with existing key -2:'x'\n",
      "d2.get(-2) also returns the value associated with existing key -2:'x'\n",
      "d2[3.4] = 'what?' sets a new value for existing key 3.4: d2 = {1: 'dog', -2: 'x', 3.4: 'what?'}\n",
      "d2[-0.3] = 'IDK' sets a value 'IDK' for new key -0.3: d2 = {1: 'dog', -2: 'x', 3.4: 'what?', -0.3: 'IDK'}\n",
      "\n",
      "d2.pop(3.4) returns the value associated with the key whose entry is being removed: 'what?'\n",
      "after removing entry 3.4: 'what?', d2 = {1: 'dog', -2: 'x', -0.3: 'IDK'}\n",
      "\n",
      "\n",
      "dictionary d3 = {42: 'yes', 17: 'no'}\n",
      "d2.update(d3) does not return anything: None\n",
      "but it updates dictionary d2 with entries from d3: d2 = {1: 'dog', -2: 'x', -0.3: 'IDK', 42: 'yes', 17: 'no'}\n",
      "\n",
      "'42 in d2' returns True because 42 is a key: True\n",
      "'0 in d2' returns False because 0 is not a key: False\n",
      "\n",
      "d2.clear() does not return anything: None\n",
      "but it deletes all entries in d2: d2 = {}\n"
     ]
    }
   ],
   "source": [
    "# code cell 18\n",
    "\n",
    "d1 = dict()\n",
    "\n",
    "print('dict() returns an empty dictionary d1:', d1)\n",
    "print()\n",
    "\n",
    "print('dict(dog=1, cat=2, rat=3) creates a dictionary with specified entries:', dict(dog=1, cat=2, rat=3))\n",
    "print('dict.fromkeys([1, 2, 3]) creates a dictionary with values all set to None:', dict.fromkeys([1, 2, 3]))\n",
    "print('dict.fromkeys([1, 2, 3], \\'0\\') creates a dictionary with values all set to \\'0\\':', dict.fromkeys([1, 2, 3], '0'))\n",
    "print('dict(zip([\\'dog\\', \\'cat\\', \\'rat\\'], [1, 2, 3])) creates a dictionary from two lists:', dict(zip(['dog', 'cat', 'rat'], [1, 2, 3])))\n",
    "print(); print()\n",
    "\n",
    "\n",
    "d2 = {1: \"dog\", -2: \"x\", 3.4: \"hello\"}\n",
    "\n",
    "print('dictionary d2 =', d2)\n",
    "print('the length of dictionary d2 is' , len(d2))\n",
    "print('the value associated with key -2 in dictionary d2 is \\'' + str(d2[-2]) + '\\'')\n",
    "print('the type of d2 is', type(d2))\n",
    "print('the memory location of dictionary d2 is', id(d2))\n",
    "print()\n",
    "\n",
    "print('d2.keys() returns the keys of d2 as a list:', d2.keys())\n",
    "print('          but this is an object of type', type(d2.keys()))\n",
    "print('list(d2.keys()) converts this to a list:' + str(list(d2.keys())) + ' of type ' + str(type(list(d2.keys()))))\n",
    "print()\n",
    "print('d2.values() returns the values of d2 as a list:', d2.values())\n",
    "print('            but this is an object of type', type(d2.values()))\n",
    "print('list(d2.values()) converts this to a list:' + str(list(d2.values())) + ' of type ' + str(type(list(d2.values()))))\n",
    "print()\n",
    "\n",
    "print('d2[-2] returns the value associated with existing key -2:\\'' + str(d2[-2]) + '\\'')\n",
    "print('d2.get(-2) also returns the value associated with existing key -2:\\'' + str(d2.get(-2)) + '\\'')\n",
    "d2[3.4] = 'what?'\n",
    "print('d2[3.4] = \\'what?\\' sets a new value for existing key 3.4: d2 =', d2)\n",
    "d2[-0.3] = 'IDK'\n",
    "print('d2[-0.3] = \\'IDK\\' sets a value \\'IDK\\' for new key -0.3: d2 =', d2)\n",
    "print()\n",
    "\n",
    "print('d2.pop(3.4) returns the value associated with the key whose entry is being removed: \\'' + str(d2.pop(3.4)) + '\\'')\n",
    "print('after removing entry 3.4: \\'what?\\', d2 = ' + str(d2))\n",
    "print(); print()\n",
    "\n",
    "\n",
    "d3 = {42: 'yes', 17: 'no'}\n",
    "print('dictionary d3 =', d3)\n",
    "print('d2.update(d3) does not return anything:', d2.update(d3))\n",
    "print('but it updates dictionary d2 with entries from d3: d2 =', d2)\n",
    "print()\n",
    "\n",
    "print('\\'42 in d2\\' returns True because 42 is a key:', 42 in d2)\n",
    "print('\\'0 in d2\\' returns False because 0 is not a key:', 0 in d2)\n",
    "print()\n",
    "\n",
    "print('d2.clear() does not return anything:', d2.clear())\n",
    "print('but it deletes all entries in d2: d2 =', d2)"
   ]
  },
  {
   "cell_type": "markdown",
   "id": "04e11a95",
   "metadata": {
    "deletable": false,
    "editable": false
   },
   "source": [
    "<div class=\"alert alert-block alert-info\">\n",
    "    \n",
    "Apply what you now know about strings, lists, and dictionaries to a real-life bioinformatics problem ! <br>\n",
    "    \n",
    "In the cell below, I have created a dictionary whose keys are 3-base sequences, and whose values are the amino acids they code for. (This is known as a <a href=\"https://en.wikipedia.org/wiki/DNA_and_RNA_codon_tables\"><b>standard codon table</b></a>.) There is also a dictionary whose keys are the three-letter abbreviations for the amino acids, and whose values are their one-letter abbreviations, which are used in the scientific literature. From an early <a href=\"https://www.ncbi.nlm.nih.gov/nuccore/NC_045512.2?report=genbank&to=29903\"><b>NIH article</b></a> (Feb 2020) about the SARS-CoV-2 virus (29,903 base pairs), I have excerpted the 3822-bp nucleotide sequence that codes for the spike protein, along with the amino acid sequence that it corresponds to. <br>\n",
    "    \n",
    "For this exercise, you will <br>\n",
    "1. Find the length of the spike protein sequence <code>SPseq</code>, and print it out. <br>\n",
    "2. Use string functions or methods to remove spaces and convert all the letters from lowercase to uppercase letters (bases) in <code>SPseq</code>, and print it out, along with its length. <br>\n",
    "3. Use a <code>for</code>-loop to convert each three-base sequence in the string to an amino acid; then, using the dictionary <code>DNAdict</code>, append each three-letter amino acid string to a list. <br>\n",
    "4. Find the length (number of elements) in the list of amino acids. <br>\n",
    "5. Create a dictionary <code>AAdict</code> using the lists <code>AAtla</code> (keys) and <code>AAola</code> (values). (Hint: use the <code>zip()</code> function.) <br>\n",
    "6. Using <code>AAdict</code>, convert each element in the list of amino acids into a one-character string, and append it to a string. <br>\n",
    "7. Compare the string you obtained with the amino acid sequence <code>AAseq</code>, which was published in the cited paper. <br>\n",
    "\n",
    "<b>Extra challenge:</b>\n",
    "Determine which amino acids are most and least prevalent in the spike protein. (That is, count the number of occurrences of each amino acid in the sequence, and print out which one has the highest count and which one has the lowest count.)    \n",
    "</div>"
   ]
  },
  {
   "cell_type": "code",
   "execution_count": 4,
   "id": "6be4969c",
   "metadata": {
    "deletable": false
   },
   "outputs": [],
   "source": [
    "# codon tables: https://en.wikipedia.org/wiki/DNA_and_RNA_codon_tables\n",
    "# Severe acute respiratory syndrome coronavirus 2 isolate Wuhan-Hu-1, complete genome\n",
    "# https://www.ncbi.nlm.nih.gov/nuccore/NC_045512.2?report=genbank&to=29903\n",
    "\n",
    "def main():\n",
    "    DNAdict = {\n",
    "        'TTT': 'phe', 'TTC': 'phe', 'TTA': 'leu', 'TTG': 'leu',\n",
    "        'TCT': 'ser', 'TCC': 'ser', 'TCA': 'ser', 'TCG': 'ser',\n",
    "        'TAT': 'tyr', 'TAC': 'tyr', 'TAA': 'stop', 'TAG': 'stop',\n",
    "        'TGT': 'cys', 'TGC': 'cys', 'TGA': 'stop', 'TGG': 'trp',\n",
    "        'CTT': 'leu', 'CTC': 'leu', 'CTA': 'leu', 'CTG': 'leu',\n",
    "        'CCT': 'pro', 'CCC': 'pro', 'CCA': 'pro', 'CCG': 'pro',\n",
    "        'CAT': 'his', 'CAC': 'his', 'CAA': 'gln', 'CAG': 'gln',\n",
    "        'CGT': 'arg', 'CGC': 'arg', 'CGA': 'arg', 'CGG': 'arg',\n",
    "        'ATT': 'ile', 'ATC': 'ile', 'ATA': 'ile', 'ATG': 'met',\n",
    "        'ACT': 'thr', 'ACC': 'thr', 'ACA': 'thr', 'ACG': 'thr', \n",
    "        'AAT': 'asn', 'AAC': 'asn', 'AAA': 'lys', 'AAG': 'lys', \n",
    "        'AGT': 'ser', 'AGC': 'ser', 'AGA': 'arg', 'AGG': 'arg', \n",
    "        'GTT': 'val', 'GTC': 'val', 'GTA': 'val', 'GTG': 'val',\n",
    "        'GCT': 'ala', 'GCC': 'ala', 'GCA': 'ala', 'GCG': 'ala', \n",
    "        'GAT': 'asp', 'GAC': 'asp', 'GAA': 'glu', 'GAG': 'glu', \n",
    "        'GGT': 'gly', 'GGC': 'gly', 'GGA': 'gly', 'GGG': 'gly'\n",
    "    }\n",
    "\n",
    "    AAtla = ['ala', 'arg', 'asn', 'asp', 'cys', \n",
    "             'glu', 'gln', 'gly', 'his', 'ile', \n",
    "             'leu', 'lys', 'met', 'phe', 'pro', \n",
    "             'ser', 'thr', 'trp', 'tyr', 'val']\n",
    "    AAola = ['A', 'R', 'N', 'D', 'C', \n",
    "             'E', 'Q', 'G', 'H', 'I', \n",
    "             'L', 'K', 'M', 'F', 'P', \n",
    "             'S', 'T', 'W', 'Y', 'V']\n",
    "        \n",
    "    # bp 21563 - 25384 (3822 bp, or 1274 aa)\n",
    "    SPseq = 'atgtttgt ttttcttgtt ttattgccac tagtctctag'\\\n",
    "    'tcagtgtgtt aatcttacaa ccagaactca attaccccct gcatacacta attctttcac'\\\n",
    "    'acgtggtgtt tattaccctg acaaagtttt cagatcctca gttttacatt caactcagga'\\\n",
    "    'cttgttctta cctttctttt ccaatgttac ttggttccat gctatacatg tctctgggac'\\\n",
    "    'caatggtact aagaggtttg ataaccctgt cctaccattt aatgatggtg tttattttgc'\\\n",
    "    'ttccactgag aagtctaaca taataagagg ctggattttt ggtactactt tagattcgaa'\\\n",
    "    'gacccagtcc ctacttattg ttaataacgc tactaatgtt gttattaaag tctgtgaatt'\\\n",
    "    'tcaattttgt aatgatccat ttttgggtgt ttattaccac aaaaacaaca aaagttggat'\\\n",
    "    'ggaaagtgag ttcagagttt attctagtgc gaataattgc acttttgaat atgtctctca'\\\n",
    "    'gccttttctt atggaccttg aaggaaaaca gggtaatttc aaaaatctta gggaatttgt'\\\n",
    "    'gtttaagaat attgatggtt attttaaaat atattctaag cacacgccta ttaatttagt'\\\n",
    "    'gcgtgatctc cctcagggtt tttcggcttt agaaccattg gtagatttgc caataggtat'\\\n",
    "    'taacatcact aggtttcaaa ctttacttgc tttacataga agttatttga ctcctggtga'\\\n",
    "    'ttcttcttca ggttggacag ctggtgctgc agcttattat gtgggttatc ttcaacctag'\\\n",
    "    'gacttttcta ttaaaatata atgaaaatgg aaccattaca gatgctgtag actgtgcact'\\\n",
    "    'tgaccctctc tcagaaacaa agtgtacgtt gaaatccttc actgtagaaa aaggaatcta'\\\n",
    "    'tcaaacttct aactttagag tccaaccaac agaatctatt gttagatttc ctaatattac'\\\n",
    "    'aaacttgtgc ccttttggtg aagtttttaa cgccaccaga tttgcatctg tttatgcttg'\\\n",
    "    'gaacaggaag agaatcagca actgtgttgc tgattattct gtcctatata attccgcatc'\\\n",
    "    'attttccact tttaagtgtt atggagtgtc tcctactaaa ttaaatgatc tctgctttac'\\\n",
    "    'taatgtctat gcagattcat ttgtaattag aggtgatgaa gtcagacaaa tcgctccagg'\\\n",
    "    'gcaaactgga aagattgctg attataatta taaattacca gatgatttta caggctgcgt'\\\n",
    "    'tatagcttgg aattctaaca atcttgattc taaggttggt ggtaattata attacctgta'\\\n",
    "    'tagattgttt aggaagtcta atctcaaacc ttttgagaga gatatttcaa ctgaaatcta'\\\n",
    "    'tcaggccggt agcacacctt gtaatggtgt tgaaggtttt aattgttact ttcctttaca'\\\n",
    "    'atcatatggt ttccaaccca ctaatggtgt tggttaccaa ccatacagag tagtagtact'\\\n",
    "    'ttcttttgaa cttctacatg caccagcaac tgtttgtgga cctaaaaagt ctactaattt'\\\n",
    "    'ggttaaaaac aaatgtgtca atttcaactt caatggttta acaggcacag gtgttcttac'\\\n",
    "    'tgagtctaac aaaaagtttc tgcctttcca acaatttggc agagacattg ctgacactac'\\\n",
    "    'tgatgctgtc cgtgatccac agacacttga gattcttgac attacaccat gttcttttgg'\\\n",
    "    'tggtgtcagt gttataacac caggaacaaa tacttctaac caggttgctg ttctttatca'\\\n",
    "    'ggatgttaac tgcacagaag tccctgttgc tattcatgca gatcaactta ctcctacttg'\\\n",
    "    'gcgtgtttat tctacaggtt ctaatgtttt tcaaacacgt gcaggctgtt taataggggc'\\\n",
    "    'tgaacatgtc aacaactcat atgagtgtga catacccatt ggtgcaggta tatgcgctag'\\\n",
    "    'ttatcagact cagactaatt ctcctcggcg ggcacgtagt gtagctagtc aatccatcat'\\\n",
    "    'tgcctacact atgtcacttg gtgcagaaaa ttcagttgct tactctaata actctattgc'\\\n",
    "    'catacccaca aattttacta ttagtgttac cacagaaatt ctaccagtgt ctatgaccaa'\\\n",
    "    'gacatcagta gattgtacaa tgtacatttg tggtgattca actgaatgca gcaatctttt'\\\n",
    "    'gttgcaatat ggcagttttt gtacacaatt aaaccgtgct ttaactggaa tagctgttga'\\\n",
    "    'acaagacaaa aacacccaag aagtttttgc acaagtcaaa caaatttaca aaacaccacc'\\\n",
    "    'aattaaagat tttggtggtt ttaatttttc acaaatatta ccagatccat caaaaccaag'\\\n",
    "    'caagaggtca tttattgaag atctactttt caacaaagtg acacttgcag atgctggctt'\\\n",
    "    'catcaaacaa tatggtgatt gccttggtga tattgctgct agagacctca tttgtgcaca'\\\n",
    "    'aaagtttaac ggccttactg ttttgccacc tttgctcaca gatgaaatga ttgctcaata'\\\n",
    "    'cacttctgca ctgttagcgg gtacaatcac ttctggttgg acctttggtg caggtgctgc'\\\n",
    "    'attacaaata ccatttgcta tgcaaatggc ttataggttt aatggtattg gagttacaca'\\\n",
    "    'gaatgttctc tatgagaacc aaaaattgat tgccaaccaa tttaatagtg ctattggcaa'\\\n",
    "    'aattcaagac tcactttctt ccacagcaag tgcacttgga aaacttcaag atgtggtcaa'\\\n",
    "    'ccaaaatgca caagctttaa acacgcttgt taaacaactt agctccaatt ttggtgcaat'\\\n",
    "    'ttcaagtgtt ttaaatgata tcctttcacg tcttgacaaa gttgaggctg aagtgcaaat'\\\n",
    "    'tgataggttg atcacaggca gacttcaaag tttgcagaca tatgtgactc aacaattaat'\\\n",
    "    'tagagctgca gaaatcagag cttctgctaa tcttgctgct actaaaatgt cagagtgtgt'\\\n",
    "    'acttggacaa tcaaaaagag ttgatttttg tggaaagggc tatcatctta tgtccttccc'\\\n",
    "    'tcagtcagca cctcatggtg tagtcttctt gcatgtgact tatgtccctg cacaagaaaa'\\\n",
    "    'gaacttcaca actgctcctg ccatttgtca tgatggaaaa gcacactttc ctcgtgaagg'\\\n",
    "    'tgtctttgtt tcaaatggca cacactggtt tgtaacacaa aggaattttt atgaaccaca'\\\n",
    "    'aatcattact acagacaaca catttgtgtc tggtaactgt gatgttgtaa taggaattgt'\\\n",
    "    'caacaacaca gtttatgatc ctttgcaacc tgaattagac tcattcaagg aggagttaga'\\\n",
    "    'taaatatttt aagaatcata catcaccaga tgttgattta ggtgacatct ctggcattaa'\\\n",
    "    'tgcttcagtt gtaaacattc aaaaagaaat tgaccgcctc aatgaggttg ccaagaattt'\\\n",
    "    'aaatgaatct ctcatcgatc tccaagaact tggaaagtat gagcagtata taaaatggcc'\\\n",
    "    'atggtacatt tggctaggtt ttatagctgg cttgattgcc atagtaatgg tgacaattat'\\\n",
    "    'gctttgctgt atgaccagtt gctgtagttg tctcaagggc tgttgttctt gtggatcctg'\\\n",
    "    'ctgcaaattt gatgaagacg actctgagcc agtgctcaaa ggagtcaaat tacattacac'\\\n",
    "    'ataa'\n",
    "\n",
    "    AAseq = 'MFVFLVLLPLVSSQCVNLTTRTQLPPAYTNSFTRGVYYPDKVFR'\\\n",
    "    'SSVLHSTQDLFLPFFSNVTWFHAIHVSGTNGTKRFDNPVLPFNDGVYFASTEKSNIIR'\\\n",
    "    'GWIFGTTLDSKTQSLLIVNNATNVVIKVCEFQFCNDPFLGVYYHKNNKSWMESEFRVY'\\\n",
    "    'SSANNCTFEYVSQPFLMDLEGKQGNFKNLREFVFKNIDGYFKIYSKHTPINLVRDLPQ'\\\n",
    "    'GFSALEPLVDLPIGINITRFQTLLALHRSYLTPGDSSSGWTAGAAAYYVGYLQPRTFL'\\\n",
    "    'LKYNENGTITDAVDCALDPLSETKCTLKSFTVEKGIYQTSNFRVQPTESIVRFPNITN'\\\n",
    "    'LCPFGEVFNATRFASVYAWNRKRISNCVADYSVLYNSASFSTFKCYGVSPTKLNDLCF'\\\n",
    "    'TNVYADSFVIRGDEVRQIAPGQTGKIADYNYKLPDDFTGCVIAWNSNNLDSKVGGNYN'\\\n",
    "    'YLYRLFRKSNLKPFERDISTEIYQAGSTPCNGVEGFNCYFPLQSYGFQPTNGVGYQPY'\\\n",
    "    'RVVVLSFELLHAPATVCGPKKSTNLVKNKCVNFNFNGLTGTGVLTESNKKFLPFQQFG'\\\n",
    "    'RDIADTTDAVRDPQTLEILDITPCSFGGVSVITPGTNTSNQVAVLYQDVNCTEVPVAI'\\\n",
    "    'HADQLTPTWRVYSTGSNVFQTRAGCLIGAEHVNNSYECDIPIGAGICASYQTQTNSPR'\\\n",
    "    'RARSVASQSIIAYTMSLGAENSVAYSNNSIAIPTNFTISVTTEILPVSMTKTSVDCTM'\\\n",
    "    'YICGDSTECSNLLLQYGSFCTQLNRALTGIAVEQDKNTQEVFAQVKQIYKTPPIKDFG'\\\n",
    "    'GFNFSQILPDPSKPSKRSFIEDLLFNKVTLADAGFIKQYGDCLGDIAARDLICAQKFN'\\\n",
    "    'GLTVLPPLLTDEMIAQYTSALLAGTITSGWTFGAGAALQIPFAMQMAYRFNGIGVTQN'\\\n",
    "    'VLYENQKLIANQFNSAIGKIQDSLSSTASALGKLQDVVNQNAQALNTLVKQLSSNFGA'\\\n",
    "    'ISSVLNDILSRLDKVEAEVQIDRLITGRLQSLQTYVTQQLIRAAEIRASANLAATKMS'\\\n",
    "    'ECVLGQSKRVDFCGKGYHLMSFPQSAPHGVVFLHVTYVPAQEKNFTTAPAICHDGKAH'\\\n",
    "    'FPREGVFVSNGTHWFVTQRNFYEPQIITTDNTFVSGNCDVVIGIVNNTVYDPLQPELD'\\\n",
    "    'SFKEELDKYFKNHTSPDVDLGDISGINASVVNIQKEIDRLNEVAKNLNESLIDLQELG'\\\n",
    "    'KYEQYIKWPWYIWLGFIAGLIAIVMVTIMLCCMTSCCSCLKGCCSCGSCCKFDEDDSE'\\\n",
    "    'PVLKGVKLHYT'\n",
    "    \n",
    "\n",
    "\n",
    "main()"
   ]
  },
  {
   "cell_type": "code",
   "execution_count": 6,
   "id": "d7d6b54d",
   "metadata": {},
   "outputs": [
    {
     "name": "stdout",
     "output_type": "stream",
     "text": [
      "test = 'atgtttgt ttttcttgtt ttattgccac tagtctctag'\n",
      "test[0] = a\n",
      "test[1].upper() = T\n",
      "test[0:3] =  atg\n",
      "\n",
      "test[0:3] = ATG\n",
      "test[3:6] = TTT\n",
      "test[6:9] = GT \n",
      "test[9:12] = TTT\n",
      "\n",
      "test2 = 'ATGTTTGT TTTTCTTGTT TTATTGCCAC TAGTCTCTAG'\n",
      "\n",
      "test3 = 'atgtttgtttttcttgttttattgccactagtctctag'\n",
      "\n"
     ]
    }
   ],
   "source": [
    "# some helpful hints for doing the exercises above\n",
    "\n",
    "test = 'atgtttgt ttttcttgtt ttattgccac tagtctctag'\n",
    "print('test = \\'' + test + '\\'')\n",
    "print('test[0] =', test[0])\n",
    "print('test[1].upper() =', test[1].upper())\n",
    "print('test[0:3] = ', test[0:3])  # makes a string of 3 characters from test (at indices 0, 1, and 2)\n",
    "print()\n",
    "\n",
    "for i in range(0, 10, 3):   # range(start, stop, step)\n",
    "    print('test[' + str(i) + ':' + str(i + 3) + '] =', str(test[i:i+3].upper()))\n",
    "print()\n",
    "    \n",
    "test2 = test.upper()\n",
    "print('test2 = \\'' + test2 + '\\'')\n",
    "print()\n",
    "\n",
    "test3 = test.replace(' ', '')\n",
    "print('test3 = \\'' + test3 + '\\'')\n",
    "print()"
   ]
  },
  {
   "cell_type": "markdown",
   "id": "02c31788",
   "metadata": {
    "deletable": false,
    "editable": false
   },
   "source": [
    "### 7. More Fun With <code>turtle</code>"
   ]
  },
  {
   "cell_type": "markdown",
   "id": "bf2a7b29",
   "metadata": {
    "deletable": false,
    "editable": false
   },
   "source": [
    "Now that you know more code constructs involving variables, operators, and expressions, it's time to put them to work! In the previous notebook, you wrote a program using a loop to make the turtle trace out a figure whose side lengths and number of sides could be specified by the user:"
   ]
  },
  {
   "cell_type": "code",
   "execution_count": 23,
   "id": "51483882",
   "metadata": {
    "deletable": false,
    "editable": false
   },
   "outputs": [
    {
     "data": {
      "application/vnd.jupyter.widget-view+json": {
       "model_id": "d9ed43246de743599780c0cdf5b27549",
       "version_major": 2,
       "version_minor": 0
      },
      "text/plain": [
       "Turtle()"
      ]
     },
     "metadata": {},
     "output_type": "display_data"
    },
    {
     "name": "stdout",
     "output_type": "stream",
     "text": [
      "Enter the number of sides: 5\n",
      "Enter the length of each side: 50\n"
     ]
    }
   ],
   "source": [
    "# code cell 19\n",
    "\n",
    "from mobilechelonian import Turtle\n",
    "\n",
    "t = Turtle()\n",
    "t.speed(9)\n",
    "\n",
    "N = int(input(\"Enter the number of sides: \"))\n",
    "sidelen = int(input(\"Enter the length of each side: \"))\n",
    "angle = int(360 / N)\n",
    "t.penup()\n",
    "t.setposition(100, 100)\n",
    "t.setbearing(90)\n",
    "\n",
    "t.pencolor('red')\n",
    "t.pendown()\n",
    "for i in range(N):\n",
    "    t.forward(sidelen)\n",
    "    t.right(angle)\n",
    "\n",
    "t.penup()"
   ]
  },
  {
   "cell_type": "markdown",
   "id": "9fb9e867",
   "metadata": {
    "deletable": false,
    "editable": false
   },
   "source": [
    "<div class=\"alert alert-block alert-info\">\n",
    "In the code cell below: <br>\n",
    "1. <s>Using the lists <code>xPos</code> and <code>yPos</code>, create a dictionary whose keys are the elements of <code>xPos</code>, and whose values are the elements of <code>yPos</code>.</s> <br>\n",
    "2. Create a list of various pen colors (see <a href=\"https://stackoverflow.com/questions/22408237/named-colors-in-matplotlib\"><b>Named colors in matplotlib</b></a>). <br>\n",
    "3. <s>In the <code>for</code>-loop, instead of using the lists  <code>xPos</code> and <code>yPos</code>, instead set the position of <code>turtle</code> using each entry (key-value pair) in the dictionary.</s> <br>\n",
    "4. Then, indent this code and put it into another <code>for</code>-loop, but this time, before drawing each figure, offset its starting point by random amounts <code>x0 = 20 * random.randint(0, 5)</code> and <code>y0 = 20 * random.randint(0, 5)</code>. (Remember to import <code>random</code>!) <br>\n",
    "5. Also, change the pen color at random before drawing each figure. Have this loop iterate 20 times. <br>\n",
    "    \n",
    "<b>Extra challenge</b>: Change the lists <code>xPos</code> and <code>yPos</code> so that <code>turtle</code> traces the shape of the capital letter that begins your first name.\n",
    "</div>"
   ]
  },
  {
   "cell_type": "code",
   "execution_count": 1,
   "id": "8d92a891",
   "metadata": {
    "deletable": false
   },
   "outputs": [
    {
     "data": {
      "application/vnd.jupyter.widget-view+json": {
       "model_id": "7cef9e007f11420596b82274c0003171",
       "version_major": 2,
       "version_minor": 0
      },
      "text/plain": [
       "Turtle()"
      ]
     },
     "metadata": {},
     "output_type": "display_data"
    }
   ],
   "source": [
    "from mobilechelonian import Turtle\n",
    "\n",
    "def main():\n",
    "    t = Turtle()\n",
    "    t.speed(9)\n",
    "\n",
    "    xPos = [100, 200, 150, 100]\n",
    "    yPos = [100, 100, 200, 100]\n",
    "    n = len(xPos)\n",
    "\n",
    "    t.pencolor('blue')\n",
    "    t.penup()\n",
    "    t.home()\n",
    "\n",
    "    for i in range(n):\n",
    "        x = xPos[i]\n",
    "        y = yPos[i]\n",
    "\n",
    "        t.setposition(x, y)\n",
    "        t.pendown()\n",
    "        \n",
    "    t.penup()\n",
    "    t.home()\n",
    "    \n",
    "    \n",
    "main()"
   ]
  },
  {
   "cell_type": "code",
   "execution_count": 7,
   "id": "e7c0db12",
   "metadata": {
    "deletable": false
   },
   "outputs": [
    {
     "name": "stdout",
     "output_type": "stream",
     "text": [
      "{'C': 523.2511306011972, 'C#': 554.3652619537442, 'D': 587.3295358348151, 'D#': 622.2539674441618, 'E': 659.2551138257398, 'F': 698.4564628660078, 'F#': 739.9888454232688, 'G': 783.9908719634985, 'G#': 830.6093951598903, 'A': 880.0, 'A#': 932.3275230361799, 'B': 987.7666025122483}\n"
     ]
    }
   ],
   "source": [
    "# code cell 20\n",
    "# https://ipython-books.github.io/117-creating-a-sound-synthesizer-in-the-notebook/\n",
    "\n",
    "import numpy as np\n",
    "from IPython.display import (\n",
    "    Audio, display, clear_output)\n",
    "\n",
    "rate = 16000.\n",
    "duration = .25\n",
    "t = np.linspace(0., duration, int(rate * duration))\n",
    "\n",
    "def synth(f):\n",
    "    #x = np.sin(f * 2. * np.pi * t) \n",
    "    x = np.exp(-10 * t) * np.sin(f * 2. * np.pi * t) \n",
    "    display(Audio(x, rate=rate, autoplay=True))\n",
    "    \n",
    "notes = 'C,C#,D,D#,E,F,F#,G,G#,A,A#,B'.split(',')\n",
    "freqs = 440. * 2**(np.arange(3, 3 + len(notes)) / 12.)\n",
    "\n",
    "noteDict = dict(zip(notes, freqs))\n",
    "print(noteDict)"
   ]
  },
  {
   "cell_type": "markdown",
   "id": "0d56957f",
   "metadata": {
    "deletable": false,
    "editable": false
   },
   "source": [
    "<div class=\"alert alert-block alert-info\">\n",
    "<b>(Optional)</b> Just for fun: <br>\n",
    "\n",
    "* The code in the cell above creates an audio synthesizer that plays sine waves (pure tones), and sets up a list of notes and frequencies. <br>\n",
    "* <code>noteDict</code> is a dictionary whose keys are the names of each pitch, and whose values are the frequencies of each pitch. <br>\n",
    "\n",
    "0. Run the cell above. <br>\n",
    "1. In the cell below, import the <code>time</code> module. <br>\n",
    "2. Create a list of names of pitches to form a familiar melody. <br>\n",
    "3. Loop through the pitch names in your list, and call <code>synth()</code> for each one. You may need to call <code>time.sleep()</code> after each pitch. <br>\n",
    "4. Run the cell - it should play your melody! <br>\n",
    "</div>"
   ]
  },
  {
   "cell_type": "code",
   "execution_count": 9,
   "id": "51971fc2",
   "metadata": {},
   "outputs": [
    {
     "data": {
      "text/html": [
       "\n",
       "                <audio  controls=\"controls\" autoplay=\"autoplay\">\n",
       "                    <source src=\"data:audio/wav;base64,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\" type=\"audio/wav\" />\n",
       "                    Your browser does not support the audio element.\n",
       "                </audio>\n",
       "              "
      ],
      "text/plain": [
       "<IPython.lib.display.Audio object>"
      ]
     },
     "metadata": {},
     "output_type": "display_data"
    },
    {
     "data": {
      "text/html": [
       "\n",
       "                <audio  controls=\"controls\" autoplay=\"autoplay\">\n",
       "                    <source src=\"data:audio/wav;base64,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\" type=\"audio/wav\" />\n",
       "                    Your browser does not support the audio element.\n",
       "                </audio>\n",
       "              "
      ],
      "text/plain": [
       "<IPython.lib.display.Audio object>"
      ]
     },
     "metadata": {},
     "output_type": "display_data"
    },
    {
     "data": {
      "text/html": [
       "\n",
       "                <audio  controls=\"controls\" autoplay=\"autoplay\">\n",
       "                    <source src=\"data:audio/wav;base64,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\" type=\"audio/wav\" />\n",
       "                    Your browser does not support the audio element.\n",
       "                </audio>\n",
       "              "
      ],
      "text/plain": [
       "<IPython.lib.display.Audio object>"
      ]
     },
     "metadata": {},
     "output_type": "display_data"
    },
    {
     "data": {
      "text/html": [
       "\n",
       "                <audio  controls=\"controls\" autoplay=\"autoplay\">\n",
       "                    <source src=\"data:audio/wav;base64,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\" type=\"audio/wav\" />\n",
       "                    Your browser does not support the audio element.\n",
       "                </audio>\n",
       "              "
      ],
      "text/plain": [
       "<IPython.lib.display.Audio object>"
      ]
     },
     "metadata": {},
     "output_type": "display_data"
    },
    {
     "data": {
      "text/html": [
       "\n",
       "                <audio  controls=\"controls\" autoplay=\"autoplay\">\n",
       "                    <source src=\"data:audio/wav;base64,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\" type=\"audio/wav\" />\n",
       "                    Your browser does not support the audio element.\n",
       "                </audio>\n",
       "              "
      ],
      "text/plain": [
       "<IPython.lib.display.Audio object>"
      ]
     },
     "metadata": {},
     "output_type": "display_data"
    },
    {
     "data": {
      "text/html": [
       "\n",
       "                <audio  controls=\"controls\" autoplay=\"autoplay\">\n",
       "                    <source src=\"data:audio/wav;base64,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\" type=\"audio/wav\" />\n",
       "                    Your browser does not support the audio element.\n",
       "                </audio>\n",
       "              "
      ],
      "text/plain": [
       "<IPython.lib.display.Audio object>"
      ]
     },
     "metadata": {},
     "output_type": "display_data"
    },
    {
     "data": {
      "text/html": [
       "\n",
       "                <audio  controls=\"controls\" autoplay=\"autoplay\">\n",
       "                    <source src=\"data:audio/wav;base64,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\" type=\"audio/wav\" />\n",
       "                    Your browser does not support the audio element.\n",
       "                </audio>\n",
       "              "
      ],
      "text/plain": [
       "<IPython.lib.display.Audio object>"
      ]
     },
     "metadata": {},
     "output_type": "display_data"
    }
   ],
   "source": [
    "import time\n",
    "\n",
    "tune = ['E', 'D', 'C', 'D', 'E', 'E', 'E']\n",
    "for x in tune:\n",
    "    synth(noteDict[x])\n",
    "    time.sleep(0.5)"
   ]
  },
  {
   "cell_type": "code",
   "execution_count": null,
   "id": "3c937a3a",
   "metadata": {},
   "outputs": [],
   "source": []
  }
 ],
 "metadata": {
  "celltoolbar": "Edit Metadata",
  "kernelspec": {
   "display_name": "Python 3",
   "language": "python",
   "name": "python3"
  },
  "language_info": {
   "codemirror_mode": {
    "name": "ipython",
    "version": 3
   },
   "file_extension": ".py",
   "mimetype": "text/x-python",
   "name": "python",
   "nbconvert_exporter": "python",
   "pygments_lexer": "ipython3",
   "version": "3.8.8"
  }
 },
 "nbformat": 4,
 "nbformat_minor": 5
}
